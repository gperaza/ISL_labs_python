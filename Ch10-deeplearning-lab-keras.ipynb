{
 "cells": [
  {
   "cell_type": "code",
   "execution_count": 1,
   "id": "3aabdf9f-8e45-4a43-82a9-b1b996ea2c72",
   "metadata": {},
   "outputs": [],
   "source": [
    "import tensorflow as tf\n",
    "from tensorflow import keras\n",
    "from tensorflow.keras import layers\n",
    "\n",
    "import numpy as np\n",
    "import pandas as pd\n",
    "import matplotlib.pyplot as plt\n",
    "from sklearn.model_selection import train_test_split\n",
    "from sklearn.linear_model import LinearRegression\n",
    "from sklearn.linear_model import LassoCV\n",
    "from sklearn.preprocessing import scale\n",
    "from sklearn.metrics import mean_absolute_error, accuracy_score"
   ]
  },
  {
   "cell_type": "code",
   "execution_count": 2,
   "id": "717636e7-a74c-48c3-8f0b-a2bc2f9e24d4",
   "metadata": {},
   "outputs": [
    {
     "name": "stdout",
     "output_type": "stream",
     "text": [
      "TensorFlow version: 2.10.0\n",
      "Num GPUs Available:  1\n",
      "Num CPUs Available:  1\n"
     ]
    }
   ],
   "source": [
    "print(\"TensorFlow version:\", tf.__version__)\n",
    "print(\"Num GPUs Available: \", len(tf.config.experimental.list_physical_devices('GPU')))\n",
    "print(\"Num CPUs Available: \", len(tf.config.experimental.list_physical_devices('CPU')))"
   ]
  },
  {
   "cell_type": "markdown",
   "id": "67f91564",
   "metadata": {},
   "source": [
    "\n",
    "# Lab: Deep Learning\n",
    "\n",
    "In this section, we show how to fit the examples discussed in the text. We use the `keras` package, which interfaces to the\n",
    "`tensorflow` package. This code is\n",
    "impressively fast, and the package is well-structured. A good companion\n",
    "is the text **Deep Learning with Python**\n",
    "(F. Chollet, _Deep Learning with Python_\n",
    "  (2021), Manning Publications,) and most of our code is adapted from\n",
    "there."
   ]
  },
  {
   "cell_type": "markdown",
   "id": "ab77801c",
   "metadata": {
    "jp-MarkdownHeadingCollapsed": true,
    "tags": []
   },
   "source": [
    "## Single Layer Network on Hitters Data\n",
    "\n",
    "We start by fitting the models in Section 10.6.\n",
    "We set up the data, and separate out a training and\n",
    "test set."
   ]
  },
  {
   "cell_type": "code",
   "execution_count": 25,
   "id": "3ccfec2b-0a10-4701-9a04-391a184b6346",
   "metadata": {},
   "outputs": [],
   "source": [
    "Hitters = pd.read_csv('data/Hitters.csv')\n",
    "Gitters = Hitters.dropna()\n",
    "X = Gitters.drop(columns='Salary')\n",
    "X_dummies = pd.get_dummies(X, drop_first=True)\n",
    "y = Gitters.Salary\n",
    "\n",
    "X_train, X_test, y_train, y_test = train_test_split(X_dummies, y, test_size=1/3, random_state=13)"
   ]
  },
  {
   "cell_type": "markdown",
   "id": "09ead673",
   "metadata": {},
   "source": [
    "The linear model should be familiar, but we present it anyway."
   ]
  },
  {
   "cell_type": "code",
   "execution_count": 35,
   "id": "d0ae342f-d1fa-4f92-a62c-df8f68adda44",
   "metadata": {},
   "outputs": [
    {
     "data": {
      "text/plain": [
       "241.46973580260382"
      ]
     },
     "execution_count": 35,
     "metadata": {},
     "output_type": "execute_result"
    }
   ],
   "source": [
    "lfit = LinearRegression().fit(X_train, y_train)\n",
    "lpred = lfit.predict(X_test)\n",
    "mean_absolute_error(lpred, y_test)"
   ]
  },
  {
   "cell_type": "markdown",
   "id": "09ae38b1",
   "metadata": {},
   "source": [
    "Next we fit the lasso."
   ]
  },
  {
   "cell_type": "code",
   "execution_count": 37,
   "id": "c2d9f314-def8-4ec6-a006-b9d6d817608b",
   "metadata": {},
   "outputs": [],
   "source": [
    "Xs = scale(X_dummies)\n",
    "Xs_train, Xs_test, y_train, y_test = train_test_split(Xs, y, test_size=1/3, random_state=13)"
   ]
  },
  {
   "cell_type": "markdown",
   "id": "d0cd124e",
   "metadata": {},
   "source": [
    "The `scale()` function standardizes the matrix so each column\n",
    "has mean zero and variance one."
   ]
  },
  {
   "cell_type": "code",
   "execution_count": 39,
   "id": "25835bc7-ef90-4e14-8264-fcc7da96608a",
   "metadata": {},
   "outputs": [
    {
     "data": {
      "text/plain": [
       "234.4814544892802"
      ]
     },
     "execution_count": 39,
     "metadata": {},
     "output_type": "execute_result"
    }
   ],
   "source": [
    "cvfit = LassoCV(max_iter=10000).fit(Xs_train, y_train)\n",
    "cpred = cvfit.predict(Xs_test)\n",
    "mean_absolute_error(cpred, y_test)"
   ]
  },
  {
   "cell_type": "markdown",
   "id": "8d0549e0",
   "metadata": {},
   "source": [
    "To fit the neural network, we first set up a model structure\n",
    "that describes the network."
   ]
  },
  {
   "cell_type": "code",
   "execution_count": 46,
   "id": "40004581-c77c-49e8-ab90-b06407fc42a3",
   "metadata": {},
   "outputs": [],
   "source": [
    "modnn = keras.Sequential([\n",
    "    layers.Dense(units=50, activation='relu', input_shape=(Xs_train.shape[1],)),\n",
    "    layers.Dropout(rate=0.4),\n",
    "    layers.Dense(units=1)\n",
    "])"
   ]
  },
  {
   "cell_type": "markdown",
   "id": "e1b1497c",
   "metadata": {},
   "source": [
    "We have created a vanilla model\n",
    "object called `modnn`, and have added details about the successive\n",
    "layers in a sequential manner as a list of layers."
   ]
  },
  {
   "cell_type": "markdown",
   "id": "f8cd2f2e",
   "metadata": {},
   "source": [
    "The object `modnn` has a single hidden layer with 50 hidden units, and\n",
    "a ReLU activation function. It then has a dropout layer, in which a\n",
    "random 40% of the 50 activations from the previous layer are set to zero\n",
    "during each iteration of the stochastic gradient descent\n",
    "algorithm. Finally, the output layer has just one unit with no\n",
    "activation function, indicating that the model provides a single\n",
    "quantitative output."
   ]
  },
  {
   "cell_type": "markdown",
   "id": "84326ae9",
   "metadata": {},
   "source": [
    "Next we add details to  `modnn` that control the fitting\n",
    "algorithm. Here we have simply followed the examples given in\n",
    "the Keras book. We minimize squared-error loss as in\n",
    "(10.22). The algorithm\n",
    "tracks the mean absolute error on the training data, and\n",
    "on validation data if it is supplied."
   ]
  },
  {
   "cell_type": "code",
   "execution_count": 47,
   "id": "de5d966d-bb53-410a-b10c-a9febd215d37",
   "metadata": {},
   "outputs": [],
   "source": [
    "modnn.compile(\n",
    "    loss='mse',\n",
    "    optimizer='rmsprop',\n",
    "    metrics=['mean_absolute_error']\n",
    ")"
   ]
  },
  {
   "cell_type": "markdown",
   "id": "3a0c00b3",
   "metadata": {},
   "source": [
    "The `compile()` function does not actually change the `Python`\n",
    "object `modnn`, but it does communicate these specifications to\n",
    "the corresponding instance of this model that has been created\n",
    "along the way.\n",
    "\n",
    "Now we fit the model. We supply the training data and two\n",
    "fitting parameters, `epochs` and `batch_size`. Using 32\n",
    "for the latter means that at each step of SGD, the algorithm randomly\n",
    "selects 32 training observations for the computation of the gradient. Recall from\n",
    "Sections 10.4 and 10.7\n",
    "that an epoch amounts to the number of SGD steps required to process $n$\n",
    "observations. Since the training set has\n",
    "$n=176$, an epoch is $176/32=5.5$ SGD steps. The `fit()` function has an argument\n",
    "`validation_data`; these data are not used in the fitting,\n",
    "but can be used to track the progress of the model (in this case reporting\n",
    "mean absolute error). Here we\n",
    "actually supply the test data so we can see mean absolute error of both the\n",
    "training data and test data as the epochs proceed."
   ]
  },
  {
   "cell_type": "code",
   "execution_count": null,
   "id": "6971d301-b008-46ee-bc04-a58ce478aba9",
   "metadata": {},
   "outputs": [],
   "source": [
    "history = modnn.fit(\n",
    "    Xs_train, y_train, epochs=600, batch_size=32,\n",
    "    validation_data=(Xs_test, y_test)\n",
    ")"
   ]
  },
  {
   "cell_type": "markdown",
   "id": "dfeb812d",
   "metadata": {},
   "source": [
    "*(Here and elsewhere we have reduced the number of epochs to make\n",
    "    runtimes manageable; users can of course change back to epochs=1500)*\n",
    "\n",
    "We can plot the `history` to display the mean absolute error for the training and test data.]"
   ]
  },
  {
   "cell_type": "code",
   "execution_count": 57,
   "id": "2fc58c8d-cb18-4df6-bcf3-4d763b63b94a",
   "metadata": {},
   "outputs": [
    {
     "data": {
      "image/png": "[encoded data removed]",
      "text/plain": [
       "<Figure size 432x288 with 1 Axes>"
      ]
     },
     "metadata": {
      "needs_background": "light"
     },
     "output_type": "display_data"
    }
   ],
   "source": [
    "pd.DataFrame(history.history)[['mean_absolute_error', 'val_mean_absolute_error']].plot();"
   ]
  },
  {
   "cell_type": "markdown",
   "id": "99ba225a",
   "metadata": {},
   "source": [
    "It is worth noting that if you run the `fit()` command a second time in the same `Python` session, then the fitting process will pick up where it left off. Try re-running the `fit()` command, and then the  plot, to see!\n",
    "\n",
    "Finally, we predict from the final model, and\n",
    "evaluate its performance on the test data. Due to the use of SGD, the results vary slightly with each\n",
    "fit."
   ]
  },
  {
   "cell_type": "code",
   "execution_count": 58,
   "id": "04558500-3386-4295-9ef2-e7136c84e62e",
   "metadata": {},
   "outputs": [
    {
     "name": "stdout",
     "output_type": "stream",
     "text": [
      "3/3 [==============================] - 0s 4ms/step\n"
     ]
    },
    {
     "name": "stderr",
     "output_type": "stream",
     "text": [
      "2022-10-26 09:41:25.642705: I tensorflow/core/grappler/optimizers/custom_graph_optimizer_registry.cc:114] Plugin optimizer for device_type GPU is enabled.\n"
     ]
    },
    {
     "data": {
      "text/plain": [
       "252.05895891657744"
      ]
     },
     "execution_count": 58,
     "metadata": {},
     "output_type": "execute_result"
    }
   ],
   "source": [
    "npred = modnn.predict(Xs_test)\n",
    "mean_absolute_error(npred, y_test)"
   ]
  },
  {
   "cell_type": "markdown",
   "id": "e4c7480c",
   "metadata": {
    "tags": []
   },
   "source": [
    "## Multilayer Network on the MNIST Digit Data\n",
    "\n",
    "The `keras` package comes with a number of example datasets,\n",
    "including the `MNIST` digit data. Our first step is to load the\n",
    "`MNIST` data. The `dataset_mnist()` function is provided for this purpose."
   ]
  },
  {
   "cell_type": "code",
   "execution_count": 112,
   "id": "b5957517-f8e2-4826-be88-e3c43d56a8c6",
   "metadata": {},
   "outputs": [],
   "source": [
    "from keras.datasets import mnist, cifar100\n",
    "from sklearn.metrics import accuracy_score"
   ]
  },
  {
   "cell_type": "code",
   "execution_count": 87,
   "id": "c1e57f36-bfbc-42a2-a93c-08c2d408f567",
   "metadata": {},
   "outputs": [
    {
     "name": "stdout",
     "output_type": "stream",
     "text": [
      "(60000, 28, 28)\n",
      "(10000, 28, 28)\n"
     ]
    }
   ],
   "source": [
    "(x_train, g_train), (x_test, g_test) = mnist.load_data()\n",
    "print(x_train.shape)\n",
    "print(x_test.shape)"
   ]
  },
  {
   "cell_type": "markdown",
   "id": "713fc509",
   "metadata": {},
   "source": [
    "There are 60,000 images in the training data and 10,000 in the test data. The images are $28\\times 28$, and stored as a three-dimensional array,\n",
    "so we need to reshape them into a matrix.  Also, we need to ``one-hot''\n",
    "encode the class label. Luckily `keras` has a lot of built-in\n",
    "functions that do this for us."
   ]
  },
  {
   "cell_type": "code",
   "execution_count": 88,
   "id": "6328d2ac-f53b-441f-9385-263031c4c95f",
   "metadata": {},
   "outputs": [],
   "source": [
    "x_train = x_train.reshape((-1,784))\n",
    "x_test = x_test.reshape((-1,784))\n",
    "y_train = keras.utils.to_categorical(g_train, 10)\n",
    "y_test = keras.utils.to_categorical(g_test, 10)"
   ]
  },
  {
   "cell_type": "markdown",
   "id": "415beff8",
   "metadata": {},
   "source": [
    "Neural networks are somewhat sensitive to the scale of the inputs. For example, ridge and\n",
    "lasso regularization are affected by scaling.  Here the inputs are eight-bit\n",
    "(Note: Eight bits means $2^8$, which equals 256. Since the convention\n",
    "is to start at $0$, the possible values  range from $0$ to $255$.)\n",
    "grayscale values between 0 and 255, so we rescale to the unit\n",
    "interval."
   ]
  },
  {
   "cell_type": "code",
   "execution_count": 77,
   "id": "b60f1d00",
   "metadata": {},
   "outputs": [],
   "source": [
    "x_train = x_train / 255\n",
    "x_test = x_test / 255"
   ]
  },
  {
   "cell_type": "markdown",
   "id": "85eb1490",
   "metadata": {},
   "source": [
    "Now we are ready to fit our neural network."
   ]
  },
  {
   "cell_type": "code",
   "execution_count": 98,
   "id": "644b1f25-049c-4a77-abf7-bd585e78ef61",
   "metadata": {},
   "outputs": [],
   "source": [
    "modelnn = keras.Sequential([\n",
    "    layers.Dense(units=256, activation='relu', input_shape=(784,)),\n",
    "    layers.Dropout(rate=0.4),\n",
    "    layers.Dense(units=128, activation='relu'),\n",
    "    layers.Dropout(rate=0.3),\n",
    "    layers.Dense(units=10, activation='softmax')\n",
    "])"
   ]
  },
  {
   "cell_type": "markdown",
   "id": "212a7d24",
   "metadata": {},
   "source": [
    "The first layer goes from  $28\\times28=784$ input units to a hidden\n",
    "layer of $256$ units, which uses the ReLU activation function.\n",
    "This is specified by a call to `layer.Dense()`.\n",
    "Then we add `layer.Dropout()` to perform\n",
    "dropout regularization. The second hidden layer comes\n",
    "next, with $128$ hidden units, followed by a  dropout layer.\n",
    "The final layer is the output layer, with activation\n",
    "`\"softmax\"` (10.12) for the 10-class classification\n",
    "problem, which defines the map from the second hidden layer to class\n",
    "probabilities.\n",
    "Finally, we use `summary()` to summarize the model, and to make sure we got it\n",
    "all right."
   ]
  },
  {
   "cell_type": "code",
   "execution_count": 99,
   "id": "2ae27566-615a-4441-9186-94153ad16687",
   "metadata": {},
   "outputs": [
    {
     "name": "stdout",
     "output_type": "stream",
     "text": [
      "Model: \"sequential_4\"\n",
      "_________________________________________________________________\n",
      " Layer (type)                Output Shape              Param #   \n",
      "=================================================================\n",
      " dense_9 (Dense)             (None, 256)               200960    \n",
      "                                                                 \n",
      " dropout_3 (Dropout)         (None, 256)               0         \n",
      "                                                                 \n",
      " dense_10 (Dense)            (None, 128)               32896     \n",
      "                                                                 \n",
      " dropout_4 (Dropout)         (None, 128)               0         \n",
      "                                                                 \n",
      " dense_11 (Dense)            (None, 10)                1290      \n",
      "                                                                 \n",
      "=================================================================\n",
      "Total params: 235,146\n",
      "Trainable params: 235,146\n",
      "Non-trainable params: 0\n",
      "_________________________________________________________________\n"
     ]
    }
   ],
   "source": [
    "modelnn.summary()"
   ]
  },
  {
   "cell_type": "markdown",
   "id": "726ce33d",
   "metadata": {},
   "source": [
    "The parameters for each layer include a bias term, which results in a\n",
    "parameter count of 235,146. For example, the first hidden\n",
    "layer involves $(784+1)\\times 256=200{,}960$ parameters.\n",
    "\n",
    "Notice that the layer names such as `dropout_1` and\n",
    "`dense_2` have subscripts. These may appear somewhat random; in\n",
    "fact, if you fit the same model again, these will change. They are of\n",
    "no consequence: they vary because the model\n",
    "specification code is run in `python`, and these subscripts are incremented every time\n",
    "`keras_model_sequential()` is called.\n",
    "\n",
    "Next, we add details to the model to specify the fitting algorithm. We fit the model by minimizing the cross-entropy function given by (10.13)."
   ]
  },
  {
   "cell_type": "code",
   "execution_count": 100,
   "id": "62f6c01c-4f2d-4f7b-a3b6-5fe3b9983145",
   "metadata": {},
   "outputs": [],
   "source": [
    "modelnn.compile(\n",
    "    loss='categorical_crossentropy',\n",
    "    optimizer='rmsprop',\n",
    "    metrics=['accuracy']\n",
    ")"
   ]
  },
  {
   "cell_type": "markdown",
   "id": "db2158e9",
   "metadata": {},
   "source": [
    "Now we are ready to go. The final step is to supply training data, and fit the model."
   ]
  },
  {
   "cell_type": "code",
   "execution_count": 101,
   "id": "af6e0e83-84c9-4af3-bbc4-be4c1e0f0c02",
   "metadata": {},
   "outputs": [
    {
     "name": "stderr",
     "output_type": "stream",
     "text": [
      "2022-10-26 10:14:17.246514: I tensorflow/core/grappler/optimizers/custom_graph_optimizer_registry.cc:114] Plugin optimizer for device_type GPU is enabled.\n",
      "2022-10-26 10:14:19.753458: I tensorflow/core/grappler/optimizers/custom_graph_optimizer_registry.cc:114] Plugin optimizer for device_type GPU is enabled.\n"
     ]
    },
    {
     "name": "stdout",
     "output_type": "stream",
     "text": [
      "CPU times: user 1min 19s, sys: 33 s, total: 1min 52s\n",
      "Wall time: 1min 24s\n"
     ]
    }
   ],
   "source": [
    "%%time\n",
    "history = modelnn.fit(x_train, y_train, epochs=30, batch_size=128,\n",
    "                     validation_split=0.2, verbose=False)"
   ]
  },
  {
   "cell_type": "code",
   "execution_count": 102,
   "id": "9e833a2e-a02f-4571-aad1-60d7d6a1a1b8",
   "metadata": {},
   "outputs": [
    {
     "data": {
      "image/png": "[encoded data removed]",
      "text/plain": [
       "<Figure size 432x288 with 1 Axes>"
      ]
     },
     "metadata": {
      "needs_background": "light"
     },
     "output_type": "display_data"
    }
   ],
   "source": [
    "pd.DataFrame(history.history)[['accuracy', 'val_accuracy']].plot();"
   ]
  },
  {
   "cell_type": "markdown",
   "id": "292345ef",
   "metadata": {},
   "source": [
    "Here we specified a\n",
    "validation split of 20%, so the training is actually performed on\n",
    "80% of the 60,000 observations in the training set. This is an\n",
    "alternative to actually supplying validation data, like we did in\n",
    "Section 10.9.1. SGD  uses batches\n",
    "of 128 observations in computing the gradient, and doing the\n",
    "arithmetic, we see that an epoch corresponds to 375 gradient steps.\n",
    "The last `plot()` command produces a figure similar to Figure 10.18.\n",
    "\n",
    "To obtain the test error in Table 10.1, we first import\n",
    "a simple function `accuracy()` that compares predicted and true\n",
    "class labels, and then use it to evaluate our predictions."
   ]
  },
  {
   "cell_type": "code",
   "execution_count": 103,
   "id": "c9447665-79c5-45c5-bfdf-954b04057a94",
   "metadata": {},
   "outputs": [
    {
     "name": "stdout",
     "output_type": "stream",
     "text": [
      " 95/313 [========>.....................] - ETA: 0s"
     ]
    },
    {
     "name": "stderr",
     "output_type": "stream",
     "text": [
      "2022-10-26 10:16:04.700805: I tensorflow/core/grappler/optimizers/custom_graph_optimizer_registry.cc:114] Plugin optimizer for device_type GPU is enabled.\n"
     ]
    },
    {
     "name": "stdout",
     "output_type": "stream",
     "text": [
      "313/313 [==============================] - 1s 2ms/step\n"
     ]
    },
    {
     "data": {
      "text/plain": [
       "0.9701"
      ]
     },
     "execution_count": 103,
     "metadata": {},
     "output_type": "execute_result"
    }
   ],
   "source": [
    "accuracy_score(modelnn.predict(x_test).argmax(axis=1), g_test)"
   ]
  },
  {
   "cell_type": "markdown",
   "id": "9e006556",
   "metadata": {},
   "source": [
    "The table also reports LDA (Chapter 4) and multiclass logistic\n",
    "regression. Although packages such as `glmnet` can handle\n",
    "multiclass logistic regression, they are quite slow on this large\n",
    "dataset. It is much faster and quite easy to fit such a model\n",
    "using the `keras` software. We just have an input layer and output layer, and omit the hidden layers!"
   ]
  },
  {
   "cell_type": "code",
   "execution_count": 108,
   "id": "4eff1139-09ec-48b5-bd64-504fb13f03bd",
   "metadata": {},
   "outputs": [
    {
     "name": "stdout",
     "output_type": "stream",
     "text": [
      "Model: \"sequential_7\"\n",
      "_________________________________________________________________\n",
      " Layer (type)                Output Shape              Param #   \n",
      "=================================================================\n",
      " dense_14 (Dense)            (None, 10)                7850      \n",
      "                                                                 \n",
      "=================================================================\n",
      "Total params: 7,850\n",
      "Trainable params: 7,850\n",
      "Non-trainable params: 0\n",
      "_________________________________________________________________\n"
     ]
    }
   ],
   "source": [
    "modellr = keras.Sequential([\n",
    "    layers.Dense(input_shape=(784,), units=10, activation='softmax')\n",
    "])\n",
    "modellr.summary()"
   ]
  },
  {
   "cell_type": "markdown",
   "id": "cfb1a8f3",
   "metadata": {},
   "source": [
    "We fit the model just as before."
   ]
  },
  {
   "cell_type": "code",
   "execution_count": 110,
   "id": "9de26f4a-9c94-43df-894c-63214b02efcb",
   "metadata": {},
   "outputs": [
    {
     "name": "stderr",
     "output_type": "stream",
     "text": [
      "2022-10-26 10:20:14.147098: I tensorflow/core/grappler/optimizers/custom_graph_optimizer_registry.cc:114] Plugin optimizer for device_type GPU is enabled.\n",
      "2022-10-26 10:20:16.097847: I tensorflow/core/grappler/optimizers/custom_graph_optimizer_registry.cc:114] Plugin optimizer for device_type GPU is enabled.\n"
     ]
    },
    {
     "name": "stdout",
     "output_type": "stream",
     "text": [
      "117/313 [==========>...................] - ETA: 0s"
     ]
    },
    {
     "name": "stderr",
     "output_type": "stream",
     "text": [
      "2022-10-26 10:21:20.631025: I tensorflow/core/grappler/optimizers/custom_graph_optimizer_registry.cc:114] Plugin optimizer for device_type GPU is enabled.\n"
     ]
    },
    {
     "name": "stdout",
     "output_type": "stream",
     "text": [
      "313/313 [==============================] - 0s 1ms/step\n"
     ]
    },
    {
     "data": {
      "text/plain": [
       "0.9124"
      ]
     },
     "execution_count": 110,
     "metadata": {},
     "output_type": "execute_result"
    }
   ],
   "source": [
    "modellr.compile(loss='categorical_crossentropy', optimizer='rmsprop', metrics=['accuracy'])\n",
    "modellr.fit(x_train, y_train, epochs=30, batch_size=128, validation_split=0.2, verbose=False)\n",
    "accuracy_score(modellr.predict(x_test).argmax(axis=1), g_test)"
   ]
  },
  {
   "cell_type": "markdown",
   "id": "a3a1d0ab",
   "metadata": {
    "jp-MarkdownHeadingCollapsed": true,
    "tags": []
   },
   "source": [
    "### Convolutional Neural Networks\n",
    "\n",
    "In this section we fit a CNN to the `CIFAR` data, which is available in the `keras`\n",
    "package. It is arranged in a similar fashion as the `MNIST` data."
   ]
  },
  {
   "cell_type": "code",
   "execution_count": 116,
   "id": "b4e7b979-e777-49b1-bbe6-dc7878d1802d",
   "metadata": {},
   "outputs": [
    {
     "data": {
      "text/plain": [
       "(50000, 32, 32, 3)"
      ]
     },
     "execution_count": 116,
     "metadata": {},
     "output_type": "execute_result"
    }
   ],
   "source": [
    "(x_train, g_train), (x_test, g_test) = cifar100.load_data()\n",
    "x_train.shape"
   ]
  },
  {
   "cell_type": "markdown",
   "id": "c4df2c8a",
   "metadata": {},
   "source": [
    "The array of 50,000 training images has four dimensions:\n",
    "  each three-color image is represented as a set of three channels, each of which consists of\n",
    "$32\\times 32$ eight-bit pixels. We standardize as we did for the\n",
    "digits, but keep the array structure. We one-hot encode the response\n",
    "factors  to produce a 100-column binary matrix."
   ]
  },
  {
   "cell_type": "code",
   "execution_count": 117,
   "id": "f536f740-a955-4775-96a4-50cb14bf2014",
   "metadata": {},
   "outputs": [
    {
     "data": {
      "text/plain": [
       "(50000, 100)"
      ]
     },
     "execution_count": 117,
     "metadata": {},
     "output_type": "execute_result"
    }
   ],
   "source": [
    "x_train = x_train / 255\n",
    "x_test = x_test / 255\n",
    "y_train = keras.utils.to_categorical(g_train, 100)\n",
    "y_train.shape"
   ]
  },
  {
   "cell_type": "markdown",
   "id": "2ea3308d",
   "metadata": {},
   "source": [
    "Before we start, we look at some of the training images using  the `imshow()` function; similar to\n",
    "Figure 10.5 on page 411."
   ]
  },
  {
   "cell_type": "code",
   "execution_count": 119,
   "id": "cd82421e-6518-4bfd-a692-3e3b0dca3693",
   "metadata": {},
   "outputs": [
    {
     "data": {
      "image/png": "[encoded data removed]",
      "text/plain": [
       "<Figure size 1440x1440 with 25 Axes>"
      ]
     },
     "metadata": {
      "needs_background": "light"
     },
     "output_type": "display_data"
    }
   ],
   "source": [
    "fig, axes = plt.subplots(5, 5, figsize=(20,20))\n",
    "axes = axes.ravel()\n",
    "index = np.random.choice(range(50000), size=25, replace=False)\n",
    "for i, ax in zip(index, axes):\n",
    "    ax.imshow(x_train[i])"
   ]
  },
  {
   "cell_type": "markdown",
   "id": "da1518b1",
   "metadata": {},
   "source": [
    "Here we specify a moderately-sized  CNN for\n",
    "demonstration purposes, similar in structure to Figure 10.8."
   ]
  },
  {
   "cell_type": "code",
   "execution_count": 120,
   "id": "17132a5e-ac06-47d0-ab58-739abf56f341",
   "metadata": {},
   "outputs": [
    {
     "name": "stdout",
     "output_type": "stream",
     "text": [
      "Model: \"sequential_8\"\n",
      "_________________________________________________________________\n",
      " Layer (type)                Output Shape              Param #   \n",
      "=================================================================\n",
      " conv2d (Conv2D)             (None, 32, 32, 32)        896       \n",
      "                                                                 \n",
      " max_pooling2d (MaxPooling2D  (None, 16, 16, 32)       0         \n",
      " )                                                               \n",
      "                                                                 \n",
      " conv2d_1 (Conv2D)           (None, 16, 16, 64)        18496     \n",
      "                                                                 \n",
      " max_pooling2d_1 (MaxPooling  (None, 8, 8, 64)         0         \n",
      " 2D)                                                             \n",
      "                                                                 \n",
      " conv2d_2 (Conv2D)           (None, 8, 8, 128)         73856     \n",
      "                                                                 \n",
      " max_pooling2d_2 (MaxPooling  (None, 4, 4, 128)        0         \n",
      " 2D)                                                             \n",
      "                                                                 \n",
      " conv2d_3 (Conv2D)           (None, 4, 4, 256)         295168    \n",
      "                                                                 \n",
      " max_pooling2d_3 (MaxPooling  (None, 2, 2, 256)        0         \n",
      " 2D)                                                             \n",
      "                                                                 \n",
      " flatten (Flatten)           (None, 1024)              0         \n",
      "                                                                 \n",
      " dropout_5 (Dropout)         (None, 1024)              0         \n",
      "                                                                 \n",
      " dense_15 (Dense)            (None, 512)               524800    \n",
      "                                                                 \n",
      " dense_16 (Dense)            (None, 100)               51300     \n",
      "                                                                 \n",
      "=================================================================\n",
      "Total params: 964,516\n",
      "Trainable params: 964,516\n",
      "Non-trainable params: 0\n",
      "_________________________________________________________________\n"
     ]
    }
   ],
   "source": [
    "model = keras.Sequential([\n",
    "    layers.Conv2D(filters=32, kernel_size=(3, 3),\n",
    "                  padding='same', activation='relu',\n",
    "                  input_shape=(32, 32, 3)),\n",
    "    layers.MaxPooling2D(pool_size=(2, 2)),\n",
    "    layers.Conv2D(filters=64, kernel_size=(3, 3),\n",
    "                  padding='same', activation='relu'),\n",
    "    layers.MaxPooling2D(pool_size=(2, 2)),\n",
    "    layers.Conv2D(filters=128, kernel_size=(3, 3),\n",
    "                  padding='same', activation='relu',\n",
    "                  input_shape=(32, 32, 3)),\n",
    "    layers.MaxPooling2D(pool_size=(2, 2)),\n",
    "    layers.Conv2D(filters=256, kernel_size=(3, 3),\n",
    "                  padding='same', activation='relu'),\n",
    "    layers.MaxPooling2D(pool_size=(2, 2)),\n",
    "    layers.Flatten(),\n",
    "    layers.Dropout(rate=0.5),\n",
    "    layers.Dense(units=512, activation='relu'),\n",
    "    layers.Dense(units=100, activation='softmax')\n",
    "])\n",
    "model.summary()"
   ]
  },
  {
   "cell_type": "markdown",
   "id": "93005b0b",
   "metadata": {},
   "source": [
    "Notice that we used the `padding='same'` argument to\n",
    "`layers.Conv2D()`, which ensures that the output channels have the\n",
    "same dimension as the input channels. There are 32 channels in the first\n",
    "hidden layer, in contrast to the three channels in the input layer. We\n",
    "use a $3\\times 3$ convolution filter for each channel in all the layers. Each\n",
    "convolution is followed by a max-pooling layer over $2\\times2$\n",
    "blocks. By studying the summary, we can see that the channels halve in both\n",
    "dimensions\n",
    "after each of these max-pooling operations. After the last of these we\n",
    "have a layer with  256 channels of dimension $2\\times 2$. These are then\n",
    "flattened to a dense layer of size 1,024:\n",
    "in other words, each of the $2\\times 2$ matrices is turned into a\n",
    "$4$-vector, and put side-by-side in one layer. This is followed by a\n",
    "dropout regularization layer,  then\n",
    "another dense layer of size 512, which finally reaches the softmax\n",
    "output layer.\n",
    "\n",
    "Finally, we specify the fitting algorithm, and fit the model."
   ]
  },
  {
   "cell_type": "code",
   "execution_count": 121,
   "id": "d26e5ad0-e292-4ea4-886b-e9127b88f819",
   "metadata": {},
   "outputs": [
    {
     "name": "stderr",
     "output_type": "stream",
     "text": [
      "2022-10-26 10:51:22.704269: I tensorflow/core/grappler/optimizers/custom_graph_optimizer_registry.cc:114] Plugin optimizer for device_type GPU is enabled.\n",
      "2022-10-26 10:51:29.209405: I tensorflow/core/grappler/optimizers/custom_graph_optimizer_registry.cc:114] Plugin optimizer for device_type GPU is enabled.\n"
     ]
    },
    {
     "name": "stdout",
     "output_type": "stream",
     "text": [
      " 74/313 [======>.......................] - ETA: 0s"
     ]
    },
    {
     "name": "stderr",
     "output_type": "stream",
     "text": [
      "2022-10-26 10:54:00.018165: I tensorflow/core/grappler/optimizers/custom_graph_optimizer_registry.cc:114] Plugin optimizer for device_type GPU is enabled.\n"
     ]
    },
    {
     "name": "stdout",
     "output_type": "stream",
     "text": [
      "313/313 [==============================] - 1s 2ms/step\n",
      "CPU times: user 1min 56s, sys: 50.6 s, total: 2min 47s\n",
      "Wall time: 2min 38s\n"
     ]
    },
    {
     "data": {
      "text/plain": [
       "0.4412"
      ]
     },
     "execution_count": 121,
     "metadata": {},
     "output_type": "execute_result"
    }
   ],
   "source": [
    "%%time\n",
    "model.compile(loss='categorical_crossentropy', optimizer='rmsprop', metrics=['accuracy'])\n",
    "history = model.fit(x_train, y_train, epochs=30, batch_size=128, validation_split=0.2, verbose=False)\n",
    "accuracy_score(model.predict(x_test).argmax(axis=1), g_test)"
   ]
  },
  {
   "cell_type": "markdown",
   "id": "9e50e645",
   "metadata": {
    "jp-MarkdownHeadingCollapsed": true,
    "tags": []
   },
   "source": [
    "This model takes 10 minutes to run and achieves 44% accuracy on the test\n",
    "data. Although this is not terrible for 100-class data (a random\n",
    "classifier gets 1% accuracy), searching the web we see results around\n",
    "75%. Typically it takes a lot of architecture carpentry,\n",
    "fiddling with regularization, and time to achieve such results.\n",
    "\n",
    "## Using Pretrained CNN Models\n",
    "\n",
    "We now show how to use a CNN pretrained on the  `imagenet` database to classify natural\n",
    "images, and demonstrate how we produced Figure 10.10\n",
    "We copied six jpeg images from a digital photo album into the\n",
    "directory `book_images`. We first read in the images, and\n",
    "convert them into the array format expected by the `keras`\n",
    "software to match the specifications in `imagenet`."
   ]
  },
  {
   "cell_type": "code",
   "execution_count": 173,
   "id": "9145acd1-4320-4ea9-a468-74b3d0b5b12f",
   "metadata": {},
   "outputs": [],
   "source": [
    "from pathlib import Path\n",
    "from PIL import Image\n",
    "from pprint import pprint"
   ]
  },
  {
   "cell_type": "code",
   "execution_count": 162,
   "id": "cfacef86-3185-4915-8ea8-137387acc8c8",
   "metadata": {},
   "outputs": [],
   "source": [
    "img_dir = Path('./data/book_images/')\n",
    "image_names = list(img_dir.glob('*'))\n",
    "num_images = len(image_names)\n",
    "x = np.zeros((num_images, 224, 224, 3), dtype=int)\n",
    "for i, img_path in enumerate(image_names):\n",
    "    img = Image.open(img_path)\n",
    "    img_small = np.array(img.resize((224, 224)))\n",
    "    x[i] = img_small\n",
    "    img.close()\n",
    "x = keras.applications.imagenet_utils.preprocess_input(x)"
   ]
  },
  {
   "cell_type": "markdown",
   "id": "ee9573f9",
   "metadata": {},
   "source": [
    "We then load the trained network. The model has 50 layers, with a fair bit of complexity."
   ]
  },
  {
   "cell_type": "code",
   "execution_count": 166,
   "id": "92256e81-6f3f-4763-a8d5-d2fba4fb7c97",
   "metadata": {},
   "outputs": [
    {
     "name": "stdout",
     "output_type": "stream",
     "text": [
      "Downloading data from https://storage.googleapis.com/tensorflow/keras-applications/resnet/resnet50_weights_tf_dim_ordering_tf_kernels.h5\n",
      "102967424/102967424 [==============================] - 8s 0us/step\n",
      "Model: \"resnet50\"\n",
      "__________________________________________________________________________________________________\n",
      " Layer (type)                   Output Shape         Param #     Connected to                     \n",
      "==================================================================================================\n",
      " input_1 (InputLayer)           [(None, 224, 224, 3  0           []                               \n",
      "                                )]                                                                \n",
      "                                                                                                  \n",
      " conv1_pad (ZeroPadding2D)      (None, 230, 230, 3)  0           ['input_1[0][0]']                \n",
      "                                                                                                  \n",
      " conv1_conv (Conv2D)            (None, 112, 112, 64  9472        ['conv1_pad[0][0]']              \n",
      "                                )                                                                 \n",
      "                                                                                                  \n",
      " conv1_bn (BatchNormalization)  (None, 112, 112, 64  256         ['conv1_conv[0][0]']             \n",
      "                                )                                                                 \n",
      "                                                                                                  \n",
      " conv1_relu (Activation)        (None, 112, 112, 64  0           ['conv1_bn[0][0]']               \n",
      "                                )                                                                 \n",
      "                                                                                                  \n",
      " pool1_pad (ZeroPadding2D)      (None, 114, 114, 64  0           ['conv1_relu[0][0]']             \n",
      "                                )                                                                 \n",
      "                                                                                                  \n",
      " pool1_pool (MaxPooling2D)      (None, 56, 56, 64)   0           ['pool1_pad[0][0]']              \n",
      "                                                                                                  \n",
      " conv2_block1_1_conv (Conv2D)   (None, 56, 56, 64)   4160        ['pool1_pool[0][0]']             \n",
      "                                                                                                  \n",
      " conv2_block1_1_bn (BatchNormal  (None, 56, 56, 64)  256         ['conv2_block1_1_conv[0][0]']    \n",
      " ization)                                                                                         \n",
      "                                                                                                  \n",
      " conv2_block1_1_relu (Activatio  (None, 56, 56, 64)  0           ['conv2_block1_1_bn[0][0]']      \n",
      " n)                                                                                               \n",
      "                                                                                                  \n",
      " conv2_block1_2_conv (Conv2D)   (None, 56, 56, 64)   36928       ['conv2_block1_1_relu[0][0]']    \n",
      "                                                                                                  \n",
      " conv2_block1_2_bn (BatchNormal  (None, 56, 56, 64)  256         ['conv2_block1_2_conv[0][0]']    \n",
      " ization)                                                                                         \n",
      "                                                                                                  \n",
      " conv2_block1_2_relu (Activatio  (None, 56, 56, 64)  0           ['conv2_block1_2_bn[0][0]']      \n",
      " n)                                                                                               \n",
      "                                                                                                  \n",
      " conv2_block1_0_conv (Conv2D)   (None, 56, 56, 256)  16640       ['pool1_pool[0][0]']             \n",
      "                                                                                                  \n",
      " conv2_block1_3_conv (Conv2D)   (None, 56, 56, 256)  16640       ['conv2_block1_2_relu[0][0]']    \n",
      "                                                                                                  \n",
      " conv2_block1_0_bn (BatchNormal  (None, 56, 56, 256)  1024       ['conv2_block1_0_conv[0][0]']    \n",
      " ization)                                                                                         \n",
      "                                                                                                  \n",
      " conv2_block1_3_bn (BatchNormal  (None, 56, 56, 256)  1024       ['conv2_block1_3_conv[0][0]']    \n",
      " ization)                                                                                         \n",
      "                                                                                                  \n",
      " conv2_block1_add (Add)         (None, 56, 56, 256)  0           ['conv2_block1_0_bn[0][0]',      \n",
      "                                                                  'conv2_block1_3_bn[0][0]']      \n",
      "                                                                                                  \n",
      " conv2_block1_out (Activation)  (None, 56, 56, 256)  0           ['conv2_block1_add[0][0]']       \n",
      "                                                                                                  \n",
      " conv2_block2_1_conv (Conv2D)   (None, 56, 56, 64)   16448       ['conv2_block1_out[0][0]']       \n",
      "                                                                                                  \n",
      " conv2_block2_1_bn (BatchNormal  (None, 56, 56, 64)  256         ['conv2_block2_1_conv[0][0]']    \n",
      " ization)                                                                                         \n",
      "                                                                                                  \n",
      " conv2_block2_1_relu (Activatio  (None, 56, 56, 64)  0           ['conv2_block2_1_bn[0][0]']      \n",
      " n)                                                                                               \n",
      "                                                                                                  \n",
      " conv2_block2_2_conv (Conv2D)   (None, 56, 56, 64)   36928       ['conv2_block2_1_relu[0][0]']    \n",
      "                                                                                                  \n",
      " conv2_block2_2_bn (BatchNormal  (None, 56, 56, 64)  256         ['conv2_block2_2_conv[0][0]']    \n",
      " ization)                                                                                         \n",
      "                                                                                                  \n",
      " conv2_block2_2_relu (Activatio  (None, 56, 56, 64)  0           ['conv2_block2_2_bn[0][0]']      \n",
      " n)                                                                                               \n",
      "                                                                                                  \n",
      " conv2_block2_3_conv (Conv2D)   (None, 56, 56, 256)  16640       ['conv2_block2_2_relu[0][0]']    \n",
      "                                                                                                  \n",
      " conv2_block2_3_bn (BatchNormal  (None, 56, 56, 256)  1024       ['conv2_block2_3_conv[0][0]']    \n",
      " ization)                                                                                         \n",
      "                                                                                                  \n",
      " conv2_block2_add (Add)         (None, 56, 56, 256)  0           ['conv2_block1_out[0][0]',       \n",
      "                                                                  'conv2_block2_3_bn[0][0]']      \n",
      "                                                                                                  \n",
      " conv2_block2_out (Activation)  (None, 56, 56, 256)  0           ['conv2_block2_add[0][0]']       \n",
      "                                                                                                  \n",
      " conv2_block3_1_conv (Conv2D)   (None, 56, 56, 64)   16448       ['conv2_block2_out[0][0]']       \n",
      "                                                                                                  \n",
      " conv2_block3_1_bn (BatchNormal  (None, 56, 56, 64)  256         ['conv2_block3_1_conv[0][0]']    \n",
      " ization)                                                                                         \n",
      "                                                                                                  \n",
      " conv2_block3_1_relu (Activatio  (None, 56, 56, 64)  0           ['conv2_block3_1_bn[0][0]']      \n",
      " n)                                                                                               \n",
      "                                                                                                  \n",
      " conv2_block3_2_conv (Conv2D)   (None, 56, 56, 64)   36928       ['conv2_block3_1_relu[0][0]']    \n",
      "                                                                                                  \n",
      " conv2_block3_2_bn (BatchNormal  (None, 56, 56, 64)  256         ['conv2_block3_2_conv[0][0]']    \n",
      " ization)                                                                                         \n",
      "                                                                                                  \n",
      " conv2_block3_2_relu (Activatio  (None, 56, 56, 64)  0           ['conv2_block3_2_bn[0][0]']      \n",
      " n)                                                                                               \n",
      "                                                                                                  \n",
      " conv2_block3_3_conv (Conv2D)   (None, 56, 56, 256)  16640       ['conv2_block3_2_relu[0][0]']    \n",
      "                                                                                                  \n",
      " conv2_block3_3_bn (BatchNormal  (None, 56, 56, 256)  1024       ['conv2_block3_3_conv[0][0]']    \n",
      " ization)                                                                                         \n",
      "                                                                                                  \n",
      " conv2_block3_add (Add)         (None, 56, 56, 256)  0           ['conv2_block2_out[0][0]',       \n",
      "                                                                  'conv2_block3_3_bn[0][0]']      \n",
      "                                                                                                  \n",
      " conv2_block3_out (Activation)  (None, 56, 56, 256)  0           ['conv2_block3_add[0][0]']       \n",
      "                                                                                                  \n",
      " conv3_block1_1_conv (Conv2D)   (None, 28, 28, 128)  32896       ['conv2_block3_out[0][0]']       \n",
      "                                                                                                  \n",
      " conv3_block1_1_bn (BatchNormal  (None, 28, 28, 128)  512        ['conv3_block1_1_conv[0][0]']    \n",
      " ization)                                                                                         \n",
      "                                                                                                  \n",
      " conv3_block1_1_relu (Activatio  (None, 28, 28, 128)  0          ['conv3_block1_1_bn[0][0]']      \n",
      " n)                                                                                               \n",
      "                                                                                                  \n",
      " conv3_block1_2_conv (Conv2D)   (None, 28, 28, 128)  147584      ['conv3_block1_1_relu[0][0]']    \n",
      "                                                                                                  \n",
      " conv3_block1_2_bn (BatchNormal  (None, 28, 28, 128)  512        ['conv3_block1_2_conv[0][0]']    \n",
      " ization)                                                                                         \n",
      "                                                                                                  \n",
      " conv3_block1_2_relu (Activatio  (None, 28, 28, 128)  0          ['conv3_block1_2_bn[0][0]']      \n",
      " n)                                                                                               \n",
      "                                                                                                  \n",
      " conv3_block1_0_conv (Conv2D)   (None, 28, 28, 512)  131584      ['conv2_block3_out[0][0]']       \n",
      "                                                                                                  \n",
      " conv3_block1_3_conv (Conv2D)   (None, 28, 28, 512)  66048       ['conv3_block1_2_relu[0][0]']    \n",
      "                                                                                                  \n",
      " conv3_block1_0_bn (BatchNormal  (None, 28, 28, 512)  2048       ['conv3_block1_0_conv[0][0]']    \n",
      " ization)                                                                                         \n",
      "                                                                                                  \n",
      " conv3_block1_3_bn (BatchNormal  (None, 28, 28, 512)  2048       ['conv3_block1_3_conv[0][0]']    \n",
      " ization)                                                                                         \n",
      "                                                                                                  \n",
      " conv3_block1_add (Add)         (None, 28, 28, 512)  0           ['conv3_block1_0_bn[0][0]',      \n",
      "                                                                  'conv3_block1_3_bn[0][0]']      \n",
      "                                                                                                  \n",
      " conv3_block1_out (Activation)  (None, 28, 28, 512)  0           ['conv3_block1_add[0][0]']       \n",
      "                                                                                                  \n",
      " conv3_block2_1_conv (Conv2D)   (None, 28, 28, 128)  65664       ['conv3_block1_out[0][0]']       \n",
      "                                                                                                  \n",
      " conv3_block2_1_bn (BatchNormal  (None, 28, 28, 128)  512        ['conv3_block2_1_conv[0][0]']    \n",
      " ization)                                                                                         \n",
      "                                                                                                  \n",
      " conv3_block2_1_relu (Activatio  (None, 28, 28, 128)  0          ['conv3_block2_1_bn[0][0]']      \n",
      " n)                                                                                               \n",
      "                                                                                                  \n",
      " conv3_block2_2_conv (Conv2D)   (None, 28, 28, 128)  147584      ['conv3_block2_1_relu[0][0]']    \n",
      "                                                                                                  \n",
      " conv3_block2_2_bn (BatchNormal  (None, 28, 28, 128)  512        ['conv3_block2_2_conv[0][0]']    \n",
      " ization)                                                                                         \n",
      "                                                                                                  \n",
      " conv3_block2_2_relu (Activatio  (None, 28, 28, 128)  0          ['conv3_block2_2_bn[0][0]']      \n",
      " n)                                                                                               \n",
      "                                                                                                  \n",
      " conv3_block2_3_conv (Conv2D)   (None, 28, 28, 512)  66048       ['conv3_block2_2_relu[0][0]']    \n",
      "                                                                                                  \n",
      " conv3_block2_3_bn (BatchNormal  (None, 28, 28, 512)  2048       ['conv3_block2_3_conv[0][0]']    \n",
      " ization)                                                                                         \n",
      "                                                                                                  \n",
      " conv3_block2_add (Add)         (None, 28, 28, 512)  0           ['conv3_block1_out[0][0]',       \n",
      "                                                                  'conv3_block2_3_bn[0][0]']      \n",
      "                                                                                                  \n",
      " conv3_block2_out (Activation)  (None, 28, 28, 512)  0           ['conv3_block2_add[0][0]']       \n",
      "                                                                                                  \n",
      " conv3_block3_1_conv (Conv2D)   (None, 28, 28, 128)  65664       ['conv3_block2_out[0][0]']       \n",
      "                                                                                                  \n",
      " conv3_block3_1_bn (BatchNormal  (None, 28, 28, 128)  512        ['conv3_block3_1_conv[0][0]']    \n",
      " ization)                                                                                         \n",
      "                                                                                                  \n",
      " conv3_block3_1_relu (Activatio  (None, 28, 28, 128)  0          ['conv3_block3_1_bn[0][0]']      \n",
      " n)                                                                                               \n",
      "                                                                                                  \n",
      " conv3_block3_2_conv (Conv2D)   (None, 28, 28, 128)  147584      ['conv3_block3_1_relu[0][0]']    \n",
      "                                                                                                  \n",
      " conv3_block3_2_bn (BatchNormal  (None, 28, 28, 128)  512        ['conv3_block3_2_conv[0][0]']    \n",
      " ization)                                                                                         \n",
      "                                                                                                  \n",
      " conv3_block3_2_relu (Activatio  (None, 28, 28, 128)  0          ['conv3_block3_2_bn[0][0]']      \n",
      " n)                                                                                               \n",
      "                                                                                                  \n",
      " conv3_block3_3_conv (Conv2D)   (None, 28, 28, 512)  66048       ['conv3_block3_2_relu[0][0]']    \n",
      "                                                                                                  \n",
      " conv3_block3_3_bn (BatchNormal  (None, 28, 28, 512)  2048       ['conv3_block3_3_conv[0][0]']    \n",
      " ization)                                                                                         \n",
      "                                                                                                  \n",
      " conv3_block3_add (Add)         (None, 28, 28, 512)  0           ['conv3_block2_out[0][0]',       \n",
      "                                                                  'conv3_block3_3_bn[0][0]']      \n",
      "                                                                                                  \n",
      " conv3_block3_out (Activation)  (None, 28, 28, 512)  0           ['conv3_block3_add[0][0]']       \n",
      "                                                                                                  \n",
      " conv3_block4_1_conv (Conv2D)   (None, 28, 28, 128)  65664       ['conv3_block3_out[0][0]']       \n",
      "                                                                                                  \n",
      " conv3_block4_1_bn (BatchNormal  (None, 28, 28, 128)  512        ['conv3_block4_1_conv[0][0]']    \n",
      " ization)                                                                                         \n",
      "                                                                                                  \n",
      " conv3_block4_1_relu (Activatio  (None, 28, 28, 128)  0          ['conv3_block4_1_bn[0][0]']      \n",
      " n)                                                                                               \n",
      "                                                                                                  \n",
      " conv3_block4_2_conv (Conv2D)   (None, 28, 28, 128)  147584      ['conv3_block4_1_relu[0][0]']    \n",
      "                                                                                                  \n",
      " conv3_block4_2_bn (BatchNormal  (None, 28, 28, 128)  512        ['conv3_block4_2_conv[0][0]']    \n",
      " ization)                                                                                         \n",
      "                                                                                                  \n",
      " conv3_block4_2_relu (Activatio  (None, 28, 28, 128)  0          ['conv3_block4_2_bn[0][0]']      \n",
      " n)                                                                                               \n",
      "                                                                                                  \n",
      " conv3_block4_3_conv (Conv2D)   (None, 28, 28, 512)  66048       ['conv3_block4_2_relu[0][0]']    \n",
      "                                                                                                  \n",
      " conv3_block4_3_bn (BatchNormal  (None, 28, 28, 512)  2048       ['conv3_block4_3_conv[0][0]']    \n",
      " ization)                                                                                         \n",
      "                                                                                                  \n",
      " conv3_block4_add (Add)         (None, 28, 28, 512)  0           ['conv3_block3_out[0][0]',       \n",
      "                                                                  'conv3_block4_3_bn[0][0]']      \n",
      "                                                                                                  \n",
      " conv3_block4_out (Activation)  (None, 28, 28, 512)  0           ['conv3_block4_add[0][0]']       \n",
      "                                                                                                  \n",
      " conv4_block1_1_conv (Conv2D)   (None, 14, 14, 256)  131328      ['conv3_block4_out[0][0]']       \n",
      "                                                                                                  \n",
      " conv4_block1_1_bn (BatchNormal  (None, 14, 14, 256)  1024       ['conv4_block1_1_conv[0][0]']    \n",
      " ization)                                                                                         \n",
      "                                                                                                  \n",
      " conv4_block1_1_relu (Activatio  (None, 14, 14, 256)  0          ['conv4_block1_1_bn[0][0]']      \n",
      " n)                                                                                               \n",
      "                                                                                                  \n",
      " conv4_block1_2_conv (Conv2D)   (None, 14, 14, 256)  590080      ['conv4_block1_1_relu[0][0]']    \n",
      "                                                                                                  \n",
      " conv4_block1_2_bn (BatchNormal  (None, 14, 14, 256)  1024       ['conv4_block1_2_conv[0][0]']    \n",
      " ization)                                                                                         \n",
      "                                                                                                  \n",
      " conv4_block1_2_relu (Activatio  (None, 14, 14, 256)  0          ['conv4_block1_2_bn[0][0]']      \n",
      " n)                                                                                               \n",
      "                                                                                                  \n",
      " conv4_block1_0_conv (Conv2D)   (None, 14, 14, 1024  525312      ['conv3_block4_out[0][0]']       \n",
      "                                )                                                                 \n",
      "                                                                                                  \n",
      " conv4_block1_3_conv (Conv2D)   (None, 14, 14, 1024  263168      ['conv4_block1_2_relu[0][0]']    \n",
      "                                )                                                                 \n",
      "                                                                                                  \n",
      " conv4_block1_0_bn (BatchNormal  (None, 14, 14, 1024  4096       ['conv4_block1_0_conv[0][0]']    \n",
      " ization)                       )                                                                 \n",
      "                                                                                                  \n",
      " conv4_block1_3_bn (BatchNormal  (None, 14, 14, 1024  4096       ['conv4_block1_3_conv[0][0]']    \n",
      " ization)                       )                                                                 \n",
      "                                                                                                  \n",
      " conv4_block1_add (Add)         (None, 14, 14, 1024  0           ['conv4_block1_0_bn[0][0]',      \n",
      "                                )                                 'conv4_block1_3_bn[0][0]']      \n",
      "                                                                                                  \n",
      " conv4_block1_out (Activation)  (None, 14, 14, 1024  0           ['conv4_block1_add[0][0]']       \n",
      "                                )                                                                 \n",
      "                                                                                                  \n",
      " conv4_block2_1_conv (Conv2D)   (None, 14, 14, 256)  262400      ['conv4_block1_out[0][0]']       \n",
      "                                                                                                  \n",
      " conv4_block2_1_bn (BatchNormal  (None, 14, 14, 256)  1024       ['conv4_block2_1_conv[0][0]']    \n",
      " ization)                                                                                         \n",
      "                                                                                                  \n",
      " conv4_block2_1_relu (Activatio  (None, 14, 14, 256)  0          ['conv4_block2_1_bn[0][0]']      \n",
      " n)                                                                                               \n",
      "                                                                                                  \n",
      " conv4_block2_2_conv (Conv2D)   (None, 14, 14, 256)  590080      ['conv4_block2_1_relu[0][0]']    \n",
      "                                                                                                  \n",
      " conv4_block2_2_bn (BatchNormal  (None, 14, 14, 256)  1024       ['conv4_block2_2_conv[0][0]']    \n",
      " ization)                                                                                         \n",
      "                                                                                                  \n",
      " conv4_block2_2_relu (Activatio  (None, 14, 14, 256)  0          ['conv4_block2_2_bn[0][0]']      \n",
      " n)                                                                                               \n",
      "                                                                                                  \n",
      " conv4_block2_3_conv (Conv2D)   (None, 14, 14, 1024  263168      ['conv4_block2_2_relu[0][0]']    \n",
      "                                )                                                                 \n",
      "                                                                                                  \n",
      " conv4_block2_3_bn (BatchNormal  (None, 14, 14, 1024  4096       ['conv4_block2_3_conv[0][0]']    \n",
      " ization)                       )                                                                 \n",
      "                                                                                                  \n",
      " conv4_block2_add (Add)         (None, 14, 14, 1024  0           ['conv4_block1_out[0][0]',       \n",
      "                                )                                 'conv4_block2_3_bn[0][0]']      \n",
      "                                                                                                  \n",
      " conv4_block2_out (Activation)  (None, 14, 14, 1024  0           ['conv4_block2_add[0][0]']       \n",
      "                                )                                                                 \n",
      "                                                                                                  \n",
      " conv4_block3_1_conv (Conv2D)   (None, 14, 14, 256)  262400      ['conv4_block2_out[0][0]']       \n",
      "                                                                                                  \n",
      " conv4_block3_1_bn (BatchNormal  (None, 14, 14, 256)  1024       ['conv4_block3_1_conv[0][0]']    \n",
      " ization)                                                                                         \n",
      "                                                                                                  \n",
      " conv4_block3_1_relu (Activatio  (None, 14, 14, 256)  0          ['conv4_block3_1_bn[0][0]']      \n",
      " n)                                                                                               \n",
      "                                                                                                  \n",
      " conv4_block3_2_conv (Conv2D)   (None, 14, 14, 256)  590080      ['conv4_block3_1_relu[0][0]']    \n",
      "                                                                                                  \n",
      " conv4_block3_2_bn (BatchNormal  (None, 14, 14, 256)  1024       ['conv4_block3_2_conv[0][0]']    \n",
      " ization)                                                                                         \n",
      "                                                                                                  \n",
      " conv4_block3_2_relu (Activatio  (None, 14, 14, 256)  0          ['conv4_block3_2_bn[0][0]']      \n",
      " n)                                                                                               \n",
      "                                                                                                  \n",
      " conv4_block3_3_conv (Conv2D)   (None, 14, 14, 1024  263168      ['conv4_block3_2_relu[0][0]']    \n",
      "                                )                                                                 \n",
      "                                                                                                  \n",
      " conv4_block3_3_bn (BatchNormal  (None, 14, 14, 1024  4096       ['conv4_block3_3_conv[0][0]']    \n",
      " ization)                       )                                                                 \n",
      "                                                                                                  \n",
      " conv4_block3_add (Add)         (None, 14, 14, 1024  0           ['conv4_block2_out[0][0]',       \n",
      "                                )                                 'conv4_block3_3_bn[0][0]']      \n",
      "                                                                                                  \n",
      " conv4_block3_out (Activation)  (None, 14, 14, 1024  0           ['conv4_block3_add[0][0]']       \n",
      "                                )                                                                 \n",
      "                                                                                                  \n",
      " conv4_block4_1_conv (Conv2D)   (None, 14, 14, 256)  262400      ['conv4_block3_out[0][0]']       \n",
      "                                                                                                  \n",
      " conv4_block4_1_bn (BatchNormal  (None, 14, 14, 256)  1024       ['conv4_block4_1_conv[0][0]']    \n",
      " ization)                                                                                         \n",
      "                                                                                                  \n",
      " conv4_block4_1_relu (Activatio  (None, 14, 14, 256)  0          ['conv4_block4_1_bn[0][0]']      \n",
      " n)                                                                                               \n",
      "                                                                                                  \n",
      " conv4_block4_2_conv (Conv2D)   (None, 14, 14, 256)  590080      ['conv4_block4_1_relu[0][0]']    \n",
      "                                                                                                  \n",
      " conv4_block4_2_bn (BatchNormal  (None, 14, 14, 256)  1024       ['conv4_block4_2_conv[0][0]']    \n",
      " ization)                                                                                         \n",
      "                                                                                                  \n",
      " conv4_block4_2_relu (Activatio  (None, 14, 14, 256)  0          ['conv4_block4_2_bn[0][0]']      \n",
      " n)                                                                                               \n",
      "                                                                                                  \n",
      " conv4_block4_3_conv (Conv2D)   (None, 14, 14, 1024  263168      ['conv4_block4_2_relu[0][0]']    \n",
      "                                )                                                                 \n",
      "                                                                                                  \n",
      " conv4_block4_3_bn (BatchNormal  (None, 14, 14, 1024  4096       ['conv4_block4_3_conv[0][0]']    \n",
      " ization)                       )                                                                 \n",
      "                                                                                                  \n",
      " conv4_block4_add (Add)         (None, 14, 14, 1024  0           ['conv4_block3_out[0][0]',       \n",
      "                                )                                 'conv4_block4_3_bn[0][0]']      \n",
      "                                                                                                  \n",
      " conv4_block4_out (Activation)  (None, 14, 14, 1024  0           ['conv4_block4_add[0][0]']       \n",
      "                                )                                                                 \n",
      "                                                                                                  \n",
      " conv4_block5_1_conv (Conv2D)   (None, 14, 14, 256)  262400      ['conv4_block4_out[0][0]']       \n",
      "                                                                                                  \n",
      " conv4_block5_1_bn (BatchNormal  (None, 14, 14, 256)  1024       ['conv4_block5_1_conv[0][0]']    \n",
      " ization)                                                                                         \n",
      "                                                                                                  \n",
      " conv4_block5_1_relu (Activatio  (None, 14, 14, 256)  0          ['conv4_block5_1_bn[0][0]']      \n",
      " n)                                                                                               \n",
      "                                                                                                  \n",
      " conv4_block5_2_conv (Conv2D)   (None, 14, 14, 256)  590080      ['conv4_block5_1_relu[0][0]']    \n",
      "                                                                                                  \n",
      " conv4_block5_2_bn (BatchNormal  (None, 14, 14, 256)  1024       ['conv4_block5_2_conv[0][0]']    \n",
      " ization)                                                                                         \n",
      "                                                                                                  \n",
      " conv4_block5_2_relu (Activatio  (None, 14, 14, 256)  0          ['conv4_block5_2_bn[0][0]']      \n",
      " n)                                                                                               \n",
      "                                                                                                  \n",
      " conv4_block5_3_conv (Conv2D)   (None, 14, 14, 1024  263168      ['conv4_block5_2_relu[0][0]']    \n",
      "                                )                                                                 \n",
      "                                                                                                  \n",
      " conv4_block5_3_bn (BatchNormal  (None, 14, 14, 1024  4096       ['conv4_block5_3_conv[0][0]']    \n",
      " ization)                       )                                                                 \n",
      "                                                                                                  \n",
      " conv4_block5_add (Add)         (None, 14, 14, 1024  0           ['conv4_block4_out[0][0]',       \n",
      "                                )                                 'conv4_block5_3_bn[0][0]']      \n",
      "                                                                                                  \n",
      " conv4_block5_out (Activation)  (None, 14, 14, 1024  0           ['conv4_block5_add[0][0]']       \n",
      "                                )                                                                 \n",
      "                                                                                                  \n",
      " conv4_block6_1_conv (Conv2D)   (None, 14, 14, 256)  262400      ['conv4_block5_out[0][0]']       \n",
      "                                                                                                  \n",
      " conv4_block6_1_bn (BatchNormal  (None, 14, 14, 256)  1024       ['conv4_block6_1_conv[0][0]']    \n",
      " ization)                                                                                         \n",
      "                                                                                                  \n",
      " conv4_block6_1_relu (Activatio  (None, 14, 14, 256)  0          ['conv4_block6_1_bn[0][0]']      \n",
      " n)                                                                                               \n",
      "                                                                                                  \n",
      " conv4_block6_2_conv (Conv2D)   (None, 14, 14, 256)  590080      ['conv4_block6_1_relu[0][0]']    \n",
      "                                                                                                  \n",
      " conv4_block6_2_bn (BatchNormal  (None, 14, 14, 256)  1024       ['conv4_block6_2_conv[0][0]']    \n",
      " ization)                                                                                         \n",
      "                                                                                                  \n",
      " conv4_block6_2_relu (Activatio  (None, 14, 14, 256)  0          ['conv4_block6_2_bn[0][0]']      \n",
      " n)                                                                                               \n",
      "                                                                                                  \n",
      " conv4_block6_3_conv (Conv2D)   (None, 14, 14, 1024  263168      ['conv4_block6_2_relu[0][0]']    \n",
      "                                )                                                                 \n",
      "                                                                                                  \n",
      " conv4_block6_3_bn (BatchNormal  (None, 14, 14, 1024  4096       ['conv4_block6_3_conv[0][0]']    \n",
      " ization)                       )                                                                 \n",
      "                                                                                                  \n",
      " conv4_block6_add (Add)         (None, 14, 14, 1024  0           ['conv4_block5_out[0][0]',       \n",
      "                                )                                 'conv4_block6_3_bn[0][0]']      \n",
      "                                                                                                  \n",
      " conv4_block6_out (Activation)  (None, 14, 14, 1024  0           ['conv4_block6_add[0][0]']       \n",
      "                                )                                                                 \n",
      "                                                                                                  \n",
      " conv5_block1_1_conv (Conv2D)   (None, 7, 7, 512)    524800      ['conv4_block6_out[0][0]']       \n",
      "                                                                                                  \n",
      " conv5_block1_1_bn (BatchNormal  (None, 7, 7, 512)   2048        ['conv5_block1_1_conv[0][0]']    \n",
      " ization)                                                                                         \n",
      "                                                                                                  \n",
      " conv5_block1_1_relu (Activatio  (None, 7, 7, 512)   0           ['conv5_block1_1_bn[0][0]']      \n",
      " n)                                                                                               \n",
      "                                                                                                  \n",
      " conv5_block1_2_conv (Conv2D)   (None, 7, 7, 512)    2359808     ['conv5_block1_1_relu[0][0]']    \n",
      "                                                                                                  \n",
      " conv5_block1_2_bn (BatchNormal  (None, 7, 7, 512)   2048        ['conv5_block1_2_conv[0][0]']    \n",
      " ization)                                                                                         \n",
      "                                                                                                  \n",
      " conv5_block1_2_relu (Activatio  (None, 7, 7, 512)   0           ['conv5_block1_2_bn[0][0]']      \n",
      " n)                                                                                               \n",
      "                                                                                                  \n",
      " conv5_block1_0_conv (Conv2D)   (None, 7, 7, 2048)   2099200     ['conv4_block6_out[0][0]']       \n",
      "                                                                                                  \n",
      " conv5_block1_3_conv (Conv2D)   (None, 7, 7, 2048)   1050624     ['conv5_block1_2_relu[0][0]']    \n",
      "                                                                                                  \n",
      " conv5_block1_0_bn (BatchNormal  (None, 7, 7, 2048)  8192        ['conv5_block1_0_conv[0][0]']    \n",
      " ization)                                                                                         \n",
      "                                                                                                  \n",
      " conv5_block1_3_bn (BatchNormal  (None, 7, 7, 2048)  8192        ['conv5_block1_3_conv[0][0]']    \n",
      " ization)                                                                                         \n",
      "                                                                                                  \n",
      " conv5_block1_add (Add)         (None, 7, 7, 2048)   0           ['conv5_block1_0_bn[0][0]',      \n",
      "                                                                  'conv5_block1_3_bn[0][0]']      \n",
      "                                                                                                  \n",
      " conv5_block1_out (Activation)  (None, 7, 7, 2048)   0           ['conv5_block1_add[0][0]']       \n",
      "                                                                                                  \n",
      " conv5_block2_1_conv (Conv2D)   (None, 7, 7, 512)    1049088     ['conv5_block1_out[0][0]']       \n",
      "                                                                                                  \n",
      " conv5_block2_1_bn (BatchNormal  (None, 7, 7, 512)   2048        ['conv5_block2_1_conv[0][0]']    \n",
      " ization)                                                                                         \n",
      "                                                                                                  \n",
      " conv5_block2_1_relu (Activatio  (None, 7, 7, 512)   0           ['conv5_block2_1_bn[0][0]']      \n",
      " n)                                                                                               \n",
      "                                                                                                  \n",
      " conv5_block2_2_conv (Conv2D)   (None, 7, 7, 512)    2359808     ['conv5_block2_1_relu[0][0]']    \n",
      "                                                                                                  \n",
      " conv5_block2_2_bn (BatchNormal  (None, 7, 7, 512)   2048        ['conv5_block2_2_conv[0][0]']    \n",
      " ization)                                                                                         \n",
      "                                                                                                  \n",
      " conv5_block2_2_relu (Activatio  (None, 7, 7, 512)   0           ['conv5_block2_2_bn[0][0]']      \n",
      " n)                                                                                               \n",
      "                                                                                                  \n",
      " conv5_block2_3_conv (Conv2D)   (None, 7, 7, 2048)   1050624     ['conv5_block2_2_relu[0][0]']    \n",
      "                                                                                                  \n",
      " conv5_block2_3_bn (BatchNormal  (None, 7, 7, 2048)  8192        ['conv5_block2_3_conv[0][0]']    \n",
      " ization)                                                                                         \n",
      "                                                                                                  \n",
      " conv5_block2_add (Add)         (None, 7, 7, 2048)   0           ['conv5_block1_out[0][0]',       \n",
      "                                                                  'conv5_block2_3_bn[0][0]']      \n",
      "                                                                                                  \n",
      " conv5_block2_out (Activation)  (None, 7, 7, 2048)   0           ['conv5_block2_add[0][0]']       \n",
      "                                                                                                  \n",
      " conv5_block3_1_conv (Conv2D)   (None, 7, 7, 512)    1049088     ['conv5_block2_out[0][0]']       \n",
      "                                                                                                  \n",
      " conv5_block3_1_bn (BatchNormal  (None, 7, 7, 512)   2048        ['conv5_block3_1_conv[0][0]']    \n",
      " ization)                                                                                         \n",
      "                                                                                                  \n",
      " conv5_block3_1_relu (Activatio  (None, 7, 7, 512)   0           ['conv5_block3_1_bn[0][0]']      \n",
      " n)                                                                                               \n",
      "                                                                                                  \n",
      " conv5_block3_2_conv (Conv2D)   (None, 7, 7, 512)    2359808     ['conv5_block3_1_relu[0][0]']    \n",
      "                                                                                                  \n",
      " conv5_block3_2_bn (BatchNormal  (None, 7, 7, 512)   2048        ['conv5_block3_2_conv[0][0]']    \n",
      " ization)                                                                                         \n",
      "                                                                                                  \n",
      " conv5_block3_2_relu (Activatio  (None, 7, 7, 512)   0           ['conv5_block3_2_bn[0][0]']      \n",
      " n)                                                                                               \n",
      "                                                                                                  \n",
      " conv5_block3_3_conv (Conv2D)   (None, 7, 7, 2048)   1050624     ['conv5_block3_2_relu[0][0]']    \n",
      "                                                                                                  \n",
      " conv5_block3_3_bn (BatchNormal  (None, 7, 7, 2048)  8192        ['conv5_block3_3_conv[0][0]']    \n",
      " ization)                                                                                         \n",
      "                                                                                                  \n",
      " conv5_block3_add (Add)         (None, 7, 7, 2048)   0           ['conv5_block2_out[0][0]',       \n",
      "                                                                  'conv5_block3_3_bn[0][0]']      \n",
      "                                                                                                  \n",
      " conv5_block3_out (Activation)  (None, 7, 7, 2048)   0           ['conv5_block3_add[0][0]']       \n",
      "                                                                                                  \n",
      " avg_pool (GlobalAveragePooling  (None, 2048)        0           ['conv5_block3_out[0][0]']       \n",
      " 2D)                                                                                              \n",
      "                                                                                                  \n",
      " predictions (Dense)            (None, 1000)         2049000     ['avg_pool[0][0]']               \n",
      "                                                                                                  \n",
      "==================================================================================================\n",
      "Total params: 25,636,712\n",
      "Trainable params: 25,583,592\n",
      "Non-trainable params: 53,120\n",
      "__________________________________________________________________________________________________\n"
     ]
    }
   ],
   "source": [
    "model = keras.applications.ResNet50(weights='imagenet')\n",
    "model.summary()"
   ]
  },
  {
   "cell_type": "markdown",
   "id": "8c0c6b84",
   "metadata": {},
   "source": [
    "Finally, we classify our six images, and return the top three class\n",
    "choices in terms of predicted probability for each."
   ]
  },
  {
   "cell_type": "code",
   "execution_count": 174,
   "id": "ca407121-54b2-4560-b3a6-c40da76cee36",
   "metadata": {},
   "outputs": [
    {
     "name": "stdout",
     "output_type": "stream",
     "text": [
      "1/1 [==============================] - 0s 24ms/step\n",
      "weaver\n",
      "[('n01843065', 'jacamar', 0.30668205),\n",
      " ('n01818515', 'macaw', 0.13143706),\n",
      " ('n02494079', 'squirrel_monkey', 0.073846325)]\n",
      "flamingo\n",
      "[('n02007558', 'flamingo', 0.94361556),\n",
      " ('n02006656', 'spoonbill', 0.05392085),\n",
      " ('n02002556', 'white_stork', 0.0012582844)]\n",
      "huey\n",
      "[('n02098413', 'Lhasa', 0.69261575),\n",
      " ('n02097474', 'Tibetan_terrier', 0.21974169),\n",
      " ('n02102318', 'cocker_spaniel', 0.025099773)]\n",
      "hawk_cropped\n",
      "[('n01608432', 'kite', 0.9616998),\n",
      " ('n01622779', 'great_grey_owl', 0.01068411),\n",
      " ('n01558993', 'robin', 0.004340519)]\n",
      "hawk\n",
      "[('n01608432', 'kite', 0.22476025),\n",
      " ('n03532672', 'hook', 0.15727003),\n",
      " ('n01616318', 'vulture', 0.1047971)]\n",
      "kitty\n",
      "[('n02105641', 'Old_English_sheepdog', 0.44424218),\n",
      " ('n03223299', 'doormat', 0.15851563),\n",
      " ('n02123394', 'Persian_cat', 0.04863337)]\n"
     ]
    }
   ],
   "source": [
    "pred6 = model.predict(x)\n",
    "pred6 = keras.applications.imagenet_utils.decode_predictions(pred6, top=3)\n",
    "for img, p in zip(image_names, pred6):\n",
    "    print(img.stem)\n",
    "    pprint(p)"
   ]
  },
  {
   "cell_type": "markdown",
   "id": "91516a1e",
   "metadata": {
    "tags": []
   },
   "source": [
    "## IMDb Document Classification\n",
    "\n",
    "Now we perform document classification (Section 10.4) on the `IMDB` dataset, which is available as part of the `keras`\n",
    "package. We  limit the dictionary size to the\n",
    "10,000  most frequently-used words and tokens."
   ]
  },
  {
   "cell_type": "code",
   "execution_count": 2,
   "id": "da14262d-f086-4c40-bff3-cc212fd529c9",
   "metadata": {},
   "outputs": [],
   "source": [
    "from keras.datasets import imdb"
   ]
  },
  {
   "cell_type": "code",
   "execution_count": 3,
   "id": "16de3878-b810-4769-9a67-295782567a22",
   "metadata": {},
   "outputs": [],
   "source": [
    "max_features = 10000\n",
    "(x_train, y_train), (x_test, y_test) = imdb.load_data(num_words=max_features)"
   ]
  },
  {
   "cell_type": "markdown",
   "id": "bffcba24",
   "metadata": {},
   "source": [
    "Each element of `x_train` is a vector of numbers between 0 and\n",
    "9999 (the document), referring to the words found in the dictionary.\n",
    "For example, the first training document is the positive review on\n",
    "page  419. The indices of the first 12 words are given below."
   ]
  },
  {
   "cell_type": "code",
   "execution_count": 5,
   "id": "53035f28",
   "metadata": {},
   "outputs": [
    {
     "data": {
      "text/plain": [
       "[1, 14, 22, 16, 43, 530, 973, 1622, 1385, 65, 458, 4468]"
      ]
     },
     "execution_count": 5,
     "metadata": {},
     "output_type": "execute_result"
    }
   ],
   "source": [
    "x_train[0][0:12]"
   ]
  },
  {
   "cell_type": "markdown",
   "id": "18d9e883",
   "metadata": {},
   "source": [
    "To see the words, we create a function, `decode_review()`, that provides a simple interface to the dictionary."
   ]
  },
  {
   "cell_type": "code",
   "execution_count": 6,
   "id": "56b9f8c6-a9cc-4f0e-91b6-b6be381044d3",
   "metadata": {},
   "outputs": [],
   "source": [
    "word_index = imdb.get_word_index()\n",
    "\n",
    "# We invert the dictionary and add special characters\n",
    "# Note we add 3 to the keys to recover the actual indices\n",
    "inverse_index = {v+3: k for k, v in word_index.items()}\n",
    "inverse_index[0] = '<PAD>'\n",
    "inverse_index[1] = '<START>'\n",
    "inverse_index[2] = '<UNK>'\n",
    "inverse_index[3] = '<UNUSED>'\n",
    "\n",
    "def decode_review(text, word_index):\n",
    "    words = [word_index[i] for i in text]\n",
    "    return ' '.join(words)"
   ]
  },
  {
   "cell_type": "code",
   "execution_count": 7,
   "id": "d17f4b1a-8c9e-4b18-810b-a36c529ee4d7",
   "metadata": {},
   "outputs": [
    {
     "data": {
      "text/plain": [
       "\"<START> this film was just brilliant casting location scenery story direction everyone's\""
      ]
     },
     "execution_count": 7,
     "metadata": {},
     "output_type": "execute_result"
    }
   ],
   "source": [
    "decode_review(x_train[0][0:12], inverse_index)"
   ]
  },
  {
   "cell_type": "markdown",
   "id": "e948a613",
   "metadata": {},
   "source": [
    "Next we write a function to *one-hot* encode each document in a list\n",
    "of documents, and return a binary matrix in sparse-matrix format."
   ]
  },
  {
   "cell_type": "code",
   "execution_count": 8,
   "id": "c384ff26-d208-4dcb-8677-d4e45958330f",
   "metadata": {},
   "outputs": [],
   "source": [
    "from sklearn.feature_extraction.text import CountVectorizer\n",
    "from scipy.sparse import csr_matrix"
   ]
  },
  {
   "cell_type": "code",
   "execution_count": 9,
   "id": "3fe61327-faf4-4192-856c-1090fab08280",
   "metadata": {},
   "outputs": [],
   "source": [
    "def one_hot(sequences, dimension):\n",
    "    row = [i for i, seq in enumerate(sequences) for word in seq]\n",
    "    n = len(sequences)\n",
    "    col = np.concatenate(sequences).ravel()\n",
    "    data = np.ones_like(col)\n",
    "    return (csr_matrix((data, (row, col)), shape=(n, dimension)) > 0).astype(float)"
   ]
  },
  {
   "cell_type": "markdown",
   "id": "2b478399",
   "metadata": {},
   "source": [
    "To construct the sparse matrix, one supplies just the entries that are\n",
    "nonzero. In the last line we call the function `sparseMatrix()` and supply the\n",
    "row indices corresponding to each document and the column indices\n",
    "corresponding to the words in each document.\n",
    "Words that appear more than once in any given document still get\n",
    "recorded as a one."
   ]
  },
  {
   "cell_type": "code",
   "execution_count": 10,
   "id": "afe2d077",
   "metadata": {},
   "outputs": [
    {
     "name": "stdout",
     "output_type": "stream",
     "text": [
      "(25000, 10000)\n",
      "0.013169872\n"
     ]
    }
   ],
   "source": [
    "x_train_1h = one_hot(x_train, 10000)\n",
    "x_test_1h = one_hot(x_test, 10000)\n",
    "print(x_train_1h.shape)\n",
    "print(x_train_1h.nnz / (25000 * 10000))"
   ]
  },
  {
   "cell_type": "markdown",
   "id": "ba9b8069",
   "metadata": {},
   "source": [
    "Only 1.3% of the entries are nonzero, so this amounts to considerable\n",
    "savings in memory.\n",
    "We create a validation set of size 2,000, leaving 23,000 for training."
   ]
  },
  {
   "cell_type": "code",
   "execution_count": 11,
   "id": "9bc80408-84f8-4aad-a0e5-11b9cf4e3635",
   "metadata": {},
   "outputs": [],
   "source": [
    "x_train_1h_v, x_val_1h, y_train_v, y_val = train_test_split(x_train_1h, y_train, test_size=2000)"
   ]
  },
  {
   "cell_type": "markdown",
   "id": "f8c1bd30",
   "metadata": {},
   "source": [
    "First we fit a lasso logistic regression model using Scikit-Learn\n",
    "on the training data, and evaluate its performance on the validation\n",
    "data. Finally, we plot the accuracy as a function of\n",
    "the shrinkage parameter, $\\lambda$. Similar expressions compute the\n",
    "performance on the test data, and were used to produce the left plot\n",
    "in Figure 10.11.\n",
    "\n",
    "The code  takes advantage of the sparse-matrix format of\n",
    "`x_train_1h`."
   ]
  },
  {
   "cell_type": "code",
   "execution_count": 35,
   "id": "40880258-4be3-474f-87ff-c5743bfbed90",
   "metadata": {},
   "outputs": [
    {
     "name": "stdout",
     "output_type": "stream",
     "text": [
      "CPU times: user 42.6 s, sys: 1.21 s, total: 43.9 s\n",
      "Wall time: 43.2 s\n"
     ]
    }
   ],
   "source": [
    "%%time\n",
    "from sklearn.svm import l1_min_c\n",
    "from sklearn.linear_model import LogisticRegression\n",
    "\n",
    "# C_min is 1/(N*alpha_max)\n",
    "alpha_max = 1/(l1_min_c(x_train_1h_v, y_train_v, loss='log')*len(y_train_v))\n",
    "alpha_min = 0.0001*alpha_max\n",
    "alpha_grid = np.geomspace(alpha_max, alpha_min, 100)\n",
    "c_grid = 1/(alpha_grid*len(y_train_v))\n",
    "\n",
    "clf = LogisticRegression(penalty=\"l1\", warm_start=True, solver=\"liblinear\", max_iter=1e6)\n",
    "\n",
    "acc_train = []\n",
    "acc_val = []\n",
    "acc_test = []\n",
    "for c in c_grid:\n",
    "    clf.set_params(C=c)\n",
    "    clf.fit(x_train_1h_v, y_train_v)\n",
    "    \n",
    "    preds_train = clf.predict(x_train_1h_v)\n",
    "    acc_train.append(accuracy_score(preds_train, y_train_v))\n",
    "    \n",
    "    preds_val = clf.predict(x_val_1h)\n",
    "    acc_val.append(accuracy_score(preds_val, y_val))\n",
    "    \n",
    "    preds_test = clf.predict(x_test_1h)\n",
    "    acc_test.append(accuracy_score(preds_test, y_test))"
   ]
  },
  {
   "cell_type": "code",
   "execution_count": 36,
   "id": "79217eae-7f90-48ee-b8a5-ec206302aad9",
   "metadata": {},
   "outputs": [
    {
     "data": {
      "image/png": "[encoded data removed]",
      "text/plain": [
       "<Figure size 432x288 with 1 Axes>"
      ]
     },
     "metadata": {
      "needs_background": "light"
     },
     "output_type": "display_data"
    }
   ],
   "source": [
    "plt.plot(-np.log(alpha_grid), acc_train, label='train')\n",
    "plt.plot(-np.log(alpha_grid), acc_val, label='validation')\n",
    "plt.plot(-np.log(alpha_grid), acc_test, label='test')\n",
    "plt.legend();"
   ]
  },
  {
   "cell_type": "markdown",
   "id": "644fbf89",
   "metadata": {},
   "source": [
    "Next we fit a fully-connected neural network with two hidden layers,\n",
    "each with 16 units and ReLU activation."
   ]
  },
  {
   "cell_type": "code",
   "execution_count": 39,
   "id": "523ef5b9-c671-4cd1-999c-ad01c00a5e09",
   "metadata": {},
   "outputs": [
    {
     "name": "stderr",
     "output_type": "stream",
     "text": [
      "/opt/homebrew/Caskroom/mambaforge/base/lib/python3.9/site-packages/tensorflow/python/framework/indexed_slices.py:444: UserWarning: Converting sparse IndexedSlices(IndexedSlices(indices=Tensor(\"gradient_tape/sequential_2/dense_6/embedding_lookup_sparse/Reshape_1:0\", shape=(None,), dtype=int32), values=Tensor(\"gradient_tape/sequential_2/dense_6/embedding_lookup_sparse/Reshape:0\", shape=(None, 16), dtype=float32), dense_shape=Tensor(\"gradient_tape/sequential_2/dense_6/embedding_lookup_sparse/Cast:0\", shape=(2,), dtype=int32))) to a dense Tensor of unknown shape. This may consume a large amount of memory.\n",
      "  warnings.warn(\n",
      "2022-11-15 14:44:45.554148: W tensorflow/core/platform/profile_utils/cpu_utils.cc:128] Failed to get CPU frequency: 0 Hz\n",
      "2022-11-15 14:44:45.554526: I tensorflow/core/grappler/optimizers/custom_graph_optimizer_registry.cc:114] Plugin optimizer for device_type GPU is enabled.\n",
      "2022-11-15 14:44:49.605203: I tensorflow/core/grappler/optimizers/custom_graph_optimizer_registry.cc:114] Plugin optimizer for device_type GPU is enabled.\n"
     ]
    }
   ],
   "source": [
    "model = keras.Sequential([\n",
    "    layers.Dense(units=16, activation='relu', input_shape=(10000,)),\n",
    "    layers.Dense(units=16, activation='relu'),\n",
    "    layers.Dense(units=1, activation='sigmoid')\n",
    "])\n",
    "\n",
    "model.compile(optimizer=\"rmsprop\", loss=\"binary_crossentropy\", metrics=[\"accuracy\"])\n",
    "\n",
    "history = model.fit(x_train_1h_v, y_train_v, epochs=20, batch_size=512,\n",
    "                      validation_data=(x_val_1h, y_val), verbose=False)"
   ]
  },
  {
   "cell_type": "code",
   "execution_count": 40,
   "id": "c2ece026-0be8-423c-b146-3fd1cac1ed89",
   "metadata": {},
   "outputs": [
    {
     "data": {
      "image/png": "[encoded data removed]",
      "text/plain": [
       "<Figure size 432x288 with 1 Axes>"
      ]
     },
     "metadata": {
      "needs_background": "light"
     },
     "output_type": "display_data"
    }
   ],
   "source": [
    "pd.DataFrame(history.history)[['accuracy', 'val_accuracy']].plot();"
   ]
  },
  {
   "cell_type": "markdown",
   "id": "34faece4-ceac-4e61-9cfc-79b498921169",
   "metadata": {},
   "source": [
    "The `history` object has a `metrics` component that\n",
    "records both the training and validation accuracy at each epoch.\n",
    "Figure 10.11 includes test accuracy at each epoch as well. To\n",
    "compute the test accuracy, we\n",
    "rerun the entire sequence above, replacing the last line with"
   ]
  },
  {
   "cell_type": "code",
   "execution_count": null,
   "id": "2dcde1d5-acc7-4f43-ac61-b46425756bd6",
   "metadata": {},
   "outputs": [],
   "source": [
    "history = modelnn.fit(x_train_1h_v, y_train_v, epochs=20, batch_size=512,\n",
    "                      validation_data=(x_test_1h, y_test), verbose=False)"
   ]
  },
  {
   "cell_type": "markdown",
   "id": "a0d40fa5",
   "metadata": {},
   "source": [
    "## Recurrent Neural Networks\n",
    "\n",
    "In this lab we fit the models illustrated in\n",
    "Section 10.5.\n",
    "\n",
    "### Sequential Models for Document Classification"
   ]
  },
  {
   "cell_type": "markdown",
   "id": "df597369",
   "metadata": {},
   "source": [
    "Here we  fit a simple  LSTM RNN for sentiment analysis with\n",
    "the `IMDB` movie-review data, as discussed in Section 10.5.1. We showed how to input the data in\n",
    "10.9.5, so we will not repeat that here.\n",
    "\n",
    "We first calculate the lengths of the documents.\n"
   ]
  },
  {
   "cell_type": "code",
   "execution_count": 4,
   "id": "9a478a46-86f2-4553-adb0-2e75c635dec6",
   "metadata": {},
   "outputs": [
    {
     "name": "stdout",
     "output_type": "stream",
     "text": [
      "178.0\n"
     ]
    },
    {
     "data": {
      "text/plain": [
       "0.91568"
      ]
     },
     "execution_count": 4,
     "metadata": {},
     "output_type": "execute_result"
    }
   ],
   "source": [
    "wc = np.array([len(x) for x in x_train])\n",
    "print(np.percentile(wc, 50))\n",
    "np.sum(wc <= 500) / len(wc)"
   ]
  },
  {
   "cell_type": "markdown",
   "id": "513126a7",
   "metadata": {},
   "source": [
    "We see that over 91% of the documents have fewer than 500 words. Our\n",
    "RNN requires all the document sequences to have the same length. We hence\n",
    "restrict the document lengths to the last $L=500$ words, and pad the\n",
    "beginning of the\n",
    "shorter ones with blanks."
   ]
  },
  {
   "cell_type": "code",
   "execution_count": 5,
   "id": "55a98055-5723-4b7d-bcc9-3e054ff05a50",
   "metadata": {},
   "outputs": [
    {
     "name": "stdout",
     "output_type": "stream",
     "text": [
      "(25000, 500)\n",
      "(25000, 500)\n"
     ]
    },
    {
     "data": {
      "text/plain": [
       "array([  16, 4472,  113,  103,   32,   15,   16, 5345,   19,  178,   32],\n",
       "      dtype=int32)"
      ]
     },
     "execution_count": 5,
     "metadata": {},
     "output_type": "execute_result"
    }
   ],
   "source": [
    "maxlen = 500\n",
    "x_train = keras.utils.pad_sequences(x_train, maxlen=maxlen)\n",
    "x_test = keras.utils.pad_sequences(x_test, maxlen=maxlen)\n",
    "print(x_train.shape)\n",
    "print(x_test.shape)\n",
    "x_train[0, 489:500]"
   ]
  },
  {
   "cell_type": "markdown",
   "id": "f1267492",
   "metadata": {},
   "source": [
    "The last expression shows the last few words in the first document. At this stage, each of the 500 words in the document  is represented using an integer\n",
    "corresponding to the location of that word in the 10,000-word dictionary.\n",
    "The first layer of the RNN is an embedding layer of size 32, which will be\n",
    "learned during  training. This layer one-hot encodes  each document\n",
    "as a matrix of dimension $500 \\times 10,000$, and then maps these\n",
    "$10,000$ dimensions down to $32$."
   ]
  },
  {
   "cell_type": "code",
   "execution_count": 6,
   "id": "d65d4aa5-8f7d-49fe-9d00-43869ad91690",
   "metadata": {},
   "outputs": [
    {
     "name": "stdout",
     "output_type": "stream",
     "text": [
      "Metal device set to: Apple M1 Pro\n"
     ]
    },
    {
     "name": "stderr",
     "output_type": "stream",
     "text": [
      "2022-11-15 16:20:27.156523: I tensorflow/core/common_runtime/pluggable_device/pluggable_device_factory.cc:306] Could not identify NUMA node of platform GPU ID 0, defaulting to 0. Your kernel may not have been built with NUMA support.\n",
      "2022-11-15 16:20:27.156770: I tensorflow/core/common_runtime/pluggable_device/pluggable_device_factory.cc:272] Created TensorFlow device (/job:localhost/replica:0/task:0/device:GPU:0 with 0 MB memory) -> physical PluggableDevice (device: 0, name: METAL, pci bus id: <undefined>)\n"
     ]
    }
   ],
   "source": [
    "model = keras.Sequential([\n",
    "    layers.Embedding(input_dim=10000, output_dim=32),\n",
    "    layers.LSTM(units=32),\n",
    "    layers.Dense(units=1, activation='sigmoid')\n",
    "])"
   ]
  },
  {
   "cell_type": "markdown",
   "id": "ca3cf79b",
   "metadata": {},
   "source": [
    "The second  layer is an LSTM with 32 units, and the output\n",
    "layer is a single sigmoid for the binary classification task.\n",
    "\n",
    "The rest is now similar to other networks we have fit. We\n",
    "track the test performance as the network is fit, and see that it attains 87\\% accuracy."
   ]
  },
  {
   "cell_type": "code",
   "execution_count": 16,
   "id": "0af7ac00-78d2-4530-a89a-e2b0749b7819",
   "metadata": {},
   "outputs": [
    {
     "name": "stdout",
     "output_type": "stream",
     "text": [
      "Epoch 1/3\n"
     ]
    },
    {
     "name": "stderr",
     "output_type": "stream",
     "text": [
      "2022-11-15 16:33:05.077443: I tensorflow/core/grappler/optimizers/custom_graph_optimizer_registry.cc:114] Plugin optimizer for device_type GPU is enabled.\n",
      "2022-11-15 16:33:05.212271: I tensorflow/core/grappler/optimizers/custom_graph_optimizer_registry.cc:114] Plugin optimizer for device_type GPU is enabled.\n",
      "2022-11-15 16:33:06.395935: I tensorflow/core/grappler/optimizers/custom_graph_optimizer_registry.cc:114] Plugin optimizer for device_type GPU is enabled.\n"
     ]
    },
    {
     "name": "stdout",
     "output_type": "stream",
     "text": [
      "196/196 [==============================] - ETA: 0s - loss: 0.1507 - acc: 0.9481"
     ]
    },
    {
     "name": "stderr",
     "output_type": "stream",
     "text": [
      "2022-11-15 16:33:54.334091: I tensorflow/core/grappler/optimizers/custom_graph_optimizer_registry.cc:114] Plugin optimizer for device_type GPU is enabled.\n",
      "2022-11-15 16:33:54.384311: I tensorflow/core/grappler/optimizers/custom_graph_optimizer_registry.cc:114] Plugin optimizer for device_type GPU is enabled.\n"
     ]
    },
    {
     "name": "stdout",
     "output_type": "stream",
     "text": [
      "196/196 [==============================] - 66s 309ms/step - loss: 0.1507 - acc: 0.9481 - val_loss: 0.3651 - val_acc: 0.8668\n",
      "Epoch 2/3\n",
      "196/196 [==============================] - 53s 272ms/step - loss: 0.1407 - acc: 0.9528 - val_loss: 0.6978 - val_acc: 0.7969\n",
      "Epoch 3/3\n",
      "196/196 [==============================] - 53s 271ms/step - loss: 0.1357 - acc: 0.9539 - val_loss: 0.3750 - val_acc: 0.8636\n"
     ]
    }
   ],
   "source": [
    "model.compile(optimizer=\"rmsprop\", loss=\"binary_crossentropy\", metrics=[\"acc\"])\n",
    "history = model.fit(x_train, y_train, epochs=3, batch_size=128, validation_data=(x_test, y_test))"
   ]
  },
  {
   "cell_type": "code",
   "execution_count": 17,
   "id": "7559d2f4-b5c6-4160-8b14-a4137fa340f5",
   "metadata": {},
   "outputs": [
    {
     "data": {
      "image/png": "[encoded data removed]",
      "text/plain": [
       "<Figure size 432x288 with 1 Axes>"
      ]
     },
     "metadata": {
      "needs_background": "light"
     },
     "output_type": "display_data"
    }
   ],
   "source": [
    "pd.DataFrame(history.history)[['acc', 'val_acc']].plot();"
   ]
  },
  {
   "cell_type": "code",
   "execution_count": 24,
   "id": "3dca1afe-bf29-46b5-8556-288fce66977c",
   "metadata": {},
   "outputs": [
    {
     "name": "stdout",
     "output_type": "stream",
     "text": [
      "196/196 [==============================] - 16s 75ms/step\n"
     ]
    }
   ],
   "source": [
    "predy = model.predict(x_test, batch_size=128)"
   ]
  },
  {
   "cell_type": "code",
   "execution_count": 25,
   "id": "c64ae3a3-d925-4598-b0f1-5e4f98aa78e3",
   "metadata": {},
   "outputs": [
    {
     "data": {
      "text/plain": [
       "0.86364"
      ]
     },
     "execution_count": 25,
     "metadata": {},
     "output_type": "execute_result"
    }
   ],
   "source": [
    "((predy > 0.5).astype(int) == y_test[:, None]).mean()"
   ]
  },
  {
   "cell_type": "markdown",
   "id": "85863d99",
   "metadata": {},
   "source": [
    "###  Time Series Prediction\n",
    "\n",
    "We now show how to fit the models in Section 10.5.2\n",
    "for  time series prediction.\n",
    "We first set up the data, and standardize each of the variables."
   ]
  },
  {
   "cell_type": "code",
   "execution_count": 3,
   "id": "ad067266-7df1-4d6e-aade-90c3b9424fb8",
   "metadata": {},
   "outputs": [],
   "source": [
    "from sklearn.preprocessing import scale"
   ]
  },
  {
   "cell_type": "code",
   "execution_count": 70,
   "id": "5fac310a-0fb1-48f8-bd6d-663fdfc3f83d",
   "metadata": {},
   "outputs": [],
   "source": [
    "NYSE = pd.read_csv('data/NYSE.csv')\n",
    "xdata = NYSE[[\"DJ_return\", \"log_volume\",\"log_volatility\"]]\n",
    "istrain = NYSE['train'].values\n",
    "xdata = pd.DataFrame(scale(xdata), columns=xdata.columns)"
   ]
  },
  {
   "cell_type": "markdown",
   "id": "c0c14da6",
   "metadata": {},
   "source": [
    "The  variable `istrain` contains a `TRUE` for each year that  is in the training set, and a `FALSE` for each year\n",
    " in the test set.\n",
    "\n",
    "We first write functions to create lagged versions of the three time series.  We start with a function that takes as input a data\n",
    "matrix and a lag $L$, and returns a lagged version of the matrix. It\n",
    "simply inserts $L$ rows of `NA` at the top, and truncates the\n",
    "bottom."
   ]
  },
  {
   "cell_type": "code",
   "execution_count": 71,
   "id": "86b441ba-01cb-469e-b271-40cc6fc15cec",
   "metadata": {},
   "outputs": [],
   "source": [
    "def lagm(x, k=1):\n",
    "    col_names = [f'L{k}_{c}' for c in x.columns]\n",
    "    x = x.values.copy()\n",
    "    n = x.shape[0]\n",
    "    lagged = np.full_like(x, np.nan, dtype=float)\n",
    "    lagged[k:] = x[:-k, :]\n",
    "    return pd.DataFrame(lagged, columns=col_names)"
   ]
  },
  {
   "cell_type": "markdown",
   "id": "30c02099",
   "metadata": {},
   "source": [
    "We now use this function to create a data frame with all the required\n",
    "lags, as well as the response variable."
   ]
  },
  {
   "cell_type": "code",
   "execution_count": 74,
   "id": "79f23d3b-573f-41b5-a61d-4a8c7a9208ee",
   "metadata": {},
   "outputs": [
    {
     "data": {
      "text/html": [
       "<div>\n",
       "<style scoped>\n",
       "    .dataframe tbody tr th:only-of-type {\n",
       "        vertical-align: middle;\n",
       "    }\n",
       "\n",
       "    .dataframe tbody tr th {\n",
       "        vertical-align: top;\n",
       "    }\n",
       "\n",
       "    .dataframe thead th {\n",
       "        text-align: right;\n",
       "    }\n",
       "</style>\n",
       "<table border=\"1\" class=\"dataframe\">\n",
       "  <thead>\n",
       "    <tr style=\"text-align: right;\">\n",
       "      <th></th>\n",
       "      <th>log_volume</th>\n",
       "      <th>L1_DJ_return</th>\n",
       "      <th>L1_log_volume</th>\n",
       "      <th>L1_log_volatility</th>\n",
       "      <th>L2_DJ_return</th>\n",
       "      <th>L2_log_volume</th>\n",
       "      <th>L2_log_volatility</th>\n",
       "      <th>L3_DJ_return</th>\n",
       "      <th>L3_log_volume</th>\n",
       "      <th>L3_log_volatility</th>\n",
       "      <th>L4_DJ_return</th>\n",
       "      <th>L4_log_volume</th>\n",
       "      <th>L4_log_volatility</th>\n",
       "      <th>L5_DJ_return</th>\n",
       "      <th>L5_log_volume</th>\n",
       "      <th>L5_log_volatility</th>\n",
       "    </tr>\n",
       "  </thead>\n",
       "  <tbody>\n",
       "    <tr>\n",
       "      <th>0</th>\n",
       "      <td>0.175075</td>\n",
       "      <td>NaN</td>\n",
       "      <td>NaN</td>\n",
       "      <td>NaN</td>\n",
       "      <td>NaN</td>\n",
       "      <td>NaN</td>\n",
       "      <td>NaN</td>\n",
       "      <td>NaN</td>\n",
       "      <td>NaN</td>\n",
       "      <td>NaN</td>\n",
       "      <td>NaN</td>\n",
       "      <td>NaN</td>\n",
       "      <td>NaN</td>\n",
       "      <td>NaN</td>\n",
       "      <td>NaN</td>\n",
       "      <td>NaN</td>\n",
       "    </tr>\n",
       "    <tr>\n",
       "      <th>1</th>\n",
       "      <td>1.517291</td>\n",
       "      <td>-0.549823</td>\n",
       "      <td>0.175075</td>\n",
       "      <td>-4.357078</td>\n",
       "      <td>NaN</td>\n",
       "      <td>NaN</td>\n",
       "      <td>NaN</td>\n",
       "      <td>NaN</td>\n",
       "      <td>NaN</td>\n",
       "      <td>NaN</td>\n",
       "      <td>NaN</td>\n",
       "      <td>NaN</td>\n",
       "      <td>NaN</td>\n",
       "      <td>NaN</td>\n",
       "      <td>NaN</td>\n",
       "      <td>NaN</td>\n",
       "    </tr>\n",
       "    <tr>\n",
       "      <th>2</th>\n",
       "      <td>2.283789</td>\n",
       "      <td>0.905200</td>\n",
       "      <td>1.517291</td>\n",
       "      <td>-2.529058</td>\n",
       "      <td>-0.549823</td>\n",
       "      <td>0.175075</td>\n",
       "      <td>-4.357078</td>\n",
       "      <td>NaN</td>\n",
       "      <td>NaN</td>\n",
       "      <td>NaN</td>\n",
       "      <td>NaN</td>\n",
       "      <td>NaN</td>\n",
       "      <td>NaN</td>\n",
       "      <td>NaN</td>\n",
       "      <td>NaN</td>\n",
       "      <td>NaN</td>\n",
       "    </tr>\n",
       "    <tr>\n",
       "      <th>3</th>\n",
       "      <td>0.935176</td>\n",
       "      <td>0.434813</td>\n",
       "      <td>2.283789</td>\n",
       "      <td>-2.418037</td>\n",
       "      <td>0.905200</td>\n",
       "      <td>1.517291</td>\n",
       "      <td>-2.529058</td>\n",
       "      <td>-0.549823</td>\n",
       "      <td>0.175075</td>\n",
       "      <td>-4.357078</td>\n",
       "      <td>NaN</td>\n",
       "      <td>NaN</td>\n",
       "      <td>NaN</td>\n",
       "      <td>NaN</td>\n",
       "      <td>NaN</td>\n",
       "      <td>NaN</td>\n",
       "    </tr>\n",
       "    <tr>\n",
       "      <th>4</th>\n",
       "      <td>0.224779</td>\n",
       "      <td>-0.431397</td>\n",
       "      <td>0.935176</td>\n",
       "      <td>-2.366521</td>\n",
       "      <td>0.434813</td>\n",
       "      <td>2.283789</td>\n",
       "      <td>-2.418037</td>\n",
       "      <td>0.905200</td>\n",
       "      <td>1.517291</td>\n",
       "      <td>-2.529058</td>\n",
       "      <td>-0.549823</td>\n",
       "      <td>0.175075</td>\n",
       "      <td>-4.357078</td>\n",
       "      <td>NaN</td>\n",
       "      <td>NaN</td>\n",
       "      <td>NaN</td>\n",
       "    </tr>\n",
       "  </tbody>\n",
       "</table>\n",
       "</div>"
      ],
      "text/plain": [
       "   log_volume  L1_DJ_return  L1_log_volume  L1_log_volatility  L2_DJ_return  \\\n",
       "0    0.175075           NaN            NaN                NaN           NaN   \n",
       "1    1.517291     -0.549823       0.175075          -4.357078           NaN   \n",
       "2    2.283789      0.905200       1.517291          -2.529058     -0.549823   \n",
       "3    0.935176      0.434813       2.283789          -2.418037      0.905200   \n",
       "4    0.224779     -0.431397       0.935176          -2.366521      0.434813   \n",
       "\n",
       "   L2_log_volume  L2_log_volatility  L3_DJ_return  L3_log_volume  \\\n",
       "0            NaN                NaN           NaN            NaN   \n",
       "1            NaN                NaN           NaN            NaN   \n",
       "2       0.175075          -4.357078           NaN            NaN   \n",
       "3       1.517291          -2.529058     -0.549823       0.175075   \n",
       "4       2.283789          -2.418037      0.905200       1.517291   \n",
       "\n",
       "   L3_log_volatility  L4_DJ_return  L4_log_volume  L4_log_volatility  \\\n",
       "0                NaN           NaN            NaN                NaN   \n",
       "1                NaN           NaN            NaN                NaN   \n",
       "2                NaN           NaN            NaN                NaN   \n",
       "3          -4.357078           NaN            NaN                NaN   \n",
       "4          -2.529058     -0.549823       0.175075          -4.357078   \n",
       "\n",
       "   L5_DJ_return  L5_log_volume  L5_log_volatility  \n",
       "0           NaN            NaN                NaN  \n",
       "1           NaN            NaN                NaN  \n",
       "2           NaN            NaN                NaN  \n",
       "3           NaN            NaN                NaN  \n",
       "4           NaN            NaN                NaN  "
      ]
     },
     "execution_count": 74,
     "metadata": {},
     "output_type": "execute_result"
    }
   ],
   "source": [
    "arframe = pd.concat([\n",
    "    xdata[['log_volume']],\n",
    "    lagm(xdata, 1),\n",
    "    lagm(xdata, 2),\n",
    "    lagm(xdata, 3),\n",
    "    lagm(xdata, 4),\n",
    "    lagm(xdata, 5)\n",
    "], axis=1)\n",
    "arframe.head()"
   ]
  },
  {
   "cell_type": "markdown",
   "id": "3823ee34",
   "metadata": {},
   "source": [
    "If we look at the first five rows of this frame, we will see some\n",
    "missing values in the lagged variables (due to the construction above). We remove these rows, and adjust `istrain`\n",
    "accordingly."
   ]
  },
  {
   "cell_type": "code",
   "execution_count": 76,
   "id": "74acd000",
   "metadata": {},
   "outputs": [],
   "source": [
    "arframe = arframe.iloc[5:]\n",
    "istrain = istrain[5:]"
   ]
  },
  {
   "cell_type": "markdown",
   "id": "2f93ef80",
   "metadata": {},
   "source": [
    "We now fit the linear AR model to the training data using `lm()`, and predict on the\n",
    "test data."
   ]
  },
  {
   "cell_type": "code",
   "execution_count": 120,
   "id": "667623f8-4612-474c-9840-b0ed7d38ceac",
   "metadata": {},
   "outputs": [
    {
     "data": {
      "text/plain": [
       "0.4128912938562521"
      ]
     },
     "execution_count": 120,
     "metadata": {},
     "output_type": "execute_result"
    }
   ],
   "source": [
    "X_train = arframe[istrain].drop(columns='log_volume')\n",
    "y_train = arframe[istrain]['log_volume']\n",
    "X_test = arframe[~istrain].drop(columns='log_volume')\n",
    "y_test = arframe[~istrain]['log_volume']\n",
    "\n",
    "arfit = LinearRegression().fit(X_train, y_train)\n",
    "arpred = arfit.predict(X_test)\n",
    "arfit.score(X_test, y_test)"
   ]
  },
  {
   "cell_type": "markdown",
   "id": "43b96f6a",
   "metadata": {},
   "source": [
    "The last line compute the $R^2$ on the test data.\n",
    "\n",
    "We refit this model, including the factor variable `day_of_week`."
   ]
  },
  {
   "cell_type": "code",
   "execution_count": 122,
   "id": "8be55d7f-113a-493b-8228-06d4889a9a7b",
   "metadata": {},
   "outputs": [
    {
     "data": {
      "text/plain": [
       "0.45955631330532765"
      ]
     },
     "execution_count": 122,
     "metadata": {},
     "output_type": "execute_result"
    }
   ],
   "source": [
    "day_df = pd.get_dummies(NYSE[['day_of_week']], drop_first=True).iloc[5:].set_index(arframe.index)\n",
    "arframed = pd.concat([arframe, day_df], axis=1)\n",
    "\n",
    "X_train = arframed[istrain].drop(columns='log_volume')\n",
    "y_train = arframed[istrain]['log_volume']\n",
    "X_test = arframed[~istrain].drop(columns='log_volume')\n",
    "y_test = arframed[~istrain]['log_volume']\n",
    "\n",
    "arfitd = LinearRegression().fit(X_train, y_train)\n",
    "arpredd = arfitd.predict(X_test)\n",
    "arfitd.score(X_test, y_test)"
   ]
  },
  {
   "cell_type": "markdown",
   "id": "88b90c6d",
   "metadata": {},
   "source": [
    "To fit the RNN, we need to reshape these data, since it expects a\n",
    "sequence of $L=5$ feature vectors $X=\\{X_\\ell\\}_1^L$ for each observation, as in (10.20) on\n",
    "page  428. These are  lagged versions of the\n",
    "time series going back $L$ time points."
   ]
  },
  {
   "cell_type": "code",
   "execution_count": 141,
   "id": "e780e17f-fd03-4fc9-b1d4-6daa8994fa89",
   "metadata": {},
   "outputs": [
    {
     "data": {
      "text/plain": [
       "(6046, 5, 3)"
      ]
     },
     "execution_count": 141,
     "metadata": {},
     "output_type": "execute_result"
    }
   ],
   "source": [
    "n = len(arframe)\n",
    "xrnn = arframe.values[:, 1:].copy()\n",
    "xrnn = xrnn.reshape((n, 5, 3))\n",
    "xrnn = np.flip(xrnn, axis=1)\n",
    "xrnn.shape"
   ]
  },
  {
   "cell_type": "markdown",
   "id": "e263b013",
   "metadata": {},
   "source": [
    "We have done this in three steps. The first simply extracts the\n",
    "$n\\times 15$ matrix of lagged versions of the three predictor\n",
    "variables from `arframe`. The second converts this matrix to a\n",
    "$n\\times 5\\times 3$ array. The third step reverses the order of lagged variables, so that index $0$\n",
    "is furthest back in time, and index $4$ closest.\n",
    "\n",
    "Now we are ready to proceed with the RNN, which uses 12 hidden units."
   ]
  },
  {
   "cell_type": "code",
   "execution_count": 142,
   "id": "ad575de1-03e1-48cb-9a2d-d6dc298a3237",
   "metadata": {},
   "outputs": [
    {
     "name": "stdout",
     "output_type": "stream",
     "text": [
      "Metal device set to: Apple M1 Pro\n"
     ]
    },
    {
     "name": "stderr",
     "output_type": "stream",
     "text": [
      "2022-11-16 11:00:21.047026: I tensorflow/core/common_runtime/pluggable_device/pluggable_device_factory.cc:306] Could not identify NUMA node of platform GPU ID 0, defaulting to 0. Your kernel may not have been built with NUMA support.\n",
      "2022-11-16 11:00:21.047366: I tensorflow/core/common_runtime/pluggable_device/pluggable_device_factory.cc:272] Created TensorFlow device (/job:localhost/replica:0/task:0/device:GPU:0 with 0 MB memory) -> physical PluggableDevice (device: 0, name: METAL, pci bus id: <undefined>)\n"
     ]
    }
   ],
   "source": [
    "model = keras.Sequential([\n",
    "    layers.SimpleRNN(units=12, input_shape=(5, 3), dropout=0.1, recurrent_dropout=0.1),\n",
    "    layers.Dense(units=1)\n",
    "])\n",
    "\n",
    "model.compile(optimizer='rmsprop', loss='mse')"
   ]
  },
  {
   "cell_type": "markdown",
   "id": "4e5a9590",
   "metadata": {},
   "source": [
    "We specify two forms of dropout for the units feeding into the  hidden\n",
    " layer. The first is for\n",
    "the input sequence feeding into this layer, and the second is for the\n",
    "previous hidden units feeding into the layer.\n",
    "The output layer has a single unit for the response."
   ]
  },
  {
   "cell_type": "markdown",
   "id": "101e2d32",
   "metadata": {},
   "source": [
    "We  fit the model in a similar fashion to previous networks. We\n",
    "supply the `fit` function with test data as validation data, so that when\n",
    "we monitor its progress and plot the history function we can see the\n",
    "progress on the test data. Of course we should not use this as a basis for\n",
    "early stopping, since then the test performance would be biased.\n"
   ]
  },
  {
   "cell_type": "code",
   "execution_count": 145,
   "id": "42970f72-f4d9-4dd7-9b95-ccf0df93859f",
   "metadata": {},
   "outputs": [
    {
     "data": {
      "text/plain": [
       "array([[-0.5092772 ],\n",
       "       [ 0.34618524],\n",
       "       [ 0.43375787],\n",
       "       ...,\n",
       "       [-1.1524459 ],\n",
       "       [-1.1723648 ],\n",
       "       [-1.0881433 ]], dtype=float32)"
      ]
     },
     "execution_count": 145,
     "metadata": {},
     "output_type": "execute_result"
    }
   ],
   "source": [
    "kpred"
   ]
  },
  {
   "cell_type": "code",
   "execution_count": 146,
   "id": "2dbe6800-55ab-4323-bc4e-a61cfbce945c",
   "metadata": {},
   "outputs": [
    {
     "data": {
      "text/plain": [
       "0.4136206539716858"
      ]
     },
     "execution_count": 146,
     "metadata": {},
     "output_type": "execute_result"
    }
   ],
   "source": [
    "1 - np.mean((kpred.ravel() - y_val)**2) / np.var(y_val, ddof=1)"
   ]
  },
  {
   "cell_type": "code",
   "execution_count": 147,
   "id": "d10d4154-c66a-4bc5-8320-c5e53e9d0100",
   "metadata": {},
   "outputs": [
    {
     "name": "stdout",
     "output_type": "stream",
     "text": [
      "Epoch 1/200\n",
      "67/67 [==============================] - 2s 29ms/step - loss: 0.4551 - val_loss: 0.6173\n",
      "Epoch 2/200\n",
      "67/67 [==============================] - 2s 28ms/step - loss: 0.4606 - val_loss: 0.6242\n",
      "Epoch 3/200\n",
      "67/67 [==============================] - 2s 28ms/step - loss: 0.4506 - val_loss: 0.6196\n",
      "Epoch 4/200\n",
      "67/67 [==============================] - 2s 28ms/step - loss: 0.4515 - val_loss: 0.6176\n",
      "Epoch 5/200\n",
      "67/67 [==============================] - 2s 28ms/step - loss: 0.4504 - val_loss: 0.6237\n",
      "Epoch 6/200\n",
      "67/67 [==============================] - 2s 28ms/step - loss: 0.4483 - val_loss: 0.6156\n",
      "Epoch 7/200\n",
      "67/67 [==============================] - 2s 28ms/step - loss: 0.4559 - val_loss: 0.6205\n",
      "Epoch 8/200\n",
      "67/67 [==============================] - 2s 28ms/step - loss: 0.4572 - val_loss: 0.6195\n",
      "Epoch 9/200\n",
      "67/67 [==============================] - 2s 28ms/step - loss: 0.4560 - val_loss: 0.6205\n",
      "Epoch 10/200\n",
      "67/67 [==============================] - 2s 29ms/step - loss: 0.4620 - val_loss: 0.6241\n",
      "Epoch 11/200\n",
      "67/67 [==============================] - 2s 28ms/step - loss: 0.4541 - val_loss: 0.6192\n",
      "Epoch 12/200\n",
      "67/67 [==============================] - 2s 28ms/step - loss: 0.4525 - val_loss: 0.6194\n",
      "Epoch 13/200\n",
      "67/67 [==============================] - 2s 28ms/step - loss: 0.4553 - val_loss: 0.6182\n",
      "Epoch 14/200\n",
      "67/67 [==============================] - 2s 28ms/step - loss: 0.4538 - val_loss: 0.6192\n",
      "Epoch 15/200\n",
      "67/67 [==============================] - 2s 28ms/step - loss: 0.4547 - val_loss: 0.6226\n",
      "Epoch 16/200\n",
      "67/67 [==============================] - 2s 28ms/step - loss: 0.4507 - val_loss: 0.6216\n",
      "Epoch 17/200\n",
      "67/67 [==============================] - 2s 29ms/step - loss: 0.4558 - val_loss: 0.6183\n",
      "Epoch 18/200\n",
      "67/67 [==============================] - 2s 29ms/step - loss: 0.4501 - val_loss: 0.6277\n",
      "Epoch 19/200\n",
      "67/67 [==============================] - 2s 28ms/step - loss: 0.4549 - val_loss: 0.6155\n",
      "Epoch 20/200\n",
      "67/67 [==============================] - 2s 28ms/step - loss: 0.4553 - val_loss: 0.6217\n",
      "Epoch 21/200\n",
      "67/67 [==============================] - 2s 28ms/step - loss: 0.4714 - val_loss: 0.6258\n",
      "Epoch 22/200\n",
      "67/67 [==============================] - 2s 28ms/step - loss: 0.4529 - val_loss: 0.6200\n",
      "Epoch 23/200\n",
      "67/67 [==============================] - 2s 28ms/step - loss: 0.4547 - val_loss: 0.6149\n",
      "Epoch 24/200\n",
      "67/67 [==============================] - 2s 28ms/step - loss: 0.4543 - val_loss: 0.6221\n",
      "Epoch 25/200\n",
      "67/67 [==============================] - 2s 29ms/step - loss: 0.4605 - val_loss: 0.6183\n",
      "Epoch 26/200\n",
      "67/67 [==============================] - 2s 28ms/step - loss: 0.4630 - val_loss: 0.6222\n",
      "Epoch 27/200\n",
      "67/67 [==============================] - 2s 28ms/step - loss: 0.4514 - val_loss: 0.6199\n",
      "Epoch 28/200\n",
      "67/67 [==============================] - 2s 28ms/step - loss: 0.4470 - val_loss: 0.6226\n",
      "Epoch 29/200\n",
      "67/67 [==============================] - 2s 29ms/step - loss: 0.4500 - val_loss: 0.6201\n",
      "Epoch 30/200\n",
      "67/67 [==============================] - 2s 29ms/step - loss: 0.4563 - val_loss: 0.6175\n",
      "Epoch 31/200\n",
      "67/67 [==============================] - 2s 28ms/step - loss: 0.4573 - val_loss: 0.6219\n",
      "Epoch 32/200\n",
      "67/67 [==============================] - 2s 28ms/step - loss: 0.4631 - val_loss: 0.6282\n",
      "Epoch 33/200\n",
      "67/67 [==============================] - 2s 28ms/step - loss: 0.4495 - val_loss: 0.6224\n",
      "Epoch 34/200\n",
      "67/67 [==============================] - 2s 28ms/step - loss: 0.4645 - val_loss: 0.6174\n",
      "Epoch 35/200\n",
      "67/67 [==============================] - 2s 28ms/step - loss: 0.4620 - val_loss: 0.6165\n",
      "Epoch 36/200\n",
      "67/67 [==============================] - 2s 28ms/step - loss: 0.4534 - val_loss: 0.6224\n",
      "Epoch 37/200\n",
      "67/67 [==============================] - 2s 28ms/step - loss: 0.4565 - val_loss: 0.6179\n",
      "Epoch 38/200\n",
      "67/67 [==============================] - 2s 28ms/step - loss: 0.4484 - val_loss: 0.6155\n",
      "Epoch 39/200\n",
      "67/67 [==============================] - 2s 30ms/step - loss: 0.4588 - val_loss: 0.6193\n",
      "Epoch 40/200\n",
      "67/67 [==============================] - 2s 28ms/step - loss: 0.4594 - val_loss: 0.6205\n",
      "Epoch 41/200\n",
      "67/67 [==============================] - 2s 28ms/step - loss: 0.4504 - val_loss: 0.6180\n",
      "Epoch 42/200\n",
      "67/67 [==============================] - 2s 28ms/step - loss: 0.4502 - val_loss: 0.6177\n",
      "Epoch 43/200\n",
      "67/67 [==============================] - 2s 28ms/step - loss: 0.4421 - val_loss: 0.6148\n",
      "Epoch 44/200\n",
      "67/67 [==============================] - 2s 28ms/step - loss: 0.4499 - val_loss: 0.6263\n",
      "Epoch 45/200\n",
      "67/67 [==============================] - 2s 28ms/step - loss: 0.4546 - val_loss: 0.6224\n",
      "Epoch 46/200\n",
      "67/67 [==============================] - 2s 28ms/step - loss: 0.4506 - val_loss: 0.6148\n",
      "Epoch 47/200\n",
      "67/67 [==============================] - 2s 29ms/step - loss: 0.4492 - val_loss: 0.6228\n",
      "Epoch 48/200\n",
      "67/67 [==============================] - 2s 28ms/step - loss: 0.4465 - val_loss: 0.6180\n",
      "Epoch 49/200\n",
      "67/67 [==============================] - 2s 28ms/step - loss: 0.4543 - val_loss: 0.6168\n",
      "Epoch 50/200\n",
      "67/67 [==============================] - 2s 28ms/step - loss: 0.4577 - val_loss: 0.6219\n",
      "Epoch 51/200\n",
      "67/67 [==============================] - 2s 28ms/step - loss: 0.4533 - val_loss: 0.6217\n",
      "Epoch 52/200\n",
      "67/67 [==============================] - 2s 28ms/step - loss: 0.4549 - val_loss: 0.6250\n",
      "Epoch 53/200\n",
      "67/67 [==============================] - 2s 28ms/step - loss: 0.4470 - val_loss: 0.6153\n",
      "Epoch 54/200\n",
      "67/67 [==============================] - 2s 29ms/step - loss: 0.4520 - val_loss: 0.6191\n",
      "Epoch 55/200\n",
      "67/67 [==============================] - 2s 28ms/step - loss: 0.4548 - val_loss: 0.6159\n",
      "Epoch 56/200\n",
      "67/67 [==============================] - 2s 28ms/step - loss: 0.4501 - val_loss: 0.6192\n",
      "Epoch 57/200\n",
      "67/67 [==============================] - 2s 28ms/step - loss: 0.4469 - val_loss: 0.6177\n",
      "Epoch 58/200\n",
      "67/67 [==============================] - 2s 28ms/step - loss: 0.4526 - val_loss: 0.6179\n",
      "Epoch 59/200\n",
      "67/67 [==============================] - 2s 28ms/step - loss: 0.4482 - val_loss: 0.6189\n",
      "Epoch 60/200\n",
      "67/67 [==============================] - 2s 28ms/step - loss: 0.4565 - val_loss: 0.6157\n",
      "Epoch 61/200\n",
      "67/67 [==============================] - 2s 28ms/step - loss: 0.4558 - val_loss: 0.6191\n",
      "Epoch 62/200\n",
      "67/67 [==============================] - 2s 28ms/step - loss: 0.4504 - val_loss: 0.6209\n",
      "Epoch 63/200\n",
      "67/67 [==============================] - 2s 28ms/step - loss: 0.4572 - val_loss: 0.6172\n",
      "Epoch 64/200\n",
      "67/67 [==============================] - 2s 29ms/step - loss: 0.4479 - val_loss: 0.6179\n",
      "Epoch 65/200\n",
      "67/67 [==============================] - 2s 28ms/step - loss: 0.4521 - val_loss: 0.6148\n",
      "Epoch 66/200\n",
      "67/67 [==============================] - 2s 28ms/step - loss: 0.4434 - val_loss: 0.6193\n",
      "Epoch 67/200\n",
      "67/67 [==============================] - 2s 28ms/step - loss: 0.4505 - val_loss: 0.6192\n",
      "Epoch 68/200\n",
      "67/67 [==============================] - 2s 28ms/step - loss: 0.4492 - val_loss: 0.6152\n",
      "Epoch 69/200\n",
      "67/67 [==============================] - 2s 28ms/step - loss: 0.4563 - val_loss: 0.6192\n",
      "Epoch 70/200\n",
      "67/67 [==============================] - 2s 28ms/step - loss: 0.4498 - val_loss: 0.6174\n",
      "Epoch 71/200\n",
      "67/67 [==============================] - 2s 28ms/step - loss: 0.4508 - val_loss: 0.6179\n",
      "Epoch 72/200\n",
      "67/67 [==============================] - 2s 28ms/step - loss: 0.4545 - val_loss: 0.6187\n",
      "Epoch 73/200\n",
      "67/67 [==============================] - 2s 29ms/step - loss: 0.4515 - val_loss: 0.6250\n",
      "Epoch 74/200\n",
      "67/67 [==============================] - 2s 28ms/step - loss: 0.4542 - val_loss: 0.6190\n",
      "Epoch 75/200\n",
      "67/67 [==============================] - 2s 28ms/step - loss: 0.4458 - val_loss: 0.6187\n",
      "Epoch 76/200\n",
      "67/67 [==============================] - 2s 28ms/step - loss: 0.4492 - val_loss: 0.6150\n",
      "Epoch 77/200\n",
      "67/67 [==============================] - 2s 28ms/step - loss: 0.4485 - val_loss: 0.6202\n",
      "Epoch 78/200\n",
      "67/67 [==============================] - 2s 28ms/step - loss: 0.4409 - val_loss: 0.6231\n",
      "Epoch 79/200\n",
      "67/67 [==============================] - 2s 28ms/step - loss: 0.4538 - val_loss: 0.6188\n",
      "Epoch 80/200\n",
      "67/67 [==============================] - 2s 28ms/step - loss: 0.4520 - val_loss: 0.6167\n",
      "Epoch 81/200\n",
      "67/67 [==============================] - 2s 28ms/step - loss: 0.4562 - val_loss: 0.6211\n",
      "Epoch 82/200\n",
      "67/67 [==============================] - 2s 28ms/step - loss: 0.4449 - val_loss: 0.6172\n",
      "Epoch 83/200\n",
      "67/67 [==============================] - 2s 28ms/step - loss: 0.4437 - val_loss: 0.6151\n",
      "Epoch 84/200\n",
      "67/67 [==============================] - 2s 28ms/step - loss: 0.4405 - val_loss: 0.6207\n",
      "Epoch 85/200\n",
      "67/67 [==============================] - 2s 28ms/step - loss: 0.4461 - val_loss: 0.6152\n",
      "Epoch 86/200\n",
      "67/67 [==============================] - 2s 28ms/step - loss: 0.4447 - val_loss: 0.6201\n",
      "Epoch 87/200\n",
      "67/67 [==============================] - 2s 28ms/step - loss: 0.4561 - val_loss: 0.6222\n",
      "Epoch 88/200\n",
      "67/67 [==============================] - 2s 28ms/step - loss: 0.4514 - val_loss: 0.6158\n",
      "Epoch 89/200\n",
      "67/67 [==============================] - 2s 28ms/step - loss: 0.4446 - val_loss: 0.6241\n",
      "Epoch 90/200\n",
      "67/67 [==============================] - 2s 28ms/step - loss: 0.4555 - val_loss: 0.6170\n",
      "Epoch 91/200\n",
      "67/67 [==============================] - 2s 28ms/step - loss: 0.4484 - val_loss: 0.6214\n",
      "Epoch 92/200\n",
      "67/67 [==============================] - 2s 29ms/step - loss: 0.4540 - val_loss: 0.6165\n",
      "Epoch 93/200\n",
      "67/67 [==============================] - 2s 28ms/step - loss: 0.4525 - val_loss: 0.6217\n",
      "Epoch 94/200\n",
      "67/67 [==============================] - 2s 28ms/step - loss: 0.4528 - val_loss: 0.6187\n",
      "Epoch 95/200\n",
      "67/67 [==============================] - 2s 29ms/step - loss: 0.4467 - val_loss: 0.6157\n",
      "Epoch 96/200\n",
      "67/67 [==============================] - 2s 29ms/step - loss: 0.4511 - val_loss: 0.6154\n",
      "Epoch 97/200\n",
      "67/67 [==============================] - 2s 28ms/step - loss: 0.4504 - val_loss: 0.6204\n",
      "Epoch 98/200\n",
      "67/67 [==============================] - 2s 29ms/step - loss: 0.4524 - val_loss: 0.6199\n",
      "Epoch 99/200\n",
      "67/67 [==============================] - 2s 29ms/step - loss: 0.4520 - val_loss: 0.6176\n",
      "Epoch 100/200\n",
      "67/67 [==============================] - 2s 28ms/step - loss: 0.4443 - val_loss: 0.6186\n",
      "Epoch 101/200\n",
      "67/67 [==============================] - 2s 28ms/step - loss: 0.4416 - val_loss: 0.6193\n",
      "Epoch 102/200\n",
      "67/67 [==============================] - 2s 28ms/step - loss: 0.4479 - val_loss: 0.6199\n",
      "Epoch 103/200\n",
      "67/67 [==============================] - 2s 28ms/step - loss: 0.4417 - val_loss: 0.6219\n",
      "Epoch 104/200\n",
      "67/67 [==============================] - 2s 28ms/step - loss: 0.4479 - val_loss: 0.6196\n",
      "Epoch 105/200\n",
      "67/67 [==============================] - 2s 28ms/step - loss: 0.4465 - val_loss: 0.6160\n",
      "Epoch 106/200\n",
      "67/67 [==============================] - 2s 28ms/step - loss: 0.4563 - val_loss: 0.6264\n",
      "Epoch 107/200\n",
      "67/67 [==============================] - 2s 28ms/step - loss: 0.4442 - val_loss: 0.6173\n",
      "Epoch 108/200\n",
      "67/67 [==============================] - 2s 29ms/step - loss: 0.4558 - val_loss: 0.6202\n",
      "Epoch 109/200\n",
      "67/67 [==============================] - 2s 28ms/step - loss: 0.4496 - val_loss: 0.6169\n",
      "Epoch 110/200\n",
      "67/67 [==============================] - 2s 28ms/step - loss: 0.4564 - val_loss: 0.6214\n",
      "Epoch 111/200\n",
      "67/67 [==============================] - 2s 28ms/step - loss: 0.4527 - val_loss: 0.6221\n",
      "Epoch 112/200\n",
      "67/67 [==============================] - 2s 28ms/step - loss: 0.4472 - val_loss: 0.6197\n",
      "Epoch 113/200\n",
      "67/67 [==============================] - 2s 28ms/step - loss: 0.4470 - val_loss: 0.6201\n",
      "Epoch 114/200\n",
      "67/67 [==============================] - 2s 28ms/step - loss: 0.4460 - val_loss: 0.6151\n",
      "Epoch 115/200\n",
      "67/67 [==============================] - 2s 28ms/step - loss: 0.4533 - val_loss: 0.6179\n",
      "Epoch 116/200\n",
      "67/67 [==============================] - 2s 28ms/step - loss: 0.4559 - val_loss: 0.6149\n",
      "Epoch 117/200\n",
      "67/67 [==============================] - 2s 28ms/step - loss: 0.4503 - val_loss: 0.6173\n",
      "Epoch 118/200\n",
      "67/67 [==============================] - 2s 28ms/step - loss: 0.4469 - val_loss: 0.6196\n",
      "Epoch 119/200\n",
      "67/67 [==============================] - 2s 28ms/step - loss: 0.4513 - val_loss: 0.6156\n",
      "Epoch 120/200\n",
      "67/67 [==============================] - 2s 28ms/step - loss: 0.4561 - val_loss: 0.6213\n",
      "Epoch 121/200\n",
      "67/67 [==============================] - 2s 28ms/step - loss: 0.4472 - val_loss: 0.6191\n",
      "Epoch 122/200\n",
      "67/67 [==============================] - 2s 28ms/step - loss: 0.4481 - val_loss: 0.6230\n",
      "Epoch 123/200\n",
      "67/67 [==============================] - 2s 28ms/step - loss: 0.4473 - val_loss: 0.6207\n",
      "Epoch 124/200\n",
      "67/67 [==============================] - 2s 29ms/step - loss: 0.4531 - val_loss: 0.6194\n",
      "Epoch 125/200\n",
      "67/67 [==============================] - 2s 29ms/step - loss: 0.4529 - val_loss: 0.6173\n",
      "Epoch 126/200\n",
      "67/67 [==============================] - 2s 29ms/step - loss: 0.4496 - val_loss: 0.6201\n",
      "Epoch 127/200\n",
      "67/67 [==============================] - 2s 29ms/step - loss: 0.4402 - val_loss: 0.6184\n",
      "Epoch 128/200\n",
      "67/67 [==============================] - 2s 29ms/step - loss: 0.4502 - val_loss: 0.6206\n",
      "Epoch 129/200\n",
      "67/67 [==============================] - 2s 28ms/step - loss: 0.4442 - val_loss: 0.6203\n",
      "Epoch 130/200\n",
      "67/67 [==============================] - 2s 28ms/step - loss: 0.4445 - val_loss: 0.6296\n",
      "Epoch 131/200\n",
      "67/67 [==============================] - 2s 28ms/step - loss: 0.4549 - val_loss: 0.6198\n",
      "Epoch 132/200\n",
      "67/67 [==============================] - 2s 29ms/step - loss: 0.4558 - val_loss: 0.6179\n",
      "Epoch 133/200\n",
      "67/67 [==============================] - 2s 29ms/step - loss: 0.4569 - val_loss: 0.6176\n",
      "Epoch 134/200\n",
      "67/67 [==============================] - 2s 28ms/step - loss: 0.4611 - val_loss: 0.6204\n",
      "Epoch 135/200\n",
      "67/67 [==============================] - 2s 29ms/step - loss: 0.4536 - val_loss: 0.6382\n",
      "Epoch 136/200\n",
      "67/67 [==============================] - 2s 29ms/step - loss: 0.4477 - val_loss: 0.6226\n",
      "Epoch 137/200\n",
      "67/67 [==============================] - 2s 28ms/step - loss: 0.4366 - val_loss: 0.6214\n",
      "Epoch 138/200\n",
      "67/67 [==============================] - 2s 28ms/step - loss: 0.4437 - val_loss: 0.6208\n",
      "Epoch 139/200\n",
      "67/67 [==============================] - 2s 28ms/step - loss: 0.4572 - val_loss: 0.6270\n",
      "Epoch 140/200\n",
      "67/67 [==============================] - 2s 28ms/step - loss: 0.4460 - val_loss: 0.6175\n",
      "Epoch 141/200\n",
      "67/67 [==============================] - 2s 28ms/step - loss: 0.4524 - val_loss: 0.6198\n",
      "Epoch 142/200\n",
      "67/67 [==============================] - 2s 28ms/step - loss: 0.4524 - val_loss: 0.6223\n",
      "Epoch 143/200\n",
      "67/67 [==============================] - 2s 28ms/step - loss: 0.4478 - val_loss: 0.6327\n",
      "Epoch 144/200\n",
      "67/67 [==============================] - 2s 29ms/step - loss: 0.4432 - val_loss: 0.6173\n",
      "Epoch 145/200\n",
      "67/67 [==============================] - 2s 29ms/step - loss: 0.4453 - val_loss: 0.6244\n",
      "Epoch 146/200\n",
      "67/67 [==============================] - 2s 29ms/step - loss: 0.4498 - val_loss: 0.6169\n",
      "Epoch 147/200\n",
      "67/67 [==============================] - 2s 29ms/step - loss: 0.4589 - val_loss: 0.6199\n",
      "Epoch 148/200\n",
      "67/67 [==============================] - 2s 29ms/step - loss: 0.4373 - val_loss: 0.6211\n",
      "Epoch 149/200\n",
      "67/67 [==============================] - 2s 28ms/step - loss: 0.4452 - val_loss: 0.6207\n",
      "Epoch 150/200\n",
      "67/67 [==============================] - 2s 28ms/step - loss: 0.4490 - val_loss: 0.6250\n",
      "Epoch 151/200\n",
      "67/67 [==============================] - 2s 29ms/step - loss: 0.4451 - val_loss: 0.6241\n",
      "Epoch 152/200\n",
      "67/67 [==============================] - 2s 28ms/step - loss: 0.4534 - val_loss: 0.6183\n",
      "Epoch 153/200\n",
      "67/67 [==============================] - 2s 28ms/step - loss: 0.4445 - val_loss: 0.6211\n",
      "Epoch 154/200\n",
      "67/67 [==============================] - 2s 28ms/step - loss: 0.4402 - val_loss: 0.6172\n",
      "Epoch 155/200\n",
      "67/67 [==============================] - 2s 28ms/step - loss: 0.4454 - val_loss: 0.6191\n",
      "Epoch 156/200\n",
      "67/67 [==============================] - 2s 28ms/step - loss: 0.4573 - val_loss: 0.6189\n",
      "Epoch 157/200\n",
      "67/67 [==============================] - 2s 28ms/step - loss: 0.4500 - val_loss: 0.6236\n",
      "Epoch 158/200\n",
      "67/67 [==============================] - 2s 28ms/step - loss: 0.4496 - val_loss: 0.6195\n",
      "Epoch 159/200\n",
      "67/67 [==============================] - 2s 28ms/step - loss: 0.4432 - val_loss: 0.6228\n",
      "Epoch 160/200\n",
      "67/67 [==============================] - 2s 28ms/step - loss: 0.4530 - val_loss: 0.6162\n",
      "Epoch 161/200\n",
      "67/67 [==============================] - 2s 28ms/step - loss: 0.4401 - val_loss: 0.6256\n",
      "Epoch 162/200\n",
      "67/67 [==============================] - 2s 28ms/step - loss: 0.4476 - val_loss: 0.6261\n",
      "Epoch 163/200\n",
      "67/67 [==============================] - 2s 29ms/step - loss: 0.4499 - val_loss: 0.6187\n",
      "Epoch 164/200\n",
      "67/67 [==============================] - 2s 29ms/step - loss: 0.4423 - val_loss: 0.6187\n",
      "Epoch 165/200\n",
      "67/67 [==============================] - 2s 29ms/step - loss: 0.4600 - val_loss: 0.6187\n",
      "Epoch 166/200\n",
      "67/67 [==============================] - 2s 28ms/step - loss: 0.4493 - val_loss: 0.6227\n",
      "Epoch 167/200\n",
      "67/67 [==============================] - 2s 29ms/step - loss: 0.4447 - val_loss: 0.6184\n",
      "Epoch 168/200\n",
      "67/67 [==============================] - 2s 28ms/step - loss: 0.4497 - val_loss: 0.6181\n",
      "Epoch 169/200\n",
      "67/67 [==============================] - 2s 28ms/step - loss: 0.4447 - val_loss: 0.6191\n",
      "Epoch 170/200\n",
      "67/67 [==============================] - 2s 29ms/step - loss: 0.4405 - val_loss: 0.6158\n",
      "Epoch 171/200\n",
      "67/67 [==============================] - 2s 29ms/step - loss: 0.4440 - val_loss: 0.6198\n",
      "Epoch 172/200\n",
      "67/67 [==============================] - 2s 28ms/step - loss: 0.4549 - val_loss: 0.6211\n",
      "Epoch 173/200\n",
      "67/67 [==============================] - 2s 28ms/step - loss: 0.4513 - val_loss: 0.6193\n",
      "Epoch 174/200\n",
      "67/67 [==============================] - 2s 28ms/step - loss: 0.4509 - val_loss: 0.6213\n",
      "Epoch 175/200\n",
      "67/67 [==============================] - 2s 28ms/step - loss: 0.4385 - val_loss: 0.6203\n",
      "Epoch 176/200\n",
      "67/67 [==============================] - 2s 28ms/step - loss: 0.4462 - val_loss: 0.6184\n",
      "Epoch 177/200\n",
      "67/67 [==============================] - 2s 28ms/step - loss: 0.4479 - val_loss: 0.6246\n",
      "Epoch 178/200\n",
      "67/67 [==============================] - 2s 29ms/step - loss: 0.4467 - val_loss: 0.6154\n",
      "Epoch 179/200\n",
      "67/67 [==============================] - 2s 29ms/step - loss: 0.4455 - val_loss: 0.6309\n",
      "Epoch 180/200\n",
      "67/67 [==============================] - 2s 28ms/step - loss: 0.4576 - val_loss: 0.6180\n",
      "Epoch 181/200\n",
      "67/67 [==============================] - 2s 29ms/step - loss: 0.4437 - val_loss: 0.6167\n",
      "Epoch 182/200\n",
      "67/67 [==============================] - 2s 29ms/step - loss: 0.4534 - val_loss: 0.6266\n",
      "Epoch 183/200\n",
      "67/67 [==============================] - 2s 29ms/step - loss: 0.4516 - val_loss: 0.6190\n",
      "Epoch 184/200\n",
      "67/67 [==============================] - 2s 28ms/step - loss: 0.4528 - val_loss: 0.6228\n",
      "Epoch 185/200\n",
      "67/67 [==============================] - 2s 28ms/step - loss: 0.4469 - val_loss: 0.6244\n",
      "Epoch 186/200\n",
      "67/67 [==============================] - 2s 28ms/step - loss: 0.4388 - val_loss: 0.6274\n",
      "Epoch 187/200\n",
      "67/67 [==============================] - 2s 29ms/step - loss: 0.4569 - val_loss: 0.6175\n",
      "Epoch 188/200\n",
      "67/67 [==============================] - 2s 28ms/step - loss: 0.4427 - val_loss: 0.6264\n",
      "Epoch 189/200\n",
      "67/67 [==============================] - 2s 28ms/step - loss: 0.4542 - val_loss: 0.6230\n",
      "Epoch 190/200\n",
      "67/67 [==============================] - 2s 28ms/step - loss: 0.4534 - val_loss: 0.6203\n",
      "Epoch 191/200\n",
      "67/67 [==============================] - 2s 28ms/step - loss: 0.4503 - val_loss: 0.6199\n",
      "Epoch 192/200\n",
      "67/67 [==============================] - 2s 28ms/step - loss: 0.4491 - val_loss: 0.6209\n",
      "Epoch 193/200\n",
      "67/67 [==============================] - 2s 28ms/step - loss: 0.4419 - val_loss: 0.6257\n",
      "Epoch 194/200\n",
      "67/67 [==============================] - 2s 29ms/step - loss: 0.4482 - val_loss: 0.6213\n",
      "Epoch 195/200\n",
      "67/67 [==============================] - 2s 29ms/step - loss: 0.4628 - val_loss: 0.6215\n",
      "Epoch 196/200\n",
      "67/67 [==============================] - 2s 29ms/step - loss: 0.4423 - val_loss: 0.6265\n",
      "Epoch 197/200\n",
      "67/67 [==============================] - 2s 29ms/step - loss: 0.4596 - val_loss: 0.6219\n",
      "Epoch 198/200\n",
      "67/67 [==============================] - 2s 29ms/step - loss: 0.4634 - val_loss: 0.6198\n",
      "Epoch 199/200\n",
      "67/67 [==============================] - 2s 30ms/step - loss: 0.4500 - val_loss: 0.6175\n",
      "Epoch 200/200\n",
      "67/67 [==============================] - 2s 30ms/step - loss: 0.4568 - val_loss: 0.6215\n",
      "28/28 [==============================] - 0s 6ms/step\n",
      "CPU times: user 9min 3s, sys: 7min 5s, total: 16min 8s\n",
      "Wall time: 6min 19s\n"
     ]
    },
    {
     "data": {
      "text/plain": [
       "0.41049592990937445"
      ]
     },
     "execution_count": 147,
     "metadata": {},
     "output_type": "execute_result"
    }
   ],
   "source": [
    "%%time\n",
    "X_train = xrnn[istrain]\n",
    "y_train = arframe[istrain]['log_volume'].values\n",
    "X_val = xrnn[~istrain]\n",
    "y_val = arframe[~istrain]['log_volume'].values\n",
    "\n",
    "history = model.fit(X_train, y_train, batch_size=64, epochs=200, validation_data=(X_val, y_val))\n",
    "kpred = model.predict(X_val, batch_size=64)\n",
    "\n",
    "# Calculate R^2\n",
    "1 - np.mean((kpred.ravel() - y_val)**2) / np.var(y_val, ddof=1)"
   ]
  },
  {
   "cell_type": "markdown",
   "id": "80f06a85",
   "metadata": {},
   "source": [
    "This model takes about ten minutes to train.\n",
    "\n",
    "We could replace the  `keras_model_sequential()`  command above with the following command:"
   ]
  },
  {
   "cell_type": "code",
   "execution_count": null,
   "id": "c2eb9e34-783a-4465-a2b7-ecb9da25e083",
   "metadata": {},
   "outputs": [],
   "source": [
    "model = keras.Sequential([\n",
    "    layers.Flatten(input_shape=(5,3)),\n",
    "    layers.Dense(units=1)\n",
    "])"
   ]
  },
  {
   "cell_type": "markdown",
   "id": "709b4f52",
   "metadata": {},
   "source": [
    "Here, `Flatten()` simply takes the input sequence and\n",
    "turns it into a long vector of predictors. This results in a linear AR model.\n",
    "To fit a nonlinear AR model, we could add in a hidden layer.\n",
    "\n",
    "However, since we already have the matrix of lagged variables from the AR\n",
    "model that we fit earlier using the `lm()` command, we can actually fit a nonlinear AR model without needing to perform flattening.\n",
    "We extract the model matrix `x` from `arframed`, which\n",
    "includes the `day_of_week` variable."
   ]
  },
  {
   "cell_type": "code",
   "execution_count": 150,
   "id": "c72a59de-52f1-42c5-82d1-b9f6fd70cb08",
   "metadata": {},
   "outputs": [
    {
     "data": {
      "text/plain": [
       "Index(['L1_DJ_return', 'L1_log_volume', 'L1_log_volatility', 'L2_DJ_return',\n",
       "       'L2_log_volume', 'L2_log_volatility', 'L3_DJ_return', 'L3_log_volume',\n",
       "       'L3_log_volatility', 'L4_DJ_return', 'L4_log_volume',\n",
       "       'L4_log_volatility', 'L5_DJ_return', 'L5_log_volume',\n",
       "       'L5_log_volatility', 'day_of_week_fri', 'day_of_week_mon',\n",
       "       'day_of_week_thur', 'day_of_week_tues', 'day_of_week_wed'],\n",
       "      dtype='object')"
      ]
     },
     "execution_count": 150,
     "metadata": {},
     "output_type": "execute_result"
    }
   ],
   "source": [
    "day_df_full = pd.get_dummies(NYSE[['day_of_week']], drop_first=False).iloc[5:].set_index(arframe.index)\n",
    "x = pd.concat([arframe, day_df_full], axis=1).drop(columns='log_volume')\n",
    "x.columns"
   ]
  },
  {
   "cell_type": "markdown",
   "id": "61ec5600",
   "metadata": {},
   "source": [
    "The rest of the steps to fit a nonlinear AR model should by now be familiar."
   ]
  },
  {
   "cell_type": "code",
   "execution_count": 151,
   "id": "4f7938de-58bb-4ba0-82d4-aa481850963d",
   "metadata": {},
   "outputs": [
    {
     "name": "stdout",
     "output_type": "stream",
     "text": [
      "Epoch 1/100\n",
      "  9/134 [=>............................] - ETA: 0s - loss: 1.7732 "
     ]
    },
    {
     "name": "stderr",
     "output_type": "stream",
     "text": [
      "2022-11-16 13:12:46.844777: I tensorflow/core/grappler/optimizers/custom_graph_optimizer_registry.cc:114] Plugin optimizer for device_type GPU is enabled.\n"
     ]
    },
    {
     "name": "stdout",
     "output_type": "stream",
     "text": [
      "134/134 [==============================] - ETA: 0s - loss: 1.0252"
     ]
    },
    {
     "name": "stderr",
     "output_type": "stream",
     "text": [
      "2022-11-16 13:12:47.779127: I tensorflow/core/grappler/optimizers/custom_graph_optimizer_registry.cc:114] Plugin optimizer for device_type GPU is enabled.\n"
     ]
    },
    {
     "name": "stdout",
     "output_type": "stream",
     "text": [
      "134/134 [==============================] - 1s 8ms/step - loss: 1.0252 - val_loss: 0.7172\n",
      "Epoch 2/100\n",
      "134/134 [==============================] - 1s 6ms/step - loss: 0.6466 - val_loss: 0.6373\n",
      "Epoch 3/100\n",
      "134/134 [==============================] - 1s 7ms/step - loss: 0.5475 - val_loss: 0.6113\n",
      "Epoch 4/100\n",
      "134/134 [==============================] - 1s 7ms/step - loss: 0.4919 - val_loss: 0.5973\n",
      "Epoch 5/100\n",
      "134/134 [==============================] - 1s 7ms/step - loss: 0.4739 - val_loss: 0.5888\n",
      "Epoch 6/100\n",
      "134/134 [==============================] - 1s 7ms/step - loss: 0.4697 - val_loss: 0.5803\n",
      "Epoch 7/100\n",
      "134/134 [==============================] - 1s 7ms/step - loss: 0.4519 - val_loss: 0.5769\n",
      "Epoch 8/100\n",
      "134/134 [==============================] - 1s 6ms/step - loss: 0.4523 - val_loss: 0.5775\n",
      "Epoch 9/100\n",
      "134/134 [==============================] - 1s 6ms/step - loss: 0.4465 - val_loss: 0.5741\n",
      "Epoch 10/100\n",
      "134/134 [==============================] - 1s 7ms/step - loss: 0.4327 - val_loss: 0.5725\n",
      "Epoch 11/100\n",
      "134/134 [==============================] - 1s 7ms/step - loss: 0.4348 - val_loss: 0.5744\n",
      "Epoch 12/100\n",
      "134/134 [==============================] - 1s 7ms/step - loss: 0.4267 - val_loss: 0.5662\n",
      "Epoch 13/100\n",
      "134/134 [==============================] - 1s 7ms/step - loss: 0.4215 - val_loss: 0.5682\n",
      "Epoch 14/100\n",
      "134/134 [==============================] - 1s 7ms/step - loss: 0.4239 - val_loss: 0.5647\n",
      "Epoch 15/100\n",
      "134/134 [==============================] - 1s 7ms/step - loss: 0.4229 - val_loss: 0.5727\n",
      "Epoch 16/100\n",
      "134/134 [==============================] - 1s 7ms/step - loss: 0.4218 - val_loss: 0.5668\n",
      "Epoch 17/100\n",
      "134/134 [==============================] - 1s 7ms/step - loss: 0.4182 - val_loss: 0.5669\n",
      "Epoch 18/100\n",
      "134/134 [==============================] - 1s 7ms/step - loss: 0.4142 - val_loss: 0.5643\n",
      "Epoch 19/100\n",
      "134/134 [==============================] - 1s 7ms/step - loss: 0.4083 - val_loss: 0.5649\n",
      "Epoch 20/100\n",
      "134/134 [==============================] - 1s 7ms/step - loss: 0.4135 - val_loss: 0.5659\n",
      "Epoch 21/100\n",
      "134/134 [==============================] - 1s 7ms/step - loss: 0.4056 - val_loss: 0.5636\n",
      "Epoch 22/100\n",
      "134/134 [==============================] - 1s 7ms/step - loss: 0.4136 - val_loss: 0.5675\n",
      "Epoch 23/100\n",
      "134/134 [==============================] - 1s 7ms/step - loss: 0.4148 - val_loss: 0.5653\n",
      "Epoch 24/100\n",
      "134/134 [==============================] - 1s 6ms/step - loss: 0.4035 - val_loss: 0.5667\n",
      "Epoch 25/100\n",
      "134/134 [==============================] - 1s 7ms/step - loss: 0.4085 - val_loss: 0.5651\n",
      "Epoch 26/100\n",
      "134/134 [==============================] - 1s 7ms/step - loss: 0.4123 - val_loss: 0.5647\n",
      "Epoch 27/100\n",
      "134/134 [==============================] - 1s 7ms/step - loss: 0.4114 - val_loss: 0.5669\n",
      "Epoch 28/100\n",
      "134/134 [==============================] - 1s 7ms/step - loss: 0.4066 - val_loss: 0.5683\n",
      "Epoch 29/100\n",
      "134/134 [==============================] - 1s 7ms/step - loss: 0.4027 - val_loss: 0.5630\n",
      "Epoch 30/100\n",
      "134/134 [==============================] - 1s 6ms/step - loss: 0.4032 - val_loss: 0.5641\n",
      "Epoch 31/100\n",
      "134/134 [==============================] - 1s 7ms/step - loss: 0.4048 - val_loss: 0.5621\n",
      "Epoch 32/100\n",
      "134/134 [==============================] - 1s 7ms/step - loss: 0.4093 - val_loss: 0.5645\n",
      "Epoch 33/100\n",
      "134/134 [==============================] - 1s 7ms/step - loss: 0.4064 - val_loss: 0.5623\n",
      "Epoch 34/100\n",
      "134/134 [==============================] - 1s 7ms/step - loss: 0.4043 - val_loss: 0.5639\n",
      "Epoch 35/100\n",
      "134/134 [==============================] - 1s 7ms/step - loss: 0.4026 - val_loss: 0.5679\n",
      "Epoch 36/100\n",
      "134/134 [==============================] - 1s 7ms/step - loss: 0.4042 - val_loss: 0.5625\n",
      "Epoch 37/100\n",
      "134/134 [==============================] - 1s 7ms/step - loss: 0.3992 - val_loss: 0.5670\n",
      "Epoch 38/100\n",
      "134/134 [==============================] - 1s 7ms/step - loss: 0.3989 - val_loss: 0.5653\n",
      "Epoch 39/100\n",
      "134/134 [==============================] - 1s 7ms/step - loss: 0.3974 - val_loss: 0.5636\n",
      "Epoch 40/100\n",
      "134/134 [==============================] - 1s 7ms/step - loss: 0.3994 - val_loss: 0.5637\n",
      "Epoch 41/100\n",
      "134/134 [==============================] - 1s 7ms/step - loss: 0.4002 - val_loss: 0.5648\n",
      "Epoch 42/100\n",
      "134/134 [==============================] - 1s 7ms/step - loss: 0.4027 - val_loss: 0.5652\n",
      "Epoch 43/100\n",
      "134/134 [==============================] - 1s 7ms/step - loss: 0.4048 - val_loss: 0.5647\n",
      "Epoch 44/100\n",
      "134/134 [==============================] - 1s 7ms/step - loss: 0.3917 - val_loss: 0.5620\n",
      "Epoch 45/100\n",
      "134/134 [==============================] - 1s 7ms/step - loss: 0.3901 - val_loss: 0.5657\n",
      "Epoch 46/100\n",
      "134/134 [==============================] - 1s 7ms/step - loss: 0.3959 - val_loss: 0.5655\n",
      "Epoch 47/100\n",
      "134/134 [==============================] - 1s 7ms/step - loss: 0.4015 - val_loss: 0.5611\n",
      "Epoch 48/100\n",
      "134/134 [==============================] - 1s 7ms/step - loss: 0.3979 - val_loss: 0.5621\n",
      "Epoch 49/100\n",
      "134/134 [==============================] - 1s 7ms/step - loss: 0.4025 - val_loss: 0.5618\n",
      "Epoch 50/100\n",
      "134/134 [==============================] - 1s 7ms/step - loss: 0.3925 - val_loss: 0.5619\n",
      "Epoch 51/100\n",
      "134/134 [==============================] - 1s 7ms/step - loss: 0.3987 - val_loss: 0.5642\n",
      "Epoch 52/100\n",
      "134/134 [==============================] - 1s 7ms/step - loss: 0.3926 - val_loss: 0.5606\n",
      "Epoch 53/100\n",
      "134/134 [==============================] - 1s 7ms/step - loss: 0.3922 - val_loss: 0.5621\n",
      "Epoch 54/100\n",
      "134/134 [==============================] - 1s 7ms/step - loss: 0.3967 - val_loss: 0.5645\n",
      "Epoch 55/100\n",
      "134/134 [==============================] - 1s 7ms/step - loss: 0.3926 - val_loss: 0.5657\n",
      "Epoch 56/100\n",
      "134/134 [==============================] - 1s 7ms/step - loss: 0.3966 - val_loss: 0.5642\n",
      "Epoch 57/100\n",
      "134/134 [==============================] - 1s 7ms/step - loss: 0.4025 - val_loss: 0.5656\n",
      "Epoch 58/100\n",
      "134/134 [==============================] - 1s 7ms/step - loss: 0.3900 - val_loss: 0.5637\n",
      "Epoch 59/100\n",
      "134/134 [==============================] - 1s 7ms/step - loss: 0.3918 - val_loss: 0.5639\n",
      "Epoch 60/100\n",
      "134/134 [==============================] - 1s 7ms/step - loss: 0.3958 - val_loss: 0.5627\n",
      "Epoch 61/100\n",
      "134/134 [==============================] - 1s 7ms/step - loss: 0.3930 - val_loss: 0.5628\n",
      "Epoch 62/100\n",
      "134/134 [==============================] - 1s 7ms/step - loss: 0.3928 - val_loss: 0.5648\n",
      "Epoch 63/100\n",
      "134/134 [==============================] - 1s 6ms/step - loss: 0.3989 - val_loss: 0.5615\n",
      "Epoch 64/100\n",
      "134/134 [==============================] - 1s 7ms/step - loss: 0.3864 - val_loss: 0.5621\n",
      "Epoch 65/100\n",
      "134/134 [==============================] - 1s 7ms/step - loss: 0.3995 - val_loss: 0.5633\n",
      "Epoch 66/100\n",
      "134/134 [==============================] - 1s 7ms/step - loss: 0.3917 - val_loss: 0.5613\n",
      "Epoch 67/100\n",
      "134/134 [==============================] - 1s 7ms/step - loss: 0.3861 - val_loss: 0.5631\n",
      "Epoch 68/100\n",
      "134/134 [==============================] - 1s 7ms/step - loss: 0.3879 - val_loss: 0.5673\n",
      "Epoch 69/100\n",
      "134/134 [==============================] - 1s 7ms/step - loss: 0.3924 - val_loss: 0.5611\n",
      "Epoch 70/100\n",
      "134/134 [==============================] - 1s 7ms/step - loss: 0.3889 - val_loss: 0.5672\n",
      "Epoch 71/100\n",
      "134/134 [==============================] - 1s 7ms/step - loss: 0.4024 - val_loss: 0.5673\n",
      "Epoch 72/100\n",
      "134/134 [==============================] - 1s 7ms/step - loss: 0.3915 - val_loss: 0.5626\n",
      "Epoch 73/100\n",
      "134/134 [==============================] - 1s 7ms/step - loss: 0.3969 - val_loss: 0.5628\n",
      "Epoch 74/100\n",
      "134/134 [==============================] - 1s 7ms/step - loss: 0.3971 - val_loss: 0.5630\n",
      "Epoch 75/100\n",
      "134/134 [==============================] - 1s 7ms/step - loss: 0.3937 - val_loss: 0.5618\n",
      "Epoch 76/100\n",
      "134/134 [==============================] - 1s 7ms/step - loss: 0.3951 - val_loss: 0.5629\n",
      "Epoch 77/100\n",
      "134/134 [==============================] - 1s 8ms/step - loss: 0.3924 - val_loss: 0.5638\n",
      "Epoch 78/100\n",
      "134/134 [==============================] - 1s 7ms/step - loss: 0.3886 - val_loss: 0.5622\n",
      "Epoch 79/100\n",
      "134/134 [==============================] - 1s 7ms/step - loss: 0.3901 - val_loss: 0.5629\n",
      "Epoch 80/100\n",
      "134/134 [==============================] - 1s 7ms/step - loss: 0.3894 - val_loss: 0.5610\n",
      "Epoch 81/100\n",
      "134/134 [==============================] - 1s 7ms/step - loss: 0.3966 - val_loss: 0.5672\n",
      "Epoch 82/100\n",
      "134/134 [==============================] - 1s 7ms/step - loss: 0.3868 - val_loss: 0.5630\n",
      "Epoch 83/100\n",
      "134/134 [==============================] - 1s 7ms/step - loss: 0.3948 - val_loss: 0.5622\n",
      "Epoch 84/100\n",
      "134/134 [==============================] - 1s 7ms/step - loss: 0.3900 - val_loss: 0.5631\n",
      "Epoch 85/100\n",
      "134/134 [==============================] - 1s 7ms/step - loss: 0.3969 - val_loss: 0.5619\n",
      "Epoch 86/100\n",
      "134/134 [==============================] - 1s 8ms/step - loss: 0.3875 - val_loss: 0.5637\n",
      "Epoch 87/100\n",
      "134/134 [==============================] - 1s 7ms/step - loss: 0.3945 - val_loss: 0.5641\n",
      "Epoch 88/100\n",
      "134/134 [==============================] - 1s 7ms/step - loss: 0.3957 - val_loss: 0.5613\n",
      "Epoch 89/100\n",
      "134/134 [==============================] - 1s 7ms/step - loss: 0.4011 - val_loss: 0.5620\n",
      "Epoch 90/100\n",
      "134/134 [==============================] - 1s 7ms/step - loss: 0.3961 - val_loss: 0.5642\n",
      "Epoch 91/100\n",
      "134/134 [==============================] - 1s 7ms/step - loss: 0.3893 - val_loss: 0.5662\n",
      "Epoch 92/100\n",
      "134/134 [==============================] - 1s 7ms/step - loss: 0.3861 - val_loss: 0.5718\n",
      "Epoch 93/100\n",
      "134/134 [==============================] - 1s 7ms/step - loss: 0.3890 - val_loss: 0.5638\n",
      "Epoch 94/100\n",
      "134/134 [==============================] - 1s 7ms/step - loss: 0.3951 - val_loss: 0.5640\n",
      "Epoch 95/100\n",
      "134/134 [==============================] - 1s 7ms/step - loss: 0.3908 - val_loss: 0.5669\n",
      "Epoch 96/100\n",
      "134/134 [==============================] - 1s 7ms/step - loss: 0.3846 - val_loss: 0.5674\n",
      "Epoch 97/100\n",
      "134/134 [==============================] - 1s 7ms/step - loss: 0.3871 - val_loss: 0.5652\n",
      "Epoch 98/100\n",
      "134/134 [==============================] - 1s 7ms/step - loss: 0.3899 - val_loss: 0.5645\n",
      "Epoch 99/100\n",
      "134/134 [==============================] - 1s 7ms/step - loss: 0.3916 - val_loss: 0.5679\n",
      "Epoch 100/100\n",
      "134/134 [==============================] - 1s 7ms/step - loss: 0.3903 - val_loss: 0.5631\n",
      "CPU times: user 1min 10s, sys: 26.6 s, total: 1min 37s\n",
      "Wall time: 1min 30s\n"
     ]
    }
   ],
   "source": [
    "%%time\n",
    "X_train = x.values[istrain]\n",
    "X_val = x.values[~istrain]\n",
    "\n",
    "arnnd = keras.Sequential([\n",
    "    layers.Dense(units=32, activation='relu', input_shape=(x.shape[1],)),\n",
    "    layers.Dropout(rate=0.5),\n",
    "    layers.Dense(units=1)\n",
    "])\n",
    "\n",
    "arnnd.compile(loss='mse', optimizer='rmsprop')\n",
    "\n",
    "history = arnnd.fit(X_train, y_train, batch_size=32, epochs=100, validation_data=(X_val, y_val))"
   ]
  },
  {
   "cell_type": "code",
   "execution_count": 155,
   "id": "cd6fa30d-41a6-404c-956a-be2886b570af",
   "metadata": {},
   "outputs": [
    {
     "name": "stdout",
     "output_type": "stream",
     "text": [
      "56/56 [==============================] - 0s 2ms/step\n"
     ]
    },
    {
     "name": "stderr",
     "output_type": "stream",
     "text": [
      "2022-11-16 13:15:11.898575: I tensorflow/core/grappler/optimizers/custom_graph_optimizer_registry.cc:114] Plugin optimizer for device_type GPU is enabled.\n"
     ]
    },
    {
     "data": {
      "text/plain": [
       "0.46586290659518836"
      ]
     },
     "execution_count": 155,
     "metadata": {},
     "output_type": "execute_result"
    },
    {
     "data": {
      "image/png": "[encoded data removed]",
      "text/plain": [
       "<Figure size 432x288 with 1 Axes>"
      ]
     },
     "metadata": {
      "needs_background": "light"
     },
     "output_type": "display_data"
    }
   ],
   "source": [
    "pd.DataFrame(history.history).plot();\n",
    "\n",
    "npred = arnnd.predict(X_val, batch_size=32)\n",
    "\n",
    "1 - np.mean((npred.ravel() - y_val)**2) / np.var(y_val, ddof=1)"
   ]
  }
 ],
 "metadata": {
  "celltoolbar": "Edit Metadata",
  "jupytext": {
   "formats": "ipynb,Rmd"
  },
  "kernelspec": {
   "display_name": "Python 3 (ipykernel)",
   "language": "python",
   "name": "python3"
  },
  "language_info": {
   "codemirror_mode": {
    "name": "ipython",
    "version": 3
   },
   "file_extension": ".py",
   "mimetype": "text/x-python",
   "name": "python",
   "nbconvert_exporter": "python",
   "pygments_lexer": "ipython3",
   "version": "3.9.13"
  },
  "substitutions": {
   "ISLPmod": "`ISLP`",
   "Rlang": "`R`",
   "mpl": "`matplotlib`",
   "numpy": "`numpy`",
   "pandas": "`pandas`",
   "pylang": "`python`",
   "smlib": "`statsmodels`"
  }
 },
 "nbformat": 4,
 "nbformat_minor": 5
}
