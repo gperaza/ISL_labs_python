{
 "cells": [
  {
   "cell_type": "markdown",
   "id": "67f91564",
   "metadata": {
    "tags": []
   },
   "source": [
    "\n",
    "# Lab: Cross-Validation and the Bootstrap\n",
    "\n",
    "In this lab, we explore the resampling techniques covered in this chapter. Some of the commands in this lab may take a while to run on your computer.\n",
    "\n",
    "## The Validation Set Approach\n",
    "\n",
    "We explore the use of the validation set approach in order to estimate the test error rates that result from fitting various linear models on the `Auto` data set.\n",
    "\n",
    "We will use pandas random state parameter to set the internal seed of the random number generator, so that results be reproducible.It is generally\n",
    "a good idea to set a random seed when performing an analysis such as cross-validation that contains an\n",
    "element of randomness, so that the results obtained can be reproduced precisely at a later time.\n",
    "\n",
    "We begin by using the\n",
    "`sample()` function to split the set of observations into two halves, by selecting a random subset of $196$ observations out of the original $392$ observations. We  refer\n",
    "to these observations as the training set."
   ]
  },
  {
   "cell_type": "code",
   "execution_count": 13,
   "id": "e9563d51-66f0-45c4-8dc5-2c7f8c73b8c5",
   "metadata": {},
   "outputs": [],
   "source": [
    "import numpy as np\n",
    "import pandas as pd\n",
    "from matplotlib import pyplot as plt\n",
    "import statsmodels.api as sm\n",
    "from sklearn.linear_model import LinearRegression\n",
    "from sklearn.utils import resample\n",
    "from sklearn.model_selection import train_test_split\n",
    "from sklearn.model_selection import KFold, LeaveOneOut\n",
    "from sklearn.model_selection import cross_val_score\n",
    "from sklearn.preprocessing import PolynomialFeatures"
   ]
  },
  {
   "cell_type": "code",
   "execution_count": 10,
   "id": "ad2f3de2-b5ec-4af7-9ac1-daba31744063",
   "metadata": {},
   "outputs": [
    {
     "data": {
      "text/html": [
       "<div>\n",
       "<style scoped>\n",
       "    .dataframe tbody tr th:only-of-type {\n",
       "        vertical-align: middle;\n",
       "    }\n",
       "\n",
       "    .dataframe tbody tr th {\n",
       "        vertical-align: top;\n",
       "    }\n",
       "\n",
       "    .dataframe thead th {\n",
       "        text-align: right;\n",
       "    }\n",
       "</style>\n",
       "<table border=\"1\" class=\"dataframe\">\n",
       "  <thead>\n",
       "    <tr style=\"text-align: right;\">\n",
       "      <th></th>\n",
       "      <th>mpg</th>\n",
       "      <th>cylinders</th>\n",
       "      <th>displacement</th>\n",
       "      <th>horsepower</th>\n",
       "      <th>weight</th>\n",
       "      <th>acceleration</th>\n",
       "      <th>year</th>\n",
       "      <th>origin</th>\n",
       "      <th>name</th>\n",
       "    </tr>\n",
       "  </thead>\n",
       "  <tbody>\n",
       "    <tr>\n",
       "      <th>0</th>\n",
       "      <td>18.0</td>\n",
       "      <td>8</td>\n",
       "      <td>307.0</td>\n",
       "      <td>130</td>\n",
       "      <td>3504</td>\n",
       "      <td>12.0</td>\n",
       "      <td>70</td>\n",
       "      <td>1</td>\n",
       "      <td>chevrolet chevelle malibu</td>\n",
       "    </tr>\n",
       "    <tr>\n",
       "      <th>1</th>\n",
       "      <td>15.0</td>\n",
       "      <td>8</td>\n",
       "      <td>350.0</td>\n",
       "      <td>165</td>\n",
       "      <td>3693</td>\n",
       "      <td>11.5</td>\n",
       "      <td>70</td>\n",
       "      <td>1</td>\n",
       "      <td>buick skylark 320</td>\n",
       "    </tr>\n",
       "    <tr>\n",
       "      <th>2</th>\n",
       "      <td>18.0</td>\n",
       "      <td>8</td>\n",
       "      <td>318.0</td>\n",
       "      <td>150</td>\n",
       "      <td>3436</td>\n",
       "      <td>11.0</td>\n",
       "      <td>70</td>\n",
       "      <td>1</td>\n",
       "      <td>plymouth satellite</td>\n",
       "    </tr>\n",
       "    <tr>\n",
       "      <th>3</th>\n",
       "      <td>16.0</td>\n",
       "      <td>8</td>\n",
       "      <td>304.0</td>\n",
       "      <td>150</td>\n",
       "      <td>3433</td>\n",
       "      <td>12.0</td>\n",
       "      <td>70</td>\n",
       "      <td>1</td>\n",
       "      <td>amc rebel sst</td>\n",
       "    </tr>\n",
       "    <tr>\n",
       "      <th>4</th>\n",
       "      <td>17.0</td>\n",
       "      <td>8</td>\n",
       "      <td>302.0</td>\n",
       "      <td>140</td>\n",
       "      <td>3449</td>\n",
       "      <td>10.5</td>\n",
       "      <td>70</td>\n",
       "      <td>1</td>\n",
       "      <td>ford torino</td>\n",
       "    </tr>\n",
       "  </tbody>\n",
       "</table>\n",
       "</div>"
      ],
      "text/plain": [
       "    mpg  cylinders  displacement  horsepower  weight  acceleration  year  \\\n",
       "0  18.0          8         307.0         130    3504          12.0    70   \n",
       "1  15.0          8         350.0         165    3693          11.5    70   \n",
       "2  18.0          8         318.0         150    3436          11.0    70   \n",
       "3  16.0          8         304.0         150    3433          12.0    70   \n",
       "4  17.0          8         302.0         140    3449          10.5    70   \n",
       "\n",
       "   origin                       name  \n",
       "0       1  chevrolet chevelle malibu  \n",
       "1       1          buick skylark 320  \n",
       "2       1         plymouth satellite  \n",
       "3       1              amc rebel sst  \n",
       "4       1                ford torino  "
      ]
     },
     "execution_count": 10,
     "metadata": {},
     "output_type": "execute_result"
    }
   ],
   "source": [
    "Auto = pd.read_csv('data/Auto.csv')\n",
    "Auto.head()"
   ]
  },
  {
   "cell_type": "code",
   "execution_count": 59,
   "id": "ab473b24-f1f0-43a0-a04b-b4562f048402",
   "metadata": {},
   "outputs": [],
   "source": [
    "# Get X data matric and y target vector\n",
    "X = Auto[['horsepower']].values\n",
    "y = Auto['mpg'].values\n",
    "\n",
    "# We will add square and cubic terms now, and use them later\n",
    "X = PolynomialFeatures(10, include_bias=False).fit_transform(X)\n",
    "\n",
    "# Use sklearn train test splitter\n",
    "X_train, X_test, y_train, y_test = train_test_split(X, y, train_size=0.5, random_state=1)"
   ]
  },
  {
   "cell_type": "code",
   "execution_count": 60,
   "id": "954911d7-cb4f-41a7-9ca0-0f2a4aaf619c",
   "metadata": {},
   "outputs": [],
   "source": [
    "# Fit linear model\n",
    "lm = LinearRegression().fit(X_train[:, :1], y_train)"
   ]
  },
  {
   "cell_type": "markdown",
   "id": "09ae38b1",
   "metadata": {},
   "source": [
    "We now  use\n",
    " the `predict()` function to estimate the response for the test set, and\n",
    " we  use the `mean()` function to calculate the MSE of the $196$ observations in the test set."
   ]
  },
  {
   "cell_type": "code",
   "execution_count": 61,
   "id": "41a311c9-3379-44a1-bdad-48521d0e4ee5",
   "metadata": {},
   "outputs": [
    {
     "data": {
      "text/plain": [
       "24.80212062059356"
      ]
     },
     "execution_count": 61,
     "metadata": {},
     "output_type": "execute_result"
    }
   ],
   "source": [
    "np.mean((y_test - lm.predict(X_test[:, :1]))**2)"
   ]
  },
  {
   "cell_type": "markdown",
   "id": "d0cd124e",
   "metadata": {},
   "source": [
    "Therefore, the estimated test MSE for the linear regression fit is $24.80$. We can use the `PolynomialFeatures` function to estimate the test error for the quadratic and cubic regressions."
   ]
  },
  {
   "cell_type": "code",
   "execution_count": 62,
   "id": "142bce29-65b5-446f-9b91-3c9d43fc54be",
   "metadata": {},
   "outputs": [
    {
     "data": {
      "text/plain": [
       "18.848292603275652"
      ]
     },
     "execution_count": 62,
     "metadata": {},
     "output_type": "execute_result"
    }
   ],
   "source": [
    "lm2 = LinearRegression().fit(X_train[:, :2], y_train)\n",
    "np.mean((y_test - lm2.predict(X_test[:, :2]))**2)"
   ]
  },
  {
   "cell_type": "code",
   "execution_count": 63,
   "id": "11d94c8c-ccc7-46e6-a9c8-62a891d8123c",
   "metadata": {},
   "outputs": [
    {
     "data": {
      "text/plain": [
       "18.805111358604883"
      ]
     },
     "execution_count": 63,
     "metadata": {},
     "output_type": "execute_result"
    }
   ],
   "source": [
    "lm3 = LinearRegression().fit(X_train[:, :3], y_train)\n",
    "np.mean((y_test - lm3.predict(X_test[:, :3]))**2)"
   ]
  },
  {
   "cell_type": "markdown",
   "id": "8d0549e0",
   "metadata": {},
   "source": [
    "These error rates are $18.84$ and $18.80$, respectively.\n",
    "If we choose a different training set instead, then we will obtain somewhat different errors on the validation set."
   ]
  },
  {
   "cell_type": "code",
   "execution_count": 64,
   "id": "259e0074",
   "metadata": {
    "name": "chunk5"
   },
   "outputs": [
    {
     "name": "stdout",
     "output_type": "stream",
     "text": [
      "23.442643969985728\n",
      "18.550198801910305\n",
      "18.59522229455449\n"
     ]
    }
   ],
   "source": [
    "X_train, X_test, y_train, y_test = train_test_split(X, y, train_size=0.5, random_state=2)\n",
    "\n",
    "lm = LinearRegression().fit(X_train[:, :1], y_train)\n",
    "print(np.mean((y_test - lm.predict(X_test[:, :1]))**2))\n",
    "\n",
    "lm2 = LinearRegression().fit(X_train[:, :2], y_train)\n",
    "print(np.mean((y_test - lm2.predict(X_test[:, :2]))**2))\n",
    "\n",
    "lm3 = LinearRegression().fit(X_train[:, :3], y_train)\n",
    "print(np.mean((y_test - lm3.predict(X_test[:, :3]))**2))"
   ]
  },
  {
   "cell_type": "markdown",
   "id": "e1b1497c",
   "metadata": {},
   "source": [
    "Using this split of the observations into a training set and a validation set,\n",
    "we find that the validation set error rates for the models with linear, quadratic, and cubic terms are $24.44$, $18.55$, and $18.59$, respectively.\n",
    "\n",
    "These results are consistent with our previous findings: a model that predicts `mpg` using a quadratic function of `horsepower` performs better than a model that involves only a linear function of `horsepower`, and there is little evidence in favor of a model that uses a cubic function of `horsepower`.\n",
    "\n",
    "## Leave-One-Out Cross-Validation\n",
    "\n",
    "Automatic crossvalidation is not implemente neither in Scikit-Learn or Statmodels linear models. So we explicitly carry LOOCV now using the appropriate Scikit-Learn function.\n",
    "The simplest way to use cross-validation is to call the `cross_val_score` helper function on the estimator and the dataset.\n",
    "The `scoring` parameters defines which scoring function to use, and defaults to eachs estimator internal scoring function.\n",
    "For linear regression the default scoring is done with the $R^2$ coefficient, here we perform the scoring with the mean squared error.\n",
    "Since scoring functions in Scikit-Learn follow the convention that higher return values are better than lower return values, metrics which measure the distance between the model and the data, like `metrics.mean_squared_error`, are available as neg_mean_squared_error which return the negated value of the metric."
   ]
  },
  {
   "cell_type": "code",
   "execution_count": 65,
   "id": "f45d9211-fa1b-4c53-a23e-5af5ae702bf4",
   "metadata": {},
   "outputs": [
    {
     "name": "stdout",
     "output_type": "stream",
     "text": [
      "Mean squared error: 24.231513517929226 +- 36.797315036405344\n"
     ]
    }
   ],
   "source": [
    "lm = LinearRegression()\n",
    "cv_scores = cross_val_score(lm, X[:, :1], y, cv=LeaveOneOut(), scoring='neg_mean_squared_error')\n",
    "print(f'Mean squared error: {abs(cv_scores.mean())} +- {cv_scores.std()}')"
   ]
  },
  {
   "cell_type": "markdown",
   "id": "f64a4086",
   "metadata": {},
   "source": [
    "Our cross-validation estimate for the test error is approximately $24.23$.\n",
    "\n",
    "We can repeat this procedure for increasingly complex polynomial fits.\n",
    " To automate the process, we use a for loop to iteratively fits polynomial regressions for polynomials of order $i=1$ to $i=10$."
   ]
  },
  {
   "cell_type": "code",
   "execution_count": 71,
   "id": "c1c0e33c-3976-4be6-ab3c-f8265d38cc4b",
   "metadata": {},
   "outputs": [
    {
     "name": "stdout",
     "output_type": "stream",
     "text": [
      "Mean squared error: 24.23 +- 36.80\n",
      "Mean squared error: 19.25 +- 35.00\n",
      "Mean squared error: 19.33 +- 35.77\n",
      "Mean squared error: 19.42 +- 35.68\n",
      "Mean squared error: 19.03 +- 35.32\n",
      "Mean squared error: 18.98 +- 35.30\n",
      "Mean squared error: 19.13 +- 35.27\n",
      "Mean squared error: 19.22 +- 35.38\n",
      "Mean squared error: 19.13 +- 35.44\n",
      "Mean squared error: 18.95 +- 35.09\n"
     ]
    },
    {
     "data": {
      "image/png": "[encoded data removed]",
      "text/plain": [
       "<Figure size 432x288 with 1 Axes>"
      ]
     },
     "metadata": {
      "needs_background": "light"
     },
     "output_type": "display_data"
    }
   ],
   "source": [
    "cv_error = []\n",
    "for i in range(1, 11):\n",
    "    cv_scores = cross_val_score(lm, X[:, :i], y, cv=LeaveOneOut(), scoring='neg_mean_squared_error')\n",
    "    print(f'Mean squared error: {abs(cv_scores.mean()):0.2f} +- {cv_scores.std():0.2f}')\n",
    "    cv_error.append(abs(cv_scores.mean()))\n",
    "\n",
    "fig , ax = plt.subplots(figsize=(6,4))\n",
    "ax.plot(range(1, 11), cv_error, linestyle = '-.', marker='o',color='k');\n",
    "ax.set_xlabel('Polynomial Order');\n",
    "ax.set_ylabel('LOOCV MSE');"
   ]
  },
  {
   "cell_type": "markdown",
   "id": "67634a57",
   "metadata": {},
   "source": [
    "As in Figure 5.4, we see a sharp drop in the estimated test MSE between the linear and quadratic fits, but then no clear improvement from using higher-order polynomials.\n",
    "\n",
    "## $k$-Fold Cross-Validation\n",
    "\n",
    "The `cross_val_score` function can also be used to implement $k$-fold CV. Below we use $cv=10$, a common choice for $k$, on the `Auto` data set.\n",
    "We once again set a random seed and initialize a vector in which we will store the CV errors corresponding to the polynomial fits of orders one to ten."
   ]
  },
  {
   "cell_type": "code",
   "execution_count": 72,
   "id": "b4b3b3da-a27e-492b-b5f5-1f0c646b5a38",
   "metadata": {},
   "outputs": [
    {
     "name": "stdout",
     "output_type": "stream",
     "text": [
      "Mean squared error: 24.18 +- 6.87\n",
      "Mean squared error: 19.14 +- 6.67\n",
      "Mean squared error: 19.16 +- 6.75\n",
      "Mean squared error: 19.25 +- 6.57\n",
      "Mean squared error: 18.90 +- 6.04\n",
      "Mean squared error: 18.82 +- 6.03\n",
      "Mean squared error: 18.96 +- 6.07\n",
      "Mean squared error: 19.04 +- 6.21\n",
      "Mean squared error: 18.97 +- 6.36\n",
      "Mean squared error: 18.80 +- 6.33\n"
     ]
    },
    {
     "data": {
      "image/png": "[encoded data removed]",
      "text/plain": [
       "<Figure size 432x288 with 1 Axes>"
      ]
     },
     "metadata": {
      "needs_background": "light"
     },
     "output_type": "display_data"
    }
   ],
   "source": [
    "cv = KFold(10, shuffle=True, random_state=17)\n",
    "cv_error = []\n",
    "for i in range(1, 11):\n",
    "    cv_scores = cross_val_score(lm, X[:, :i], y, cv=cv, scoring='neg_mean_squared_error')\n",
    "    print(f'Mean squared error: {abs(cv_scores.mean()):0.2f} +- {cv_scores.std():0.2f}')\n",
    "    cv_error.append(abs(cv_scores.mean()))\n",
    "\n",
    "fig , ax = plt.subplots(figsize=(6,4))\n",
    "ax.plot(range(1, 11), cv_error, linestyle = '-.', marker='o',color='k');\n",
    "ax.set_xlabel('Polynomial Order');\n",
    "ax.set_ylabel('10-Fold MSE');"
   ]
  },
  {
   "cell_type": "markdown",
   "id": "0c6887a5",
   "metadata": {},
   "source": [
    "Notice that the computation time is shorter than that of LOOCV.\n",
    "(In principle, the computation time for LOOCV for a least squares linear model should be faster than for $k$-fold CV, due to the availability\n",
    "of the formula ( 5.2) for LOOCV; however, unfortunately Scikit-Learn does not make use of this formula.)\n",
    "We still see little evidence that using cubic or higher-order polynomial terms leads to lower test error than simply using a quadratic fit.\n",
    "\n",
    "## The Bootstrap"
   ]
  },
  {
   "cell_type": "markdown",
   "id": "b6cbb6ad",
   "metadata": {},
   "source": [
    "We illustrate the use of the bootstrap in the simple example of Section 5.2, as well as on an example involving estimating the\n",
    "accuracy of the linear regression model on the `Auto` data set.\n",
    "\n",
    "### Estimating the Accuracy of a Statistic of Interest\n",
    "\n",
    "One of the great advantages of the bootstrap approach is that it can be\n",
    "applied in almost all situations. No complicated mathematical calculations\n",
    "are required. Performing a bootstrap analysis in `Python` entails only two\n",
    "steps. First, we must create a function that computes the statistic of\n",
    "interest. Second, implement a `boot` function, to perform the bootstrap by repeatedly\n",
    "sampling observations from the data set with replacement.\n",
    "\n",
    "The `Portfolio` data set in the `ISLR2` package is simulated data of $100$ pairs of returns, generated in the fashion described in Section 5.2.\n",
    "To illustrate the use of the bootstrap on this data, we must first\n",
    "create a function, `alpha`, which takes as input the $(X,Y)$ data\n",
    "as well as a vector indicating which observations should be used to\n",
    "estimate $\\alpha$. The function then outputs the estimate for $\\alpha$\n",
    "based on the selected observations."
   ]
  },
  {
   "cell_type": "code",
   "execution_count": 76,
   "id": "d15a921e-a38d-49a6-826e-c254b07644df",
   "metadata": {},
   "outputs": [
    {
     "data": {
      "text/html": [
       "<div>\n",
       "<style scoped>\n",
       "    .dataframe tbody tr th:only-of-type {\n",
       "        vertical-align: middle;\n",
       "    }\n",
       "\n",
       "    .dataframe tbody tr th {\n",
       "        vertical-align: top;\n",
       "    }\n",
       "\n",
       "    .dataframe thead th {\n",
       "        text-align: right;\n",
       "    }\n",
       "</style>\n",
       "<table border=\"1\" class=\"dataframe\">\n",
       "  <thead>\n",
       "    <tr style=\"text-align: right;\">\n",
       "      <th></th>\n",
       "      <th>X</th>\n",
       "      <th>Y</th>\n",
       "    </tr>\n",
       "  </thead>\n",
       "  <tbody>\n",
       "    <tr>\n",
       "      <th>0</th>\n",
       "      <td>-0.895251</td>\n",
       "      <td>-0.234924</td>\n",
       "    </tr>\n",
       "    <tr>\n",
       "      <th>1</th>\n",
       "      <td>-1.562454</td>\n",
       "      <td>-0.885176</td>\n",
       "    </tr>\n",
       "    <tr>\n",
       "      <th>2</th>\n",
       "      <td>-0.417090</td>\n",
       "      <td>0.271888</td>\n",
       "    </tr>\n",
       "    <tr>\n",
       "      <th>3</th>\n",
       "      <td>1.044356</td>\n",
       "      <td>-0.734198</td>\n",
       "    </tr>\n",
       "    <tr>\n",
       "      <th>4</th>\n",
       "      <td>-0.315568</td>\n",
       "      <td>0.841983</td>\n",
       "    </tr>\n",
       "  </tbody>\n",
       "</table>\n",
       "</div>"
      ],
      "text/plain": [
       "          X         Y\n",
       "0 -0.895251 -0.234924\n",
       "1 -1.562454 -0.885176\n",
       "2 -0.417090  0.271888\n",
       "3  1.044356 -0.734198\n",
       "4 -0.315568  0.841983"
      ]
     },
     "execution_count": 76,
     "metadata": {},
     "output_type": "execute_result"
    }
   ],
   "source": [
    "# load the portfolio data set\n",
    "portfolio = pd.read_csv('data/Portfolio.csv')\n",
    "portfolio.head()"
   ]
  },
  {
   "cell_type": "code",
   "execution_count": 97,
   "id": "1367dbeb-6939-413f-861c-7dc8862be431",
   "metadata": {},
   "outputs": [],
   "source": [
    "# We first need a function aplha to return the alpha statistic eqn. 5.7 in the text\n",
    "def alpha(df, indices):\n",
    "    \"\"\" \n",
    "    Returns the alpha statistic for  the rows defined by indices from dataframe df.\n",
    "    \"\"\"\n",
    "    # Get X, Y\n",
    "    X = df.X[indices].values\n",
    "    Y = df.Y[indices].values\n",
    "    \n",
    "    # np.cov returns full cov matrix we need [0][1] cov(x,y)\n",
    "    return (np.var(Y) - np.cov(X,Y)[0][1])/(np.var(X) + np.var(Y) - 2*np.cov(X,Y)[0][1])"
   ]
  },
  {
   "cell_type": "markdown",
   "id": "76724d5e",
   "metadata": {},
   "source": [
    "This function *returns*, or outputs, an  estimate for $\\alpha$ based on applying ( 5.7) to the observations indexed by the argument `index`.\n",
    "For instance, the following command tells `Python` to estimate $\\alpha$ using\n",
    "all $100$ observations."
   ]
  },
  {
   "cell_type": "code",
   "execution_count": 98,
   "id": "06100bce",
   "metadata": {
    "name": "chunk12"
   },
   "outputs": [
    {
     "data": {
      "text/plain": [
       "0.5766511516104116"
      ]
     },
     "execution_count": 98,
     "metadata": {},
     "output_type": "execute_result"
    }
   ],
   "source": [
    "alpha(portfolio, portfolio.index)"
   ]
  },
  {
   "cell_type": "markdown",
   "id": "75cda089",
   "metadata": {},
   "source": [
    "The next command  uses the `sample()` function to randomly select\n",
    "$100$ observations from the range $1$ to $100$, with replacement. This is equivalent\n",
    "to constructing a new bootstrap data set and recomputing $\\hat{\\alpha}$\n",
    "based on the new data set."
   ]
  },
  {
   "cell_type": "code",
   "execution_count": 114,
   "id": "e9166f4d",
   "metadata": {
    "name": "chunk13"
   },
   "outputs": [
    {
     "data": {
      "text/plain": [
       "0.5117744709121624"
      ]
     },
     "execution_count": 114,
     "metadata": {},
     "output_type": "execute_result"
    }
   ],
   "source": [
    "np.random.seed(7)\n",
    "indices = np.random.choice(portfolio.index, 100, replace=True)\n",
    "alpha(portfolio, indices)"
   ]
  },
  {
   "cell_type": "markdown",
   "id": "33d913d4",
   "metadata": {},
   "source": [
    "We can implement a bootstrap analysis by performing this command many times, recording all of\n",
    "the corresponding estimates for $\\alpha$, and computing the resulting\n",
    "standard deviation.\n",
    "However, the `boot()` function automates this approach. Below we produce $R=1,000$ bootstrap estimates for $\\alpha$.\n"
   ]
  },
  {
   "cell_type": "code",
   "execution_count": 133,
   "id": "3c3c68ef-f4e6-4b8f-ab75-75239affeb5c",
   "metadata": {},
   "outputs": [],
   "source": [
    "def boot(data, statsfunc, num_bootstrap_samples):\n",
    "    \"\"\"\n",
    "    Returns the SE of the statistic returned by statsfunc when applied to data using num_bootstrap samples.\n",
    "    \"\"\"\n",
    "    samples = []\n",
    "    sample_size = len(data)\n",
    "    for sample in range(num_bootstrap_samples):\n",
    "        # apply our stats_func to generate a sample statistic\n",
    "        indices = np.random.choice(data.index, sample_size, replace=True)\n",
    "        samples.append(statsfunc(data, indices))\n",
    "    # compute the std of the statistic samples\n",
    "    se = np.std(samples, axis=0)\n",
    "    \n",
    "    print('\\nBootstrapped Std. Error(s) =', se)"
   ]
  },
  {
   "cell_type": "code",
   "execution_count": 134,
   "id": "b4d57757",
   "metadata": {
    "lines_to_next_cell": 2,
    "name": "chunk14"
   },
   "outputs": [
    {
     "name": "stdout",
     "output_type": "stream",
     "text": [
      "\n",
      "Bootstrapped Std. Error(s) = 0.0910757862484383\n"
     ]
    }
   ],
   "source": [
    "boot(portfolio, alpha, 1000)"
   ]
  },
  {
   "cell_type": "markdown",
   "id": "58823115",
   "metadata": {},
   "source": [
    "The final output shows that using the original data, $\\hat{\\alpha}=0.576$,\n",
    "and that the bootstrap estimate for ${\\rm SE}(\\hat{\\alpha})$ is $0.092$.\n",
    "\n",
    "### Estimating the Accuracy of a Linear Regression Model\n",
    "\n",
    "The bootstrap approach can be used  to assess the\n",
    "variability of the coefficient estimates and predictions from a statistical learning method. Here we use the bootstrap approach in order to assess the variability of\n",
    "the estimates for $\\beta_0$ and $\\beta_1$, the intercept and slope terms for the linear regression model\n",
    "that uses  `horsepower` to predict `mpg` in the `Auto` data set. We will compare the estimates obtained using the bootstrap to those obtained using the formulas\n",
    "for ${\\rm SE}(\\hat{\\beta}_0)$ and ${\\rm SE}(\\hat{\\beta}_1)$ described\n",
    "in Section 3.1.2.\n",
    "\n",
    "We first create a simple function, `boot_fn()`, which takes in the\n",
    "`Auto` data set as well as a set of indices for the observations, and\n",
    "returns the intercept and slope estimates for the linear regression model. We then apply this function\n",
    "to the full set of $392$ observations in order to compute the estimates of $\\beta_0$ and $\\beta_1$ on the entire data set using the usual linear regression coefficient estimate\n",
    "formulas from Chapter 3."
   ]
  },
  {
   "cell_type": "code",
   "execution_count": 117,
   "id": "25653fb6-6188-48a1-9939-6bffc74dda24",
   "metadata": {},
   "outputs": [],
   "source": [
    "import statsmodels.api as sm"
   ]
  },
  {
   "cell_type": "code",
   "execution_count": 127,
   "id": "a24e3853-9de1-4c43-962a-f8f5e3aded04",
   "metadata": {},
   "outputs": [],
   "source": [
    "def boot_fn(df, indices):\n",
    "    X = df.horsepower[indices].values\n",
    "    X = sm.add_constant(X)\n",
    "    y = df.mpg[indices].values\n",
    "    lm_fit = sm.OLS(y, X).fit()\n",
    "    return lm_fit.params"
   ]
  },
  {
   "cell_type": "code",
   "execution_count": 135,
   "id": "ce509ccb-9db6-48a9-aaeb-d28d387689d0",
   "metadata": {},
   "outputs": [
    {
     "data": {
      "text/plain": [
       "array([39.93586102, -0.15784473])"
      ]
     },
     "execution_count": 135,
     "metadata": {},
     "output_type": "execute_result"
    }
   ],
   "source": [
    "boot_fn(Auto, Auto.index)"
   ]
  },
  {
   "cell_type": "markdown",
   "id": "7b2c04cf",
   "metadata": {},
   "source": [
    " The `boot()` function can also be used in order to create\n",
    " bootstrap estimates for the intercept and slope terms by randomly sampling from among the observations with replacement. Here we give two examples."
   ]
  },
  {
   "cell_type": "code",
   "execution_count": 137,
   "id": "712bff3e-03ec-47c9-b60d-a9c34dfc785e",
   "metadata": {},
   "outputs": [
    {
     "data": {
      "text/plain": [
       "array([39.65847877, -0.15589835])"
      ]
     },
     "execution_count": 137,
     "metadata": {},
     "output_type": "execute_result"
    }
   ],
   "source": [
    "np.random.seed(1)\n",
    "indices = np.random.choice(Auto.index, len(Auto), replace=True)\n",
    "boot_fn(Auto, indices)"
   ]
  },
  {
   "cell_type": "code",
   "execution_count": 138,
   "id": "3e7173d3-2be4-41f6-9c9f-0b643d43d44b",
   "metadata": {},
   "outputs": [
    {
     "data": {
      "text/plain": [
       "array([40.73327098, -0.16390148])"
      ]
     },
     "execution_count": 138,
     "metadata": {},
     "output_type": "execute_result"
    }
   ],
   "source": [
    "indices = np.random.choice(Auto.index, len(Auto), replace=True)\n",
    "boot_fn(Auto, indices)"
   ]
  },
  {
   "cell_type": "markdown",
   "id": "45b3bb50",
   "metadata": {},
   "source": [
    "Next, we use the `boot()` function to compute the standard errors of 1,000 bootstrap estimates for the intercept and slope terms."
   ]
  },
  {
   "cell_type": "code",
   "execution_count": 139,
   "id": "becb7122",
   "metadata": {
    "name": "chunk17"
   },
   "outputs": [
    {
     "name": "stdout",
     "output_type": "stream",
     "text": [
      "\n",
      "Bootstrapped Std. Error(s) = [0.82541249 0.0071347 ]\n"
     ]
    }
   ],
   "source": [
    "boot(Auto, boot_fn, 1000)"
   ]
  },
  {
   "cell_type": "markdown",
   "id": "f8b27a40",
   "metadata": {},
   "source": [
    "This indicates that the bootstrap estimate for ${\\rm SE}(\\hat{\\beta}_0)$ is $0.83$, and that the bootstrap estimate for ${\\rm SE}(\\hat{\\beta}_1)$ is $0.0072$.\n",
    "As discussed in Section 3.1.2, standard formulas can be used to compute the standard errors for the regression coefficients in a linear model. These can be obtained using the  `summary()` function."
   ]
  },
  {
   "cell_type": "code",
   "execution_count": 154,
   "id": "8a185638-fa32-4ee9-a6fb-721d9f63e028",
   "metadata": {},
   "outputs": [
    {
     "data": {
      "text/html": [
       "<table class=\"simpletable\">\n",
       "<tr>\n",
       "    <td></td>       <th>coef</th>     <th>std err</th>      <th>t</th>      <th>P>|t|</th>  <th>[0.025</th>    <th>0.975]</th>  \n",
       "</tr>\n",
       "<tr>\n",
       "  <th>const</th> <td>   39.9359</td> <td>    0.717</td> <td>   55.660</td> <td> 0.000</td> <td>   38.525</td> <td>   41.347</td>\n",
       "</tr>\n",
       "<tr>\n",
       "  <th>x1</th>    <td>   -0.1578</td> <td>    0.006</td> <td>  -24.489</td> <td> 0.000</td> <td>   -0.171</td> <td>   -0.145</td>\n",
       "</tr>\n",
       "</table>"
      ],
      "text/plain": [
       "<class 'statsmodels.iolib.table.SimpleTable'>"
      ]
     },
     "execution_count": 154,
     "metadata": {},
     "output_type": "execute_result"
    }
   ],
   "source": [
    "sm.OLS(y, sm.add_constant(X[:, 0])).fit().summary().tables[1]"
   ]
  },
  {
   "cell_type": "markdown",
   "id": "48a4d5a4",
   "metadata": {},
   "source": [
    "The standard error estimates for $\\hat{\\beta}_0$ and\n",
    "$\\hat{\\beta}_1$ obtained using the formulas from\n",
    "Section 3.1.2 are $0.717$ for the intercept and $0.0064$\n",
    "for the slope. Interestingly, these are somewhat different from the\n",
    "estimates obtained using the bootstrap.  Does this indicate a problem\n",
    "with the bootstrap? In fact, it suggests the opposite.  Recall that\n",
    "the standard formulas given in Equation 3.8 on page 66 rely on certain assumptions. For example, they depend\n",
    "on the unknown parameter $\\sigma^2$, the noise variance. We then estimate $\\sigma^2$\n",
    "using the RSS. Now although the formulas for the standard errors do not rely on the linear model\n",
    "being correct, the estimate for $\\sigma^2$ does.\n",
    "We see in\n",
    "Figure 3.8 on page 91 that there is a non-linear relationship in\n",
    "the data, and so the residuals from a linear fit will be inflated, and so will $\\hat{\\sigma}^2$.\n",
    "Secondly, the standard formulas assume (somewhat unrealistically) that the $x_i$ are fixed, and all the variability comes from the variation in the errors $\\epsilon_i$.\n",
    " The bootstrap approach does not rely on any of these assumptions, and so it is\n",
    "likely giving a more accurate estimate of the standard errors of\n",
    "$\\hat{\\beta}_0$ and $\\hat{\\beta}_1$ than is the `summary()`\n",
    "function.\n",
    "\n",
    "Below we compute the bootstrap standard error estimates and the standard\n",
    "linear regression estimates that result from fitting the quadratic model to the data. Since this model provides a good fit to the data (Figure 3.8), there is now a better correspondence between the bootstrap estimates and the standard estimates of ${\\rm SE}(\\hat{\\beta}_0)$, ${\\rm SE}(\\hat{\\beta}_1)$ and ${\\rm SE}(\\hat{\\beta}_2)$."
   ]
  },
  {
   "cell_type": "code",
   "execution_count": 155,
   "id": "4d5ca6e1",
   "metadata": {
    "lines_to_next_cell": 0,
    "name": "chunk19"
   },
   "outputs": [
    {
     "name": "stdout",
     "output_type": "stream",
     "text": [
      "\n",
      "Bootstrapped Std. Error(s) = [2.09474698e+00 3.32609501e-02 1.19708959e-04]\n"
     ]
    }
   ],
   "source": [
    "def boot_fn(df, indices):\n",
    "    X = np.column_stack([df.horsepower[indices].values, df.horsepower[indices].values**2])\n",
    "    X = sm.add_constant(X)\n",
    "    y = df.mpg[indices].values\n",
    "    lm_fit = sm.OLS(y, X).fit()\n",
    "    return lm_fit.params\n",
    "\n",
    "boot(Auto, boot_fn, 1000)"
   ]
  },
  {
   "cell_type": "code",
   "execution_count": 156,
   "id": "ab8a5473-b4d0-4676-83b7-74d3b955d9ab",
   "metadata": {},
   "outputs": [
    {
     "data": {
      "text/html": [
       "<table class=\"simpletable\">\n",
       "<tr>\n",
       "    <td></td>       <th>coef</th>     <th>std err</th>      <th>t</th>      <th>P>|t|</th>  <th>[0.025</th>    <th>0.975]</th>  \n",
       "</tr>\n",
       "<tr>\n",
       "  <th>const</th> <td>   56.9001</td> <td>    1.800</td> <td>   31.604</td> <td> 0.000</td> <td>   53.360</td> <td>   60.440</td>\n",
       "</tr>\n",
       "<tr>\n",
       "  <th>x1</th>    <td>   -0.4662</td> <td>    0.031</td> <td>  -14.978</td> <td> 0.000</td> <td>   -0.527</td> <td>   -0.405</td>\n",
       "</tr>\n",
       "<tr>\n",
       "  <th>x2</th>    <td>    0.0012</td> <td>    0.000</td> <td>   10.080</td> <td> 0.000</td> <td>    0.001</td> <td>    0.001</td>\n",
       "</tr>\n",
       "</table>"
      ],
      "text/plain": [
       "<class 'statsmodels.iolib.table.SimpleTable'>"
      ]
     },
     "execution_count": 156,
     "metadata": {},
     "output_type": "execute_result"
    }
   ],
   "source": [
    "sm.OLS(y, sm.add_constant(X[:, :2])).fit().summary().tables[1]"
   ]
  }
 ],
 "metadata": {
  "celltoolbar": "Edit Metadata",
  "jupytext": {
   "formats": "ipynb,Rmd"
  },
  "kernelspec": {
   "display_name": "Python 3 (ipykernel)",
   "language": "python",
   "name": "python3"
  },
  "language_info": {
   "codemirror_mode": {
    "name": "ipython",
    "version": 3
   },
   "file_extension": ".py",
   "mimetype": "text/x-python",
   "name": "python",
   "nbconvert_exporter": "python",
   "pygments_lexer": "ipython3",
   "version": "3.9.13"
  },
  "substitutions": {
   "ISLPmod": "`ISLP`",
   "Rlang": "`R`",
   "mpl": "`matplotlib`",
   "numpy": "`numpy`",
   "pandas": "`pandas`",
   "pylang": "`python`",
   "smlib": "`statsmodels`"
  }
 },
 "nbformat": 4,
 "nbformat_minor": 5
}
