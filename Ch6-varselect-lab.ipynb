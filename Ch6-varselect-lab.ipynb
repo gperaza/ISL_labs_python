{
 "cells": [
  {
   "cell_type": "markdown",
   "id": "67f91564",
   "metadata": {
    "tags": []
   },
   "source": [
    "# Lab: Linear Models and Regularization Methods"
   ]
  },
  {
   "cell_type": "code",
   "execution_count": 1,
   "id": "2ad2d049-67e1-47a5-b5e7-5edcf9da78ef",
   "metadata": {},
   "outputs": [],
   "source": [
    "import pandas as pd\n",
    "import statsmodels.api as sm\n",
    "from itertools import combinations\n",
    "import numpy as np\n",
    "from sklearn.linear_model import LinearRegression\n",
    "import matplotlib.pyplot as plt"
   ]
  },
  {
   "cell_type": "markdown",
   "id": "44b6f1eb-9a91-4152-8dc4-bf19ff5ba96b",
   "metadata": {},
   "source": [
    "## Subset Selection Methods"
   ]
  },
  {
   "cell_type": "markdown",
   "id": "3b52cbf5-d8d3-42d0-a959-5ccaa4d80962",
   "metadata": {},
   "source": [
    "### Best Subset Selection"
   ]
  },
  {
   "cell_type": "markdown",
   "id": "780db233",
   "metadata": {},
   "source": [
    "Here we apply the best subset selection approach to the `Hitters` data.\n",
    "We wish to predict a baseball player's `Salary` on the basis of various statistics associated with performance in the previous year.\n",
    "\n",
    "First of all, we note that the `Salary` variable is missing for some of the players.  The `isna()` function can be used to identify the missing observations. It returns a vector of the same length as the input vector, with a `TRUE` for any elements that are missing, and a `FALSE` for non-missing elements.\n",
    "The `sum()` function can then be used to count all of the missing elements."
   ]
  },
  {
   "cell_type": "code",
   "execution_count": 2,
   "id": "9b70db95-c6ef-4027-bc29-9b8bd6b7f592",
   "metadata": {},
   "outputs": [
    {
     "data": {
      "text/plain": [
       "Index(['AtBat', 'Hits', 'HmRun', 'Runs', 'RBI', 'Walks', 'Years', 'CAtBat',\n",
       "       'CHits', 'CHmRun', 'CRuns', 'CRBI', 'CWalks', 'League', 'Division',\n",
       "       'PutOuts', 'Assists', 'Errors', 'Salary', 'NewLeague'],\n",
       "      dtype='object')"
      ]
     },
     "execution_count": 2,
     "metadata": {},
     "output_type": "execute_result"
    }
   ],
   "source": [
    "Hitters = pd.read_csv('data/Hitters.csv')\n",
    "Hitters.columns"
   ]
  },
  {
   "cell_type": "code",
   "execution_count": 3,
   "id": "590c6380-49e9-41d8-bb69-b7d40d6fb913",
   "metadata": {},
   "outputs": [
    {
     "data": {
      "text/plain": [
       "59"
      ]
     },
     "execution_count": 3,
     "metadata": {},
     "output_type": "execute_result"
    }
   ],
   "source": [
    "Hitters.Salary.isna().sum()"
   ]
  },
  {
   "cell_type": "markdown",
   "id": "09ead673",
   "metadata": {},
   "source": [
    "Hence we see that `Salary` is missing for $59$ players. The `na.omit()` function removes all of the rows that have missing values in any variable."
   ]
  },
  {
   "cell_type": "code",
   "execution_count": 5,
   "id": "03ec7af4-5528-4729-9e3d-933c1a7037cd",
   "metadata": {},
   "outputs": [
    {
     "data": {
      "text/plain": [
       "(263, 20)"
      ]
     },
     "execution_count": 5,
     "metadata": {},
     "output_type": "execute_result"
    }
   ],
   "source": [
    "Hitters = Hitters.dropna()\n",
    "Hitters.shape"
   ]
  },
  {
   "cell_type": "code",
   "execution_count": 6,
   "id": "a628c8aa-22cf-4525-962d-3ba56411ed9f",
   "metadata": {},
   "outputs": [
    {
     "data": {
      "text/plain": [
       "0"
      ]
     },
     "execution_count": 6,
     "metadata": {},
     "output_type": "execute_result"
    }
   ],
   "source": [
    "Hitters.Salary.isna().sum()"
   ]
  },
  {
   "cell_type": "code",
   "execution_count": 7,
   "id": "902ecbb5-2d9e-4b11-8125-d51b8e922997",
   "metadata": {},
   "outputs": [
    {
     "data": {
      "text/html": [
       "<div>\n",
       "<style scoped>\n",
       "    .dataframe tbody tr th:only-of-type {\n",
       "        vertical-align: middle;\n",
       "    }\n",
       "\n",
       "    .dataframe tbody tr th {\n",
       "        vertical-align: top;\n",
       "    }\n",
       "\n",
       "    .dataframe thead th {\n",
       "        text-align: right;\n",
       "    }\n",
       "</style>\n",
       "<table border=\"1\" class=\"dataframe\">\n",
       "  <thead>\n",
       "    <tr style=\"text-align: right;\">\n",
       "      <th></th>\n",
       "      <th>AtBat</th>\n",
       "      <th>Hits</th>\n",
       "      <th>HmRun</th>\n",
       "      <th>Runs</th>\n",
       "      <th>RBI</th>\n",
       "      <th>Walks</th>\n",
       "      <th>Years</th>\n",
       "      <th>CAtBat</th>\n",
       "      <th>CHits</th>\n",
       "      <th>CHmRun</th>\n",
       "      <th>CRuns</th>\n",
       "      <th>CRBI</th>\n",
       "      <th>CWalks</th>\n",
       "      <th>League</th>\n",
       "      <th>Division</th>\n",
       "      <th>PutOuts</th>\n",
       "      <th>Assists</th>\n",
       "      <th>Errors</th>\n",
       "      <th>Salary</th>\n",
       "      <th>NewLeague</th>\n",
       "    </tr>\n",
       "  </thead>\n",
       "  <tbody>\n",
       "    <tr>\n",
       "      <th>1</th>\n",
       "      <td>315</td>\n",
       "      <td>81</td>\n",
       "      <td>7</td>\n",
       "      <td>24</td>\n",
       "      <td>38</td>\n",
       "      <td>39</td>\n",
       "      <td>14</td>\n",
       "      <td>3449</td>\n",
       "      <td>835</td>\n",
       "      <td>69</td>\n",
       "      <td>321</td>\n",
       "      <td>414</td>\n",
       "      <td>375</td>\n",
       "      <td>N</td>\n",
       "      <td>W</td>\n",
       "      <td>632</td>\n",
       "      <td>43</td>\n",
       "      <td>10</td>\n",
       "      <td>475.0</td>\n",
       "      <td>N</td>\n",
       "    </tr>\n",
       "    <tr>\n",
       "      <th>2</th>\n",
       "      <td>479</td>\n",
       "      <td>130</td>\n",
       "      <td>18</td>\n",
       "      <td>66</td>\n",
       "      <td>72</td>\n",
       "      <td>76</td>\n",
       "      <td>3</td>\n",
       "      <td>1624</td>\n",
       "      <td>457</td>\n",
       "      <td>63</td>\n",
       "      <td>224</td>\n",
       "      <td>266</td>\n",
       "      <td>263</td>\n",
       "      <td>A</td>\n",
       "      <td>W</td>\n",
       "      <td>880</td>\n",
       "      <td>82</td>\n",
       "      <td>14</td>\n",
       "      <td>480.0</td>\n",
       "      <td>A</td>\n",
       "    </tr>\n",
       "    <tr>\n",
       "      <th>3</th>\n",
       "      <td>496</td>\n",
       "      <td>141</td>\n",
       "      <td>20</td>\n",
       "      <td>65</td>\n",
       "      <td>78</td>\n",
       "      <td>37</td>\n",
       "      <td>11</td>\n",
       "      <td>5628</td>\n",
       "      <td>1575</td>\n",
       "      <td>225</td>\n",
       "      <td>828</td>\n",
       "      <td>838</td>\n",
       "      <td>354</td>\n",
       "      <td>N</td>\n",
       "      <td>E</td>\n",
       "      <td>200</td>\n",
       "      <td>11</td>\n",
       "      <td>3</td>\n",
       "      <td>500.0</td>\n",
       "      <td>N</td>\n",
       "    </tr>\n",
       "    <tr>\n",
       "      <th>4</th>\n",
       "      <td>321</td>\n",
       "      <td>87</td>\n",
       "      <td>10</td>\n",
       "      <td>39</td>\n",
       "      <td>42</td>\n",
       "      <td>30</td>\n",
       "      <td>2</td>\n",
       "      <td>396</td>\n",
       "      <td>101</td>\n",
       "      <td>12</td>\n",
       "      <td>48</td>\n",
       "      <td>46</td>\n",
       "      <td>33</td>\n",
       "      <td>N</td>\n",
       "      <td>E</td>\n",
       "      <td>805</td>\n",
       "      <td>40</td>\n",
       "      <td>4</td>\n",
       "      <td>91.5</td>\n",
       "      <td>N</td>\n",
       "    </tr>\n",
       "    <tr>\n",
       "      <th>5</th>\n",
       "      <td>594</td>\n",
       "      <td>169</td>\n",
       "      <td>4</td>\n",
       "      <td>74</td>\n",
       "      <td>51</td>\n",
       "      <td>35</td>\n",
       "      <td>11</td>\n",
       "      <td>4408</td>\n",
       "      <td>1133</td>\n",
       "      <td>19</td>\n",
       "      <td>501</td>\n",
       "      <td>336</td>\n",
       "      <td>194</td>\n",
       "      <td>A</td>\n",
       "      <td>W</td>\n",
       "      <td>282</td>\n",
       "      <td>421</td>\n",
       "      <td>25</td>\n",
       "      <td>750.0</td>\n",
       "      <td>A</td>\n",
       "    </tr>\n",
       "  </tbody>\n",
       "</table>\n",
       "</div>"
      ],
      "text/plain": [
       "   AtBat  Hits  HmRun  Runs  RBI  Walks  Years  CAtBat  CHits  CHmRun  CRuns  \\\n",
       "1    315    81      7    24   38     39     14    3449    835      69    321   \n",
       "2    479   130     18    66   72     76      3    1624    457      63    224   \n",
       "3    496   141     20    65   78     37     11    5628   1575     225    828   \n",
       "4    321    87     10    39   42     30      2     396    101      12     48   \n",
       "5    594   169      4    74   51     35     11    4408   1133      19    501   \n",
       "\n",
       "   CRBI  CWalks League Division  PutOuts  Assists  Errors  Salary NewLeague  \n",
       "1   414     375      N        W      632       43      10   475.0         N  \n",
       "2   266     263      A        W      880       82      14   480.0         A  \n",
       "3   838     354      N        E      200       11       3   500.0         N  \n",
       "4    46      33      N        E      805       40       4    91.5         N  \n",
       "5   336     194      A        W      282      421      25   750.0         A  "
      ]
     },
     "execution_count": 7,
     "metadata": {},
     "output_type": "execute_result"
    }
   ],
   "source": [
    "Hitters.head()"
   ]
  },
  {
   "cell_type": "markdown",
   "id": "22166142-2960-48a1-b943-f80e5fe6ed84",
   "metadata": {},
   "source": [
    "Then we select our data matrix and target variable."
   ]
  },
  {
   "cell_type": "code",
   "execution_count": 8,
   "id": "57f64e0a-fe09-436f-8512-bd568173c56a",
   "metadata": {},
   "outputs": [],
   "source": [
    "X = Hitters.drop(columns='Salary')\n",
    "y = Hitters.Salary"
   ]
  },
  {
   "cell_type": "markdown",
   "id": "aaed675a-08c4-4e85-831a-256f1a53f86b",
   "metadata": {},
   "source": [
    "Since there is no available Python module to perform best subset selection, define some helper functions to train and score the models."
   ]
  },
  {
   "cell_type": "code",
   "execution_count": 9,
   "id": "6dc9407d-64f0-45b0-99b7-66a203b47314",
   "metadata": {},
   "outputs": [],
   "source": [
    "def fit_model(y, X):\n",
    "    # Fit the model\n",
    "    X = pd.get_dummies(X, drop_first=True)\n",
    "    X = sm.add_constant(X)\n",
    "    model = sm.OLS(y, X).fit()\n",
    "\n",
    "    return model\n",
    "\n",
    "\n",
    "def regsubsets(y, X, nvmax=8):\n",
    "    columns = X.columns\n",
    "    \n",
    "    # Iterate over models with k columns, find best k model\n",
    "    models = []\n",
    "    for k in range(1, min(nvmax, len(columns)) + 1):\n",
    "        \n",
    "        # Find best k model using RSS\n",
    "        min_rss = np.inf\n",
    "        for subset in combinations(columns, k):\n",
    "            model_k = fit_model(y, X[list(subset)])\n",
    "            if model_k.ssr < min_rss:\n",
    "                best_subset = subset\n",
    "                best_k = model_k\n",
    "                min_rss = model_k.ssr\n",
    "\n",
    "        # For best k model get scores\n",
    "        scores = {\n",
    "            'k': k,\n",
    "            'subset': best_subset,\n",
    "            'model': best_k,\n",
    "            'rsq': best_k.rsquared,\n",
    "            'rss': best_k.ssr ,\n",
    "            'adjr2': best_k.rsquared_adj,\n",
    "            'bic': best_k.bic,\n",
    "            'aic': best_k.aic\n",
    "        }\n",
    "        models.append(scores)\n",
    "    return pd.DataFrame(models)"
   ]
  },
  {
   "cell_type": "code",
   "execution_count": 54,
   "id": "2a22b0f0-c7ee-4923-b32f-1b4ea1cb9778",
   "metadata": {},
   "outputs": [
    {
     "name": "stdout",
     "output_type": "stream",
     "text": [
      "CPU times: user 13min 40s, sys: 4.3 s, total: 13min 44s\n",
      "Wall time: 13min 44s\n"
     ]
    },
    {
     "data": {
      "text/html": [
       "<div>\n",
       "<style scoped>\n",
       "    .dataframe tbody tr th:only-of-type {\n",
       "        vertical-align: middle;\n",
       "    }\n",
       "\n",
       "    .dataframe tbody tr th {\n",
       "        vertical-align: top;\n",
       "    }\n",
       "\n",
       "    .dataframe thead th {\n",
       "        text-align: right;\n",
       "    }\n",
       "</style>\n",
       "<table border=\"1\" class=\"dataframe\">\n",
       "  <thead>\n",
       "    <tr style=\"text-align: right;\">\n",
       "      <th></th>\n",
       "      <th>k</th>\n",
       "      <th>subset</th>\n",
       "      <th>model</th>\n",
       "      <th>rsq</th>\n",
       "      <th>rss</th>\n",
       "      <th>adjr2</th>\n",
       "      <th>bic</th>\n",
       "      <th>aic</th>\n",
       "    </tr>\n",
       "  </thead>\n",
       "  <tbody>\n",
       "    <tr>\n",
       "      <th>0</th>\n",
       "      <td>1</td>\n",
       "      <td>(CRBI,)</td>\n",
       "      <td>&lt;statsmodels.regression.linear_model.Regressio...</td>\n",
       "      <td>0.321450</td>\n",
       "      <td>3.617968e+07</td>\n",
       "      <td>0.318850</td>\n",
       "      <td>3869.283615</td>\n",
       "      <td>3862.139307</td>\n",
       "    </tr>\n",
       "    <tr>\n",
       "      <th>1</th>\n",
       "      <td>2</td>\n",
       "      <td>(Hits, CRBI)</td>\n",
       "      <td>&lt;statsmodels.regression.linear_model.Regressio...</td>\n",
       "      <td>0.425224</td>\n",
       "      <td>3.064656e+07</td>\n",
       "      <td>0.420802</td>\n",
       "      <td>3831.203767</td>\n",
       "      <td>3820.487305</td>\n",
       "    </tr>\n",
       "    <tr>\n",
       "      <th>2</th>\n",
       "      <td>3</td>\n",
       "      <td>(Hits, CRBI, PutOuts)</td>\n",
       "      <td>&lt;statsmodels.regression.linear_model.Regressio...</td>\n",
       "      <td>0.451429</td>\n",
       "      <td>2.924930e+07</td>\n",
       "      <td>0.445075</td>\n",
       "      <td>3824.503056</td>\n",
       "      <td>3810.214440</td>\n",
       "    </tr>\n",
       "    <tr>\n",
       "      <th>3</th>\n",
       "      <td>4</td>\n",
       "      <td>(Hits, CRBI, Division, PutOuts)</td>\n",
       "      <td>&lt;statsmodels.regression.linear_model.Regressio...</td>\n",
       "      <td>0.475407</td>\n",
       "      <td>2.797085e+07</td>\n",
       "      <td>0.467273</td>\n",
       "      <td>3818.321064</td>\n",
       "      <td>3800.460294</td>\n",
       "    </tr>\n",
       "    <tr>\n",
       "      <th>4</th>\n",
       "      <td>5</td>\n",
       "      <td>(AtBat, Hits, CRBI, Division, PutOuts)</td>\n",
       "      <td>&lt;statsmodels.regression.linear_model.Regressio...</td>\n",
       "      <td>0.490804</td>\n",
       "      <td>2.714990e+07</td>\n",
       "      <td>0.480897</td>\n",
       "      <td>3816.058548</td>\n",
       "      <td>3794.625624</td>\n",
       "    </tr>\n",
       "    <tr>\n",
       "      <th>5</th>\n",
       "      <td>6</td>\n",
       "      <td>(AtBat, Hits, Walks, CRBI, Division, PutOuts)</td>\n",
       "      <td>&lt;statsmodels.regression.linear_model.Regressio...</td>\n",
       "      <td>0.508715</td>\n",
       "      <td>2.619490e+07</td>\n",
       "      <td>0.497200</td>\n",
       "      <td>3812.213078</td>\n",
       "      <td>3787.208000</td>\n",
       "    </tr>\n",
       "    <tr>\n",
       "      <th>6</th>\n",
       "      <td>7</td>\n",
       "      <td>(Hits, Walks, CAtBat, CHits, CHmRun, Division,...</td>\n",
       "      <td>&lt;statsmodels.regression.linear_model.Regressio...</td>\n",
       "      <td>0.514123</td>\n",
       "      <td>2.590655e+07</td>\n",
       "      <td>0.500785</td>\n",
       "      <td>3814.874046</td>\n",
       "      <td>3786.296813</td>\n",
       "    </tr>\n",
       "    <tr>\n",
       "      <th>7</th>\n",
       "      <td>8</td>\n",
       "      <td>(AtBat, Hits, Walks, CHmRun, CRuns, CWalks, Di...</td>\n",
       "      <td>&lt;statsmodels.regression.linear_model.Regressio...</td>\n",
       "      <td>0.528557</td>\n",
       "      <td>2.513693e+07</td>\n",
       "      <td>0.513708</td>\n",
       "      <td>3812.514735</td>\n",
       "      <td>3780.365349</td>\n",
       "    </tr>\n",
       "    <tr>\n",
       "      <th>8</th>\n",
       "      <td>9</td>\n",
       "      <td>(AtBat, Hits, Walks, CAtBat, CRuns, CRBI, CWal...</td>\n",
       "      <td>&lt;statsmodels.regression.linear_model.Regressio...</td>\n",
       "      <td>0.534612</td>\n",
       "      <td>2.481405e+07</td>\n",
       "      <td>0.518057</td>\n",
       "      <td>3814.686826</td>\n",
       "      <td>3778.965286</td>\n",
       "    </tr>\n",
       "    <tr>\n",
       "      <th>9</th>\n",
       "      <td>10</td>\n",
       "      <td>(AtBat, Hits, Walks, CAtBat, CRuns, CRBI, CWal...</td>\n",
       "      <td>&lt;statsmodels.regression.linear_model.Regressio...</td>\n",
       "      <td>0.540495</td>\n",
       "      <td>2.450040e+07</td>\n",
       "      <td>0.522261</td>\n",
       "      <td>3816.913469</td>\n",
       "      <td>3777.619775</td>\n",
       "    </tr>\n",
       "    <tr>\n",
       "      <th>10</th>\n",
       "      <td>11</td>\n",
       "      <td>(AtBat, Hits, Walks, CAtBat, CRuns, CRBI, CWal...</td>\n",
       "      <td>&lt;statsmodels.regression.linear_model.Regressio...</td>\n",
       "      <td>0.542615</td>\n",
       "      <td>2.438735e+07</td>\n",
       "      <td>0.522571</td>\n",
       "      <td>3821.269208</td>\n",
       "      <td>3778.403359</td>\n",
       "    </tr>\n",
       "    <tr>\n",
       "      <th>11</th>\n",
       "      <td>12</td>\n",
       "      <td>(AtBat, Hits, Runs, Walks, CAtBat, CRuns, CRBI...</td>\n",
       "      <td>&lt;statsmodels.regression.linear_model.Regressio...</td>\n",
       "      <td>0.543630</td>\n",
       "      <td>2.433323e+07</td>\n",
       "      <td>0.521724</td>\n",
       "      <td>3826.257147</td>\n",
       "      <td>3779.819145</td>\n",
       "    </tr>\n",
       "    <tr>\n",
       "      <th>12</th>\n",
       "      <td>13</td>\n",
       "      <td>(AtBat, Hits, Runs, Walks, CAtBat, CRuns, CRBI...</td>\n",
       "      <td>&lt;statsmodels.regression.linear_model.Regressio...</td>\n",
       "      <td>0.544457</td>\n",
       "      <td>2.428915e+07</td>\n",
       "      <td>0.520674</td>\n",
       "      <td>3831.352392</td>\n",
       "      <td>3781.342235</td>\n",
       "    </tr>\n",
       "    <tr>\n",
       "      <th>13</th>\n",
       "      <td>14</td>\n",
       "      <td>(AtBat, Hits, HmRun, Runs, Walks, CAtBat, CRun...</td>\n",
       "      <td>&lt;statsmodels.regression.linear_model.Regressio...</td>\n",
       "      <td>0.545216</td>\n",
       "      <td>2.424866e+07</td>\n",
       "      <td>0.519543</td>\n",
       "      <td>3836.485787</td>\n",
       "      <td>3782.903476</td>\n",
       "    </tr>\n",
       "    <tr>\n",
       "      <th>14</th>\n",
       "      <td>15</td>\n",
       "      <td>(AtBat, Hits, HmRun, Runs, Walks, CAtBat, CHit...</td>\n",
       "      <td>&lt;statsmodels.regression.linear_model.Regressio...</td>\n",
       "      <td>0.545469</td>\n",
       "      <td>2.423518e+07</td>\n",
       "      <td>0.517866</td>\n",
       "      <td>3841.911664</td>\n",
       "      <td>3784.757199</td>\n",
       "    </tr>\n",
       "    <tr>\n",
       "      <th>15</th>\n",
       "      <td>16</td>\n",
       "      <td>(AtBat, Hits, HmRun, Runs, RBI, Walks, CAtBat,...</td>\n",
       "      <td>&lt;statsmodels.regression.linear_model.Regressio...</td>\n",
       "      <td>0.545766</td>\n",
       "      <td>2.421938e+07</td>\n",
       "      <td>0.516222</td>\n",
       "      <td>3847.312301</td>\n",
       "      <td>3786.585683</td>\n",
       "    </tr>\n",
       "    <tr>\n",
       "      <th>16</th>\n",
       "      <td>17</td>\n",
       "      <td>(AtBat, Hits, HmRun, Runs, RBI, Walks, CAtBat,...</td>\n",
       "      <td>&lt;statsmodels.regression.linear_model.Regressio...</td>\n",
       "      <td>0.545952</td>\n",
       "      <td>2.420945e+07</td>\n",
       "      <td>0.514446</td>\n",
       "      <td>3852.776595</td>\n",
       "      <td>3788.477822</td>\n",
       "    </tr>\n",
       "    <tr>\n",
       "      <th>17</th>\n",
       "      <td>18</td>\n",
       "      <td>(AtBat, Hits, HmRun, Runs, RBI, Walks, Years, ...</td>\n",
       "      <td>&lt;statsmodels.regression.linear_model.Regressio...</td>\n",
       "      <td>0.546095</td>\n",
       "      <td>2.420184e+07</td>\n",
       "      <td>0.512610</td>\n",
       "      <td>3858.266071</td>\n",
       "      <td>3790.395144</td>\n",
       "    </tr>\n",
       "    <tr>\n",
       "      <th>18</th>\n",
       "      <td>19</td>\n",
       "      <td>(AtBat, Hits, HmRun, Runs, RBI, Walks, Years, ...</td>\n",
       "      <td>&lt;statsmodels.regression.linear_model.Regressio...</td>\n",
       "      <td>0.546116</td>\n",
       "      <td>2.420070e+07</td>\n",
       "      <td>0.510627</td>\n",
       "      <td>3863.825860</td>\n",
       "      <td>3792.382780</td>\n",
       "    </tr>\n",
       "  </tbody>\n",
       "</table>\n",
       "</div>"
      ],
      "text/plain": [
       "     k                                             subset  \\\n",
       "0    1                                            (CRBI,)   \n",
       "1    2                                       (Hits, CRBI)   \n",
       "2    3                              (Hits, CRBI, PutOuts)   \n",
       "3    4                    (Hits, CRBI, Division, PutOuts)   \n",
       "4    5             (AtBat, Hits, CRBI, Division, PutOuts)   \n",
       "5    6      (AtBat, Hits, Walks, CRBI, Division, PutOuts)   \n",
       "6    7  (Hits, Walks, CAtBat, CHits, CHmRun, Division,...   \n",
       "7    8  (AtBat, Hits, Walks, CHmRun, CRuns, CWalks, Di...   \n",
       "8    9  (AtBat, Hits, Walks, CAtBat, CRuns, CRBI, CWal...   \n",
       "9   10  (AtBat, Hits, Walks, CAtBat, CRuns, CRBI, CWal...   \n",
       "10  11  (AtBat, Hits, Walks, CAtBat, CRuns, CRBI, CWal...   \n",
       "11  12  (AtBat, Hits, Runs, Walks, CAtBat, CRuns, CRBI...   \n",
       "12  13  (AtBat, Hits, Runs, Walks, CAtBat, CRuns, CRBI...   \n",
       "13  14  (AtBat, Hits, HmRun, Runs, Walks, CAtBat, CRun...   \n",
       "14  15  (AtBat, Hits, HmRun, Runs, Walks, CAtBat, CHit...   \n",
       "15  16  (AtBat, Hits, HmRun, Runs, RBI, Walks, CAtBat,...   \n",
       "16  17  (AtBat, Hits, HmRun, Runs, RBI, Walks, CAtBat,...   \n",
       "17  18  (AtBat, Hits, HmRun, Runs, RBI, Walks, Years, ...   \n",
       "18  19  (AtBat, Hits, HmRun, Runs, RBI, Walks, Years, ...   \n",
       "\n",
       "                                                model       rsq           rss  \\\n",
       "0   <statsmodels.regression.linear_model.Regressio...  0.321450  3.617968e+07   \n",
       "1   <statsmodels.regression.linear_model.Regressio...  0.425224  3.064656e+07   \n",
       "2   <statsmodels.regression.linear_model.Regressio...  0.451429  2.924930e+07   \n",
       "3   <statsmodels.regression.linear_model.Regressio...  0.475407  2.797085e+07   \n",
       "4   <statsmodels.regression.linear_model.Regressio...  0.490804  2.714990e+07   \n",
       "5   <statsmodels.regression.linear_model.Regressio...  0.508715  2.619490e+07   \n",
       "6   <statsmodels.regression.linear_model.Regressio...  0.514123  2.590655e+07   \n",
       "7   <statsmodels.regression.linear_model.Regressio...  0.528557  2.513693e+07   \n",
       "8   <statsmodels.regression.linear_model.Regressio...  0.534612  2.481405e+07   \n",
       "9   <statsmodels.regression.linear_model.Regressio...  0.540495  2.450040e+07   \n",
       "10  <statsmodels.regression.linear_model.Regressio...  0.542615  2.438735e+07   \n",
       "11  <statsmodels.regression.linear_model.Regressio...  0.543630  2.433323e+07   \n",
       "12  <statsmodels.regression.linear_model.Regressio...  0.544457  2.428915e+07   \n",
       "13  <statsmodels.regression.linear_model.Regressio...  0.545216  2.424866e+07   \n",
       "14  <statsmodels.regression.linear_model.Regressio...  0.545469  2.423518e+07   \n",
       "15  <statsmodels.regression.linear_model.Regressio...  0.545766  2.421938e+07   \n",
       "16  <statsmodels.regression.linear_model.Regressio...  0.545952  2.420945e+07   \n",
       "17  <statsmodels.regression.linear_model.Regressio...  0.546095  2.420184e+07   \n",
       "18  <statsmodels.regression.linear_model.Regressio...  0.546116  2.420070e+07   \n",
       "\n",
       "       adjr2          bic          aic  \n",
       "0   0.318850  3869.283615  3862.139307  \n",
       "1   0.420802  3831.203767  3820.487305  \n",
       "2   0.445075  3824.503056  3810.214440  \n",
       "3   0.467273  3818.321064  3800.460294  \n",
       "4   0.480897  3816.058548  3794.625624  \n",
       "5   0.497200  3812.213078  3787.208000  \n",
       "6   0.500785  3814.874046  3786.296813  \n",
       "7   0.513708  3812.514735  3780.365349  \n",
       "8   0.518057  3814.686826  3778.965286  \n",
       "9   0.522261  3816.913469  3777.619775  \n",
       "10  0.522571  3821.269208  3778.403359  \n",
       "11  0.521724  3826.257147  3779.819145  \n",
       "12  0.520674  3831.352392  3781.342235  \n",
       "13  0.519543  3836.485787  3782.903476  \n",
       "14  0.517866  3841.911664  3784.757199  \n",
       "15  0.516222  3847.312301  3786.585683  \n",
       "16  0.514446  3852.776595  3788.477822  \n",
       "17  0.512610  3858.266071  3790.395144  \n",
       "18  0.510627  3863.825860  3792.382780  "
      ]
     },
     "execution_count": 54,
     "metadata": {},
     "output_type": "execute_result"
    }
   ],
   "source": [
    "%%time\n",
    "models_bss = regsubsets(y, X, 19)\n",
    "models_bss"
   ]
  },
  {
   "cell_type": "markdown",
   "id": "a39fbb8e-82d9-4cc5-aa52-c4943deae1a2",
   "metadata": {},
   "source": [
    "This takes a while, as we are fitting many models. How many?"
   ]
  },
  {
   "cell_type": "code",
   "execution_count": 9,
   "id": "0145a999-b189-41db-a1f3-9b6a5fcf0383",
   "metadata": {},
   "outputs": [
    {
     "data": {
      "text/plain": [
       "524287"
      ]
     },
     "execution_count": 9,
     "metadata": {},
     "output_type": "execute_result"
    }
   ],
   "source": [
    "from math import comb\n",
    "\n",
    "nmodels = 0\n",
    "for k in range(1, 19+1):\n",
    "    nmodels += comb(19, k)\n",
    "nmodels"
   ]
  },
  {
   "cell_type": "code",
   "execution_count": 10,
   "id": "19ecac59-fcc8-4e39-8ec8-bf4d099af169",
   "metadata": {},
   "outputs": [
    {
     "data": {
      "text/plain": [
       "0.0017166170437184214"
      ]
     },
     "execution_count": 10,
     "metadata": {},
     "output_type": "execute_result"
    }
   ],
   "source": [
    "# Average time in seconds to fit each model\n",
    "15*60/nmodels"
   ]
  },
  {
   "cell_type": "markdown",
   "id": "6696a25f-53f0-45f8-9a22-395460b231de",
   "metadata": {},
   "source": [
    "So even if each model is very fast to fit, best subset selection is a very computionally intensive algorithm. Here, fitting each model takes about 20 ms."
   ]
  },
  {
   "cell_type": "markdown",
   "id": "09ae38b1",
   "metadata": {},
   "source": [
    "The `regsubsets()` function tries to imitate the R function with the same name. The function performs best subset selection by identifying the best model that contains a given number of predictors, where *best* is quantified using RSS. The output is the best set of variables for each model size."
   ]
  },
  {
   "cell_type": "markdown",
   "id": "d0cd124e",
   "metadata": {},
   "source": [
    "The column `subset` contains tha variables in the each best k model.\n",
    "For instance, this output indicates that the best two-variable model contains only `Hits` and `CRBI`.\n",
    "By default, `regsubsets()` only reports results up to the best eight-variable model. But the  `nvmax` option can be used in order to return as many variables as are desired."
   ]
  },
  {
   "cell_type": "markdown",
   "id": "8d0549e0",
   "metadata": {},
   "source": [
    "The function also returns $R^2$, RSS, adjusted $R^2$, and BIC. We can examine these to try to select the *best* overall model."
   ]
  },
  {
   "cell_type": "markdown",
   "id": "e1b1497c",
   "metadata": {},
   "source": [
    "For instance, we see that the $R^2$ statistic increases from $32\\,\\%$, when only one variable is included in the model, to almost $55\\,\\%$, when all variables are included. As expected, the $R^2$ statistic increases monotonically as more variables are included."
   ]
  },
  {
   "cell_type": "code",
   "execution_count": 60,
   "id": "99306afa",
   "metadata": {
    "name": "chunk6"
   },
   "outputs": [
    {
     "data": {
      "text/plain": [
       "0     0.321450\n",
       "1     0.425224\n",
       "2     0.451429\n",
       "3     0.475407\n",
       "4     0.490804\n",
       "5     0.508715\n",
       "6     0.514123\n",
       "7     0.528557\n",
       "8     0.534612\n",
       "9     0.540495\n",
       "10    0.542615\n",
       "11    0.543630\n",
       "12    0.544457\n",
       "13    0.545216\n",
       "14    0.545469\n",
       "15    0.545766\n",
       "16    0.545952\n",
       "17    0.546095\n",
       "18    0.546116\n",
       "Name: rsq, dtype: float64"
      ]
     },
     "execution_count": 60,
     "metadata": {},
     "output_type": "execute_result"
    }
   ],
   "source": [
    "models_bss.rsq"
   ]
  },
  {
   "cell_type": "markdown",
   "id": "87c22e0e",
   "metadata": {},
   "source": [
    "Plotting RSS, adjusted $R^2$, AIC, and BIC for all of the models at once will help us decide which model to select."
   ]
  },
  {
   "cell_type": "code",
   "execution_count": 62,
   "id": "20e4fa69-4faa-4bf9-a498-e19a26eb9595",
   "metadata": {},
   "outputs": [
    {
     "data": {
      "image/png": "[encoded data removed]",
      "text/plain": [
       "<Figure size 1080x720 with 6 Axes>"
      ]
     },
     "metadata": {
      "needs_background": "light"
     },
     "output_type": "display_data"
    }
   ],
   "source": [
    "fig, ax = plt.subplots(2, 3, figsize=(15, 10))\n",
    "\n",
    "ax = ax.ravel()\n",
    "for i, metric in enumerate(['rss', 'rsq', 'adjr2', 'bic', 'aic']):\n",
    "    ax[i].plot(models_bss.k, models_bss[metric])\n",
    "    ax[i].set_xlabel('Number of variables')\n",
    "    ax[i].set_ylabel(metric)\n",
    "    if metric == 'adjr2':\n",
    "        max_idx = models_bss[metric].values.argmax()\n",
    "        ax[i].plot([models_bss.k.iloc[max_idx]], [models_bss[metric].iloc[max_idx]], 'ro')\n",
    "    if metric in ['bic', 'aic']:\n",
    "        min_idx = models_bss[metric].values.argmin()\n",
    "        ax[i].plot([models_bss.k.iloc[min_idx]], [models_bss[metric].iloc[min_idx]], 'ro')"
   ]
  },
  {
   "cell_type": "markdown",
   "id": "5cf3f7a7",
   "metadata": {},
   "source": [
    "The `argmax()` function can be used to identify the location of the maximum point of a vector. We used the function to plot a red dot to indicate the model with the largest adjusted $R^2$ statistic. Similarly we used `argmin()` to plot a red dot to indicate the models with the smallest BIC and AIC statistics."
   ]
  },
  {
   "cell_type": "markdown",
   "id": "0c6887a5",
   "metadata": {},
   "source": [
    "For instance, we see that several models share a BIC close to $3800$. However, the model with the lowest BIC is the six-variable model that contains only `AtBat`,\n",
    "`Hits`,  `Walks`, `CRBI`, `DivisionW`, and `PutOuts`.\n",
    "We can use the `params` attribute to see the coefficient estimates associated with this model."
   ]
  },
  {
   "cell_type": "code",
   "execution_count": 63,
   "id": "d5ea4600-cd3c-44e9-a595-62a66948ee03",
   "metadata": {},
   "outputs": [
    {
     "data": {
      "text/plain": [
       "const          91.511798\n",
       "AtBat          -1.868589\n",
       "Hits            7.604398\n",
       "Walks           3.697647\n",
       "CRBI            0.643017\n",
       "PutOuts         0.264308\n",
       "Division_W   -122.951534\n",
       "dtype: float64"
      ]
     },
     "execution_count": 63,
     "metadata": {},
     "output_type": "execute_result"
    }
   ],
   "source": [
    "models_bss[models_bss.k == 6].model.iloc[0].params"
   ]
  },
  {
   "cell_type": "markdown",
   "id": "d63f77a6",
   "metadata": {},
   "source": [
    "### Forward and Backward Stepwise Selection\n",
    " "
   ]
  },
  {
   "cell_type": "markdown",
   "id": "d6caa027",
   "metadata": {},
   "source": [
    "We can also use the define functions to perform forward stepwise or backward stepwise selection with some modifications to the best subset selection strategy defined above.\n",
    "When using forward or backward selection, we are performing a directed search over the space of available models wich results in a lot less models fitted:"
   ]
  },
  {
   "cell_type": "code",
   "execution_count": 18,
   "id": "88a8ec90-9928-4629-b1e4-74d9326610b1",
   "metadata": {},
   "outputs": [
    {
     "data": {
      "text/plain": [
       "190"
      ]
     },
     "execution_count": 18,
     "metadata": {},
     "output_type": "execute_result"
    }
   ],
   "source": [
    "nmodels = 0\n",
    "p = 19\n",
    "for k in range(p):\n",
    "    nmodels += (p - k)\n",
    "nmodels"
   ]
  },
  {
   "cell_type": "code",
   "execution_count": 52,
   "id": "d7b0bd3c-7b62-42df-9d1a-266d0c83e4ea",
   "metadata": {},
   "outputs": [],
   "source": [
    "def forward_selection(y, X, nvmax=8):\n",
    "    columns = X.columns\n",
    "    \n",
    "    # Iterate over models with k columns,\n",
    "    # add single predictor at a time\n",
    "    models = []\n",
    "    # Empty subset to begin with\n",
    "    subset = []\n",
    "    # List of available predictors\n",
    "    predictors = X.columns.tolist()\n",
    "    \n",
    "    for k in range(1, min(nvmax, len(columns)) + 1):\n",
    "        \n",
    "        # Find best k model using RSS\n",
    "        min_rss = np.inf\n",
    "        for pred in predictors:\n",
    "            model_k = fit_model(y, X[subset + [pred]])\n",
    "            if model_k.ssr < min_rss:\n",
    "                best_k = model_k\n",
    "                min_rss = model_k.ssr\n",
    "                best_pred = pred\n",
    "        # Update subset and predictors\n",
    "        subset.append(best_pred)\n",
    "        predictors.remove(best_pred)\n",
    "\n",
    "        # For best k model get scores\n",
    "        scores = {\n",
    "            'k': k,\n",
    "            'subset': subset.copy(),\n",
    "            'model': best_k,\n",
    "            'rsq': best_k.rsquared,\n",
    "            'rss': best_k.ssr ,\n",
    "            'adjr2': best_k.rsquared_adj,\n",
    "            'bic': best_k.bic,\n",
    "            'aic': best_k.aic\n",
    "        }\n",
    "        models.append(scores)\n",
    "    return pd.DataFrame(models)"
   ]
  },
  {
   "cell_type": "code",
   "execution_count": 53,
   "id": "8ba8079d-f7d1-44c3-98d1-c7808424b5d8",
   "metadata": {},
   "outputs": [
    {
     "name": "stdout",
     "output_type": "stream",
     "text": [
      "CPU times: user 279 ms, sys: 3.6 ms, total: 283 ms\n",
      "Wall time: 284 ms\n"
     ]
    },
    {
     "data": {
      "text/html": [
       "<div>\n",
       "<style scoped>\n",
       "    .dataframe tbody tr th:only-of-type {\n",
       "        vertical-align: middle;\n",
       "    }\n",
       "\n",
       "    .dataframe tbody tr th {\n",
       "        vertical-align: top;\n",
       "    }\n",
       "\n",
       "    .dataframe thead th {\n",
       "        text-align: right;\n",
       "    }\n",
       "</style>\n",
       "<table border=\"1\" class=\"dataframe\">\n",
       "  <thead>\n",
       "    <tr style=\"text-align: right;\">\n",
       "      <th></th>\n",
       "      <th>k</th>\n",
       "      <th>subset</th>\n",
       "      <th>model</th>\n",
       "      <th>rsq</th>\n",
       "      <th>rss</th>\n",
       "      <th>adjr2</th>\n",
       "      <th>bic</th>\n",
       "      <th>aic</th>\n",
       "    </tr>\n",
       "  </thead>\n",
       "  <tbody>\n",
       "    <tr>\n",
       "      <th>0</th>\n",
       "      <td>1</td>\n",
       "      <td>[CRBI]</td>\n",
       "      <td>&lt;statsmodels.regression.linear_model.Regressio...</td>\n",
       "      <td>0.321450</td>\n",
       "      <td>3.617968e+07</td>\n",
       "      <td>0.318850</td>\n",
       "      <td>3869.283615</td>\n",
       "      <td>3862.139307</td>\n",
       "    </tr>\n",
       "    <tr>\n",
       "      <th>1</th>\n",
       "      <td>2</td>\n",
       "      <td>[CRBI, Hits]</td>\n",
       "      <td>&lt;statsmodels.regression.linear_model.Regressio...</td>\n",
       "      <td>0.425224</td>\n",
       "      <td>3.064656e+07</td>\n",
       "      <td>0.420802</td>\n",
       "      <td>3831.203767</td>\n",
       "      <td>3820.487305</td>\n",
       "    </tr>\n",
       "    <tr>\n",
       "      <th>2</th>\n",
       "      <td>3</td>\n",
       "      <td>[CRBI, Hits, PutOuts]</td>\n",
       "      <td>&lt;statsmodels.regression.linear_model.Regressio...</td>\n",
       "      <td>0.451429</td>\n",
       "      <td>2.924930e+07</td>\n",
       "      <td>0.445075</td>\n",
       "      <td>3824.503056</td>\n",
       "      <td>3810.214440</td>\n",
       "    </tr>\n",
       "    <tr>\n",
       "      <th>3</th>\n",
       "      <td>4</td>\n",
       "      <td>[CRBI, Hits, PutOuts, Division]</td>\n",
       "      <td>&lt;statsmodels.regression.linear_model.Regressio...</td>\n",
       "      <td>0.475407</td>\n",
       "      <td>2.797085e+07</td>\n",
       "      <td>0.467273</td>\n",
       "      <td>3818.321064</td>\n",
       "      <td>3800.460294</td>\n",
       "    </tr>\n",
       "    <tr>\n",
       "      <th>4</th>\n",
       "      <td>5</td>\n",
       "      <td>[CRBI, Hits, PutOuts, Division, AtBat]</td>\n",
       "      <td>&lt;statsmodels.regression.linear_model.Regressio...</td>\n",
       "      <td>0.490804</td>\n",
       "      <td>2.714990e+07</td>\n",
       "      <td>0.480897</td>\n",
       "      <td>3816.058548</td>\n",
       "      <td>3794.625624</td>\n",
       "    </tr>\n",
       "    <tr>\n",
       "      <th>5</th>\n",
       "      <td>6</td>\n",
       "      <td>[CRBI, Hits, PutOuts, Division, AtBat, Walks]</td>\n",
       "      <td>&lt;statsmodels.regression.linear_model.Regressio...</td>\n",
       "      <td>0.508715</td>\n",
       "      <td>2.619490e+07</td>\n",
       "      <td>0.497200</td>\n",
       "      <td>3812.213078</td>\n",
       "      <td>3787.208000</td>\n",
       "    </tr>\n",
       "    <tr>\n",
       "      <th>6</th>\n",
       "      <td>7</td>\n",
       "      <td>[CRBI, Hits, PutOuts, Division, AtBat, Walks, ...</td>\n",
       "      <td>&lt;statsmodels.regression.linear_model.Regressio...</td>\n",
       "      <td>0.513229</td>\n",
       "      <td>2.595422e+07</td>\n",
       "      <td>0.499866</td>\n",
       "      <td>3815.357536</td>\n",
       "      <td>3786.780304</td>\n",
       "    </tr>\n",
       "    <tr>\n",
       "      <th>7</th>\n",
       "      <td>8</td>\n",
       "      <td>[CRBI, Hits, PutOuts, Division, AtBat, Walks, ...</td>\n",
       "      <td>&lt;statsmodels.regression.linear_model.Regressio...</td>\n",
       "      <td>0.528139</td>\n",
       "      <td>2.515923e+07</td>\n",
       "      <td>0.513277</td>\n",
       "      <td>3812.747991</td>\n",
       "      <td>3780.598605</td>\n",
       "    </tr>\n",
       "    <tr>\n",
       "      <th>8</th>\n",
       "      <td>9</td>\n",
       "      <td>[CRBI, Hits, PutOuts, Division, AtBat, Walks, ...</td>\n",
       "      <td>&lt;statsmodels.regression.linear_model.Regressio...</td>\n",
       "      <td>0.534612</td>\n",
       "      <td>2.481405e+07</td>\n",
       "      <td>0.518057</td>\n",
       "      <td>3814.686826</td>\n",
       "      <td>3778.965286</td>\n",
       "    </tr>\n",
       "    <tr>\n",
       "      <th>9</th>\n",
       "      <td>10</td>\n",
       "      <td>[CRBI, Hits, PutOuts, Division, AtBat, Walks, ...</td>\n",
       "      <td>&lt;statsmodels.regression.linear_model.Regressio...</td>\n",
       "      <td>0.540495</td>\n",
       "      <td>2.450040e+07</td>\n",
       "      <td>0.522261</td>\n",
       "      <td>3816.913469</td>\n",
       "      <td>3777.619775</td>\n",
       "    </tr>\n",
       "    <tr>\n",
       "      <th>10</th>\n",
       "      <td>11</td>\n",
       "      <td>[CRBI, Hits, PutOuts, Division, AtBat, Walks, ...</td>\n",
       "      <td>&lt;statsmodels.regression.linear_model.Regressio...</td>\n",
       "      <td>0.542615</td>\n",
       "      <td>2.438735e+07</td>\n",
       "      <td>0.522571</td>\n",
       "      <td>3821.269208</td>\n",
       "      <td>3778.403359</td>\n",
       "    </tr>\n",
       "    <tr>\n",
       "      <th>11</th>\n",
       "      <td>12</td>\n",
       "      <td>[CRBI, Hits, PutOuts, Division, AtBat, Walks, ...</td>\n",
       "      <td>&lt;statsmodels.regression.linear_model.Regressio...</td>\n",
       "      <td>0.543630</td>\n",
       "      <td>2.433323e+07</td>\n",
       "      <td>0.521724</td>\n",
       "      <td>3826.257147</td>\n",
       "      <td>3779.819145</td>\n",
       "    </tr>\n",
       "    <tr>\n",
       "      <th>12</th>\n",
       "      <td>13</td>\n",
       "      <td>[CRBI, Hits, PutOuts, Division, AtBat, Walks, ...</td>\n",
       "      <td>&lt;statsmodels.regression.linear_model.Regressio...</td>\n",
       "      <td>0.544457</td>\n",
       "      <td>2.428915e+07</td>\n",
       "      <td>0.520674</td>\n",
       "      <td>3831.352392</td>\n",
       "      <td>3781.342235</td>\n",
       "    </tr>\n",
       "    <tr>\n",
       "      <th>13</th>\n",
       "      <td>14</td>\n",
       "      <td>[CRBI, Hits, PutOuts, Division, AtBat, Walks, ...</td>\n",
       "      <td>&lt;statsmodels.regression.linear_model.Regressio...</td>\n",
       "      <td>0.545216</td>\n",
       "      <td>2.424866e+07</td>\n",
       "      <td>0.519543</td>\n",
       "      <td>3836.485787</td>\n",
       "      <td>3782.903476</td>\n",
       "    </tr>\n",
       "    <tr>\n",
       "      <th>14</th>\n",
       "      <td>15</td>\n",
       "      <td>[CRBI, Hits, PutOuts, Division, AtBat, Walks, ...</td>\n",
       "      <td>&lt;statsmodels.regression.linear_model.Regressio...</td>\n",
       "      <td>0.545469</td>\n",
       "      <td>2.423518e+07</td>\n",
       "      <td>0.517866</td>\n",
       "      <td>3841.911664</td>\n",
       "      <td>3784.757199</td>\n",
       "    </tr>\n",
       "    <tr>\n",
       "      <th>15</th>\n",
       "      <td>16</td>\n",
       "      <td>[CRBI, Hits, PutOuts, Division, AtBat, Walks, ...</td>\n",
       "      <td>&lt;statsmodels.regression.linear_model.Regressio...</td>\n",
       "      <td>0.545766</td>\n",
       "      <td>2.421938e+07</td>\n",
       "      <td>0.516222</td>\n",
       "      <td>3847.312301</td>\n",
       "      <td>3786.585683</td>\n",
       "    </tr>\n",
       "    <tr>\n",
       "      <th>16</th>\n",
       "      <td>17</td>\n",
       "      <td>[CRBI, Hits, PutOuts, Division, AtBat, Walks, ...</td>\n",
       "      <td>&lt;statsmodels.regression.linear_model.Regressio...</td>\n",
       "      <td>0.545952</td>\n",
       "      <td>2.420945e+07</td>\n",
       "      <td>0.514446</td>\n",
       "      <td>3852.776595</td>\n",
       "      <td>3788.477822</td>\n",
       "    </tr>\n",
       "    <tr>\n",
       "      <th>17</th>\n",
       "      <td>18</td>\n",
       "      <td>[CRBI, Hits, PutOuts, Division, AtBat, Walks, ...</td>\n",
       "      <td>&lt;statsmodels.regression.linear_model.Regressio...</td>\n",
       "      <td>0.546095</td>\n",
       "      <td>2.420184e+07</td>\n",
       "      <td>0.512610</td>\n",
       "      <td>3858.266071</td>\n",
       "      <td>3790.395144</td>\n",
       "    </tr>\n",
       "    <tr>\n",
       "      <th>18</th>\n",
       "      <td>19</td>\n",
       "      <td>[CRBI, Hits, PutOuts, Division, AtBat, Walks, ...</td>\n",
       "      <td>&lt;statsmodels.regression.linear_model.Regressio...</td>\n",
       "      <td>0.546116</td>\n",
       "      <td>2.420070e+07</td>\n",
       "      <td>0.510627</td>\n",
       "      <td>3863.825860</td>\n",
       "      <td>3792.382780</td>\n",
       "    </tr>\n",
       "  </tbody>\n",
       "</table>\n",
       "</div>"
      ],
      "text/plain": [
       "     k                                             subset  \\\n",
       "0    1                                             [CRBI]   \n",
       "1    2                                       [CRBI, Hits]   \n",
       "2    3                              [CRBI, Hits, PutOuts]   \n",
       "3    4                    [CRBI, Hits, PutOuts, Division]   \n",
       "4    5             [CRBI, Hits, PutOuts, Division, AtBat]   \n",
       "5    6      [CRBI, Hits, PutOuts, Division, AtBat, Walks]   \n",
       "6    7  [CRBI, Hits, PutOuts, Division, AtBat, Walks, ...   \n",
       "7    8  [CRBI, Hits, PutOuts, Division, AtBat, Walks, ...   \n",
       "8    9  [CRBI, Hits, PutOuts, Division, AtBat, Walks, ...   \n",
       "9   10  [CRBI, Hits, PutOuts, Division, AtBat, Walks, ...   \n",
       "10  11  [CRBI, Hits, PutOuts, Division, AtBat, Walks, ...   \n",
       "11  12  [CRBI, Hits, PutOuts, Division, AtBat, Walks, ...   \n",
       "12  13  [CRBI, Hits, PutOuts, Division, AtBat, Walks, ...   \n",
       "13  14  [CRBI, Hits, PutOuts, Division, AtBat, Walks, ...   \n",
       "14  15  [CRBI, Hits, PutOuts, Division, AtBat, Walks, ...   \n",
       "15  16  [CRBI, Hits, PutOuts, Division, AtBat, Walks, ...   \n",
       "16  17  [CRBI, Hits, PutOuts, Division, AtBat, Walks, ...   \n",
       "17  18  [CRBI, Hits, PutOuts, Division, AtBat, Walks, ...   \n",
       "18  19  [CRBI, Hits, PutOuts, Division, AtBat, Walks, ...   \n",
       "\n",
       "                                                model       rsq           rss  \\\n",
       "0   <statsmodels.regression.linear_model.Regressio...  0.321450  3.617968e+07   \n",
       "1   <statsmodels.regression.linear_model.Regressio...  0.425224  3.064656e+07   \n",
       "2   <statsmodels.regression.linear_model.Regressio...  0.451429  2.924930e+07   \n",
       "3   <statsmodels.regression.linear_model.Regressio...  0.475407  2.797085e+07   \n",
       "4   <statsmodels.regression.linear_model.Regressio...  0.490804  2.714990e+07   \n",
       "5   <statsmodels.regression.linear_model.Regressio...  0.508715  2.619490e+07   \n",
       "6   <statsmodels.regression.linear_model.Regressio...  0.513229  2.595422e+07   \n",
       "7   <statsmodels.regression.linear_model.Regressio...  0.528139  2.515923e+07   \n",
       "8   <statsmodels.regression.linear_model.Regressio...  0.534612  2.481405e+07   \n",
       "9   <statsmodels.regression.linear_model.Regressio...  0.540495  2.450040e+07   \n",
       "10  <statsmodels.regression.linear_model.Regressio...  0.542615  2.438735e+07   \n",
       "11  <statsmodels.regression.linear_model.Regressio...  0.543630  2.433323e+07   \n",
       "12  <statsmodels.regression.linear_model.Regressio...  0.544457  2.428915e+07   \n",
       "13  <statsmodels.regression.linear_model.Regressio...  0.545216  2.424866e+07   \n",
       "14  <statsmodels.regression.linear_model.Regressio...  0.545469  2.423518e+07   \n",
       "15  <statsmodels.regression.linear_model.Regressio...  0.545766  2.421938e+07   \n",
       "16  <statsmodels.regression.linear_model.Regressio...  0.545952  2.420945e+07   \n",
       "17  <statsmodels.regression.linear_model.Regressio...  0.546095  2.420184e+07   \n",
       "18  <statsmodels.regression.linear_model.Regressio...  0.546116  2.420070e+07   \n",
       "\n",
       "       adjr2          bic          aic  \n",
       "0   0.318850  3869.283615  3862.139307  \n",
       "1   0.420802  3831.203767  3820.487305  \n",
       "2   0.445075  3824.503056  3810.214440  \n",
       "3   0.467273  3818.321064  3800.460294  \n",
       "4   0.480897  3816.058548  3794.625624  \n",
       "5   0.497200  3812.213078  3787.208000  \n",
       "6   0.499866  3815.357536  3786.780304  \n",
       "7   0.513277  3812.747991  3780.598605  \n",
       "8   0.518057  3814.686826  3778.965286  \n",
       "9   0.522261  3816.913469  3777.619775  \n",
       "10  0.522571  3821.269208  3778.403359  \n",
       "11  0.521724  3826.257147  3779.819145  \n",
       "12  0.520674  3831.352392  3781.342235  \n",
       "13  0.519543  3836.485787  3782.903476  \n",
       "14  0.517866  3841.911664  3784.757199  \n",
       "15  0.516222  3847.312301  3786.585683  \n",
       "16  0.514446  3852.776595  3788.477822  \n",
       "17  0.512610  3858.266071  3790.395144  \n",
       "18  0.510627  3863.825860  3792.382780  "
      ]
     },
     "execution_count": 53,
     "metadata": {},
     "output_type": "execute_result"
    }
   ],
   "source": [
    "%%time\n",
    "models_fs =forward_selection(y, X, 19)\n",
    "models_fs"
   ]
  },
  {
   "cell_type": "code",
   "execution_count": 40,
   "id": "a976a014-7114-4977-968e-6c7332114da5",
   "metadata": {},
   "outputs": [],
   "source": [
    "def backward_selection(y, X, nvmax=8):\n",
    "    columns = X.columns\n",
    "    p = len(columns)\n",
    "    \n",
    "    # Iterate over models with k columns,\n",
    "    # removing single predictor at a time\n",
    "    # Empty subset to begin with\n",
    "    subset = columns.tolist()\n",
    "    \n",
    "    # Fit full model\n",
    "    best_k = fit_model(y, X)\n",
    "    scores = {\n",
    "            'k': p,\n",
    "            'subset': subset.copy(),\n",
    "            'model': best_k,\n",
    "            'rsq': best_k.rsquared,\n",
    "            'rss': best_k.ssr ,\n",
    "            'adjr2': best_k.rsquared_adj,\n",
    "            'bic': best_k.bic,\n",
    "            'aic': best_k.aic\n",
    "        }\n",
    "    models = [scores]\n",
    "    \n",
    "    for i in range(1, min(nvmax, p)):\n",
    "        k = p - i\n",
    "        # Find best k model using RSS\n",
    "        min_rss = np.inf\n",
    "        for pred in subset:\n",
    "            temp_set = subset.copy()\n",
    "            temp_set.remove(pred)\n",
    "            model_k = fit_model(y, X[temp_set])\n",
    "            if model_k.ssr < min_rss:\n",
    "                best_k = model_k\n",
    "                min_rss = model_k.ssr\n",
    "                worst_pred = pred\n",
    "        # Update subset and predictors\n",
    "        subset.remove(worst_pred)\n",
    "        \n",
    "        # For best k model get scores\n",
    "        scores = {\n",
    "            'k': k,\n",
    "            'subset': subset.copy(),\n",
    "            'model': best_k,\n",
    "            'rsq': best_k.rsquared,\n",
    "            'rss': best_k.ssr ,\n",
    "            'adjr2': best_k.rsquared_adj,\n",
    "            'bic': best_k.bic,\n",
    "            'aic': best_k.aic\n",
    "        }\n",
    "        models.append(scores)\n",
    "    return pd.DataFrame(models)"
   ]
  },
  {
   "cell_type": "code",
   "execution_count": 43,
   "id": "53891057-afd8-4847-ad17-ce08aefb3557",
   "metadata": {},
   "outputs": [
    {
     "name": "stdout",
     "output_type": "stream",
     "text": [
      "CPU times: user 367 ms, sys: 2.98 ms, total: 370 ms\n",
      "Wall time: 369 ms\n"
     ]
    },
    {
     "data": {
      "text/html": [
       "<div>\n",
       "<style scoped>\n",
       "    .dataframe tbody tr th:only-of-type {\n",
       "        vertical-align: middle;\n",
       "    }\n",
       "\n",
       "    .dataframe tbody tr th {\n",
       "        vertical-align: top;\n",
       "    }\n",
       "\n",
       "    .dataframe thead th {\n",
       "        text-align: right;\n",
       "    }\n",
       "</style>\n",
       "<table border=\"1\" class=\"dataframe\">\n",
       "  <thead>\n",
       "    <tr style=\"text-align: right;\">\n",
       "      <th></th>\n",
       "      <th>k</th>\n",
       "      <th>subset</th>\n",
       "      <th>model</th>\n",
       "      <th>rsq</th>\n",
       "      <th>rss</th>\n",
       "      <th>adjr2</th>\n",
       "      <th>bic</th>\n",
       "      <th>aic</th>\n",
       "    </tr>\n",
       "  </thead>\n",
       "  <tbody>\n",
       "    <tr>\n",
       "      <th>0</th>\n",
       "      <td>19</td>\n",
       "      <td>[AtBat, Hits, HmRun, Runs, RBI, Walks, Years, ...</td>\n",
       "      <td>&lt;statsmodels.regression.linear_model.Regressio...</td>\n",
       "      <td>0.546116</td>\n",
       "      <td>2.420070e+07</td>\n",
       "      <td>0.510627</td>\n",
       "      <td>3863.825860</td>\n",
       "      <td>3792.382780</td>\n",
       "    </tr>\n",
       "    <tr>\n",
       "      <th>1</th>\n",
       "      <td>18</td>\n",
       "      <td>[AtBat, Hits, HmRun, Runs, RBI, Walks, Years, ...</td>\n",
       "      <td>&lt;statsmodels.regression.linear_model.Regressio...</td>\n",
       "      <td>0.546095</td>\n",
       "      <td>2.420184e+07</td>\n",
       "      <td>0.512610</td>\n",
       "      <td>3858.266071</td>\n",
       "      <td>3790.395144</td>\n",
       "    </tr>\n",
       "    <tr>\n",
       "      <th>2</th>\n",
       "      <td>17</td>\n",
       "      <td>[AtBat, Hits, HmRun, Runs, RBI, Walks, CAtBat,...</td>\n",
       "      <td>&lt;statsmodels.regression.linear_model.Regressio...</td>\n",
       "      <td>0.545952</td>\n",
       "      <td>2.420945e+07</td>\n",
       "      <td>0.514446</td>\n",
       "      <td>3852.776595</td>\n",
       "      <td>3788.477822</td>\n",
       "    </tr>\n",
       "    <tr>\n",
       "      <th>3</th>\n",
       "      <td>16</td>\n",
       "      <td>[AtBat, Hits, HmRun, Runs, RBI, Walks, CAtBat,...</td>\n",
       "      <td>&lt;statsmodels.regression.linear_model.Regressio...</td>\n",
       "      <td>0.545766</td>\n",
       "      <td>2.421938e+07</td>\n",
       "      <td>0.516222</td>\n",
       "      <td>3847.312301</td>\n",
       "      <td>3786.585683</td>\n",
       "    </tr>\n",
       "    <tr>\n",
       "      <th>4</th>\n",
       "      <td>15</td>\n",
       "      <td>[AtBat, Hits, HmRun, Runs, Walks, CAtBat, CHit...</td>\n",
       "      <td>&lt;statsmodels.regression.linear_model.Regressio...</td>\n",
       "      <td>0.545469</td>\n",
       "      <td>2.423518e+07</td>\n",
       "      <td>0.517866</td>\n",
       "      <td>3841.911664</td>\n",
       "      <td>3784.757199</td>\n",
       "    </tr>\n",
       "    <tr>\n",
       "      <th>5</th>\n",
       "      <td>14</td>\n",
       "      <td>[AtBat, Hits, HmRun, Runs, Walks, CAtBat, CRun...</td>\n",
       "      <td>&lt;statsmodels.regression.linear_model.Regressio...</td>\n",
       "      <td>0.545216</td>\n",
       "      <td>2.424866e+07</td>\n",
       "      <td>0.519543</td>\n",
       "      <td>3836.485787</td>\n",
       "      <td>3782.903476</td>\n",
       "    </tr>\n",
       "    <tr>\n",
       "      <th>6</th>\n",
       "      <td>13</td>\n",
       "      <td>[AtBat, Hits, Runs, Walks, CAtBat, CRuns, CRBI...</td>\n",
       "      <td>&lt;statsmodels.regression.linear_model.Regressio...</td>\n",
       "      <td>0.544457</td>\n",
       "      <td>2.428915e+07</td>\n",
       "      <td>0.520674</td>\n",
       "      <td>3831.352392</td>\n",
       "      <td>3781.342235</td>\n",
       "    </tr>\n",
       "    <tr>\n",
       "      <th>7</th>\n",
       "      <td>12</td>\n",
       "      <td>[AtBat, Hits, Runs, Walks, CAtBat, CRuns, CRBI...</td>\n",
       "      <td>&lt;statsmodels.regression.linear_model.Regressio...</td>\n",
       "      <td>0.543630</td>\n",
       "      <td>2.433323e+07</td>\n",
       "      <td>0.521724</td>\n",
       "      <td>3826.257147</td>\n",
       "      <td>3779.819145</td>\n",
       "    </tr>\n",
       "    <tr>\n",
       "      <th>8</th>\n",
       "      <td>11</td>\n",
       "      <td>[AtBat, Hits, Walks, CAtBat, CRuns, CRBI, CWal...</td>\n",
       "      <td>&lt;statsmodels.regression.linear_model.Regressio...</td>\n",
       "      <td>0.542615</td>\n",
       "      <td>2.438735e+07</td>\n",
       "      <td>0.522571</td>\n",
       "      <td>3821.269208</td>\n",
       "      <td>3778.403359</td>\n",
       "    </tr>\n",
       "    <tr>\n",
       "      <th>9</th>\n",
       "      <td>10</td>\n",
       "      <td>[AtBat, Hits, Walks, CAtBat, CRuns, CRBI, CWal...</td>\n",
       "      <td>&lt;statsmodels.regression.linear_model.Regressio...</td>\n",
       "      <td>0.540495</td>\n",
       "      <td>2.450040e+07</td>\n",
       "      <td>0.522261</td>\n",
       "      <td>3816.913469</td>\n",
       "      <td>3777.619775</td>\n",
       "    </tr>\n",
       "    <tr>\n",
       "      <th>10</th>\n",
       "      <td>9</td>\n",
       "      <td>[AtBat, Hits, Walks, CAtBat, CRuns, CRBI, CWal...</td>\n",
       "      <td>&lt;statsmodels.regression.linear_model.Regressio...</td>\n",
       "      <td>0.534612</td>\n",
       "      <td>2.481405e+07</td>\n",
       "      <td>0.518057</td>\n",
       "      <td>3814.686826</td>\n",
       "      <td>3778.965286</td>\n",
       "    </tr>\n",
       "    <tr>\n",
       "      <th>11</th>\n",
       "      <td>8</td>\n",
       "      <td>[AtBat, Hits, Walks, CRuns, CRBI, CWalks, Divi...</td>\n",
       "      <td>&lt;statsmodels.regression.linear_model.Regressio...</td>\n",
       "      <td>0.528139</td>\n",
       "      <td>2.515923e+07</td>\n",
       "      <td>0.513277</td>\n",
       "      <td>3812.747991</td>\n",
       "      <td>3780.598605</td>\n",
       "    </tr>\n",
       "    <tr>\n",
       "      <th>12</th>\n",
       "      <td>7</td>\n",
       "      <td>[AtBat, Hits, Walks, CRuns, CWalks, Division, ...</td>\n",
       "      <td>&lt;statsmodels.regression.linear_model.Regressio...</td>\n",
       "      <td>0.513617</td>\n",
       "      <td>2.593349e+07</td>\n",
       "      <td>0.500266</td>\n",
       "      <td>3815.147394</td>\n",
       "      <td>3786.570162</td>\n",
       "    </tr>\n",
       "    <tr>\n",
       "      <th>13</th>\n",
       "      <td>6</td>\n",
       "      <td>[AtBat, Hits, Walks, CRuns, Division, PutOuts]</td>\n",
       "      <td>&lt;statsmodels.regression.linear_model.Regressio...</td>\n",
       "      <td>0.499727</td>\n",
       "      <td>2.667409e+07</td>\n",
       "      <td>0.488002</td>\n",
       "      <td>3816.980707</td>\n",
       "      <td>3791.975629</td>\n",
       "    </tr>\n",
       "    <tr>\n",
       "      <th>14</th>\n",
       "      <td>5</td>\n",
       "      <td>[AtBat, Hits, Walks, CRuns, PutOuts]</td>\n",
       "      <td>&lt;statsmodels.regression.linear_model.Regressio...</td>\n",
       "      <td>0.484059</td>\n",
       "      <td>2.750952e+07</td>\n",
       "      <td>0.474021</td>\n",
       "      <td>3819.519347</td>\n",
       "      <td>3798.086423</td>\n",
       "    </tr>\n",
       "    <tr>\n",
       "      <th>15</th>\n",
       "      <td>4</td>\n",
       "      <td>[AtBat, Hits, CRuns, PutOuts]</td>\n",
       "      <td>&lt;statsmodels.regression.linear_model.Regressio...</td>\n",
       "      <td>0.466405</td>\n",
       "      <td>2.845081e+07</td>\n",
       "      <td>0.458132</td>\n",
       "      <td>3822.795631</td>\n",
       "      <td>3804.934861</td>\n",
       "    </tr>\n",
       "    <tr>\n",
       "      <th>16</th>\n",
       "      <td>3</td>\n",
       "      <td>[Hits, CRuns, PutOuts]</td>\n",
       "      <td>&lt;statsmodels.regression.linear_model.Regressio...</td>\n",
       "      <td>0.448466</td>\n",
       "      <td>2.940730e+07</td>\n",
       "      <td>0.442078</td>\n",
       "      <td>3825.919919</td>\n",
       "      <td>3811.631303</td>\n",
       "    </tr>\n",
       "    <tr>\n",
       "      <th>17</th>\n",
       "      <td>2</td>\n",
       "      <td>[Hits, CRuns]</td>\n",
       "      <td>&lt;statsmodels.regression.linear_model.Regressio...</td>\n",
       "      <td>0.414779</td>\n",
       "      <td>3.120346e+07</td>\n",
       "      <td>0.410277</td>\n",
       "      <td>3835.940017</td>\n",
       "      <td>3825.223555</td>\n",
       "    </tr>\n",
       "    <tr>\n",
       "      <th>18</th>\n",
       "      <td>1</td>\n",
       "      <td>[CRuns]</td>\n",
       "      <td>&lt;statsmodels.regression.linear_model.Regressio...</td>\n",
       "      <td>0.316606</td>\n",
       "      <td>3.643795e+07</td>\n",
       "      <td>0.313988</td>\n",
       "      <td>3871.154392</td>\n",
       "      <td>3864.010084</td>\n",
       "    </tr>\n",
       "  </tbody>\n",
       "</table>\n",
       "</div>"
      ],
      "text/plain": [
       "     k                                             subset  \\\n",
       "0   19  [AtBat, Hits, HmRun, Runs, RBI, Walks, Years, ...   \n",
       "1   18  [AtBat, Hits, HmRun, Runs, RBI, Walks, Years, ...   \n",
       "2   17  [AtBat, Hits, HmRun, Runs, RBI, Walks, CAtBat,...   \n",
       "3   16  [AtBat, Hits, HmRun, Runs, RBI, Walks, CAtBat,...   \n",
       "4   15  [AtBat, Hits, HmRun, Runs, Walks, CAtBat, CHit...   \n",
       "5   14  [AtBat, Hits, HmRun, Runs, Walks, CAtBat, CRun...   \n",
       "6   13  [AtBat, Hits, Runs, Walks, CAtBat, CRuns, CRBI...   \n",
       "7   12  [AtBat, Hits, Runs, Walks, CAtBat, CRuns, CRBI...   \n",
       "8   11  [AtBat, Hits, Walks, CAtBat, CRuns, CRBI, CWal...   \n",
       "9   10  [AtBat, Hits, Walks, CAtBat, CRuns, CRBI, CWal...   \n",
       "10   9  [AtBat, Hits, Walks, CAtBat, CRuns, CRBI, CWal...   \n",
       "11   8  [AtBat, Hits, Walks, CRuns, CRBI, CWalks, Divi...   \n",
       "12   7  [AtBat, Hits, Walks, CRuns, CWalks, Division, ...   \n",
       "13   6     [AtBat, Hits, Walks, CRuns, Division, PutOuts]   \n",
       "14   5               [AtBat, Hits, Walks, CRuns, PutOuts]   \n",
       "15   4                      [AtBat, Hits, CRuns, PutOuts]   \n",
       "16   3                             [Hits, CRuns, PutOuts]   \n",
       "17   2                                      [Hits, CRuns]   \n",
       "18   1                                            [CRuns]   \n",
       "\n",
       "                                                model       rsq           rss  \\\n",
       "0   <statsmodels.regression.linear_model.Regressio...  0.546116  2.420070e+07   \n",
       "1   <statsmodels.regression.linear_model.Regressio...  0.546095  2.420184e+07   \n",
       "2   <statsmodels.regression.linear_model.Regressio...  0.545952  2.420945e+07   \n",
       "3   <statsmodels.regression.linear_model.Regressio...  0.545766  2.421938e+07   \n",
       "4   <statsmodels.regression.linear_model.Regressio...  0.545469  2.423518e+07   \n",
       "5   <statsmodels.regression.linear_model.Regressio...  0.545216  2.424866e+07   \n",
       "6   <statsmodels.regression.linear_model.Regressio...  0.544457  2.428915e+07   \n",
       "7   <statsmodels.regression.linear_model.Regressio...  0.543630  2.433323e+07   \n",
       "8   <statsmodels.regression.linear_model.Regressio...  0.542615  2.438735e+07   \n",
       "9   <statsmodels.regression.linear_model.Regressio...  0.540495  2.450040e+07   \n",
       "10  <statsmodels.regression.linear_model.Regressio...  0.534612  2.481405e+07   \n",
       "11  <statsmodels.regression.linear_model.Regressio...  0.528139  2.515923e+07   \n",
       "12  <statsmodels.regression.linear_model.Regressio...  0.513617  2.593349e+07   \n",
       "13  <statsmodels.regression.linear_model.Regressio...  0.499727  2.667409e+07   \n",
       "14  <statsmodels.regression.linear_model.Regressio...  0.484059  2.750952e+07   \n",
       "15  <statsmodels.regression.linear_model.Regressio...  0.466405  2.845081e+07   \n",
       "16  <statsmodels.regression.linear_model.Regressio...  0.448466  2.940730e+07   \n",
       "17  <statsmodels.regression.linear_model.Regressio...  0.414779  3.120346e+07   \n",
       "18  <statsmodels.regression.linear_model.Regressio...  0.316606  3.643795e+07   \n",
       "\n",
       "       adjr2          bic          aic  \n",
       "0   0.510627  3863.825860  3792.382780  \n",
       "1   0.512610  3858.266071  3790.395144  \n",
       "2   0.514446  3852.776595  3788.477822  \n",
       "3   0.516222  3847.312301  3786.585683  \n",
       "4   0.517866  3841.911664  3784.757199  \n",
       "5   0.519543  3836.485787  3782.903476  \n",
       "6   0.520674  3831.352392  3781.342235  \n",
       "7   0.521724  3826.257147  3779.819145  \n",
       "8   0.522571  3821.269208  3778.403359  \n",
       "9   0.522261  3816.913469  3777.619775  \n",
       "10  0.518057  3814.686826  3778.965286  \n",
       "11  0.513277  3812.747991  3780.598605  \n",
       "12  0.500266  3815.147394  3786.570162  \n",
       "13  0.488002  3816.980707  3791.975629  \n",
       "14  0.474021  3819.519347  3798.086423  \n",
       "15  0.458132  3822.795631  3804.934861  \n",
       "16  0.442078  3825.919919  3811.631303  \n",
       "17  0.410277  3835.940017  3825.223555  \n",
       "18  0.313988  3871.154392  3864.010084  "
      ]
     },
     "execution_count": 43,
     "metadata": {},
     "output_type": "execute_result"
    }
   ],
   "source": [
    "%%time\n",
    "models_bs = backward_selection(y, X, 19)\n",
    "models_bs"
   ]
  },
  {
   "cell_type": "markdown",
   "id": "8e1a5477",
   "metadata": {},
   "source": [
    "For instance, we see that using forward stepwise selection, the best one-variable model contains only `CRBI`, and the best two-variable model additionally includes `Hits`. For this data, the best one-variable through six-variable models are each identical for best subset and forward selection. However, the best seven-variable models identified by forward stepwise selection, backward stepwise selection, and best subset selection are different."
   ]
  },
  {
   "cell_type": "code",
   "execution_count": 55,
   "id": "503969a9",
   "metadata": {
    "lines_to_next_cell": 0,
    "name": "chunk13"
   },
   "outputs": [
    {
     "name": "stdout",
     "output_type": "stream",
     "text": [
      "['CAtBat', 'CHits', 'CHmRun', 'Division', 'Hits', 'PutOuts', 'Walks']\n",
      "['AtBat', 'CRBI', 'CWalks', 'Division', 'Hits', 'PutOuts', 'Walks']\n",
      "['AtBat', 'CRuns', 'CWalks', 'Division', 'Hits', 'PutOuts', 'Walks']\n"
     ]
    }
   ],
   "source": [
    "print(sorted(models_bss[models_bss.k == 7].subset.iloc[0]))\n",
    "print(sorted(models_fs[models_fs.k == 7].subset.iloc[0]))\n",
    "print(sorted(models_bs[models_bs.k == 7].subset.iloc[0]))"
   ]
  },
  {
   "cell_type": "markdown",
   "id": "e11cfe78",
   "metadata": {},
   "source": [
    "### Choosing Among Models Using the Validation-Set Approach and Cross-Validation"
   ]
  },
  {
   "cell_type": "markdown",
   "id": "27302b94",
   "metadata": {},
   "source": [
    "We just saw that it is possible to choose among a set of models of different sizes using $C_p$, BIC, and adjusted $R^2$. We will now consider how to do this using the\n",
    "validation set and cross-validation approaches.\n",
    "\n",
    "In order for these approaches to yield accurate estimates of the test\n",
    "error, we must use *only the training observations* to perform all aspects of model-fitting---including variable\n",
    "  selection.  Therefore, the determination of which model of a\n",
    "given size is best must be made using *only the training observations*. This point is subtle but important.\n",
    "If the full data set is used to perform the best subset selection\n",
    "step, the validation set errors and cross-validation errors that we\n",
    "obtain will not be accurate estimates of the test error.\n",
    "\n",
    "In order to use the validation set approach, we begin by splitting the\n",
    "observations into a training set and a test set."
   ]
  },
  {
   "cell_type": "code",
   "execution_count": 56,
   "id": "ff746d6e-8a59-4945-bdf8-24f0d5700b92",
   "metadata": {},
   "outputs": [],
   "source": [
    "from sklearn.model_selection import train_test_split"
   ]
  },
  {
   "cell_type": "code",
   "execution_count": 92,
   "id": "1955a8e9-4f9b-43e3-a8c2-11849d53ee46",
   "metadata": {},
   "outputs": [],
   "source": [
    "X_train, X_test, y_train, y_test = train_test_split(X, y, test_size=0.5, random_state=1)"
   ]
  },
  {
   "cell_type": "markdown",
   "id": "122028bf",
   "metadata": {},
   "source": [
    "Now, we apply `regsubsets()` to the training set in order to perform best subset selection."
   ]
  },
  {
   "cell_type": "code",
   "execution_count": 93,
   "id": "6ac9195e-4923-4fde-a7d4-c3448688cfaf",
   "metadata": {},
   "outputs": [
    {
     "name": "stdout",
     "output_type": "stream",
     "text": [
      "CPU times: user 13min 28s, sys: 1.29 s, total: 13min 29s\n",
      "Wall time: 13min 29s\n"
     ]
    },
    {
     "data": {
      "text/html": [
       "<div>\n",
       "<style scoped>\n",
       "    .dataframe tbody tr th:only-of-type {\n",
       "        vertical-align: middle;\n",
       "    }\n",
       "\n",
       "    .dataframe tbody tr th {\n",
       "        vertical-align: top;\n",
       "    }\n",
       "\n",
       "    .dataframe thead th {\n",
       "        text-align: right;\n",
       "    }\n",
       "</style>\n",
       "<table border=\"1\" class=\"dataframe\">\n",
       "  <thead>\n",
       "    <tr style=\"text-align: right;\">\n",
       "      <th></th>\n",
       "      <th>k</th>\n",
       "      <th>subset</th>\n",
       "      <th>model</th>\n",
       "      <th>rsq</th>\n",
       "      <th>rss</th>\n",
       "      <th>adjr2</th>\n",
       "      <th>bic</th>\n",
       "      <th>aic</th>\n",
       "    </tr>\n",
       "  </thead>\n",
       "  <tbody>\n",
       "    <tr>\n",
       "      <th>0</th>\n",
       "      <td>1</td>\n",
       "      <td>(CRBI,)</td>\n",
       "      <td>&lt;statsmodels.regression.linear_model.Regressio...</td>\n",
       "      <td>0.324850</td>\n",
       "      <td>2.059478e+07</td>\n",
       "      <td>0.319617</td>\n",
       "      <td>1948.973246</td>\n",
       "      <td>1943.222851</td>\n",
       "    </tr>\n",
       "    <tr>\n",
       "      <th>1</th>\n",
       "      <td>2</td>\n",
       "      <td>(CRBI, PutOuts)</td>\n",
       "      <td>&lt;statsmodels.regression.linear_model.Regressio...</td>\n",
       "      <td>0.459530</td>\n",
       "      <td>1.648651e+07</td>\n",
       "      <td>0.451085</td>\n",
       "      <td>1924.701589</td>\n",
       "      <td>1916.075997</td>\n",
       "    </tr>\n",
       "    <tr>\n",
       "      <th>2</th>\n",
       "      <td>3</td>\n",
       "      <td>(Walks, CRBI, PutOuts)</td>\n",
       "      <td>&lt;statsmodels.regression.linear_model.Regressio...</td>\n",
       "      <td>0.500671</td>\n",
       "      <td>1.523154e+07</td>\n",
       "      <td>0.488876</td>\n",
       "      <td>1919.204948</td>\n",
       "      <td>1907.704159</td>\n",
       "    </tr>\n",
       "    <tr>\n",
       "      <th>3</th>\n",
       "      <td>4</td>\n",
       "      <td>(CAtBat, CHits, CRuns, PutOuts)</td>\n",
       "      <td>&lt;statsmodels.regression.linear_model.Regressio...</td>\n",
       "      <td>0.537863</td>\n",
       "      <td>1.409703e+07</td>\n",
       "      <td>0.523192</td>\n",
       "      <td>1913.940242</td>\n",
       "      <td>1899.564256</td>\n",
       "    </tr>\n",
       "    <tr>\n",
       "      <th>4</th>\n",
       "      <td>5</td>\n",
       "      <td>(Walks, CAtBat, CHits, CHmRun, PutOuts)</td>\n",
       "      <td>&lt;statsmodels.regression.linear_model.Regressio...</td>\n",
       "      <td>0.559751</td>\n",
       "      <td>1.342937e+07</td>\n",
       "      <td>0.542141</td>\n",
       "      <td>1912.459312</td>\n",
       "      <td>1895.208128</td>\n",
       "    </tr>\n",
       "    <tr>\n",
       "      <th>5</th>\n",
       "      <td>6</td>\n",
       "      <td>(Walks, CAtBat, CHits, CHmRun, Division, PutOuts)</td>\n",
       "      <td>&lt;statsmodels.regression.linear_model.Regressio...</td>\n",
       "      <td>0.580704</td>\n",
       "      <td>1.279021e+07</td>\n",
       "      <td>0.560416</td>\n",
       "      <td>1910.946362</td>\n",
       "      <td>1890.819980</td>\n",
       "    </tr>\n",
       "    <tr>\n",
       "      <th>6</th>\n",
       "      <td>7</td>\n",
       "      <td>(Walks, CAtBat, CHits, CHmRun, CWalks, Divisio...</td>\n",
       "      <td>&lt;statsmodels.regression.linear_model.Regressio...</td>\n",
       "      <td>0.585186</td>\n",
       "      <td>1.265349e+07</td>\n",
       "      <td>0.561579</td>\n",
       "      <td>1914.413732</td>\n",
       "      <td>1891.412154</td>\n",
       "    </tr>\n",
       "    <tr>\n",
       "      <th>7</th>\n",
       "      <td>8</td>\n",
       "      <td>(AtBat, Hits, Walks, CAtBat, CHits, CHmRun, Di...</td>\n",
       "      <td>&lt;statsmodels.regression.linear_model.Regressio...</td>\n",
       "      <td>0.595439</td>\n",
       "      <td>1.234074e+07</td>\n",
       "      <td>0.568910</td>\n",
       "      <td>1916.010373</td>\n",
       "      <td>1890.133597</td>\n",
       "    </tr>\n",
       "    <tr>\n",
       "      <th>8</th>\n",
       "      <td>9</td>\n",
       "      <td>(AtBat, Hits, Walks, CAtBat, CHits, CHmRun, Di...</td>\n",
       "      <td>&lt;statsmodels.regression.linear_model.Regressio...</td>\n",
       "      <td>0.598991</td>\n",
       "      <td>1.223238e+07</td>\n",
       "      <td>0.569164</td>\n",
       "      <td>1919.730271</td>\n",
       "      <td>1890.978297</td>\n",
       "    </tr>\n",
       "    <tr>\n",
       "      <th>9</th>\n",
       "      <td>10</td>\n",
       "      <td>(AtBat, Hits, Walks, CAtBat, CHits, CHmRun, Le...</td>\n",
       "      <td>&lt;statsmodels.regression.linear_model.Regressio...</td>\n",
       "      <td>0.601715</td>\n",
       "      <td>1.214928e+07</td>\n",
       "      <td>0.568525</td>\n",
       "      <td>1923.712478</td>\n",
       "      <td>1892.085308</td>\n",
       "    </tr>\n",
       "    <tr>\n",
       "      <th>10</th>\n",
       "      <td>11</td>\n",
       "      <td>(AtBat, Hits, Walks, Years, CAtBat, CHits, CHm...</td>\n",
       "      <td>&lt;statsmodels.regression.linear_model.Regressio...</td>\n",
       "      <td>0.603684</td>\n",
       "      <td>1.208922e+07</td>\n",
       "      <td>0.567050</td>\n",
       "      <td>1927.938469</td>\n",
       "      <td>1893.436101</td>\n",
       "    </tr>\n",
       "    <tr>\n",
       "      <th>11</th>\n",
       "      <td>12</td>\n",
       "      <td>(AtBat, Hits, RBI, Walks, CAtBat, CHits, CHmRu...</td>\n",
       "      <td>&lt;statsmodels.regression.linear_model.Regressio...</td>\n",
       "      <td>0.605537</td>\n",
       "      <td>1.203271e+07</td>\n",
       "      <td>0.565422</td>\n",
       "      <td>1932.199896</td>\n",
       "      <td>1894.822331</td>\n",
       "    </tr>\n",
       "    <tr>\n",
       "      <th>12</th>\n",
       "      <td>13</td>\n",
       "      <td>(AtBat, Hits, RBI, Walks, CAtBat, CHits, CHmRu...</td>\n",
       "      <td>&lt;statsmodels.regression.linear_model.Regressio...</td>\n",
       "      <td>0.607370</td>\n",
       "      <td>1.197681e+07</td>\n",
       "      <td>0.563744</td>\n",
       "      <td>1936.465026</td>\n",
       "      <td>1896.212263</td>\n",
       "    </tr>\n",
       "    <tr>\n",
       "      <th>13</th>\n",
       "      <td>14</td>\n",
       "      <td>(AtBat, Hits, RBI, Walks, CAtBat, CHits, CHmRu...</td>\n",
       "      <td>&lt;statsmodels.regression.linear_model.Regressio...</td>\n",
       "      <td>0.608941</td>\n",
       "      <td>1.192886e+07</td>\n",
       "      <td>0.561745</td>\n",
       "      <td>1940.814744</td>\n",
       "      <td>1897.686784</td>\n",
       "    </tr>\n",
       "    <tr>\n",
       "      <th>14</th>\n",
       "      <td>15</td>\n",
       "      <td>(AtBat, Hits, HmRun, RBI, Walks, CAtBat, CHits...</td>\n",
       "      <td>&lt;statsmodels.regression.linear_model.Regressio...</td>\n",
       "      <td>0.609943</td>\n",
       "      <td>1.189830e+07</td>\n",
       "      <td>0.559066</td>\n",
       "      <td>1945.353924</td>\n",
       "      <td>1899.350767</td>\n",
       "    </tr>\n",
       "    <tr>\n",
       "      <th>15</th>\n",
       "      <td>16</td>\n",
       "      <td>(AtBat, Hits, HmRun, RBI, Walks, Years, CAtBat...</td>\n",
       "      <td>&lt;statsmodels.regression.linear_model.Regressio...</td>\n",
       "      <td>0.610605</td>\n",
       "      <td>1.187810e+07</td>\n",
       "      <td>0.555953</td>\n",
       "      <td>1950.006548</td>\n",
       "      <td>1901.128194</td>\n",
       "    </tr>\n",
       "    <tr>\n",
       "      <th>16</th>\n",
       "      <td>17</td>\n",
       "      <td>(AtBat, Hits, HmRun, RBI, Walks, Years, CAtBat...</td>\n",
       "      <td>&lt;statsmodels.regression.linear_model.Regressio...</td>\n",
       "      <td>0.611275</td>\n",
       "      <td>1.185767e+07</td>\n",
       "      <td>0.552795</td>\n",
       "      <td>1954.656167</td>\n",
       "      <td>1902.902615</td>\n",
       "    </tr>\n",
       "    <tr>\n",
       "      <th>17</th>\n",
       "      <td>18</td>\n",
       "      <td>(AtBat, Hits, HmRun, RBI, Walks, Years, CAtBat...</td>\n",
       "      <td>&lt;statsmodels.regression.linear_model.Regressio...</td>\n",
       "      <td>0.611491</td>\n",
       "      <td>1.185109e+07</td>\n",
       "      <td>0.549052</td>\n",
       "      <td>1959.458642</td>\n",
       "      <td>1904.829893</td>\n",
       "    </tr>\n",
       "    <tr>\n",
       "      <th>18</th>\n",
       "      <td>19</td>\n",
       "      <td>(AtBat, Hits, HmRun, Runs, RBI, Walks, Years, ...</td>\n",
       "      <td>&lt;statsmodels.regression.linear_model.Regressio...</td>\n",
       "      <td>0.611491</td>\n",
       "      <td>1.185108e+07</td>\n",
       "      <td>0.544990</td>\n",
       "      <td>1964.333753</td>\n",
       "      <td>1906.829807</td>\n",
       "    </tr>\n",
       "  </tbody>\n",
       "</table>\n",
       "</div>"
      ],
      "text/plain": [
       "     k                                             subset  \\\n",
       "0    1                                            (CRBI,)   \n",
       "1    2                                    (CRBI, PutOuts)   \n",
       "2    3                             (Walks, CRBI, PutOuts)   \n",
       "3    4                    (CAtBat, CHits, CRuns, PutOuts)   \n",
       "4    5            (Walks, CAtBat, CHits, CHmRun, PutOuts)   \n",
       "5    6  (Walks, CAtBat, CHits, CHmRun, Division, PutOuts)   \n",
       "6    7  (Walks, CAtBat, CHits, CHmRun, CWalks, Divisio...   \n",
       "7    8  (AtBat, Hits, Walks, CAtBat, CHits, CHmRun, Di...   \n",
       "8    9  (AtBat, Hits, Walks, CAtBat, CHits, CHmRun, Di...   \n",
       "9   10  (AtBat, Hits, Walks, CAtBat, CHits, CHmRun, Le...   \n",
       "10  11  (AtBat, Hits, Walks, Years, CAtBat, CHits, CHm...   \n",
       "11  12  (AtBat, Hits, RBI, Walks, CAtBat, CHits, CHmRu...   \n",
       "12  13  (AtBat, Hits, RBI, Walks, CAtBat, CHits, CHmRu...   \n",
       "13  14  (AtBat, Hits, RBI, Walks, CAtBat, CHits, CHmRu...   \n",
       "14  15  (AtBat, Hits, HmRun, RBI, Walks, CAtBat, CHits...   \n",
       "15  16  (AtBat, Hits, HmRun, RBI, Walks, Years, CAtBat...   \n",
       "16  17  (AtBat, Hits, HmRun, RBI, Walks, Years, CAtBat...   \n",
       "17  18  (AtBat, Hits, HmRun, RBI, Walks, Years, CAtBat...   \n",
       "18  19  (AtBat, Hits, HmRun, Runs, RBI, Walks, Years, ...   \n",
       "\n",
       "                                                model       rsq           rss  \\\n",
       "0   <statsmodels.regression.linear_model.Regressio...  0.324850  2.059478e+07   \n",
       "1   <statsmodels.regression.linear_model.Regressio...  0.459530  1.648651e+07   \n",
       "2   <statsmodels.regression.linear_model.Regressio...  0.500671  1.523154e+07   \n",
       "3   <statsmodels.regression.linear_model.Regressio...  0.537863  1.409703e+07   \n",
       "4   <statsmodels.regression.linear_model.Regressio...  0.559751  1.342937e+07   \n",
       "5   <statsmodels.regression.linear_model.Regressio...  0.580704  1.279021e+07   \n",
       "6   <statsmodels.regression.linear_model.Regressio...  0.585186  1.265349e+07   \n",
       "7   <statsmodels.regression.linear_model.Regressio...  0.595439  1.234074e+07   \n",
       "8   <statsmodels.regression.linear_model.Regressio...  0.598991  1.223238e+07   \n",
       "9   <statsmodels.regression.linear_model.Regressio...  0.601715  1.214928e+07   \n",
       "10  <statsmodels.regression.linear_model.Regressio...  0.603684  1.208922e+07   \n",
       "11  <statsmodels.regression.linear_model.Regressio...  0.605537  1.203271e+07   \n",
       "12  <statsmodels.regression.linear_model.Regressio...  0.607370  1.197681e+07   \n",
       "13  <statsmodels.regression.linear_model.Regressio...  0.608941  1.192886e+07   \n",
       "14  <statsmodels.regression.linear_model.Regressio...  0.609943  1.189830e+07   \n",
       "15  <statsmodels.regression.linear_model.Regressio...  0.610605  1.187810e+07   \n",
       "16  <statsmodels.regression.linear_model.Regressio...  0.611275  1.185767e+07   \n",
       "17  <statsmodels.regression.linear_model.Regressio...  0.611491  1.185109e+07   \n",
       "18  <statsmodels.regression.linear_model.Regressio...  0.611491  1.185108e+07   \n",
       "\n",
       "       adjr2          bic          aic  \n",
       "0   0.319617  1948.973246  1943.222851  \n",
       "1   0.451085  1924.701589  1916.075997  \n",
       "2   0.488876  1919.204948  1907.704159  \n",
       "3   0.523192  1913.940242  1899.564256  \n",
       "4   0.542141  1912.459312  1895.208128  \n",
       "5   0.560416  1910.946362  1890.819980  \n",
       "6   0.561579  1914.413732  1891.412154  \n",
       "7   0.568910  1916.010373  1890.133597  \n",
       "8   0.569164  1919.730271  1890.978297  \n",
       "9   0.568525  1923.712478  1892.085308  \n",
       "10  0.567050  1927.938469  1893.436101  \n",
       "11  0.565422  1932.199896  1894.822331  \n",
       "12  0.563744  1936.465026  1896.212263  \n",
       "13  0.561745  1940.814744  1897.686784  \n",
       "14  0.559066  1945.353924  1899.350767  \n",
       "15  0.555953  1950.006548  1901.128194  \n",
       "16  0.552795  1954.656167  1902.902615  \n",
       "17  0.549052  1959.458642  1904.829893  \n",
       "18  0.544990  1964.333753  1906.829807  "
      ]
     },
     "execution_count": 93,
     "metadata": {},
     "output_type": "execute_result"
    }
   ],
   "source": [
    "%%time\n",
    "model_best = regsubsets(y_train, X_train, 19)\n",
    "model_best"
   ]
  },
  {
   "cell_type": "markdown",
   "id": "f062ef0c",
   "metadata": {},
   "source": [
    "Notice that we subset the `Hitters` data frame directly in the call in order to access only the training subset of the data, using `X_train`.\n",
    "We now compute the validation set error for the best model of each model size."
   ]
  },
  {
   "cell_type": "code",
   "execution_count": 94,
   "id": "998978f6-0e40-4ea4-a301-dd09d2be2e46",
   "metadata": {},
   "outputs": [
    {
     "data": {
      "text/plain": [
       "[118361.56861419103,\n",
       " 130966.87007469594,\n",
       " 119625.21024441488,\n",
       " 134907.9885306005,\n",
       " 112643.04978289087,\n",
       " 107270.9475703039,\n",
       " 116458.80105099842,\n",
       " 106841.13014819437,\n",
       " 105173.662776405,\n",
       " 106397.80219778293,\n",
       " 108477.9562984262,\n",
       " 108578.20210232891,\n",
       " 109159.87954120857,\n",
       " 111403.2671982661,\n",
       " 111938.33524148812,\n",
       " 112079.71684100275,\n",
       " 118275.23374471946,\n",
       " 116725.61036416831,\n",
       " 116690.46856661141]"
      ]
     },
     "execution_count": 94,
     "metadata": {},
     "output_type": "execute_result"
    }
   ],
   "source": [
    "val_errors = []\n",
    "for i, row in model_best.iterrows():\n",
    "    m = row.model\n",
    "    subset = list(row.subset)\n",
    "    X_k = sm.add_constant(pd.get_dummies(X_test[subset], drop_first=True))\n",
    "    preds = m.predict(X_k)\n",
    "    val_errors.append(((preds - y_test)**2).mean())\n",
    "val_errors"
   ]
  },
  {
   "cell_type": "markdown",
   "id": "bd26b4ad",
   "metadata": {},
   "source": [
    "We find that the best model is the one that contains nine variables."
   ]
  },
  {
   "cell_type": "code",
   "execution_count": 97,
   "id": "055af496-4d8a-4dc3-b698-1e975b2338a3",
   "metadata": {},
   "outputs": [
    {
     "data": {
      "text/plain": [
       "k                                                         9\n",
       "subset    (AtBat, Hits, Walks, CAtBat, CHits, CHmRun, Di...\n",
       "model     <statsmodels.regression.linear_model.Regressio...\n",
       "rsq                                                0.598991\n",
       "rss                                         12232382.993159\n",
       "adjr2                                              0.569164\n",
       "bic                                             1919.730271\n",
       "aic                                             1890.978297\n",
       "Name: 8, dtype: object"
      ]
     },
     "execution_count": 97,
     "metadata": {},
     "output_type": "execute_result"
    }
   ],
   "source": [
    "idx = np.argmin(val_errors)\n",
    "model_best.iloc[idx]"
   ]
  },
  {
   "cell_type": "code",
   "execution_count": 98,
   "id": "0a0ac99f-831c-45a3-8896-7a15c91198d2",
   "metadata": {},
   "outputs": [
    {
     "data": {
      "text/plain": [
       "const         268.566390\n",
       "AtBat          -1.972139\n",
       "Hits            5.773220\n",
       "Walks           4.363040\n",
       "CAtBat         -0.457920\n",
       "CHits           1.713801\n",
       "CHmRun          2.122356\n",
       "PutOuts         0.399087\n",
       "Assists         0.246362\n",
       "Division_W   -125.778852\n",
       "dtype: float64"
      ]
     },
     "execution_count": 98,
     "metadata": {},
     "output_type": "execute_result"
    }
   ],
   "source": [
    "model_best.iloc[idx].model.params"
   ]
  },
  {
   "cell_type": "markdown",
   "id": "74896d07",
   "metadata": {},
   "source": [
    "This was a little tedious, partly because there is no `predict()` method for `regsubsets()`.\n",
    "Since we will be using this function again, we can capture our steps above and write our own predict method.\n"
   ]
  },
  {
   "cell_type": "code",
   "execution_count": 103,
   "id": "557343b0",
   "metadata": {
    "name": "chunk19"
   },
   "outputs": [],
   "source": [
    "def predict_regsubsets(obj, new_data, k):\n",
    "    row = obj[obj.k == k].iloc[0]\n",
    "    m = row.model\n",
    "    subset = list(row.subset)\n",
    "    X_k = sm.add_constant(pd.get_dummies(new_data[subset], drop_first=True))\n",
    "    preds = m.predict(X_k)\n",
    "    return preds"
   ]
  },
  {
   "cell_type": "markdown",
   "id": "084ca0bc",
   "metadata": {},
   "source": [
    "Our function pretty much mimics what we did above. We demonstrate how we use this function below, when we do cross-validation.\n",
    "\n",
    "Finally, we perform best subset selection on the full data set, and select the best nine-variable model. It is important that we make use of  the full data set in order to obtain more accurate coefficient estimates. Note that we perform best subset selection on the full data set and select the best nine-variable model, rather than simply using the variables that were obtained from the training set, because the best nine-variable model on the full data set may differ from the corresponding model on the training set."
   ]
  },
  {
   "cell_type": "code",
   "execution_count": null,
   "id": "aef5467a-1347-427b-9e22-e86de084ba28",
   "metadata": {},
   "outputs": [],
   "source": [
    "%%time\n",
    "model_best = regsubsets(y, X, 9)"
   ]
  },
  {
   "cell_type": "code",
   "execution_count": 105,
   "id": "a02613da-9ac8-48d1-a596-1d0c609506e0",
   "metadata": {},
   "outputs": [
    {
     "data": {
      "text/plain": [
       "const         146.249600\n",
       "AtBat          -1.936768\n",
       "Hits            6.656721\n",
       "Walks           5.552044\n",
       "CAtBat         -0.099539\n",
       "CRuns           1.250671\n",
       "CRBI            0.661768\n",
       "CWalks         -0.777985\n",
       "PutOuts         0.277731\n",
       "Division_W   -115.349501\n",
       "dtype: float64"
      ]
     },
     "execution_count": 105,
     "metadata": {},
     "output_type": "execute_result"
    }
   ],
   "source": [
    "model_best[model_best.k == 9].iloc[0].model.params"
   ]
  },
  {
   "cell_type": "markdown",
   "id": "9c66b6ef",
   "metadata": {},
   "source": [
    "In fact, we see that the best nine-variable model on the full data set has a different set of variables than the best seven-variable model on the training set.\n",
    "\n",
    "We now try to choose among the models of different sizes using cross-validation.\n",
    "This approach is somewhat involved, as we  must perform best subset selection *within each of the $k$ training sets*.\n",
    "First, we create an iterator that yields the train/test indices for each one of $k=10$ folds."
   ]
  },
  {
   "cell_type": "code",
   "execution_count": 106,
   "id": "609e3bcb-e879-45ee-b78d-4b15964188d0",
   "metadata": {},
   "outputs": [],
   "source": [
    "from sklearn.model_selection import KFold"
   ]
  },
  {
   "cell_type": "code",
   "execution_count": 115,
   "id": "3a08ca1c-9ec0-4cb0-9d8c-a26fa7450117",
   "metadata": {},
   "outputs": [],
   "source": [
    "k = 10\n",
    "n = len(X)\n",
    "cv = KFold(n_splits=10)\n",
    "# Matrix to store test errors for each fold(rows) for each best sub_k model (columns)\n",
    "cv_erros = np.zeros((k, 19))"
   ]
  },
  {
   "cell_type": "markdown",
   "id": "b5a0be4e",
   "metadata": {},
   "source": [
    "Now we write a for loop that performs cross-validation. We make our predictions for each model size (using our new `predict()` function), compute the test errors on the appropriate subset, and store them in the appropriate slot in the matrix `cv_errors`. We will use forward selection due to long fit time of best subset selection, but the workflow is the same."
   ]
  },
  {
   "cell_type": "code",
   "execution_count": 146,
   "id": "10b6015c-4e6d-4294-8da5-5f60947054db",
   "metadata": {},
   "outputs": [],
   "source": [
    "for k, (train, test) in enumerate(cv.split(X)):\n",
    "    X_train = X.iloc[train]\n",
    "    y_train = y.iloc[train]\n",
    "    X_test = X.iloc[test]\n",
    "    y_test = y.iloc[test]\n",
    "    \n",
    "    model_df = forward_selection(y_train, X_train, 19)\n",
    "    for i in range(19):\n",
    "        pred = predict_regsubsets(model_df, X_test, i+1)\n",
    "        cv_erros[k, i] = np.mean((y_test - pred)**2)"
   ]
  },
  {
   "cell_type": "markdown",
   "id": "e987b226",
   "metadata": {},
   "source": [
    "This has given us a $10 \\times 19$ matrix, of which the $(k,i)$th element  corresponds to the test MSE for the $k$th\n",
    "cross-validation fold for the best $i$-variable model. We average over the columns of this matrix in order to obtain a vector for which the $i$th element is the cross-validation error for the $i$-variable model."
   ]
  },
  {
   "cell_type": "code",
   "execution_count": 147,
   "id": "cbbc053e",
   "metadata": {
    "name": "chunk23"
   },
   "outputs": [
    {
     "data": {
      "text/plain": [
       "array([149077.41813984, 134035.44486629, 130954.14711696, 123682.46250534,\n",
       "       119248.63171025, 113154.21396372, 115580.66063392, 111934.20542683,\n",
       "       112854.61736043, 114497.88740805, 114714.87956413, 116153.59790327,\n",
       "       115401.23030797, 114398.00017099, 116273.71069339, 116361.11211147,\n",
       "       116308.889187  , 116595.91092374, 116599.0136738 ])"
      ]
     },
     "execution_count": 147,
     "metadata": {},
     "output_type": "execute_result"
    }
   ],
   "source": [
    "mean_cv_errors = cv_erros.mean(axis=0)\n",
    "mean_cv_errors"
   ]
  },
  {
   "cell_type": "code",
   "execution_count": 148,
   "id": "7da7ab40-d3ac-4ef6-a937-4e53f2e9c00b",
   "metadata": {},
   "outputs": [
    {
     "data": {
      "image/png": "[encoded data removed]",
      "text/plain": [
       "<Figure size 432x288 with 1 Axes>"
      ]
     },
     "metadata": {
      "needs_background": "light"
     },
     "output_type": "display_data"
    }
   ],
   "source": [
    "plt.plot(range(1, 20), mean_cv_errors, '--o')\n",
    "plt.xticks(range(1, 20));"
   ]
  },
  {
   "cell_type": "markdown",
   "id": "675d25df",
   "metadata": {},
   "source": [
    "We see that cross-validation selects a 8-variable model.\n",
    "Backward selection would have also chosen an 8 variable model, and best subset selection a 10 variable model (try this).\n",
    "We now perform best subset selection on the full data set in order to obtain the 8-variable model."
   ]
  },
  {
   "cell_type": "code",
   "execution_count": 149,
   "id": "0aa3b5f2",
   "metadata": {
    "lines_to_next_cell": 0,
    "name": "chunk24"
   },
   "outputs": [
    {
     "data": {
      "text/plain": [
       "const         117.152043\n",
       "CRBI            0.527324\n",
       "Hits            6.854914\n",
       "PutOuts         0.275389\n",
       "AtBat          -2.033921\n",
       "Walks           6.440664\n",
       "CWalks         -0.806606\n",
       "CRuns           0.704539\n",
       "Division_W   -123.779837\n",
       "dtype: float64"
      ]
     },
     "execution_count": 149,
     "metadata": {},
     "output_type": "execute_result"
    }
   ],
   "source": [
    "model_best = forward_selection(y, X, 8)\n",
    "model_best[model_best.k == 8].iloc[0].model.params"
   ]
  },
  {
   "cell_type": "markdown",
   "id": "3f05bc68-6b58-42ab-b8a8-9ac2747390f7",
   "metadata": {},
   "source": [
    "Finally, Scikit-Learn han an implementation for forward and backward subset selection that uses cross-validation that we can use with linear and non-linear models. So we dont have to implement the dummy coding inside our custom functions as before, we'll be using data processing pipelines to build a sequential model with both the dummy coding and the linear regression as part of the same model.\n",
    "From the Scikit-Learn documentation on the SequentialFeatureSelector:\n",
    "\n",
    "SFS is a greedy procedure where, at each iteration, we choose the best new feature to add to our selected features based a cross-validation score. That is, we start with 0 features and choose the best single feature with the highest score. The procedure is repeated until we reach the desired number of selected features.\n",
    "\n",
    "We can also go in the reverse direction (backward SFS), i.e. start with all the features and greedily choose features to remove one by one.\n",
    "\n",
    "Unfortunately a required parameter for SequentialFeatureSelector, feature_groups, needed to wok with one hot enconded data, has note yet reached the stable release of Scikit-Learn, so we delay its introduction to a later date."
   ]
  },
  {
   "cell_type": "markdown",
   "id": "ab5c5ceb-02b5-4ecf-8d40-250d64250604",
   "metadata": {},
   "source": [
    "## Ridge Regression and the Lasso\n",
    "\n",
    "We will now perform ridge regression and the lasso in order to predict `Salary` on the `Hitters` data. Before proceeding ensure that the missing values have been removed from the data, as described in Section 6.5.1.\n",
    "Scikit-Learn provides the `Ridge` and `Lasso` functions, which can be used to fit ridge regression models and lasso models."
   ]
  },
  {
   "cell_type": "code",
   "execution_count": 148,
   "id": "8edc803b-42a5-4a0a-a601-ea2442718c90",
   "metadata": {},
   "outputs": [],
   "source": [
    "from sklearn.linear_model import Ridge, RidgeCV, Lasso, LassoCV\n",
    "from sklearn.preprocessing import StandardScaler, scale\n",
    "from sklearn.model_selection import train_test_split\n",
    "from sklearn.metrics import mean_squared_error"
   ]
  },
  {
   "cell_type": "code",
   "execution_count": 150,
   "id": "5fbe0311-822e-4bdc-9959-2502ffb355f4",
   "metadata": {},
   "outputs": [
    {
     "data": {
      "text/plain": [
       "array([[-0.6029005 , -0.59567545, -0.5285512 , ...,  1.05875764,\n",
       "         0.98116592,  1.07505242],\n",
       "       [ 0.51254171,  0.49225957,  0.72996619, ..., -0.94450322,\n",
       "         0.98116592, -0.9301872 ],\n",
       "       [ 0.62816682,  0.73648988,  0.95878753, ...,  1.05875764,\n",
       "        -1.01919561,  1.07505242],\n",
       "       ...,\n",
       "       [ 0.48533581,  0.40344855, -0.98619389, ..., -0.94450322,\n",
       "         0.98116592, -0.9301872 ],\n",
       "       [ 1.15188054,  0.80309815, -0.29972986, ..., -0.94450322,\n",
       "        -1.01919561, -0.9301872 ],\n",
       "       [ 1.54636621,  1.38036979, -0.29972986, ..., -0.94450322,\n",
       "         0.98116592, -0.9301872 ]])"
      ]
     },
     "execution_count": 150,
     "metadata": {},
     "output_type": "execute_result"
    }
   ],
   "source": [
    "X_dummies = pd.get_dummies(X, drop_first=True)\n",
    "X_scaled = scale(X_dummies)\n",
    "X_scaled"
   ]
  },
  {
   "cell_type": "markdown",
   "id": "0d2c503e",
   "metadata": {},
   "source": [
    "### Ridge Regression\n",
    "\n",
    "The `Ridge` function has an `alpha` argument that sets the strenght of the regularization, this is the $\\lambda$ constant described in the text."
   ]
  },
  {
   "cell_type": "code",
   "execution_count": 151,
   "id": "6b04a9ba-dea9-4932-8331-5d7b2887bfab",
   "metadata": {},
   "outputs": [
    {
     "data": {
      "text/plain": [
       "array([5.00000000e+09, 3.78231664e+09, 2.86118383e+09, 2.16438064e+09,\n",
       "       1.63727458e+09, 1.23853818e+09, 9.36908711e+08, 7.08737081e+08,\n",
       "       5.36133611e+08, 4.05565415e+08, 3.06795364e+08, 2.32079442e+08,\n",
       "       1.75559587e+08, 1.32804389e+08, 1.00461650e+08, 7.59955541e+07,\n",
       "       5.74878498e+07, 4.34874501e+07, 3.28966612e+07, 2.48851178e+07,\n",
       "       1.88246790e+07, 1.42401793e+07, 1.07721735e+07, 8.14875417e+06,\n",
       "       6.16423370e+06, 4.66301673e+06, 3.52740116e+06, 2.66834962e+06,\n",
       "       2.01850863e+06, 1.52692775e+06, 1.15506485e+06, 8.73764200e+05,\n",
       "       6.60970574e+05, 5.00000000e+05, 3.78231664e+05, 2.86118383e+05,\n",
       "       2.16438064e+05, 1.63727458e+05, 1.23853818e+05, 9.36908711e+04,\n",
       "       7.08737081e+04, 5.36133611e+04, 4.05565415e+04, 3.06795364e+04,\n",
       "       2.32079442e+04, 1.75559587e+04, 1.32804389e+04, 1.00461650e+04,\n",
       "       7.59955541e+03, 5.74878498e+03, 4.34874501e+03, 3.28966612e+03,\n",
       "       2.48851178e+03, 1.88246790e+03, 1.42401793e+03, 1.07721735e+03,\n",
       "       8.14875417e+02, 6.16423370e+02, 4.66301673e+02, 3.52740116e+02,\n",
       "       2.66834962e+02, 2.01850863e+02, 1.52692775e+02, 1.15506485e+02,\n",
       "       8.73764200e+01, 6.60970574e+01, 5.00000000e+01, 3.78231664e+01,\n",
       "       2.86118383e+01, 2.16438064e+01, 1.63727458e+01, 1.23853818e+01,\n",
       "       9.36908711e+00, 7.08737081e+00, 5.36133611e+00, 4.05565415e+00,\n",
       "       3.06795364e+00, 2.32079442e+00, 1.75559587e+00, 1.32804389e+00,\n",
       "       1.00461650e+00, 7.59955541e-01, 5.74878498e-01, 4.34874501e-01,\n",
       "       3.28966612e-01, 2.48851178e-01, 1.88246790e-01, 1.42401793e-01,\n",
       "       1.07721735e-01, 8.14875417e-02, 6.16423370e-02, 4.66301673e-02,\n",
       "       3.52740116e-02, 2.66834962e-02, 2.01850863e-02, 1.52692775e-02,\n",
       "       1.15506485e-02, 8.73764200e-03, 6.60970574e-03, 5.00000000e-03])"
      ]
     },
     "execution_count": 151,
     "metadata": {},
     "output_type": "execute_result"
    }
   ],
   "source": [
    "grid = 10**np.linspace(10, -2, 100)*0.5\n",
    "grid"
   ]
  },
  {
   "cell_type": "code",
   "execution_count": 152,
   "id": "633074fa-be06-4ffe-b347-dd9a256a21e9",
   "metadata": {},
   "outputs": [
    {
     "data": {
      "text/plain": [
       "(20, 100)"
      ]
     },
     "execution_count": 152,
     "metadata": {},
     "output_type": "execute_result"
    }
   ],
   "source": [
    "ridge_models = []\n",
    "ridge_coeffs = np.zeros((20, 100))\n",
    "for i, alpha in enumerate(grid):\n",
    "    ridge = Ridge(alpha=alpha).fit(X_scaled, y)\n",
    "    ridge_models.append(ridge)\n",
    "    ridge_coeffs[0, i] = ridge.intercept_\n",
    "    ridge_coeffs[1:, i] = ridge.coef_\n",
    "ridge_coeffs.shape"
   ]
  },
  {
   "cell_type": "markdown",
   "id": "ff62ca77",
   "metadata": {},
   "source": [
    "We have chosen to implement the function over a grid of values ranging from $\\lambda=10^{10}$ to $\\lambda=10^{-2}$, essentially covering the full range of scenarios from the null model containing only the intercept, to the least squares fit. \n",
    "\n",
    "Associated with each value of $\\lambda$ is a vector of ridge regression coefficients, that can be accesed using each models `coef_` and `_intercept` parameters. In this case, we store thos values in a $20 \\times 100$\n",
    "matrix, with $20$ rows (one for each predictor, plus an intercept) and $100$ columns (one for each value of $\\lambda$)."
   ]
  },
  {
   "cell_type": "markdown",
   "id": "9c8c33b2",
   "metadata": {},
   "source": [
    "We expect the coefficient estimates to be much smaller, in terms of $\\ell_2$ norm, when a large value of $\\lambda$ is used, as compared to when a small value of\n",
    "$\\lambda$ is used. "
   ]
  },
  {
   "cell_type": "code",
   "execution_count": 153,
   "id": "8c80ccb6-c930-447e-a696-ac21ee9caa1b",
   "metadata": {},
   "outputs": [
    {
     "data": {
      "image/png": "[encoded data removed]",
      "text/plain": [
       "<Figure size 432x288 with 1 Axes>"
      ]
     },
     "metadata": {
      "needs_background": "light"
     },
     "output_type": "display_data"
    }
   ],
   "source": [
    "plt.semilogx(grid, ridge_coeffs.T[:,1:])\n",
    "plt.xlabel('alpha')\n",
    "plt.ylabel('weights')\n",
    "plt.title('Ridge coefficients as a function of the regularization');"
   ]
  },
  {
   "cell_type": "markdown",
   "id": "4e98e635-e998-42da-86d6-9634d4a9aee5",
   "metadata": {},
   "source": [
    "These are the coefficients when $\\lambda=5749$, along with their $\\ell_2$ norm:"
   ]
  },
  {
   "cell_type": "code",
   "execution_count": 155,
   "id": "b3807c69-bb04-4003-a975-eb4c6f7e1aa4",
   "metadata": {},
   "outputs": [
    {
     "name": "stdout",
     "output_type": "stream",
     "text": [
      "alpha =  5748.784976988678\n",
      "AtBat          6.119195\n",
      "Hits           7.044081\n",
      "HmRun          5.140181\n",
      "Runs           6.642274\n",
      "RBI            6.980811\n",
      "Walks          7.102608\n",
      "Years          5.933660\n",
      "CAtBat         8.037516\n",
      "CHits          8.493838\n",
      "CHmRun         8.086276\n",
      "CRuns          8.706860\n",
      "CRBI           8.777422\n",
      "CWalks         7.402013\n",
      "PutOuts        5.272743\n",
      "Assists        0.430635\n",
      "Errors        -0.165127\n",
      "League_N       0.089851\n",
      "Division_W    -3.583274\n",
      "NewLeague_N    0.201854\n",
      "dtype: float64\n"
     ]
    },
    {
     "data": {
      "text/plain": [
       "27.252015024953984"
      ]
     },
     "execution_count": 155,
     "metadata": {},
     "output_type": "execute_result"
    }
   ],
   "source": [
    "print('alpha = ', grid[49])\n",
    "print(pd.Series(ridge_coeffs[1:, 49], index=X_dummies.columns))\n",
    "np.sqrt(np.sum(ridge_coeffs[1:, 49]**2))"
   ]
  },
  {
   "cell_type": "markdown",
   "id": "6960474c",
   "metadata": {},
   "source": [
    "In contrast, here are the coefficients when $\\lambda=83$, along with their $\\ell_2$ norm. Note the much larger $\\ell_2$ norm of the coefficients associated with this smaller value of $\\lambda$."
   ]
  },
  {
   "cell_type": "code",
   "execution_count": 156,
   "id": "7ac3c452-050a-4671-b879-7055d89e80ec",
   "metadata": {},
   "outputs": [
    {
     "name": "stdout",
     "output_type": "stream",
     "text": [
      "alpha =  352.74011553593226\n",
      "AtBat          15.999998\n",
      "Hits           31.197529\n",
      "HmRun           9.583819\n",
      "Runs           24.666884\n",
      "RBI            22.222669\n",
      "Walks          29.953068\n",
      "Years          11.677600\n",
      "CAtBat         25.195751\n",
      "CHits          31.572862\n",
      "CHmRun         28.809570\n",
      "CRuns          32.228725\n",
      "CRBI           32.947883\n",
      "CWalks         18.472021\n",
      "PutOuts        35.751428\n",
      "Assists         2.597663\n",
      "Errors         -5.380023\n",
      "League_N        7.634795\n",
      "Division_W    -29.748432\n",
      "NewLeague_N     4.511881\n",
      "dtype: float64\n"
     ]
    },
    {
     "data": {
      "text/plain": [
       "103.25500303515861"
      ]
     },
     "execution_count": 156,
     "metadata": {},
     "output_type": "execute_result"
    }
   ],
   "source": [
    "print('alpha = ', grid[59])\n",
    "print(pd.Series(ridge_coeffs[1:, 59], index=X_dummies.columns))\n",
    "np.sqrt(np.sum(ridge_coeffs[1:, 59]**2))"
   ]
  },
  {
   "cell_type": "markdown",
   "id": "418039d9-1fca-4067-8623-39870ee12a9d",
   "metadata": {},
   "source": [
    "We now split the samples into a training and a test set in order to estimate the test error of ridge regression. Even if we are using cross validation to select the regularization parameter, a test set is still needed to assert the test error once $\\lambda$ has been chose. Reporting the cross validation error as test error is not correct, as the value has been tuned as to minimize such error, so the error estimate is biased."
   ]
  },
  {
   "cell_type": "code",
   "execution_count": 225,
   "id": "d62cdc41-6afb-4881-8be2-7f37c71f1b51",
   "metadata": {},
   "outputs": [],
   "source": [
    "X_train, X_test , y_train, y_test = train_test_split(X_dummies, y, test_size=0.5, random_state=1)\n",
    "\n",
    "# Create a scaler\n",
    "scaler = StandardScaler(with_mean=False)\n",
    "\n",
    "# Now train an scaler on the train set\n",
    "scaler.fit(X_train)\n",
    "X_train_s = scaler.transform(X_train)\n",
    "X_test_s = scaler.transform(X_test)"
   ]
  },
  {
   "cell_type": "markdown",
   "id": "4510f737-24a5-4255-987c-aea9ba6f8647",
   "metadata": {},
   "source": [
    "Next we fit a ridge regression model on the training set, and evaluate its MSE on the test set, using  λ=4 :"
   ]
  },
  {
   "cell_type": "code",
   "execution_count": 163,
   "id": "0757892f-d977-4600-8525-7742c7c3ec7b",
   "metadata": {},
   "outputs": [
    {
     "name": "stdout",
     "output_type": "stream",
     "text": [
      "AtBat         -210.807322\n",
      "Hits           193.076932\n",
      "HmRun          -51.437368\n",
      "Runs             1.624070\n",
      "RBI             81.458917\n",
      "Walks           94.582539\n",
      "Years          -28.029476\n",
      "CAtBat        -117.924364\n",
      "CHits           91.159632\n",
      "CHmRun          91.762010\n",
      "CRuns          101.115450\n",
      "CRBI           117.598963\n",
      "CWalks         -38.434685\n",
      "PutOuts        125.556071\n",
      "Assists         25.559188\n",
      "Errors         -18.518904\n",
      "League_N        35.792050\n",
      "Division_W     -60.245442\n",
      "NewLeague_N    -18.650623\n",
      "dtype: float64\n",
      "102144.52395076491\n"
     ]
    }
   ],
   "source": [
    "ridge2 = Ridge(alpha=4).fit(X_train_s, y_train)  # Fit a ridge regression on the training data\n",
    "pred2 = ridge2.predict(X_test_s)           # Use this model to predict the test data\n",
    "print(pd.Series(ridge2.coef_, index=X_train.columns)) # Print coefficients\n",
    "print(mean_squared_error(y_test, pred2))          # Calculate the test MSE"
   ]
  },
  {
   "cell_type": "markdown",
   "id": "8815ffdc-ed88-4f0a-852c-2195268b2a78",
   "metadata": {},
   "source": [
    "The test MSE when alpha = 4 is 102144. Now let's see what happens if we use a huge value of alpha, say $10^{10}$ :"
   ]
  },
  {
   "cell_type": "code",
   "execution_count": 164,
   "id": "9b80d916-2396-4611-b3f8-8d95572b5758",
   "metadata": {},
   "outputs": [
    {
     "name": "stdout",
     "output_type": "stream",
     "text": [
      "AtBat          2.526133e-06\n",
      "Hits           2.826091e-06\n",
      "HmRun          2.174902e-06\n",
      "Runs           2.632138e-06\n",
      "RBI            3.183658e-06\n",
      "Walks          2.941154e-06\n",
      "Years          2.478179e-06\n",
      "CAtBat         3.213788e-06\n",
      "CHits          3.432349e-06\n",
      "CHmRun         3.435819e-06\n",
      "CRuns          3.522298e-06\n",
      "CRBI           3.602930e-06\n",
      "CWalks         3.216811e-06\n",
      "PutOuts        2.851209e-06\n",
      "Assists       -4.856786e-08\n",
      "Errors         1.736624e-07\n",
      "League_N      -1.637144e-07\n",
      "Division_W    -1.015188e-06\n",
      "NewLeague_N   -1.325154e-07\n",
      "dtype: float64\n",
      "172862.22059245987\n"
     ]
    }
   ],
   "source": [
    "ridge3 = Ridge(alpha=10**10).fit(X_train_s, y_train)  # Fit a ridge regression on the training data\n",
    "pred3 = ridge3.predict(X_test_s)           # Use this model to predict the test data\n",
    "print(pd.Series(ridge3.coef_, index=X_train.columns)) # Print coefficients\n",
    "print(mean_squared_error(y_test, pred3))          # Calculate the test MSE"
   ]
  },
  {
   "cell_type": "markdown",
   "id": "f76385ee-642c-41e2-9e47-11af75b7d9e3",
   "metadata": {},
   "source": [
    "This big penalty shrinks the coefficients to a very large degree, essentially reducing to a model containing just the intercept. This over-shrinking makes the model more biased, resulting in a higher MSE."
   ]
  },
  {
   "cell_type": "markdown",
   "id": "301deeb4-af94-47fc-8d77-ecdae6d2ecd7",
   "metadata": {},
   "source": [
    "Okay, so fitting a ridge regression model with alpha = 4 leads to a much lower test MSE than fitting a model with just an intercept. We now check whether there is any benefit to performing ridge regression with alpha = 4 instead of just performing least squares regression. Recall that least squares is simply ridge regression with alpha = 0."
   ]
  },
  {
   "cell_type": "code",
   "execution_count": 165,
   "id": "d79e924e-3fbc-4fe8-9f8f-6a7c04e4d862",
   "metadata": {},
   "outputs": [
    {
     "name": "stdout",
     "output_type": "stream",
     "text": [
      "AtBat          -266.553048\n",
      "Hits            197.706218\n",
      "HmRun           -38.103182\n",
      "Runs             -1.007996\n",
      "RBI             103.119845\n",
      "Walks            79.750209\n",
      "Years            45.357697\n",
      "CAtBat        -1399.811384\n",
      "CHits          1426.954812\n",
      "CHmRun          264.037977\n",
      "CRuns            86.858781\n",
      "CRBI           -211.142393\n",
      "CWalks           42.533597\n",
      "PutOuts         126.075563\n",
      "Assists          65.816094\n",
      "Errors          -38.313885\n",
      "League_N         66.822855\n",
      "Division_W      -56.870280\n",
      "NewLeague_N     -40.962688\n",
      "dtype: float64\n",
      "116690.46856660652\n"
     ]
    }
   ],
   "source": [
    "ridge4 = Ridge(alpha=0).fit(X_train_s, y_train)  # Fit a ridge regression on the training data\n",
    "pred4 = ridge4.predict(X_test_s)           # Use this model to predict the test data\n",
    "print(pd.Series(ridge4.coef_, index=X_train.columns)) # Print coefficients\n",
    "print(mean_squared_error(y_test, pred4))          # Calculate the test MSE"
   ]
  },
  {
   "cell_type": "markdown",
   "id": "ec33aba9-aaf7-42bd-89e2-50de4c735df9",
   "metadata": {},
   "source": [
    "It looks like we are indeed improving over regular least-squares!"
   ]
  },
  {
   "cell_type": "markdown",
   "id": "4f5a09df",
   "metadata": {},
   "source": [
    "In general,  if we want to fit a (unpenalized) least squares model, then we should use the `LinearRegression()` function, since its numerically more stable for that case.\n",
    "\n",
    "In general, instead of arbitrarily choosing a $\\lambda$ value, it would be better to use cross-validation to choose the tuning parameter $\\lambda$.\n",
    "We can do this using the built-in cross-validation function, `RidgeCV`.  By default, the function performs five-fold cross-validation, though this can be changed using the argument `cv`."
   ]
  },
  {
   "cell_type": "code",
   "execution_count": 192,
   "id": "90c08767-e2b6-47f7-ba3d-b2cc1016cc4d",
   "metadata": {},
   "outputs": [
    {
     "data": {
      "text/plain": [
       "array([[-1.22544785, -0.95709474, -0.92570099, ..., -1.03892496,\n",
       "         0.99239533, -1.00766295],\n",
       "       [ 0.8036835 ,  0.44319078, -1.17625229, ...,  0.96253342,\n",
       "         0.99239533,  0.99239533],\n",
       "       [ 1.70551966,  2.27433337,  0.32705552, ...,  0.96253342,\n",
       "         0.99239533,  0.99239533],\n",
       "       ...,\n",
       "       [-0.07082428,  0.2923908 ,  0.20177987, ...,  0.96253342,\n",
       "         0.99239533,  0.99239533],\n",
       "       [-0.88384324, -0.76320905, -1.30152795, ...,  0.96253342,\n",
       "        -1.00766295,  0.99239533],\n",
       "       [ 0.44158262, -0.09538058,  0.32705552, ..., -1.03892496,\n",
       "         0.99239533, -1.00766295]])"
      ]
     },
     "execution_count": 192,
     "metadata": {},
     "output_type": "execute_result"
    }
   ],
   "source": [
    "X_train_s"
   ]
  },
  {
   "cell_type": "code",
   "execution_count": 260,
   "id": "3f8e52e7-0881-4c12-89b8-85a47cc73b70",
   "metadata": {},
   "outputs": [
    {
     "data": {
      "text/plain": [
       "66.09705742330144"
      ]
     },
     "execution_count": 260,
     "metadata": {},
     "output_type": "execute_result"
    }
   ],
   "source": [
    "ridge_cv = RidgeCV(alphas=grid, scoring='neg_mean_squared_error', cv=10).fit(X_train_s, y_train)\n",
    "ridge_cv.alpha_"
   ]
  },
  {
   "cell_type": "markdown",
   "id": "a9a1b52b-ff8d-4871-88ca-6650b4f4a8ae",
   "metadata": {},
   "source": [
    "Therefore, we see that the value of alpha that results in the smallest cross-validation error is 66.09. What is the test MSE associated with this value of alpha?"
   ]
  },
  {
   "cell_type": "code",
   "execution_count": 269,
   "id": "527a5d89-941a-4681-97d4-a871ef557ae2",
   "metadata": {},
   "outputs": [
    {
     "name": "stdout",
     "output_type": "stream",
     "text": [
      "99980.09304227545\n"
     ]
    }
   ],
   "source": [
    "ridge = Ridge(alpha=ridge_cv.alpha_).fit(X_train_s, y_train)\n",
    "pred = ridge.predict(X_test_s) \n",
    "print(mean_squared_error(y_test, pred))"
   ]
  },
  {
   "cell_type": "markdown",
   "id": "85327fc0-6ad5-47af-8af5-0bdae60bc0e1",
   "metadata": {
    "name": "chunk38"
   },
   "source": [
    "This represents a further improvement over the test MSE that we got using alpha=4 . Finally, we refit our ridge regression model on the full data set, using the value of alpha chosen by cross-validation, and examine the coefficient estimates."
   ]
  },
  {
   "cell_type": "code",
   "execution_count": 270,
   "id": "64534c81-0b48-4024-a1a7-8ede80ac0ada",
   "metadata": {},
   "outputs": [
    {
     "name": "stdout",
     "output_type": "stream",
     "text": [
      "AtBat         -12.315751\n",
      "Hits           59.087964\n",
      "HmRun          -5.002506\n",
      "Runs           29.619573\n",
      "RBI            22.059137\n",
      "Walks          45.860959\n",
      "Years         -10.825321\n",
      "CAtBat         22.919293\n",
      "CHits          51.084062\n",
      "CHmRun         42.944375\n",
      "CRuns          51.804166\n",
      "CRBI           54.020476\n",
      "CWalks         -7.193088\n",
      "PutOuts        62.138342\n",
      "Assists        10.160514\n",
      "Errors        -16.486264\n",
      "League_N       17.541464\n",
      "Division_W    -53.161910\n",
      "NewLeague_N     0.736461\n",
      "dtype: float64\n"
     ]
    }
   ],
   "source": [
    "ridge = Ridge(alpha=ridge_cv.alpha_).fit(X_scaled, y)\n",
    "print(pd.Series(ridge.coef_, index=X_train.columns))"
   ]
  },
  {
   "cell_type": "markdown",
   "id": "e4083f42",
   "metadata": {},
   "source": [
    "As expected, none of the coefficients are zero---ridge regression does not perform variable selection!\n",
    "\n",
    "### The Lasso\n",
    "\n",
    "We saw that ridge regression with a wise choice of $\\lambda$ can outperform least squares as well as the null model on the `Hitters` data set. We now ask whether the lasso can yield either\n",
    "a more accurate or a more interpretable model than ridge regression. In order to fit a lasso model, we use the `Lasso()` function.\n",
    "\n",
    "Tha Lasso function provides a convenient and efficient way of evaluating the coefficients along the different values of alpha automatically."
   ]
  },
  {
   "cell_type": "code",
   "execution_count": 275,
   "id": "df29b083-a8cd-4c10-91d7-f7758d0ff6cd",
   "metadata": {},
   "outputs": [],
   "source": [
    "lasso_path = Lasso().path(X_scaled, y, l1_ratio=1, alphas=grid, max_iter=10000)"
   ]
  },
  {
   "cell_type": "code",
   "execution_count": 276,
   "id": "7236af10-1b01-4c52-bb1b-0c266f3b9c13",
   "metadata": {},
   "outputs": [
    {
     "data": {
      "image/png": "[encoded data removed]",
      "text/plain": [
       "<Figure size 432x288 with 1 Axes>"
      ]
     },
     "metadata": {
      "needs_background": "light"
     },
     "output_type": "display_data"
    }
   ],
   "source": [
    "alphas, coeffs, dual_gaps  = lasso_path\n",
    "plt.semilogx(alphas, coeffs.T)\n",
    "plt.xlabel('alpha')\n",
    "plt.ylabel('weights')\n",
    "plt.title('Lasso coefficients as a function of the regularization');"
   ]
  },
  {
   "cell_type": "markdown",
   "id": "448e2cb5",
   "metadata": {},
   "source": [
    "We can see from the coefficient plot that depending on the choice of tuning parameter, some of the coefficients will be exactly equal to zero."
   ]
  },
  {
   "cell_type": "markdown",
   "id": "1ffff10d-7521-4a07-9afa-5700145d7c63",
   "metadata": {},
   "source": [
    "And also provides an estimator which automatically performs cross-validation.\n",
    "We now perform 10-fold cross-validation to choose the best alpha, refit the model, and compute the associated test error:"
   ]
  },
  {
   "cell_type": "code",
   "execution_count": 278,
   "id": "c2379864-94ff-44ce-95de-618338b7f3de",
   "metadata": {},
   "outputs": [],
   "source": [
    "lasso_cv = LassoCV(alphas=None, max_iter=10000, cv=10).fit(X_train_s, y_train)"
   ]
  },
  {
   "cell_type": "code",
   "execution_count": 279,
   "id": "3b75f0f7-c055-4840-9bab-a78e65a74db0",
   "metadata": {},
   "outputs": [
    {
     "data": {
      "text/plain": [
       "104960.65853895506"
      ]
     },
     "execution_count": 279,
     "metadata": {},
     "output_type": "execute_result"
    }
   ],
   "source": [
    "lasso = Lasso(alpha=lasso_cv.alpha_).fit(X_train_s, y_train)\n",
    "mean_squared_error(y_test, lasso.predict(X_test_s))"
   ]
  },
  {
   "cell_type": "markdown",
   "id": "cb5801c5-140f-41aa-9f83-ddc46f61ce1e",
   "metadata": {},
   "source": [
    "This is substantially lower than the test set MSE of the null model and of least squares, and only a little worse than the test MSE of ridge regression with alpha chosen by cross-validation."
   ]
  },
  {
   "cell_type": "code",
   "execution_count": 280,
   "id": "ecf9546d-a395-46af-a76c-613c6ab9b2e8",
   "metadata": {},
   "outputs": [
    {
     "data": {
      "text/plain": [
       "AtBat            0.000000\n",
       "Hits            50.246197\n",
       "HmRun            0.000000\n",
       "Runs             0.000000\n",
       "RBI              0.000000\n",
       "Walks           66.794424\n",
       "Years            0.000000\n",
       "CAtBat           0.000000\n",
       "CHits            0.000000\n",
       "CHmRun          19.441152\n",
       "CRuns            0.000000\n",
       "CRBI           181.336557\n",
       "CWalks           0.000000\n",
       "PutOuts        110.307327\n",
       "Assists         -0.000000\n",
       "Errors          -0.000000\n",
       "League_N         0.000000\n",
       "Division_W     -44.530872\n",
       "NewLeague_N      0.000000\n",
       "dtype: float64"
      ]
     },
     "execution_count": 280,
     "metadata": {},
     "output_type": "execute_result"
    }
   ],
   "source": [
    "pd.Series(lasso.coef_, X_train.columns)"
   ]
  },
  {
   "cell_type": "markdown",
   "id": "6e5a6a1d",
   "metadata": {},
   "source": [
    "This is substantially lower than the test set MSE of the null model and of least squares, and very similar to the test MSE of ridge regression with $\\lambda$ chosen by cross-validation.\n",
    "\n",
    "However, the lasso has a substantial advantage over ridge regression in that the resulting coefficient estimates are sparse. Here we see that 13 of the 19 coefficient estimates are exactly\n",
    "zero. So the lasso model with $\\lambda$ chosen by cross-validation contains only 6 variables."
   ]
  },
  {
   "cell_type": "markdown",
   "id": "eb6dbdc3",
   "metadata": {},
   "source": [
    "## PCR and PLS Regression\n",
    "\n",
    "### Principal Components Regression"
   ]
  },
  {
   "cell_type": "markdown",
   "id": "9d2ccc8d",
   "metadata": {},
   "source": [
    "Principal components regression (PCR) can be performed  as a combination of the `PCA()` and `LinearRegression()` functions. We now apply PCR to the `Hitters` data, in order to predict `Salary`. Again,\n",
    "we ensure that the missing values have been removed from the data, as described in Section 6.5.1."
   ]
  },
  {
   "cell_type": "code",
   "execution_count": 286,
   "id": "ed64b861-284e-4eaa-926e-7970af916520",
   "metadata": {},
   "outputs": [],
   "source": [
    "from sklearn.cross_decomposition import PLSRegression\n",
    "from sklearn.decomposition import PCA \n",
    "from sklearn.model_selection import KFold, cross_val_score"
   ]
  },
  {
   "cell_type": "markdown",
   "id": "1839a86d-40eb-4a97-974b-c13bb9cb3cb0",
   "metadata": {},
   "source": [
    "We'll start by performing PCA on standardized data."
   ]
  },
  {
   "cell_type": "code",
   "execution_count": 281,
   "id": "dbb4e1b2-bbb3-498a-b23f-48f801a93e7a",
   "metadata": {},
   "outputs": [],
   "source": [
    "pca = PCA().fit(X_scaled)\n",
    "X_pca = pca.transform(X_scaled)"
   ]
  },
  {
   "cell_type": "markdown",
   "id": "c5453051-abcc-42df-af04-90176e5cffcb",
   "metadata": {},
   "source": [
    "The first principal components are:"
   ]
  },
  {
   "cell_type": "code",
   "execution_count": 284,
   "id": "cefe0787-11fe-4461-bfdc-ce670d241d6a",
   "metadata": {},
   "outputs": [
    {
     "data": {
      "text/html": [
       "<div>\n",
       "<style scoped>\n",
       "    .dataframe tbody tr th:only-of-type {\n",
       "        vertical-align: middle;\n",
       "    }\n",
       "\n",
       "    .dataframe tbody tr th {\n",
       "        vertical-align: top;\n",
       "    }\n",
       "\n",
       "    .dataframe thead th {\n",
       "        text-align: right;\n",
       "    }\n",
       "</style>\n",
       "<table border=\"1\" class=\"dataframe\">\n",
       "  <thead>\n",
       "    <tr style=\"text-align: right;\">\n",
       "      <th></th>\n",
       "      <th>0</th>\n",
       "      <th>1</th>\n",
       "      <th>2</th>\n",
       "      <th>3</th>\n",
       "      <th>4</th>\n",
       "      <th>5</th>\n",
       "      <th>6</th>\n",
       "      <th>7</th>\n",
       "      <th>8</th>\n",
       "      <th>9</th>\n",
       "      <th>10</th>\n",
       "      <th>11</th>\n",
       "      <th>12</th>\n",
       "      <th>13</th>\n",
       "      <th>14</th>\n",
       "      <th>15</th>\n",
       "      <th>16</th>\n",
       "      <th>17</th>\n",
       "      <th>18</th>\n",
       "    </tr>\n",
       "  </thead>\n",
       "  <tbody>\n",
       "    <tr>\n",
       "      <th>0</th>\n",
       "      <td>0.198290</td>\n",
       "      <td>-0.383784</td>\n",
       "      <td>0.088626</td>\n",
       "      <td>0.031967</td>\n",
       "      <td>0.028117</td>\n",
       "      <td>-0.070646</td>\n",
       "      <td>0.107044</td>\n",
       "      <td>0.269810</td>\n",
       "      <td>-0.012183</td>\n",
       "      <td>0.145621</td>\n",
       "      <td>0.097328</td>\n",
       "      <td>0.103150</td>\n",
       "      <td>-0.039850</td>\n",
       "      <td>0.306248</td>\n",
       "      <td>0.532433</td>\n",
       "      <td>-0.510331</td>\n",
       "      <td>0.139342</td>\n",
       "      <td>-0.106790</td>\n",
       "      <td>0.053777</td>\n",
       "    </tr>\n",
       "    <tr>\n",
       "      <th>1</th>\n",
       "      <td>0.195861</td>\n",
       "      <td>-0.377271</td>\n",
       "      <td>0.074032</td>\n",
       "      <td>0.017982</td>\n",
       "      <td>-0.004652</td>\n",
       "      <td>-0.082240</td>\n",
       "      <td>0.130026</td>\n",
       "      <td>0.388722</td>\n",
       "      <td>-0.061604</td>\n",
       "      <td>0.130476</td>\n",
       "      <td>0.014433</td>\n",
       "      <td>0.121009</td>\n",
       "      <td>0.003593</td>\n",
       "      <td>0.210616</td>\n",
       "      <td>-0.023442</td>\n",
       "      <td>0.720168</td>\n",
       "      <td>-0.167363</td>\n",
       "      <td>0.043568</td>\n",
       "      <td>-0.097782</td>\n",
       "    </tr>\n",
       "    <tr>\n",
       "      <th>2</th>\n",
       "      <td>0.204369</td>\n",
       "      <td>-0.237136</td>\n",
       "      <td>-0.216186</td>\n",
       "      <td>-0.235831</td>\n",
       "      <td>0.077660</td>\n",
       "      <td>-0.149646</td>\n",
       "      <td>-0.505833</td>\n",
       "      <td>-0.226278</td>\n",
       "      <td>0.127422</td>\n",
       "      <td>-0.351111</td>\n",
       "      <td>-0.202190</td>\n",
       "      <td>-0.314852</td>\n",
       "      <td>-0.108689</td>\n",
       "      <td>-0.001353</td>\n",
       "      <td>0.355455</td>\n",
       "      <td>0.200408</td>\n",
       "      <td>0.047702</td>\n",
       "      <td>-0.058377</td>\n",
       "      <td>-0.024805</td>\n",
       "    </tr>\n",
       "    <tr>\n",
       "      <th>3</th>\n",
       "      <td>0.198337</td>\n",
       "      <td>-0.377721</td>\n",
       "      <td>-0.017166</td>\n",
       "      <td>-0.049942</td>\n",
       "      <td>-0.038536</td>\n",
       "      <td>-0.136660</td>\n",
       "      <td>0.201764</td>\n",
       "      <td>0.114518</td>\n",
       "      <td>-0.171230</td>\n",
       "      <td>0.032245</td>\n",
       "      <td>-0.312187</td>\n",
       "      <td>-0.321700</td>\n",
       "      <td>-0.381219</td>\n",
       "      <td>-0.266583</td>\n",
       "      <td>-0.468300</td>\n",
       "      <td>-0.220518</td>\n",
       "      <td>0.140946</td>\n",
       "      <td>0.047050</td>\n",
       "      <td>0.059145</td>\n",
       "    </tr>\n",
       "    <tr>\n",
       "      <th>4</th>\n",
       "      <td>0.235174</td>\n",
       "      <td>-0.314531</td>\n",
       "      <td>-0.073085</td>\n",
       "      <td>-0.138985</td>\n",
       "      <td>0.024299</td>\n",
       "      <td>-0.111675</td>\n",
       "      <td>-0.319440</td>\n",
       "      <td>0.005082</td>\n",
       "      <td>0.131146</td>\n",
       "      <td>-0.172233</td>\n",
       "      <td>0.243415</td>\n",
       "      <td>0.347752</td>\n",
       "      <td>0.440143</td>\n",
       "      <td>-0.007486</td>\n",
       "      <td>-0.461468</td>\n",
       "      <td>-0.237366</td>\n",
       "      <td>-0.106688</td>\n",
       "      <td>0.063998</td>\n",
       "      <td>0.019351</td>\n",
       "    </tr>\n",
       "  </tbody>\n",
       "</table>\n",
       "</div>"
      ],
      "text/plain": [
       "         0         1         2         3         4         5         6   \\\n",
       "0  0.198290 -0.383784  0.088626  0.031967  0.028117 -0.070646  0.107044   \n",
       "1  0.195861 -0.377271  0.074032  0.017982 -0.004652 -0.082240  0.130026   \n",
       "2  0.204369 -0.237136 -0.216186 -0.235831  0.077660 -0.149646 -0.505833   \n",
       "3  0.198337 -0.377721 -0.017166 -0.049942 -0.038536 -0.136660  0.201764   \n",
       "4  0.235174 -0.314531 -0.073085 -0.138985  0.024299 -0.111675 -0.319440   \n",
       "\n",
       "         7         8         9         10        11        12        13  \\\n",
       "0  0.269810 -0.012183  0.145621  0.097328  0.103150 -0.039850  0.306248   \n",
       "1  0.388722 -0.061604  0.130476  0.014433  0.121009  0.003593  0.210616   \n",
       "2 -0.226278  0.127422 -0.351111 -0.202190 -0.314852 -0.108689 -0.001353   \n",
       "3  0.114518 -0.171230  0.032245 -0.312187 -0.321700 -0.381219 -0.266583   \n",
       "4  0.005082  0.131146 -0.172233  0.243415  0.347752  0.440143 -0.007486   \n",
       "\n",
       "         14        15        16        17        18  \n",
       "0  0.532433 -0.510331  0.139342 -0.106790  0.053777  \n",
       "1 -0.023442  0.720168 -0.167363  0.043568 -0.097782  \n",
       "2  0.355455  0.200408  0.047702 -0.058377 -0.024805  \n",
       "3 -0.468300 -0.220518  0.140946  0.047050  0.059145  \n",
       "4 -0.461468 -0.237366 -0.106688  0.063998  0.019351  "
      ]
     },
     "execution_count": 284,
     "metadata": {},
     "output_type": "execute_result"
    }
   ],
   "source": [
    "pd.DataFrame(pca.components_.T).loc[:4]"
   ]
  },
  {
   "cell_type": "markdown",
   "id": "f45f73b0-0bcd-4b8e-b554-bdde5180f897",
   "metadata": {},
   "source": [
    "The retained variance grows with the number of components kept.\n",
    "This concept is discussed in greater detail in Chapter 12.\n",
    "   Briefly, we can think of this as\n",
    "the amount of information about the predictors or the\n",
    "response that is captured using $M$ principal components. For example,\n",
    "setting $M=1$ only captures $38.31\\,\\%$ of all the variance, or information,\n",
    "in the predictors. In contrast, using $M=5$ increases the value to $84.29\\,\\%$. If we\n",
    "were to use all $M=p=19$ components, this would increase to $100\\,\\%$."
   ]
  },
  {
   "cell_type": "code",
   "execution_count": 123,
   "id": "aaa7178b-eab1-4002-bd9a-112b9666196d",
   "metadata": {},
   "outputs": [
    {
     "data": {
      "image/png": "[encoded data removed]",
      "text/plain": [
       "<Figure size 432x288 with 1 Axes>"
      ]
     },
     "metadata": {
      "needs_background": "light"
     },
     "output_type": "display_data"
    }
   ],
   "source": [
    "plt.plot(range(1, len(X_scaled.columns) + 1), pca.explained_variance_ratio_.cumsum())\n",
    "plt.xlabel('# of features')\n",
    "plt.ylabel('Fraction of explained variance');"
   ]
  },
  {
   "cell_type": "markdown",
   "id": "2f92ae62-ca3b-4f6c-88d6-dd799c29130e",
   "metadata": {},
   "source": [
    "Now we'll perform 10-fold cross-validation to see how it influences the MSE:"
   ]
  },
  {
   "cell_type": "code",
   "execution_count": 294,
   "id": "fafee51b-4a04-4d7a-874d-7400289cf441",
   "metadata": {},
   "outputs": [
    {
     "data": {
      "image/png": "[encoded data removed]",
      "text/plain": [
       "<Figure size 432x288 with 1 Axes>"
      ]
     },
     "metadata": {
      "needs_background": "light"
     },
     "output_type": "display_data"
    }
   ],
   "source": [
    "# 10-fold CV, with shuffle\n",
    "n = len(X_pca)\n",
    "cv = KFold(n_splits=10, shuffle=True, random_state=1)\n",
    "\n",
    "regr = LinearRegression()\n",
    "mse = []\n",
    "\n",
    "# Calculate MSE with only the intercept (no principal components in regression)\n",
    "score = abs(cross_val_score(regr, np.ones((n, 1)), y.ravel(), cv=cv, scoring='neg_mean_squared_error')).mean()\n",
    "mse.append(score)\n",
    "\n",
    "# Calculate MSE using CV for the 19 principle components, adding one component at the time.\n",
    "for i in np.arange(1, 20):\n",
    "    score = abs(cross_val_score(regr, X_pca[:,:i], y.ravel(), cv=cv, scoring='neg_mean_squared_error')).mean()\n",
    "    mse.append(score)\n",
    "    \n",
    "# Plot results    \n",
    "plt.plot(mse, '-v')\n",
    "plt.xlabel('Number of principal components in regression')\n",
    "plt.ylabel('MSE')\n",
    "plt.title('Salary')\n",
    "plt.xticks(range(20));"
   ]
  },
  {
   "cell_type": "code",
   "execution_count": 295,
   "id": "7a8a3be2-2563-4219-b2fd-95cb150f79c5",
   "metadata": {},
   "outputs": [
    {
     "data": {
      "text/plain": [
       "18"
      ]
     },
     "execution_count": 295,
     "metadata": {},
     "output_type": "execute_result"
    }
   ],
   "source": [
    "np.argmin(mse)"
   ]
  },
  {
   "cell_type": "markdown",
   "id": "64a4df51",
   "metadata": {},
   "source": [
    "We see that the smallest cross-validation error occurs when $M=18$ components are used. This is barely fewer than $M=19$, which amounts to simply performing least squares, because when all of the components are used in PCR no dimension reduction occurs. However, from the plot we also see that the cross-validation error is roughly the same when only one component is included in the model. This suggests that a model that uses just a small number of components might suffice."
   ]
  },
  {
   "cell_type": "markdown",
   "id": "addf5a1d",
   "metadata": {},
   "source": [
    "We now\n",
    "perform PCR on the training data and evaluate its test set performance."
   ]
  },
  {
   "cell_type": "code",
   "execution_count": 296,
   "id": "c7541ad4-9385-4d3e-b489-767d2a4176ca",
   "metadata": {},
   "outputs": [
    {
     "data": {
      "image/png": "[encoded data removed]",
      "text/plain": [
       "<Figure size 432x288 with 1 Axes>"
      ]
     },
     "metadata": {
      "needs_background": "light"
     },
     "output_type": "display_data"
    }
   ],
   "source": [
    "pca2 = PCA().fit(X_train_s)\n",
    "X_pca_train = pca2.transform(X_train_s)\n",
    "n = len(X_pca_train)\n",
    "\n",
    "# 10-fold CV, with shuffle\n",
    "cv = KFold(n_splits=10, shuffle=True, random_state=1)\n",
    "\n",
    "mse = []\n",
    "\n",
    "# Calculate MSE with only the intercept (no principal components in regression)\n",
    "score = abs(cross_val_score(regr, np.ones((n, 1)), y_train.ravel(), cv=cv, scoring='neg_mean_squared_error')).mean()    \n",
    "mse.append(score)\n",
    "\n",
    "# Calculate MSE using CV for the 19 principle components, adding one component at the time.\n",
    "for i in np.arange(1, 20):\n",
    "    score = abs(cross_val_score(regr, X_pca_train[:,:i], y_train.ravel(), cv=cv, scoring='neg_mean_squared_error')).mean()\n",
    "    mse.append(score)\n",
    "\n",
    "plt.plot(np.array(mse), '-v')\n",
    "plt.xlabel('Number of principal components in regression')\n",
    "plt.ylabel('MSE')\n",
    "plt.title('Salary')\n",
    "plt.xticks(range(20));"
   ]
  },
  {
   "cell_type": "markdown",
   "id": "d572fcdd",
   "metadata": {},
   "source": [
    "Now we find that the lowest cross-validation error occurs when $M=6$ components are used.\n",
    "We compute the test MSE as follows."
   ]
  },
  {
   "cell_type": "code",
   "execution_count": 297,
   "id": "07de668e-0f30-4b47-936e-b930ee19e3f8",
   "metadata": {},
   "outputs": [
    {
     "data": {
      "text/plain": [
       "108266.9590347202"
      ]
     },
     "execution_count": 297,
     "metadata": {},
     "output_type": "execute_result"
    }
   ],
   "source": [
    "X_pca_test = pca2.transform(X_test_s)[:, :7]\n",
    "\n",
    "# Train regression model on training data \n",
    "regr = LinearRegression()\n",
    "regr.fit(X_pca_train[:, :7], y_train)\n",
    "\n",
    "# Prediction with test data\n",
    "pred = regr.predict(X_pca_test)\n",
    "mean_squared_error(y_test, pred)"
   ]
  },
  {
   "cell_type": "markdown",
   "id": "b21e507d",
   "metadata": {},
   "source": [
    "This test set MSE is competitive with the results obtained using ridge regression and the lasso. However, as a result of the way PCR is implemented, the final model is more difficult to interpret because it does not perform any kind of variable selection or even directly produce coefficient estimates.\n",
    "\n",
    "Finally, we fit PCR on the full data set, using $M=6$, the number of components identified by cross-validation."
   ]
  },
  {
   "cell_type": "code",
   "execution_count": 298,
   "id": "f623b56f",
   "metadata": {
    "lines_to_next_cell": 0,
    "name": "chunk47"
   },
   "outputs": [
    {
     "data": {
      "text/html": [
       "<style>#sk-container-id-3 {color: black;background-color: white;}#sk-container-id-3 pre{padding: 0;}#sk-container-id-3 div.sk-toggleable {background-color: white;}#sk-container-id-3 label.sk-toggleable__label {cursor: pointer;display: block;width: 100%;margin-bottom: 0;padding: 0.3em;box-sizing: border-box;text-align: center;}#sk-container-id-3 label.sk-toggleable__label-arrow:before {content: \"▸\";float: left;margin-right: 0.25em;color: #696969;}#sk-container-id-3 label.sk-toggleable__label-arrow:hover:before {color: black;}#sk-container-id-3 div.sk-estimator:hover label.sk-toggleable__label-arrow:before {color: black;}#sk-container-id-3 div.sk-toggleable__content {max-height: 0;max-width: 0;overflow: hidden;text-align: left;background-color: #f0f8ff;}#sk-container-id-3 div.sk-toggleable__content pre {margin: 0.2em;color: black;border-radius: 0.25em;background-color: #f0f8ff;}#sk-container-id-3 input.sk-toggleable__control:checked~div.sk-toggleable__content {max-height: 200px;max-width: 100%;overflow: auto;}#sk-container-id-3 input.sk-toggleable__control:checked~label.sk-toggleable__label-arrow:before {content: \"▾\";}#sk-container-id-3 div.sk-estimator input.sk-toggleable__control:checked~label.sk-toggleable__label {background-color: #d4ebff;}#sk-container-id-3 div.sk-label input.sk-toggleable__control:checked~label.sk-toggleable__label {background-color: #d4ebff;}#sk-container-id-3 input.sk-hidden--visually {border: 0;clip: rect(1px 1px 1px 1px);clip: rect(1px, 1px, 1px, 1px);height: 1px;margin: -1px;overflow: hidden;padding: 0;position: absolute;width: 1px;}#sk-container-id-3 div.sk-estimator {font-family: monospace;background-color: #f0f8ff;border: 1px dotted black;border-radius: 0.25em;box-sizing: border-box;margin-bottom: 0.5em;}#sk-container-id-3 div.sk-estimator:hover {background-color: #d4ebff;}#sk-container-id-3 div.sk-parallel-item::after {content: \"\";width: 100%;border-bottom: 1px solid gray;flex-grow: 1;}#sk-container-id-3 div.sk-label:hover label.sk-toggleable__label {background-color: #d4ebff;}#sk-container-id-3 div.sk-serial::before {content: \"\";position: absolute;border-left: 1px solid gray;box-sizing: border-box;top: 0;bottom: 0;left: 50%;z-index: 0;}#sk-container-id-3 div.sk-serial {display: flex;flex-direction: column;align-items: center;background-color: white;padding-right: 0.2em;padding-left: 0.2em;position: relative;}#sk-container-id-3 div.sk-item {position: relative;z-index: 1;}#sk-container-id-3 div.sk-parallel {display: flex;align-items: stretch;justify-content: center;background-color: white;position: relative;}#sk-container-id-3 div.sk-item::before, #sk-container-id-3 div.sk-parallel-item::before {content: \"\";position: absolute;border-left: 1px solid gray;box-sizing: border-box;top: 0;bottom: 0;left: 50%;z-index: -1;}#sk-container-id-3 div.sk-parallel-item {display: flex;flex-direction: column;z-index: 1;position: relative;background-color: white;}#sk-container-id-3 div.sk-parallel-item:first-child::after {align-self: flex-end;width: 50%;}#sk-container-id-3 div.sk-parallel-item:last-child::after {align-self: flex-start;width: 50%;}#sk-container-id-3 div.sk-parallel-item:only-child::after {width: 0;}#sk-container-id-3 div.sk-dashed-wrapped {border: 1px dashed gray;margin: 0 0.4em 0.5em 0.4em;box-sizing: border-box;padding-bottom: 0.4em;background-color: white;}#sk-container-id-3 div.sk-label label {font-family: monospace;font-weight: bold;display: inline-block;line-height: 1.2em;}#sk-container-id-3 div.sk-label-container {text-align: center;}#sk-container-id-3 div.sk-container {/* jupyter's `normalize.less` sets `[hidden] { display: none; }` but bootstrap.min.css set `[hidden] { display: none !important; }` so we also need the `!important` here to be able to override the default hidden behavior on the sphinx rendered scikit-learn.org. See: https://github.com/scikit-learn/scikit-learn/issues/21755 */display: inline-block !important;position: relative;}#sk-container-id-3 div.sk-text-repr-fallback {display: none;}</style><div id=\"sk-container-id-3\" class=\"sk-top-container\"><div class=\"sk-text-repr-fallback\"><pre>LinearRegression()</pre><b>In a Jupyter environment, please rerun this cell to show the HTML representation or trust the notebook. <br />On GitHub, the HTML representation is unable to render, please try loading this page with nbviewer.org.</b></div><div class=\"sk-container\" hidden><div class=\"sk-item\"><div class=\"sk-estimator sk-toggleable\"><input class=\"sk-toggleable__control sk-hidden--visually\" id=\"sk-estimator-id-3\" type=\"checkbox\" checked><label for=\"sk-estimator-id-3\" class=\"sk-toggleable__label sk-toggleable__label-arrow\">LinearRegression</label><div class=\"sk-toggleable__content\"><pre>LinearRegression()</pre></div></div></div></div></div>"
      ],
      "text/plain": [
       "LinearRegression()"
      ]
     },
     "execution_count": 298,
     "metadata": {},
     "output_type": "execute_result"
    }
   ],
   "source": [
    "regr = LinearRegression()\n",
    "regr.fit(X_pca[:, :7], y)"
   ]
  },
  {
   "cell_type": "markdown",
   "id": "eb3b6539",
   "metadata": {},
   "source": [
    "\n",
    "\n"
   ]
  },
  {
   "cell_type": "markdown",
   "id": "97e6947c",
   "metadata": {},
   "source": [
    "### Partial Least Squares"
   ]
  },
  {
   "cell_type": "markdown",
   "id": "f13f4993",
   "metadata": {},
   "source": [
    "Scikit-learn PLSRegression gives same results as the pls package in R when using method='oscorespls'. However, the standard method used is 'kernelpls', which we'll use here. Feel free to try out both."
   ]
  },
  {
   "cell_type": "code",
   "execution_count": 299,
   "id": "b16811e0-0a7e-4e32-8d1c-fdc0b35dac8b",
   "metadata": {},
   "outputs": [
    {
     "data": {
      "image/png": "[encoded data removed]",
      "text/plain": [
       "<Figure size 432x288 with 1 Axes>"
      ]
     },
     "metadata": {
      "needs_background": "light"
     },
     "output_type": "display_data"
    }
   ],
   "source": [
    "n = len(X_train)\n",
    "\n",
    "# 10-fold CV, with shuffle\n",
    "cv = KFold(n_splits=10, shuffle=True, random_state=1)\n",
    "\n",
    "mse = []\n",
    "\n",
    "for i in np.arange(1, 20):\n",
    "    pls = PLSRegression(n_components=i)\n",
    "    score = cross_val_score(pls, X_train_s, y_train, cv=cv, scoring='neg_mean_squared_error').mean()\n",
    "    mse.append(abs(score))\n",
    "\n",
    "# Plot results\n",
    "plt.plot(np.arange(1, 20), np.array(mse), '-v')\n",
    "plt.xlabel('Number of principal components in regression')\n",
    "plt.ylabel('MSE')\n",
    "plt.title('Salary')\n",
    "plt.xticks(range(20));"
   ]
  },
  {
   "cell_type": "markdown",
   "id": "a06f9ec1",
   "metadata": {},
   "source": [
    "The lowest cross-validation error occurs when only $M=2$ partial least squares directions are used. We now evaluate the corresponding test set MSE."
   ]
  },
  {
   "cell_type": "code",
   "execution_count": 300,
   "id": "4d5ef319",
   "metadata": {
    "name": "chunk49"
   },
   "outputs": [
    {
     "data": {
      "text/plain": [
       "102583.13156134987"
      ]
     },
     "execution_count": 300,
     "metadata": {},
     "output_type": "execute_result"
    }
   ],
   "source": [
    "pls = PLSRegression(n_components=2)\n",
    "pls.fit(X_train_s, y_train)\n",
    "\n",
    "mean_squared_error(y_test, pls.predict(X_test_s))"
   ]
  },
  {
   "cell_type": "markdown",
   "id": "6676d0d5",
   "metadata": {},
   "source": [
    "The test MSE is again comparable to the test MSE obtained using ridge regression, the lasso, and PCR.\n",
    "\n",
    "Finally, we perform PLS using the full data set, using $M=2$, the number of components identified by cross-validation."
   ]
  },
  {
   "cell_type": "code",
   "execution_count": 304,
   "id": "599b53d0",
   "metadata": {
    "name": "chunk50"
   },
   "outputs": [
    {
     "data": {
      "text/plain": [
       "0.4640256822231318"
      ]
     },
     "execution_count": 304,
     "metadata": {},
     "output_type": "execute_result"
    }
   ],
   "source": [
    "pls = PLSRegression(n_components=2)\n",
    "pls.fit(X_scaled, y)\n",
    "pls.score(X_scaled, y)"
   ]
  },
  {
   "cell_type": "code",
   "execution_count": 306,
   "id": "1157ae8d-11a4-4ca6-993d-c6f926607631",
   "metadata": {},
   "outputs": [
    {
     "data": {
      "text/plain": [
       "0.46686410736336714"
      ]
     },
     "execution_count": 306,
     "metadata": {},
     "output_type": "execute_result"
    }
   ],
   "source": [
    "regr.score(X_pca[:, :7], y)"
   ]
  },
  {
   "cell_type": "markdown",
   "id": "f4004cf4",
   "metadata": {},
   "source": [
    "Notice that the percentage of variance in `Salary` that the two-component PLS fit explains, $46.4\\,\\%$, is almost as much as that explained using the final six-component model PCR fit. This is because PCR only attempts to maximize the amount of variance explained in the predictors, while PLS searches for directions that explain variance in both the predictors and the response."
   ]
  }
 ],
 "metadata": {
  "celltoolbar": "Edit Metadata",
  "jupytext": {
   "formats": "ipynb,Rmd"
  },
  "kernelspec": {
   "display_name": "Python 3 (ipykernel)",
   "language": "python",
   "name": "python3"
  },
  "language_info": {
   "codemirror_mode": {
    "name": "ipython",
    "version": 3
   },
   "file_extension": ".py",
   "mimetype": "text/x-python",
   "name": "python",
   "nbconvert_exporter": "python",
   "pygments_lexer": "ipython3",
   "version": "3.9.13"
  },
  "substitutions": {
   "ISLPmod": "`ISLP`",
   "Rlang": "`R`",
   "mpl": "`matplotlib`",
   "numpy": "`numpy`",
   "pandas": "`pandas`",
   "pylang": "`python`",
   "smlib": "`statsmodels`"
  }
 },
 "nbformat": 4,
 "nbformat_minor": 5
}
