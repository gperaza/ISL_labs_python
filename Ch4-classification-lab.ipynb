{
 "cells": [
  {
   "cell_type": "markdown",
   "id": "67f91564",
   "metadata": {},
   "source": [
    "\n",
    "# Lab: Classification Methods\n"
   ]
  },
  {
   "cell_type": "markdown",
   "id": "09ead673",
   "metadata": {},
   "source": [
    "## The Stock Market Data\n",
    "\n",
    "We will begin by examining some numerical and graphical summaries of\n",
    "the `Smarket` data, which is part of the `ISLR2` library, but can also be found in the data directory. This\n",
    "data set consists of percentage returns for the S\\&P 500 stock index\n",
    "over $1,250$~days, from the beginning of 2001 until the end of\n",
    "2005. For each date, we have recorded the percentage returns for each\n",
    "of the five previous trading days, `lagone` through `lagfive`. We\n",
    "have also recorded `volume` (the number of shares traded on the previous day, in billions), `Today` (the percentage return on the date in question)  and `direction` (whether the market was `Up` or `Down` on this date). Our goal is to predict `direction` (a qualitative response) using the other features."
   ]
  },
  {
   "cell_type": "code",
   "execution_count": 1,
   "id": "0fb6568c-cd67-455c-bf60-667f22ba65bd",
   "metadata": {},
   "outputs": [],
   "source": [
    "import numpy as np\n",
    "import pandas as pd\n",
    "import matplotlib.pyplot as plt\n",
    "import statsmodels.api as sm"
   ]
  },
  {
   "cell_type": "code",
   "execution_count": 2,
   "id": "790bec02-224c-4b34-ba29-2bd01b053a75",
   "metadata": {},
   "outputs": [
    {
     "data": {
      "text/html": [
       "<div>\n",
       "<style scoped>\n",
       "    .dataframe tbody tr th:only-of-type {\n",
       "        vertical-align: middle;\n",
       "    }\n",
       "\n",
       "    .dataframe tbody tr th {\n",
       "        vertical-align: top;\n",
       "    }\n",
       "\n",
       "    .dataframe thead th {\n",
       "        text-align: right;\n",
       "    }\n",
       "</style>\n",
       "<table border=\"1\" class=\"dataframe\">\n",
       "  <thead>\n",
       "    <tr style=\"text-align: right;\">\n",
       "      <th></th>\n",
       "      <th>Year</th>\n",
       "      <th>Lag1</th>\n",
       "      <th>Lag2</th>\n",
       "      <th>Lag3</th>\n",
       "      <th>Lag4</th>\n",
       "      <th>Lag5</th>\n",
       "      <th>Volume</th>\n",
       "      <th>Today</th>\n",
       "      <th>Direction</th>\n",
       "      <th>Direction_code</th>\n",
       "    </tr>\n",
       "  </thead>\n",
       "  <tbody>\n",
       "    <tr>\n",
       "      <th>0</th>\n",
       "      <td>2001</td>\n",
       "      <td>0.381</td>\n",
       "      <td>-0.192</td>\n",
       "      <td>-2.624</td>\n",
       "      <td>-1.055</td>\n",
       "      <td>5.010</td>\n",
       "      <td>1.1913</td>\n",
       "      <td>0.959</td>\n",
       "      <td>Up</td>\n",
       "      <td>1</td>\n",
       "    </tr>\n",
       "    <tr>\n",
       "      <th>1</th>\n",
       "      <td>2001</td>\n",
       "      <td>0.959</td>\n",
       "      <td>0.381</td>\n",
       "      <td>-0.192</td>\n",
       "      <td>-2.624</td>\n",
       "      <td>-1.055</td>\n",
       "      <td>1.2965</td>\n",
       "      <td>1.032</td>\n",
       "      <td>Up</td>\n",
       "      <td>1</td>\n",
       "    </tr>\n",
       "    <tr>\n",
       "      <th>2</th>\n",
       "      <td>2001</td>\n",
       "      <td>1.032</td>\n",
       "      <td>0.959</td>\n",
       "      <td>0.381</td>\n",
       "      <td>-0.192</td>\n",
       "      <td>-2.624</td>\n",
       "      <td>1.4112</td>\n",
       "      <td>-0.623</td>\n",
       "      <td>Down</td>\n",
       "      <td>0</td>\n",
       "    </tr>\n",
       "    <tr>\n",
       "      <th>3</th>\n",
       "      <td>2001</td>\n",
       "      <td>-0.623</td>\n",
       "      <td>1.032</td>\n",
       "      <td>0.959</td>\n",
       "      <td>0.381</td>\n",
       "      <td>-0.192</td>\n",
       "      <td>1.2760</td>\n",
       "      <td>0.614</td>\n",
       "      <td>Up</td>\n",
       "      <td>1</td>\n",
       "    </tr>\n",
       "    <tr>\n",
       "      <th>4</th>\n",
       "      <td>2001</td>\n",
       "      <td>0.614</td>\n",
       "      <td>-0.623</td>\n",
       "      <td>1.032</td>\n",
       "      <td>0.959</td>\n",
       "      <td>0.381</td>\n",
       "      <td>1.2057</td>\n",
       "      <td>0.213</td>\n",
       "      <td>Up</td>\n",
       "      <td>1</td>\n",
       "    </tr>\n",
       "  </tbody>\n",
       "</table>\n",
       "</div>"
      ],
      "text/plain": [
       "   Year   Lag1   Lag2   Lag3   Lag4   Lag5  Volume  Today Direction  \\\n",
       "0  2001  0.381 -0.192 -2.624 -1.055  5.010  1.1913  0.959        Up   \n",
       "1  2001  0.959  0.381 -0.192 -2.624 -1.055  1.2965  1.032        Up   \n",
       "2  2001  1.032  0.959  0.381 -0.192 -2.624  1.4112 -0.623      Down   \n",
       "3  2001 -0.623  1.032  0.959  0.381 -0.192  1.2760  0.614        Up   \n",
       "4  2001  0.614 -0.623  1.032  0.959  0.381  1.2057  0.213        Up   \n",
       "\n",
       "   Direction_code  \n",
       "0               1  \n",
       "1               1  \n",
       "2               0  \n",
       "3               1  \n",
       "4               1  "
      ]
     },
     "execution_count": 2,
     "metadata": {},
     "output_type": "execute_result"
    }
   ],
   "source": [
    "Smarket = pd.read_csv('data/Smarket.csv', parse_dates=True)\n",
    "Smarket['Direction'] = Smarket.Direction.astype('category')\n",
    "Smarket['Direction_code'] = Smarket.Direction.cat.codes \n",
    "Smarket.head()"
   ]
  },
  {
   "cell_type": "code",
   "execution_count": 3,
   "id": "a4cb025e-e6b0-4a58-a003-50856598be0d",
   "metadata": {},
   "outputs": [
    {
     "data": {
      "text/plain": [
       "(1250, 10)"
      ]
     },
     "execution_count": 3,
     "metadata": {},
     "output_type": "execute_result"
    }
   ],
   "source": [
    "Smarket.shape"
   ]
  },
  {
   "cell_type": "code",
   "execution_count": 4,
   "id": "4b96272a-68f0-4254-be9c-8cd372a4aed9",
   "metadata": {},
   "outputs": [
    {
     "data": {
      "text/html": [
       "<div>\n",
       "<style scoped>\n",
       "    .dataframe tbody tr th:only-of-type {\n",
       "        vertical-align: middle;\n",
       "    }\n",
       "\n",
       "    .dataframe tbody tr th {\n",
       "        vertical-align: top;\n",
       "    }\n",
       "\n",
       "    .dataframe thead th {\n",
       "        text-align: right;\n",
       "    }\n",
       "</style>\n",
       "<table border=\"1\" class=\"dataframe\">\n",
       "  <thead>\n",
       "    <tr style=\"text-align: right;\">\n",
       "      <th></th>\n",
       "      <th>Year</th>\n",
       "      <th>Lag1</th>\n",
       "      <th>Lag2</th>\n",
       "      <th>Lag3</th>\n",
       "      <th>Lag4</th>\n",
       "      <th>Lag5</th>\n",
       "      <th>Volume</th>\n",
       "      <th>Today</th>\n",
       "      <th>Direction</th>\n",
       "      <th>Direction_code</th>\n",
       "    </tr>\n",
       "  </thead>\n",
       "  <tbody>\n",
       "    <tr>\n",
       "      <th>count</th>\n",
       "      <td>1250.000000</td>\n",
       "      <td>1250.000000</td>\n",
       "      <td>1250.000000</td>\n",
       "      <td>1250.000000</td>\n",
       "      <td>1250.000000</td>\n",
       "      <td>1250.00000</td>\n",
       "      <td>1250.000000</td>\n",
       "      <td>1250.000000</td>\n",
       "      <td>1250</td>\n",
       "      <td>1250.000000</td>\n",
       "    </tr>\n",
       "    <tr>\n",
       "      <th>unique</th>\n",
       "      <td>NaN</td>\n",
       "      <td>NaN</td>\n",
       "      <td>NaN</td>\n",
       "      <td>NaN</td>\n",
       "      <td>NaN</td>\n",
       "      <td>NaN</td>\n",
       "      <td>NaN</td>\n",
       "      <td>NaN</td>\n",
       "      <td>2</td>\n",
       "      <td>NaN</td>\n",
       "    </tr>\n",
       "    <tr>\n",
       "      <th>top</th>\n",
       "      <td>NaN</td>\n",
       "      <td>NaN</td>\n",
       "      <td>NaN</td>\n",
       "      <td>NaN</td>\n",
       "      <td>NaN</td>\n",
       "      <td>NaN</td>\n",
       "      <td>NaN</td>\n",
       "      <td>NaN</td>\n",
       "      <td>Up</td>\n",
       "      <td>NaN</td>\n",
       "    </tr>\n",
       "    <tr>\n",
       "      <th>freq</th>\n",
       "      <td>NaN</td>\n",
       "      <td>NaN</td>\n",
       "      <td>NaN</td>\n",
       "      <td>NaN</td>\n",
       "      <td>NaN</td>\n",
       "      <td>NaN</td>\n",
       "      <td>NaN</td>\n",
       "      <td>NaN</td>\n",
       "      <td>648</td>\n",
       "      <td>NaN</td>\n",
       "    </tr>\n",
       "    <tr>\n",
       "      <th>mean</th>\n",
       "      <td>2003.016000</td>\n",
       "      <td>0.003834</td>\n",
       "      <td>0.003919</td>\n",
       "      <td>0.001716</td>\n",
       "      <td>0.001636</td>\n",
       "      <td>0.00561</td>\n",
       "      <td>1.478305</td>\n",
       "      <td>0.003138</td>\n",
       "      <td>NaN</td>\n",
       "      <td>0.518400</td>\n",
       "    </tr>\n",
       "    <tr>\n",
       "      <th>std</th>\n",
       "      <td>1.409018</td>\n",
       "      <td>1.136299</td>\n",
       "      <td>1.136280</td>\n",
       "      <td>1.138703</td>\n",
       "      <td>1.138774</td>\n",
       "      <td>1.14755</td>\n",
       "      <td>0.360357</td>\n",
       "      <td>1.136334</td>\n",
       "      <td>NaN</td>\n",
       "      <td>0.499861</td>\n",
       "    </tr>\n",
       "    <tr>\n",
       "      <th>min</th>\n",
       "      <td>2001.000000</td>\n",
       "      <td>-4.922000</td>\n",
       "      <td>-4.922000</td>\n",
       "      <td>-4.922000</td>\n",
       "      <td>-4.922000</td>\n",
       "      <td>-4.92200</td>\n",
       "      <td>0.356070</td>\n",
       "      <td>-4.922000</td>\n",
       "      <td>NaN</td>\n",
       "      <td>0.000000</td>\n",
       "    </tr>\n",
       "    <tr>\n",
       "      <th>25%</th>\n",
       "      <td>2002.000000</td>\n",
       "      <td>-0.639500</td>\n",
       "      <td>-0.639500</td>\n",
       "      <td>-0.640000</td>\n",
       "      <td>-0.640000</td>\n",
       "      <td>-0.64000</td>\n",
       "      <td>1.257400</td>\n",
       "      <td>-0.639500</td>\n",
       "      <td>NaN</td>\n",
       "      <td>0.000000</td>\n",
       "    </tr>\n",
       "    <tr>\n",
       "      <th>50%</th>\n",
       "      <td>2003.000000</td>\n",
       "      <td>0.039000</td>\n",
       "      <td>0.039000</td>\n",
       "      <td>0.038500</td>\n",
       "      <td>0.038500</td>\n",
       "      <td>0.03850</td>\n",
       "      <td>1.422950</td>\n",
       "      <td>0.038500</td>\n",
       "      <td>NaN</td>\n",
       "      <td>1.000000</td>\n",
       "    </tr>\n",
       "    <tr>\n",
       "      <th>75%</th>\n",
       "      <td>2004.000000</td>\n",
       "      <td>0.596750</td>\n",
       "      <td>0.596750</td>\n",
       "      <td>0.596750</td>\n",
       "      <td>0.596750</td>\n",
       "      <td>0.59700</td>\n",
       "      <td>1.641675</td>\n",
       "      <td>0.596750</td>\n",
       "      <td>NaN</td>\n",
       "      <td>1.000000</td>\n",
       "    </tr>\n",
       "    <tr>\n",
       "      <th>max</th>\n",
       "      <td>2005.000000</td>\n",
       "      <td>5.733000</td>\n",
       "      <td>5.733000</td>\n",
       "      <td>5.733000</td>\n",
       "      <td>5.733000</td>\n",
       "      <td>5.73300</td>\n",
       "      <td>3.152470</td>\n",
       "      <td>5.733000</td>\n",
       "      <td>NaN</td>\n",
       "      <td>1.000000</td>\n",
       "    </tr>\n",
       "  </tbody>\n",
       "</table>\n",
       "</div>"
      ],
      "text/plain": [
       "               Year         Lag1         Lag2         Lag3         Lag4  \\\n",
       "count   1250.000000  1250.000000  1250.000000  1250.000000  1250.000000   \n",
       "unique          NaN          NaN          NaN          NaN          NaN   \n",
       "top             NaN          NaN          NaN          NaN          NaN   \n",
       "freq            NaN          NaN          NaN          NaN          NaN   \n",
       "mean    2003.016000     0.003834     0.003919     0.001716     0.001636   \n",
       "std        1.409018     1.136299     1.136280     1.138703     1.138774   \n",
       "min     2001.000000    -4.922000    -4.922000    -4.922000    -4.922000   \n",
       "25%     2002.000000    -0.639500    -0.639500    -0.640000    -0.640000   \n",
       "50%     2003.000000     0.039000     0.039000     0.038500     0.038500   \n",
       "75%     2004.000000     0.596750     0.596750     0.596750     0.596750   \n",
       "max     2005.000000     5.733000     5.733000     5.733000     5.733000   \n",
       "\n",
       "              Lag5       Volume        Today Direction  Direction_code  \n",
       "count   1250.00000  1250.000000  1250.000000      1250     1250.000000  \n",
       "unique         NaN          NaN          NaN         2             NaN  \n",
       "top            NaN          NaN          NaN        Up             NaN  \n",
       "freq           NaN          NaN          NaN       648             NaN  \n",
       "mean       0.00561     1.478305     0.003138       NaN        0.518400  \n",
       "std        1.14755     0.360357     1.136334       NaN        0.499861  \n",
       "min       -4.92200     0.356070    -4.922000       NaN        0.000000  \n",
       "25%       -0.64000     1.257400    -0.639500       NaN        0.000000  \n",
       "50%        0.03850     1.422950     0.038500       NaN        1.000000  \n",
       "75%        0.59700     1.641675     0.596750       NaN        1.000000  \n",
       "max        5.73300     3.152470     5.733000       NaN        1.000000  "
      ]
     },
     "execution_count": 4,
     "metadata": {},
     "output_type": "execute_result"
    }
   ],
   "source": [
    "Smarket.describe(include='all')"
   ]
  },
  {
   "cell_type": "code",
   "execution_count": 5,
   "id": "eb5f80aa",
   "metadata": {
    "name": "chunk1"
   },
   "outputs": [
    {
     "data": {
      "image/png": "[encoded data removed]",
      "text/plain": [
       "<Figure size 720x720 with 81 Axes>"
      ]
     },
     "metadata": {
      "needs_background": "light"
     },
     "output_type": "display_data"
    }
   ],
   "source": [
    "pd.plotting.scatter_matrix(Smarket, figsize=(10, 10));"
   ]
  },
  {
   "cell_type": "markdown",
   "id": "09ae38b1",
   "metadata": {},
   "source": [
    "The `cor()` function produces a matrix that contains all of the pairwise correlations among the predictors in a data set. Note that categorical columns are ignored, but have already included a column with encoded Direction."
   ]
  },
  {
   "cell_type": "code",
   "execution_count": 6,
   "id": "d8731291-cd83-4d22-b491-2c306380cca4",
   "metadata": {},
   "outputs": [
    {
     "data": {
      "text/html": [
       "<div>\n",
       "<style scoped>\n",
       "    .dataframe tbody tr th:only-of-type {\n",
       "        vertical-align: middle;\n",
       "    }\n",
       "\n",
       "    .dataframe tbody tr th {\n",
       "        vertical-align: top;\n",
       "    }\n",
       "\n",
       "    .dataframe thead th {\n",
       "        text-align: right;\n",
       "    }\n",
       "</style>\n",
       "<table border=\"1\" class=\"dataframe\">\n",
       "  <thead>\n",
       "    <tr style=\"text-align: right;\">\n",
       "      <th></th>\n",
       "      <th>Year</th>\n",
       "      <th>Lag1</th>\n",
       "      <th>Lag2</th>\n",
       "      <th>Lag3</th>\n",
       "      <th>Lag4</th>\n",
       "      <th>Lag5</th>\n",
       "      <th>Volume</th>\n",
       "      <th>Today</th>\n",
       "      <th>Direction_code</th>\n",
       "    </tr>\n",
       "  </thead>\n",
       "  <tbody>\n",
       "    <tr>\n",
       "      <th>Year</th>\n",
       "      <td>1.000000</td>\n",
       "      <td>0.029700</td>\n",
       "      <td>0.030596</td>\n",
       "      <td>0.033195</td>\n",
       "      <td>0.035689</td>\n",
       "      <td>0.029788</td>\n",
       "      <td>0.539006</td>\n",
       "      <td>0.030095</td>\n",
       "      <td>0.074608</td>\n",
       "    </tr>\n",
       "    <tr>\n",
       "      <th>Lag1</th>\n",
       "      <td>0.029700</td>\n",
       "      <td>1.000000</td>\n",
       "      <td>-0.026294</td>\n",
       "      <td>-0.010803</td>\n",
       "      <td>-0.002986</td>\n",
       "      <td>-0.005675</td>\n",
       "      <td>0.040910</td>\n",
       "      <td>-0.026155</td>\n",
       "      <td>-0.039757</td>\n",
       "    </tr>\n",
       "    <tr>\n",
       "      <th>Lag2</th>\n",
       "      <td>0.030596</td>\n",
       "      <td>-0.026294</td>\n",
       "      <td>1.000000</td>\n",
       "      <td>-0.025897</td>\n",
       "      <td>-0.010854</td>\n",
       "      <td>-0.003558</td>\n",
       "      <td>-0.043383</td>\n",
       "      <td>-0.010250</td>\n",
       "      <td>-0.024081</td>\n",
       "    </tr>\n",
       "    <tr>\n",
       "      <th>Lag3</th>\n",
       "      <td>0.033195</td>\n",
       "      <td>-0.010803</td>\n",
       "      <td>-0.025897</td>\n",
       "      <td>1.000000</td>\n",
       "      <td>-0.024051</td>\n",
       "      <td>-0.018808</td>\n",
       "      <td>-0.041824</td>\n",
       "      <td>-0.002448</td>\n",
       "      <td>0.006132</td>\n",
       "    </tr>\n",
       "    <tr>\n",
       "      <th>Lag4</th>\n",
       "      <td>0.035689</td>\n",
       "      <td>-0.002986</td>\n",
       "      <td>-0.010854</td>\n",
       "      <td>-0.024051</td>\n",
       "      <td>1.000000</td>\n",
       "      <td>-0.027084</td>\n",
       "      <td>-0.048414</td>\n",
       "      <td>-0.006900</td>\n",
       "      <td>0.004215</td>\n",
       "    </tr>\n",
       "    <tr>\n",
       "      <th>Lag5</th>\n",
       "      <td>0.029788</td>\n",
       "      <td>-0.005675</td>\n",
       "      <td>-0.003558</td>\n",
       "      <td>-0.018808</td>\n",
       "      <td>-0.027084</td>\n",
       "      <td>1.000000</td>\n",
       "      <td>-0.022002</td>\n",
       "      <td>-0.034860</td>\n",
       "      <td>0.005423</td>\n",
       "    </tr>\n",
       "    <tr>\n",
       "      <th>Volume</th>\n",
       "      <td>0.539006</td>\n",
       "      <td>0.040910</td>\n",
       "      <td>-0.043383</td>\n",
       "      <td>-0.041824</td>\n",
       "      <td>-0.048414</td>\n",
       "      <td>-0.022002</td>\n",
       "      <td>1.000000</td>\n",
       "      <td>0.014592</td>\n",
       "      <td>0.022951</td>\n",
       "    </tr>\n",
       "    <tr>\n",
       "      <th>Today</th>\n",
       "      <td>0.030095</td>\n",
       "      <td>-0.026155</td>\n",
       "      <td>-0.010250</td>\n",
       "      <td>-0.002448</td>\n",
       "      <td>-0.006900</td>\n",
       "      <td>-0.034860</td>\n",
       "      <td>0.014592</td>\n",
       "      <td>1.000000</td>\n",
       "      <td>0.730563</td>\n",
       "    </tr>\n",
       "    <tr>\n",
       "      <th>Direction_code</th>\n",
       "      <td>0.074608</td>\n",
       "      <td>-0.039757</td>\n",
       "      <td>-0.024081</td>\n",
       "      <td>0.006132</td>\n",
       "      <td>0.004215</td>\n",
       "      <td>0.005423</td>\n",
       "      <td>0.022951</td>\n",
       "      <td>0.730563</td>\n",
       "      <td>1.000000</td>\n",
       "    </tr>\n",
       "  </tbody>\n",
       "</table>\n",
       "</div>"
      ],
      "text/plain": [
       "                    Year      Lag1      Lag2      Lag3      Lag4      Lag5  \\\n",
       "Year            1.000000  0.029700  0.030596  0.033195  0.035689  0.029788   \n",
       "Lag1            0.029700  1.000000 -0.026294 -0.010803 -0.002986 -0.005675   \n",
       "Lag2            0.030596 -0.026294  1.000000 -0.025897 -0.010854 -0.003558   \n",
       "Lag3            0.033195 -0.010803 -0.025897  1.000000 -0.024051 -0.018808   \n",
       "Lag4            0.035689 -0.002986 -0.010854 -0.024051  1.000000 -0.027084   \n",
       "Lag5            0.029788 -0.005675 -0.003558 -0.018808 -0.027084  1.000000   \n",
       "Volume          0.539006  0.040910 -0.043383 -0.041824 -0.048414 -0.022002   \n",
       "Today           0.030095 -0.026155 -0.010250 -0.002448 -0.006900 -0.034860   \n",
       "Direction_code  0.074608 -0.039757 -0.024081  0.006132  0.004215  0.005423   \n",
       "\n",
       "                  Volume     Today  Direction_code  \n",
       "Year            0.539006  0.030095        0.074608  \n",
       "Lag1            0.040910 -0.026155       -0.039757  \n",
       "Lag2           -0.043383 -0.010250       -0.024081  \n",
       "Lag3           -0.041824 -0.002448        0.006132  \n",
       "Lag4           -0.048414 -0.006900        0.004215  \n",
       "Lag5           -0.022002 -0.034860        0.005423  \n",
       "Volume          1.000000  0.014592        0.022951  \n",
       "Today           0.014592  1.000000        0.730563  \n",
       "Direction_code  0.022951  0.730563        1.000000  "
      ]
     },
     "execution_count": 6,
     "metadata": {},
     "output_type": "execute_result"
    }
   ],
   "source": [
    "Smarket.corr()"
   ]
  },
  {
   "cell_type": "markdown",
   "id": "d0cd124e",
   "metadata": {},
   "source": [
    "As one would expect, the correlations between the lag variables and today's returns are close to zero. In other words, there appears to be little correlation between today's returns and previous days' returns. The only substantial correlation is between `Year` and `volume`. By plotting the data, which is ordered chronologically, we see that `volume` is increasing over time. In other words, the average number of shares traded daily increased from 2001 to 2005."
   ]
  },
  {
   "cell_type": "code",
   "execution_count": 7,
   "id": "1c1a8411-2f50-4df8-8be8-9642fc6870b2",
   "metadata": {},
   "outputs": [
    {
     "data": {
      "image/png": "[encoded data removed]",
      "text/plain": [
       "<Figure size 432x288 with 1 Axes>"
      ]
     },
     "metadata": {
      "needs_background": "light"
     },
     "output_type": "display_data"
    }
   ],
   "source": [
    "Smarket.Volume.plot(style='o', alpha=0.4);"
   ]
  },
  {
   "cell_type": "markdown",
   "id": "8d0549e0",
   "metadata": {},
   "source": [
    "## Logistic Regression\n",
    "\n",
    "Next, we will fit a logistic regression model in order to predict `direction` using `lagone` through `lagfive` and `volume`. The `glm()` function  can be used to fit many types of generalized linear models , including logistic regression.\n",
    " The syntax of the `glm()` function is similar to that of  `lm()`,  except that we must pass in the argument `family = binomial` in order to tell `R` to run a logistic regression rather than some other type of generalized linear model.\n"
   ]
  },
  {
   "cell_type": "code",
   "execution_count": 8,
   "id": "a1df364c-d19b-4b26-9e5d-708320633a6d",
   "metadata": {},
   "outputs": [],
   "source": [
    "X = Smarket[['Lag1', 'Lag2', 'Lag3', 'Lag4', 'Lag5', 'Volume']]\n",
    "# In statsmodels we need to add the constant manually\n",
    "X = sm.add_constant(X)\n",
    "y = Smarket.Direction_code"
   ]
  },
  {
   "cell_type": "code",
   "execution_count": 9,
   "id": "e003973c-f857-48a3-b6da-39bdebf5dd82",
   "metadata": {},
   "outputs": [
    {
     "name": "stdout",
     "output_type": "stream",
     "text": [
      "Optimization terminated successfully.\n",
      "         Current function value: 0.691034\n",
      "         Iterations 4\n"
     ]
    },
    {
     "data": {
      "text/html": [
       "<table class=\"simpletable\">\n",
       "<caption>Logit Regression Results</caption>\n",
       "<tr>\n",
       "  <th>Dep. Variable:</th>    <td>Direction_code</td>  <th>  No. Observations:  </th>  <td>  1250</td> \n",
       "</tr>\n",
       "<tr>\n",
       "  <th>Model:</th>                 <td>Logit</td>      <th>  Df Residuals:      </th>  <td>  1243</td> \n",
       "</tr>\n",
       "<tr>\n",
       "  <th>Method:</th>                 <td>MLE</td>       <th>  Df Model:          </th>  <td>     6</td> \n",
       "</tr>\n",
       "<tr>\n",
       "  <th>Date:</th>            <td>Mon, 19 Sep 2022</td> <th>  Pseudo R-squ.:     </th> <td>0.002074</td>\n",
       "</tr>\n",
       "<tr>\n",
       "  <th>Time:</th>                <td>18:58:25</td>     <th>  Log-Likelihood:    </th> <td> -863.79</td>\n",
       "</tr>\n",
       "<tr>\n",
       "  <th>converged:</th>             <td>True</td>       <th>  LL-Null:           </th> <td> -865.59</td>\n",
       "</tr>\n",
       "<tr>\n",
       "  <th>Covariance Type:</th>     <td>nonrobust</td>    <th>  LLR p-value:       </th>  <td>0.7319</td> \n",
       "</tr>\n",
       "</table>\n",
       "<table class=\"simpletable\">\n",
       "<tr>\n",
       "     <td></td>       <th>coef</th>     <th>std err</th>      <th>z</th>      <th>P>|z|</th>  <th>[0.025</th>    <th>0.975]</th>  \n",
       "</tr>\n",
       "<tr>\n",
       "  <th>const</th>  <td>   -0.1260</td> <td>    0.241</td> <td>   -0.523</td> <td> 0.601</td> <td>   -0.598</td> <td>    0.346</td>\n",
       "</tr>\n",
       "<tr>\n",
       "  <th>Lag1</th>   <td>   -0.0731</td> <td>    0.050</td> <td>   -1.457</td> <td> 0.145</td> <td>   -0.171</td> <td>    0.025</td>\n",
       "</tr>\n",
       "<tr>\n",
       "  <th>Lag2</th>   <td>   -0.0423</td> <td>    0.050</td> <td>   -0.845</td> <td> 0.398</td> <td>   -0.140</td> <td>    0.056</td>\n",
       "</tr>\n",
       "<tr>\n",
       "  <th>Lag3</th>   <td>    0.0111</td> <td>    0.050</td> <td>    0.222</td> <td> 0.824</td> <td>   -0.087</td> <td>    0.109</td>\n",
       "</tr>\n",
       "<tr>\n",
       "  <th>Lag4</th>   <td>    0.0094</td> <td>    0.050</td> <td>    0.187</td> <td> 0.851</td> <td>   -0.089</td> <td>    0.107</td>\n",
       "</tr>\n",
       "<tr>\n",
       "  <th>Lag5</th>   <td>    0.0103</td> <td>    0.050</td> <td>    0.208</td> <td> 0.835</td> <td>   -0.087</td> <td>    0.107</td>\n",
       "</tr>\n",
       "<tr>\n",
       "  <th>Volume</th> <td>    0.1354</td> <td>    0.158</td> <td>    0.855</td> <td> 0.392</td> <td>   -0.175</td> <td>    0.446</td>\n",
       "</tr>\n",
       "</table>"
      ],
      "text/plain": [
       "<class 'statsmodels.iolib.summary.Summary'>\n",
       "\"\"\"\n",
       "                           Logit Regression Results                           \n",
       "==============================================================================\n",
       "Dep. Variable:         Direction_code   No. Observations:                 1250\n",
       "Model:                          Logit   Df Residuals:                     1243\n",
       "Method:                           MLE   Df Model:                            6\n",
       "Date:                Mon, 19 Sep 2022   Pseudo R-squ.:                0.002074\n",
       "Time:                        18:58:25   Log-Likelihood:                -863.79\n",
       "converged:                       True   LL-Null:                       -865.59\n",
       "Covariance Type:            nonrobust   LLR p-value:                    0.7319\n",
       "==============================================================================\n",
       "                 coef    std err          z      P>|z|      [0.025      0.975]\n",
       "------------------------------------------------------------------------------\n",
       "const         -0.1260      0.241     -0.523      0.601      -0.598       0.346\n",
       "Lag1          -0.0731      0.050     -1.457      0.145      -0.171       0.025\n",
       "Lag2          -0.0423      0.050     -0.845      0.398      -0.140       0.056\n",
       "Lag3           0.0111      0.050      0.222      0.824      -0.087       0.109\n",
       "Lag4           0.0094      0.050      0.187      0.851      -0.089       0.107\n",
       "Lag5           0.0103      0.050      0.208      0.835      -0.087       0.107\n",
       "Volume         0.1354      0.158      0.855      0.392      -0.175       0.446\n",
       "==============================================================================\n",
       "\"\"\""
      ]
     },
     "execution_count": 9,
     "metadata": {},
     "output_type": "execute_result"
    }
   ],
   "source": [
    "log_model = sm.Logit(y, X).fit()\n",
    "log_model.summary()"
   ]
  },
  {
   "cell_type": "markdown",
   "id": "e1b1497c",
   "metadata": {},
   "source": [
    "The smallest $p$-value here is associated with `lagone`. The negative coefficient for this predictor suggests that if the market had a positive return yesterday, then it is less likely to go up today. However, at a value of $0.15$, the $p$-value is still relatively large, and so there is no clear evidence of a real association between `lagone` and `direction`. \n",
    "\n",
    "We use the `params` attribute in order to access just the coefficients for this fitted model. We can also use other attributes to access  particular aspects of the fitted model, such as the $p$-values for the coefficients."
   ]
  },
  {
   "cell_type": "code",
   "execution_count": 10,
   "id": "6eb9e6dc-b333-4b57-90f5-065b856109b9",
   "metadata": {},
   "outputs": [
    {
     "data": {
      "text/plain": [
       "const    -0.126000\n",
       "Lag1     -0.073074\n",
       "Lag2     -0.042301\n",
       "Lag3      0.011085\n",
       "Lag4      0.009359\n",
       "Lag5      0.010313\n",
       "Volume    0.135441\n",
       "dtype: float64"
      ]
     },
     "execution_count": 10,
     "metadata": {},
     "output_type": "execute_result"
    }
   ],
   "source": [
    "log_model.params"
   ]
  },
  {
   "cell_type": "code",
   "execution_count": 11,
   "id": "ab6fb657-9e0f-47f4-88b2-6b23ccbc2562",
   "metadata": {},
   "outputs": [
    {
     "data": {
      "text/plain": [
       "const     0.600700\n",
       "Lag1      0.145232\n",
       "Lag2      0.398352\n",
       "Lag3      0.824334\n",
       "Lag4      0.851445\n",
       "Lag5      0.834998\n",
       "Volume    0.392404\n",
       "dtype: float64"
      ]
     },
     "execution_count": 11,
     "metadata": {},
     "output_type": "execute_result"
    }
   ],
   "source": [
    "log_model.pvalues"
   ]
  },
  {
   "cell_type": "markdown",
   "id": "e0ae3bdc",
   "metadata": {},
   "source": [
    "The `predict()` function can be used to predict the probability that the market will go up, given values of the predictors. If no data set is supplied to the `predict()` function,\n",
    "then  the probabilities are computed for the training data that was used to fit the logistic regression model. Here we have printed only the first ten probabilities. We know that these values correspond to the probability of the market going up, rather than down, by looking at the categories list of the codes column. Other option worth exploring is to fit the model using the `patsy` module together with `statsmodels` formula api."
   ]
  },
  {
   "cell_type": "code",
   "execution_count": 12,
   "id": "1626cffa-1a77-42b6-8606-c257b076b7ea",
   "metadata": {},
   "outputs": [
    {
     "data": {
      "text/plain": [
       "Index(['Down', 'Up'], dtype='object')"
      ]
     },
     "execution_count": 12,
     "metadata": {},
     "output_type": "execute_result"
    }
   ],
   "source": [
    "Smarket.Direction.cat.categories"
   ]
  },
  {
   "cell_type": "code",
   "execution_count": 13,
   "id": "873a0546-0e7f-476e-88d4-42ff67296790",
   "metadata": {},
   "outputs": [
    {
     "data": {
      "text/plain": [
       "array([0.50708413, 0.48146788, 0.48113883, 0.51522236, 0.51078116,\n",
       "       0.50695646, 0.49265087, 0.50922916, 0.51761353, 0.48883778])"
      ]
     },
     "execution_count": 13,
     "metadata": {},
     "output_type": "execute_result"
    }
   ],
   "source": [
    "probs = log_model.predict()\n",
    "probs[:10]"
   ]
  },
  {
   "cell_type": "markdown",
   "id": "dac20be3",
   "metadata": {},
   "source": [
    "In order to make a prediction as to whether the market will go up or down on a particular day, we must convert these predicted probabilities into class labels, `Up` or `Down`.\n",
    "The following two commands create a vector of class predictions based on whether the predicted probability of a market increase is greater than or less than $0.5$."
   ]
  },
  {
   "cell_type": "code",
   "execution_count": 14,
   "id": "35d72e73-d87d-44d9-ba74-77f4b9b8f4a6",
   "metadata": {},
   "outputs": [
    {
     "data": {
      "text/plain": [
       "array(['Up', 'Down', 'Down', 'Up', 'Up', 'Up', 'Down', 'Up', 'Up', 'Down'],\n",
       "      dtype='<U4')"
      ]
     },
     "execution_count": 14,
     "metadata": {},
     "output_type": "execute_result"
    }
   ],
   "source": [
    "pred = np.array(['Down']*1250)\n",
    "pred[probs > 0.5] = 'Up'\n",
    "pred[:10]"
   ]
  },
  {
   "cell_type": "markdown",
   "id": "2be0ea24",
   "metadata": {},
   "source": [
    "The first command creates a vector of 1,250  `Down` elements. The second line transforms to `Up` all of the elements for which the predicted probability of a market increase exceeds $0.5$. Given these predictions, the `crosstab()` function can be used to produce a confusion matrix   in order to determine how many observations were correctly or incorrectly classified. %By inputting two qualitative vectors pandas will create a two by two table with counts of the number of times each combination occurred e.g. predicted {\\it Up} and market increased, predicted {\\it Up} and the market decreased etc."
   ]
  },
  {
   "cell_type": "code",
   "execution_count": 15,
   "id": "736a9889-4c44-4ad1-a802-4a843871ef63",
   "metadata": {},
   "outputs": [
    {
     "data": {
      "text/html": [
       "<div>\n",
       "<style scoped>\n",
       "    .dataframe tbody tr th:only-of-type {\n",
       "        vertical-align: middle;\n",
       "    }\n",
       "\n",
       "    .dataframe tbody tr th {\n",
       "        vertical-align: top;\n",
       "    }\n",
       "\n",
       "    .dataframe thead th {\n",
       "        text-align: right;\n",
       "    }\n",
       "</style>\n",
       "<table border=\"1\" class=\"dataframe\">\n",
       "  <thead>\n",
       "    <tr style=\"text-align: right;\">\n",
       "      <th>Direction</th>\n",
       "      <th>Down</th>\n",
       "      <th>Up</th>\n",
       "      <th>All</th>\n",
       "    </tr>\n",
       "    <tr>\n",
       "      <th>pred</th>\n",
       "      <th></th>\n",
       "      <th></th>\n",
       "      <th></th>\n",
       "    </tr>\n",
       "  </thead>\n",
       "  <tbody>\n",
       "    <tr>\n",
       "      <th>Down</th>\n",
       "      <td>145</td>\n",
       "      <td>141</td>\n",
       "      <td>286</td>\n",
       "    </tr>\n",
       "    <tr>\n",
       "      <th>Up</th>\n",
       "      <td>457</td>\n",
       "      <td>507</td>\n",
       "      <td>964</td>\n",
       "    </tr>\n",
       "    <tr>\n",
       "      <th>All</th>\n",
       "      <td>602</td>\n",
       "      <td>648</td>\n",
       "      <td>1250</td>\n",
       "    </tr>\n",
       "  </tbody>\n",
       "</table>\n",
       "</div>"
      ],
      "text/plain": [
       "Direction  Down   Up   All\n",
       "pred                      \n",
       "Down        145  141   286\n",
       "Up          457  507   964\n",
       "All         602  648  1250"
      ]
     },
     "execution_count": 15,
     "metadata": {},
     "output_type": "execute_result"
    }
   ],
   "source": [
    "pred = pd.Series(pred, name='pred')\n",
    "pd.crosstab(pred, Smarket.Direction, margins=True)"
   ]
  },
  {
   "cell_type": "code",
   "execution_count": 16,
   "id": "a79110be-04fc-4e83-9431-e5bd59f858b7",
   "metadata": {},
   "outputs": [
    {
     "data": {
      "text/plain": [
       "0.5216"
      ]
     },
     "execution_count": 16,
     "metadata": {},
     "output_type": "execute_result"
    }
   ],
   "source": [
    "(507 + 145) / 1250"
   ]
  },
  {
   "cell_type": "code",
   "execution_count": 17,
   "id": "31398cb5-b868-47ec-9c66-5225d5348fd9",
   "metadata": {},
   "outputs": [
    {
     "data": {
      "text/plain": [
       "0.5216"
      ]
     },
     "execution_count": 17,
     "metadata": {},
     "output_type": "execute_result"
    }
   ],
   "source": [
    "np.mean(pred == Smarket.Direction)"
   ]
  },
  {
   "cell_type": "markdown",
   "id": "a3f96f0f",
   "metadata": {},
   "source": [
    "The diagonal elements of the confusion matrix indicate correct predictions, while the off-diagonals represent incorrect predictions. Hence our model correctly predicted that the market would go up on $507$ days and that it would go down on $145$ days, for a total of $507+145 = 652$ correct predictions. The `mean()` function can be used to compute the fraction of days for which the prediction was correct. In this case, logistic regression correctly predicted the movement of the market  $52.2$\\,\\% of the time.\n",
    "\n",
    "At first glance, it appears that the logistic regression model is working a little better than random guessing. However, this result is misleading because we trained and tested the  model on the same set of $1,250$ observations. In other words,\n",
    " $100\\%-52.2\\%=47.8\\%$, is the *training* error   rate. As we have seen previously, the training error rate is often overly optimistic---it tends to underestimate the   test error rate.  In order to better assess the accuracy of the logistic regression model in this setting, we can fit the model using part of the data, and then examine how well it predicts the *held out* data.\n",
    "This will yield a more realistic error rate, in the sense that in practice we will be interested in our model's performance not on the data that we used to fit the model, but rather on days in the future for which the market's movements are unknown.\n",
    "\n",
    "To implement this strategy, we will first create a vector corresponding to the observations from 2001 through 2004. We will then use this vector to create a held out data set of observations from 2005."
   ]
  },
  {
   "cell_type": "code",
   "execution_count": 18,
   "id": "17a4cc39-c956-49f4-b282-7bdf393cc2e0",
   "metadata": {},
   "outputs": [
    {
     "data": {
      "text/html": [
       "<div>\n",
       "<style scoped>\n",
       "    .dataframe tbody tr th:only-of-type {\n",
       "        vertical-align: middle;\n",
       "    }\n",
       "\n",
       "    .dataframe tbody tr th {\n",
       "        vertical-align: top;\n",
       "    }\n",
       "\n",
       "    .dataframe thead th {\n",
       "        text-align: right;\n",
       "    }\n",
       "</style>\n",
       "<table border=\"1\" class=\"dataframe\">\n",
       "  <thead>\n",
       "    <tr style=\"text-align: right;\">\n",
       "      <th></th>\n",
       "      <th>Year</th>\n",
       "      <th>Lag1</th>\n",
       "      <th>Lag2</th>\n",
       "      <th>Lag3</th>\n",
       "      <th>Lag4</th>\n",
       "      <th>Lag5</th>\n",
       "      <th>Volume</th>\n",
       "      <th>Today</th>\n",
       "      <th>Direction</th>\n",
       "      <th>Direction_code</th>\n",
       "    </tr>\n",
       "  </thead>\n",
       "  <tbody>\n",
       "    <tr>\n",
       "      <th>0</th>\n",
       "      <td>2001</td>\n",
       "      <td>0.381</td>\n",
       "      <td>-0.192</td>\n",
       "      <td>-2.624</td>\n",
       "      <td>-1.055</td>\n",
       "      <td>5.010</td>\n",
       "      <td>1.1913</td>\n",
       "      <td>0.959</td>\n",
       "      <td>Up</td>\n",
       "      <td>1</td>\n",
       "    </tr>\n",
       "    <tr>\n",
       "      <th>1</th>\n",
       "      <td>2001</td>\n",
       "      <td>0.959</td>\n",
       "      <td>0.381</td>\n",
       "      <td>-0.192</td>\n",
       "      <td>-2.624</td>\n",
       "      <td>-1.055</td>\n",
       "      <td>1.2965</td>\n",
       "      <td>1.032</td>\n",
       "      <td>Up</td>\n",
       "      <td>1</td>\n",
       "    </tr>\n",
       "    <tr>\n",
       "      <th>2</th>\n",
       "      <td>2001</td>\n",
       "      <td>1.032</td>\n",
       "      <td>0.959</td>\n",
       "      <td>0.381</td>\n",
       "      <td>-0.192</td>\n",
       "      <td>-2.624</td>\n",
       "      <td>1.4112</td>\n",
       "      <td>-0.623</td>\n",
       "      <td>Down</td>\n",
       "      <td>0</td>\n",
       "    </tr>\n",
       "    <tr>\n",
       "      <th>3</th>\n",
       "      <td>2001</td>\n",
       "      <td>-0.623</td>\n",
       "      <td>1.032</td>\n",
       "      <td>0.959</td>\n",
       "      <td>0.381</td>\n",
       "      <td>-0.192</td>\n",
       "      <td>1.2760</td>\n",
       "      <td>0.614</td>\n",
       "      <td>Up</td>\n",
       "      <td>1</td>\n",
       "    </tr>\n",
       "    <tr>\n",
       "      <th>4</th>\n",
       "      <td>2001</td>\n",
       "      <td>0.614</td>\n",
       "      <td>-0.623</td>\n",
       "      <td>1.032</td>\n",
       "      <td>0.959</td>\n",
       "      <td>0.381</td>\n",
       "      <td>1.2057</td>\n",
       "      <td>0.213</td>\n",
       "      <td>Up</td>\n",
       "      <td>1</td>\n",
       "    </tr>\n",
       "    <tr>\n",
       "      <th>...</th>\n",
       "      <td>...</td>\n",
       "      <td>...</td>\n",
       "      <td>...</td>\n",
       "      <td>...</td>\n",
       "      <td>...</td>\n",
       "      <td>...</td>\n",
       "      <td>...</td>\n",
       "      <td>...</td>\n",
       "      <td>...</td>\n",
       "      <td>...</td>\n",
       "    </tr>\n",
       "    <tr>\n",
       "      <th>993</th>\n",
       "      <td>2004</td>\n",
       "      <td>0.046</td>\n",
       "      <td>0.342</td>\n",
       "      <td>0.904</td>\n",
       "      <td>0.038</td>\n",
       "      <td>-0.749</td>\n",
       "      <td>0.9561</td>\n",
       "      <td>-0.431</td>\n",
       "      <td>Down</td>\n",
       "      <td>0</td>\n",
       "    </tr>\n",
       "    <tr>\n",
       "      <th>994</th>\n",
       "      <td>2004</td>\n",
       "      <td>-0.431</td>\n",
       "      <td>0.046</td>\n",
       "      <td>0.342</td>\n",
       "      <td>0.904</td>\n",
       "      <td>0.038</td>\n",
       "      <td>0.9220</td>\n",
       "      <td>0.715</td>\n",
       "      <td>Up</td>\n",
       "      <td>1</td>\n",
       "    </tr>\n",
       "    <tr>\n",
       "      <th>995</th>\n",
       "      <td>2004</td>\n",
       "      <td>0.715</td>\n",
       "      <td>-0.431</td>\n",
       "      <td>0.046</td>\n",
       "      <td>0.342</td>\n",
       "      <td>0.904</td>\n",
       "      <td>0.9830</td>\n",
       "      <td>-0.007</td>\n",
       "      <td>Down</td>\n",
       "      <td>0</td>\n",
       "    </tr>\n",
       "    <tr>\n",
       "      <th>996</th>\n",
       "      <td>2004</td>\n",
       "      <td>-0.007</td>\n",
       "      <td>0.715</td>\n",
       "      <td>-0.431</td>\n",
       "      <td>0.046</td>\n",
       "      <td>0.342</td>\n",
       "      <td>0.9259</td>\n",
       "      <td>0.008</td>\n",
       "      <td>Up</td>\n",
       "      <td>1</td>\n",
       "    </tr>\n",
       "    <tr>\n",
       "      <th>997</th>\n",
       "      <td>2004</td>\n",
       "      <td>0.008</td>\n",
       "      <td>-0.007</td>\n",
       "      <td>0.715</td>\n",
       "      <td>-0.431</td>\n",
       "      <td>0.046</td>\n",
       "      <td>0.8298</td>\n",
       "      <td>-0.134</td>\n",
       "      <td>Down</td>\n",
       "      <td>0</td>\n",
       "    </tr>\n",
       "  </tbody>\n",
       "</table>\n",
       "<p>998 rows × 10 columns</p>\n",
       "</div>"
      ],
      "text/plain": [
       "     Year   Lag1   Lag2   Lag3   Lag4   Lag5  Volume  Today Direction  \\\n",
       "0    2001  0.381 -0.192 -2.624 -1.055  5.010  1.1913  0.959        Up   \n",
       "1    2001  0.959  0.381 -0.192 -2.624 -1.055  1.2965  1.032        Up   \n",
       "2    2001  1.032  0.959  0.381 -0.192 -2.624  1.4112 -0.623      Down   \n",
       "3    2001 -0.623  1.032  0.959  0.381 -0.192  1.2760  0.614        Up   \n",
       "4    2001  0.614 -0.623  1.032  0.959  0.381  1.2057  0.213        Up   \n",
       "..    ...    ...    ...    ...    ...    ...     ...    ...       ...   \n",
       "993  2004  0.046  0.342  0.904  0.038 -0.749  0.9561 -0.431      Down   \n",
       "994  2004 -0.431  0.046  0.342  0.904  0.038  0.9220  0.715        Up   \n",
       "995  2004  0.715 -0.431  0.046  0.342  0.904  0.9830 -0.007      Down   \n",
       "996  2004 -0.007  0.715 -0.431  0.046  0.342  0.9259  0.008        Up   \n",
       "997  2004  0.008 -0.007  0.715 -0.431  0.046  0.8298 -0.134      Down   \n",
       "\n",
       "     Direction_code  \n",
       "0                 1  \n",
       "1                 1  \n",
       "2                 0  \n",
       "3                 1  \n",
       "4                 1  \n",
       "..              ...  \n",
       "993               0  \n",
       "994               1  \n",
       "995               0  \n",
       "996               1  \n",
       "997               0  \n",
       "\n",
       "[998 rows x 10 columns]"
      ]
     },
     "execution_count": 18,
     "metadata": {},
     "output_type": "execute_result"
    }
   ],
   "source": [
    "Smarket[Smarket.Year < 2005]"
   ]
  },
  {
   "cell_type": "code",
   "execution_count": 19,
   "id": "a0b0740a",
   "metadata": {
    "name": "chunk9"
   },
   "outputs": [
    {
     "data": {
      "text/plain": [
       "((998, 7), (998,), (252, 7), (252,))"
      ]
     },
     "execution_count": 19,
     "metadata": {},
     "output_type": "execute_result"
    }
   ],
   "source": [
    "train = Smarket.Year < 2005\n",
    "X_train = X[train]\n",
    "y_train  = y[train]\n",
    "X_test = X[~train]\n",
    "y_test = y[~train]\n",
    "X_train.shape, y_train.shape, X_test.shape, y_test.shape"
   ]
  },
  {
   "cell_type": "markdown",
   "id": "7f2d8b2d",
   "metadata": {},
   "source": [
    "The object `train` is a vector of $1{,}250$ elements, corresponding to the observations in our data set. The elements of the vector that correspond to observations that occurred before 2005 are set to `TRUE`, whereas those that correspond to observations  in 2005 are set to `FALSE`.\n",
    "The object `train` is a  *Boolean*  vector, since its elements are `TRUE` and `FALSE`.\n",
    "Boolean vectors can be used to obtain a subset of the rows or columns of a data frame. For instance, the command `Smarket[train]` would pick out a submatrix of the stock market data set, corresponding only to the dates before 2005, since\n",
    "those are the ones for which the elements of `train` are `TRUE`.\n",
    "The `~` symbol can be used to reverse all of the elements of  a Boolean vector. That is, `~train` is a vector similar to `train`, except that  the elements that are `TRUE` in `train` get swapped to `FALSE` in `~train`, and the elements that are `FALSE`\n",
    "in `train` get swapped to `TRUE` in `~train`. Therefore, `Smarket[~train]` yields a submatrix of the stock market data containing only\n",
    "the observations for which `train` is `FALSE`---that is, the observations with dates in 2005. The output above indicates that there are 252 such observations.\n",
    "\n",
    "We now fit a logistic regression model using only the subset of the observations that correspond to dates before 2005. We then obtain predicted probabilities of the stock market going up for each of the days in our test set---that is, for the days in 2005."
   ]
  },
  {
   "cell_type": "code",
   "execution_count": 20,
   "id": "b295f565-f878-4136-ab48-484bfa7650be",
   "metadata": {},
   "outputs": [
    {
     "name": "stdout",
     "output_type": "stream",
     "text": [
      "Optimization terminated successfully.\n",
      "         Current function value: 0.691936\n",
      "         Iterations 4\n"
     ]
    }
   ],
   "source": [
    "log_model = sm.Logit(y_train, X_train).fit()\n",
    "probs = log_model.predict(X_test)"
   ]
  },
  {
   "cell_type": "markdown",
   "id": "40a2f0ea",
   "metadata": {},
   "source": [
    "Notice that we have trained and tested our model on two completely separate data sets: training was performed using only the dates before 2005, and testing was performed using only the dates in 2005.\n",
    "Finally, we compute the predictions for 2005 and compare them to the actual movements of the market over that time period."
   ]
  },
  {
   "cell_type": "code",
   "execution_count": 23,
   "id": "e31833e0-6051-4718-908d-43b510e0b19f",
   "metadata": {},
   "outputs": [
    {
     "data": {
      "text/html": [
       "<div>\n",
       "<style scoped>\n",
       "    .dataframe tbody tr th:only-of-type {\n",
       "        vertical-align: middle;\n",
       "    }\n",
       "\n",
       "    .dataframe tbody tr th {\n",
       "        vertical-align: top;\n",
       "    }\n",
       "\n",
       "    .dataframe thead th {\n",
       "        text-align: right;\n",
       "    }\n",
       "</style>\n",
       "<table border=\"1\" class=\"dataframe\">\n",
       "  <thead>\n",
       "    <tr style=\"text-align: right;\">\n",
       "      <th>Direction</th>\n",
       "      <th>Down</th>\n",
       "      <th>Up</th>\n",
       "    </tr>\n",
       "    <tr>\n",
       "      <th>pred</th>\n",
       "      <th></th>\n",
       "      <th></th>\n",
       "    </tr>\n",
       "  </thead>\n",
       "  <tbody>\n",
       "    <tr>\n",
       "      <th>Down</th>\n",
       "      <td>77</td>\n",
       "      <td>97</td>\n",
       "    </tr>\n",
       "    <tr>\n",
       "      <th>Up</th>\n",
       "      <td>34</td>\n",
       "      <td>44</td>\n",
       "    </tr>\n",
       "  </tbody>\n",
       "</table>\n",
       "</div>"
      ],
      "text/plain": [
       "Direction  Down  Up\n",
       "pred               \n",
       "Down         77  97\n",
       "Up           34  44"
      ]
     },
     "execution_count": 23,
     "metadata": {},
     "output_type": "execute_result"
    }
   ],
   "source": [
    "pred = np.array(['Down']*252)\n",
    "pred[probs > 0.5] = 'Up'\n",
    "pred = pd.Series(pred, name='pred', index=probs.index)\n",
    "pd.crosstab(pred, Smarket.Direction)"
   ]
  },
  {
   "cell_type": "code",
   "execution_count": 24,
   "id": "0c1a6235-4e4b-4b0b-94c2-ea441e586d01",
   "metadata": {},
   "outputs": [
    {
     "data": {
      "text/plain": [
       "0.4801587301587302"
      ]
     },
     "execution_count": 24,
     "metadata": {},
     "output_type": "execute_result"
    }
   ],
   "source": [
    "np.mean(pred.values == Smarket[~train].Direction.values)"
   ]
  },
  {
   "cell_type": "code",
   "execution_count": 25,
   "id": "20ce4da8-c5ff-4ea3-bcba-fa5dfb9d0f70",
   "metadata": {},
   "outputs": [
    {
     "data": {
      "text/plain": [
       "0.5198412698412699"
      ]
     },
     "execution_count": 25,
     "metadata": {},
     "output_type": "execute_result"
    }
   ],
   "source": [
    "np.mean(pred.values != Smarket[~train].Direction.values)"
   ]
  },
  {
   "cell_type": "markdown",
   "id": "85204956",
   "metadata": {},
   "source": [
    "The `!=` notation means *not equal to*, and  so the last command computes the  test set error rate. The results are rather disappointing: the test error rate is $52$\\,\\%, which is worse than random guessing! Of course this result is not all that surprising, given that one would not generally expect to be able to  use previous days' returns to predict future market performance. (After all, if it were possible to do so, then the authors of this book would be out striking it rich rather than writing a statistics textbook.)\n",
    "\n",
    "We recall that the logistic regression model had very underwhelming $p$-values associated with all of the predictors, and that the smallest $p$-value, though not very small, corresponded to `lagone`. Perhaps by removing the variables that appear not  to be helpful in\n",
    "predicting\n",
    "`direction`, we can obtain a more effective model. After all, using predictors that have no relationship with the response tends to cause a deterioration in the test error rate (since such predictors cause an increase in variance without a corresponding decrease in bias), and so removing such predictors may in turn yield an improvement.\n",
    " Below we have refit the logistic regression using just `lagone` and `lagtwo`, which seemed to have the highest predictive power in the original logistic regression model."
   ]
  },
  {
   "cell_type": "code",
   "execution_count": 27,
   "id": "efb3717c-8652-484e-af9c-34da969dd6eb",
   "metadata": {},
   "outputs": [
    {
     "name": "stdout",
     "output_type": "stream",
     "text": [
      "Optimization terminated successfully.\n",
      "         Current function value: 0.692085\n",
      "         Iterations 3\n"
     ]
    },
    {
     "data": {
      "text/html": [
       "<div>\n",
       "<style scoped>\n",
       "    .dataframe tbody tr th:only-of-type {\n",
       "        vertical-align: middle;\n",
       "    }\n",
       "\n",
       "    .dataframe tbody tr th {\n",
       "        vertical-align: top;\n",
       "    }\n",
       "\n",
       "    .dataframe thead th {\n",
       "        text-align: right;\n",
       "    }\n",
       "</style>\n",
       "<table border=\"1\" class=\"dataframe\">\n",
       "  <thead>\n",
       "    <tr style=\"text-align: right;\">\n",
       "      <th>Direction</th>\n",
       "      <th>Down</th>\n",
       "      <th>Up</th>\n",
       "    </tr>\n",
       "    <tr>\n",
       "      <th>pred</th>\n",
       "      <th></th>\n",
       "      <th></th>\n",
       "    </tr>\n",
       "  </thead>\n",
       "  <tbody>\n",
       "    <tr>\n",
       "      <th>Down</th>\n",
       "      <td>35</td>\n",
       "      <td>35</td>\n",
       "    </tr>\n",
       "    <tr>\n",
       "      <th>Up</th>\n",
       "      <td>76</td>\n",
       "      <td>106</td>\n",
       "    </tr>\n",
       "  </tbody>\n",
       "</table>\n",
       "</div>"
      ],
      "text/plain": [
       "Direction  Down   Up\n",
       "pred                \n",
       "Down         35   35\n",
       "Up           76  106"
      ]
     },
     "execution_count": 27,
     "metadata": {},
     "output_type": "execute_result"
    }
   ],
   "source": [
    "X_train = X[['const', 'Lag1', 'Lag2']][train]\n",
    "X_test = X[['const', 'Lag1', 'Lag2']][~train]\n",
    "log_model = sm.Logit(y_train, X_train).fit()\n",
    "probs = log_model.predict(X_test)\n",
    "pred = np.array(['Down']*252)\n",
    "pred[probs > 0.5] = 'Up'\n",
    "pred = pd.Series(pred, name='pred', index=probs.index)\n",
    "pd.crosstab(pred, Smarket.Direction)"
   ]
  },
  {
   "cell_type": "code",
   "execution_count": 28,
   "id": "aaaad7a6-9cc8-4494-bdcd-92155bc3e911",
   "metadata": {},
   "outputs": [
    {
     "data": {
      "text/plain": [
       "0.5595238095238095"
      ]
     },
     "execution_count": 28,
     "metadata": {},
     "output_type": "execute_result"
    }
   ],
   "source": [
    "np.mean(pred.values == Smarket[~train].Direction.values)"
   ]
  },
  {
   "cell_type": "code",
   "execution_count": 29,
   "id": "084262ce-6b3f-4ead-bac2-2f8b5acb2481",
   "metadata": {},
   "outputs": [
    {
     "data": {
      "text/plain": [
       "0.5824175824175825"
      ]
     },
     "execution_count": 29,
     "metadata": {},
     "output_type": "execute_result"
    }
   ],
   "source": [
    "106 / (106 + 76)"
   ]
  },
  {
   "cell_type": "markdown",
   "id": "26ec9d8c",
   "metadata": {},
   "source": [
    "Now the results appear to be a little better: $56\\%$ of the daily movements have been correctly predicted. It is worth noting that in this case, a much simpler strategy of predicting that the market will increase every day will also be correct $56\\%$ of the time! Hence, in terms of overall error rate, the logistic regression method is no better than the naive approach. However, the confusion matrix shows that on days when logistic regression predicts an increase in the market, it has a $58\\%$ accuracy rate. This suggests a possible trading strategy of buying on days when the model predicts an increasing market, and avoiding trades on days when a decrease is predicted. Of course one would need to investigate more carefully whether this small improvement was real or just due to random chance."
   ]
  },
  {
   "cell_type": "markdown",
   "id": "99b0a9dc",
   "metadata": {},
   "source": [
    "Suppose that we want to predict the returns associated with particular values of `lagone` and `lagtwo`. In particular, we want to predict `direction` on a day when `lagone` and `lagtwo` equal 1.2 and~1.1, respectively, and  on a day when they equal  1.5 and $-$0.8.\n",
    "We do this using the `predict()` function."
   ]
  },
  {
   "cell_type": "code",
   "execution_count": 30,
   "id": "c2bc878a-692c-42a1-8614-0bd04854d7fd",
   "metadata": {},
   "outputs": [
    {
     "data": {
      "text/plain": [
       "0    0.479146\n",
       "1    0.496094\n",
       "dtype: float64"
      ]
     },
     "execution_count": 30,
     "metadata": {},
     "output_type": "execute_result"
    }
   ],
   "source": [
    "log_model.predict(pd.DataFrame({'const': [1, 1], 'Lag1': [1.2, 1.5], 'Lag2': [1.1, -0.8]}))"
   ]
  },
  {
   "cell_type": "markdown",
   "id": "1575461a",
   "metadata": {},
   "source": [
    "## Linear Discriminant Analysis\n",
    "\n",
    "Now we will perform LDA on the `Smarket` data. In `R`, we fit an LDA model using Scikit-Learn."
   ]
  },
  {
   "cell_type": "code",
   "execution_count": 31,
   "id": "c9bc1b58-539b-497c-8821-df539649ca0a",
   "metadata": {},
   "outputs": [],
   "source": [
    "from sklearn.discriminant_analysis import LinearDiscriminantAnalysis as LDA"
   ]
  },
  {
   "cell_type": "code",
   "execution_count": 35,
   "id": "8842b326-68f5-43c7-ba3c-5c9520be3ab0",
   "metadata": {},
   "outputs": [],
   "source": [
    "# Scikit-Learn does not require to manually add the constant term\n",
    "X_train = Smarket[['Lag1', 'Lag2']][train]\n",
    "X_test = Smarket[['Lag1', 'Lag2']][~train]"
   ]
  },
  {
   "cell_type": "code",
   "execution_count": 36,
   "id": "fe28ae15-d057-4a19-acf2-750e20af9b4a",
   "metadata": {},
   "outputs": [],
   "source": [
    "lda = LDA().fit(X_train, y_train)"
   ]
  },
  {
   "cell_type": "code",
   "execution_count": 37,
   "id": "5163cf71-fe52-4fca-bd5a-c5d842764373",
   "metadata": {},
   "outputs": [
    {
     "name": "stdout",
     "output_type": "stream",
     "text": [
      "Prior probabilities of groups:\n",
      "Down   Up\n",
      "[0 1]\n",
      "[0.49198397 0.50801603]\n"
     ]
    }
   ],
   "source": [
    "print('Prior probabilities of groups:')\n",
    "print('Down   Up')\n",
    "print(lda.classes_)\n",
    "print(lda.priors_)"
   ]
  },
  {
   "cell_type": "code",
   "execution_count": 38,
   "id": "bdde22cd-2f6c-4879-8339-9a43fb00c870",
   "metadata": {},
   "outputs": [
    {
     "name": "stdout",
     "output_type": "stream",
     "text": [
      "Group means:\n"
     ]
    },
    {
     "data": {
      "text/html": [
       "<div>\n",
       "<style scoped>\n",
       "    .dataframe tbody tr th:only-of-type {\n",
       "        vertical-align: middle;\n",
       "    }\n",
       "\n",
       "    .dataframe tbody tr th {\n",
       "        vertical-align: top;\n",
       "    }\n",
       "\n",
       "    .dataframe thead th {\n",
       "        text-align: right;\n",
       "    }\n",
       "</style>\n",
       "<table border=\"1\" class=\"dataframe\">\n",
       "  <thead>\n",
       "    <tr style=\"text-align: right;\">\n",
       "      <th></th>\n",
       "      <th>Lag1</th>\n",
       "      <th>Lag2</th>\n",
       "    </tr>\n",
       "  </thead>\n",
       "  <tbody>\n",
       "    <tr>\n",
       "      <th>Down</th>\n",
       "      <td>0.042790</td>\n",
       "      <td>0.033894</td>\n",
       "    </tr>\n",
       "    <tr>\n",
       "      <th>Up</th>\n",
       "      <td>-0.039546</td>\n",
       "      <td>-0.031325</td>\n",
       "    </tr>\n",
       "  </tbody>\n",
       "</table>\n",
       "</div>"
      ],
      "text/plain": [
       "          Lag1      Lag2\n",
       "Down  0.042790  0.033894\n",
       "Up   -0.039546 -0.031325"
      ]
     },
     "execution_count": 38,
     "metadata": {},
     "output_type": "execute_result"
    }
   ],
   "source": [
    "print('Group means:')\n",
    "pd.DataFrame(lda.means_, columns=['Lag1', 'Lag2'], index=['Down', 'Up'])"
   ]
  },
  {
   "cell_type": "code",
   "execution_count": 39,
   "id": "b0e7c472-b056-4177-8a4f-bfa4e5aa7c73",
   "metadata": {},
   "outputs": [
    {
     "name": "stdout",
     "output_type": "stream",
     "text": [
      "Coefficients and intercept of the linear log probability\n"
     ]
    },
    {
     "data": {
      "text/plain": [
       "(array([[-0.05544078, -0.0443452 ]]), array([0.03221375]))"
      ]
     },
     "execution_count": 39,
     "metadata": {},
     "output_type": "execute_result"
    }
   ],
   "source": [
    "print('Coefficients and intercept of the linear log probability')\n",
    "lda.coef_, lda.intercept_"
   ]
  },
  {
   "cell_type": "markdown",
   "id": "ea992c61",
   "metadata": {},
   "source": [
    "The LDA output indicates that $\\hat\\pi_1=0.492$ and $\\hat\\pi_2=0.508$; in other words, $49.2$\\,\\% of the training observations correspond to days during which the market went down.\n",
    " It also provides the group means; these are the average of each predictor within each class, and are used by LDA as estimates of $\\mu_k$.\n",
    " These suggest that there is a tendency for the previous 2~days' returns to be negative on days when the market increases, and a tendency for the previous days' returns to be positive on days when the market declines.\n",
    "  The *coefficients of linear discriminants* output provides the linear combination of `lagone` and `lagtwo` that are used to form the LDA decision rule, toguether with the intercept, they give the log posteriori probabilioty (up to a constatn) for each class. In other words, these are the multipliers of the elements of $X=x$ in ( 4.24)."
   ]
  },
  {
   "cell_type": "markdown",
   "id": "6a5eb9f6",
   "metadata": {},
   "source": [
    "The `predict()` function returns LDA's predictions about the movement of the market."
   ]
  },
  {
   "cell_type": "code",
   "execution_count": 41,
   "id": "270c208b-a0e5-4c44-bcdc-bafb844e8d16",
   "metadata": {},
   "outputs": [
    {
     "data": {
      "text/plain": [
       "array([1, 1, 1, 1, 1, 1, 1, 1, 1, 1], dtype=int8)"
      ]
     },
     "execution_count": 41,
     "metadata": {},
     "output_type": "execute_result"
    }
   ],
   "source": [
    "lda.predict(X_test)[:10]"
   ]
  },
  {
   "cell_type": "markdown",
   "id": "e3224fe1-d0f8-47bd-8397-59a571b5ac64",
   "metadata": {},
   "source": [
    "The `predict_proba()` function returns a matrix whose $k$th column contains the posterior probability that the corresponding observation belongs to the $k$th class."
   ]
  },
  {
   "cell_type": "code",
   "execution_count": 42,
   "id": "fd9aec07-1855-47df-b0d5-af4d6ff6bd01",
   "metadata": {},
   "outputs": [
    {
     "data": {
      "text/plain": [
       "array([[0.49017925, 0.50982075],\n",
       "       [0.4792185 , 0.5207815 ],\n",
       "       [0.46681848, 0.53318152],\n",
       "       [0.47400107, 0.52599893],\n",
       "       [0.49278766, 0.50721234],\n",
       "       [0.49385615, 0.50614385],\n",
       "       [0.49510156, 0.50489844],\n",
       "       [0.4872861 , 0.5127139 ],\n",
       "       [0.49070135, 0.50929865],\n",
       "       [0.48440262, 0.51559738]])"
      ]
     },
     "execution_count": 42,
     "metadata": {},
     "output_type": "execute_result"
    }
   ],
   "source": [
    "lda.predict_proba(X_test)[:10]"
   ]
  },
  {
   "cell_type": "markdown",
   "id": "195e1b57-a0d8-4229-b20b-9b7e4be8a386",
   "metadata": {},
   "source": [
    "The `decision_function()` contains the linear discriminants, described earlier. In a binary classification setting this instead corresponds to the difference between log likelihoods."
   ]
  },
  {
   "cell_type": "code",
   "execution_count": 43,
   "id": "7f15c45a-90a5-45a1-b8b4-d40f220c79fe",
   "metadata": {},
   "outputs": [
    {
     "data": {
      "text/plain": [
       "array([0.03928805, 0.08317392, 0.13292144, 0.1040896 , 0.02885135,\n",
       "       0.02457662, 0.01959437, 0.05086657, 0.03719889, 0.06240975])"
      ]
     },
     "execution_count": 43,
     "metadata": {},
     "output_type": "execute_result"
    }
   ],
   "source": [
    "lda.decision_function(X_test)[:10]"
   ]
  },
  {
   "cell_type": "code",
   "execution_count": 44,
   "id": "06b61742-ecc9-4643-9364-c6c9a5cc4a7b",
   "metadata": {},
   "outputs": [
    {
     "data": {
      "text/plain": [
       "array([[0.03928805, 0.08317392, 0.13292144, 0.1040896 , 0.02885135,\n",
       "        0.02457662, 0.01959437, 0.05086657, 0.03719889, 0.06240975]])"
      ]
     },
     "execution_count": 44,
     "metadata": {},
     "output_type": "execute_result"
    }
   ],
   "source": [
    "lda.coef_ @ X_test[:10].values.T + lda.intercept_"
   ]
  },
  {
   "cell_type": "markdown",
   "id": "bbd108fa",
   "metadata": {},
   "source": [
    "As we observed in Section 4.5, the LDA and logistic regression predictions are almost identical."
   ]
  },
  {
   "cell_type": "code",
   "execution_count": 45,
   "id": "7b98fae2-ebf9-4f7b-bf37-8c8425dc995d",
   "metadata": {},
   "outputs": [
    {
     "data": {
      "text/html": [
       "<div>\n",
       "<style scoped>\n",
       "    .dataframe tbody tr th:only-of-type {\n",
       "        vertical-align: middle;\n",
       "    }\n",
       "\n",
       "    .dataframe tbody tr th {\n",
       "        vertical-align: top;\n",
       "    }\n",
       "\n",
       "    .dataframe thead th {\n",
       "        text-align: right;\n",
       "    }\n",
       "</style>\n",
       "<table border=\"1\" class=\"dataframe\">\n",
       "  <thead>\n",
       "    <tr style=\"text-align: right;\">\n",
       "      <th>Direction_code</th>\n",
       "      <th>0</th>\n",
       "      <th>1</th>\n",
       "      <th>All</th>\n",
       "    </tr>\n",
       "    <tr>\n",
       "      <th>row_0</th>\n",
       "      <th></th>\n",
       "      <th></th>\n",
       "      <th></th>\n",
       "    </tr>\n",
       "  </thead>\n",
       "  <tbody>\n",
       "    <tr>\n",
       "      <th>0</th>\n",
       "      <td>35</td>\n",
       "      <td>35</td>\n",
       "      <td>70</td>\n",
       "    </tr>\n",
       "    <tr>\n",
       "      <th>1</th>\n",
       "      <td>76</td>\n",
       "      <td>106</td>\n",
       "      <td>182</td>\n",
       "    </tr>\n",
       "    <tr>\n",
       "      <th>All</th>\n",
       "      <td>111</td>\n",
       "      <td>141</td>\n",
       "      <td>252</td>\n",
       "    </tr>\n",
       "  </tbody>\n",
       "</table>\n",
       "</div>"
      ],
      "text/plain": [
       "Direction_code    0    1  All\n",
       "row_0                        \n",
       "0                35   35   70\n",
       "1                76  106  182\n",
       "All             111  141  252"
      ]
     },
     "execution_count": 45,
     "metadata": {},
     "output_type": "execute_result"
    }
   ],
   "source": [
    "pred = lda.predict(X_test)\n",
    "pd.crosstab(pred, y_test, margins=True)"
   ]
  },
  {
   "cell_type": "code",
   "execution_count": 46,
   "id": "d3da8b7e-5b9f-4883-b1de-dc4fdfedc3a2",
   "metadata": {},
   "outputs": [
    {
     "data": {
      "text/plain": [
       "0.5595238095238095"
      ]
     },
     "execution_count": 46,
     "metadata": {},
     "output_type": "execute_result"
    }
   ],
   "source": [
    "np.mean(pred == y_test)"
   ]
  },
  {
   "cell_type": "markdown",
   "id": "258b2935",
   "metadata": {},
   "source": [
    "Applying a $50$\\,\\% threshold to the posterior probabilities allows us to recreate the predictions contained in `lda.pred$class`."
   ]
  },
  {
   "cell_type": "code",
   "execution_count": 47,
   "id": "0b141843-6a2d-4b31-a7c7-8bd9f827ca14",
   "metadata": {},
   "outputs": [
    {
     "data": {
      "text/plain": [
       "182"
      ]
     },
     "execution_count": 47,
     "metadata": {},
     "output_type": "execute_result"
    }
   ],
   "source": [
    "probs = lda.predict_proba(X_test)[:,1]\n",
    "(probs >= 0.5).sum()"
   ]
  },
  {
   "cell_type": "code",
   "execution_count": 48,
   "id": "b29db5df-1a36-4b57-accc-89bb4f6d4070",
   "metadata": {},
   "outputs": [
    {
     "data": {
      "text/plain": [
       "70"
      ]
     },
     "execution_count": 48,
     "metadata": {},
     "output_type": "execute_result"
    }
   ],
   "source": [
    "(probs < 0.5).sum()"
   ]
  },
  {
   "cell_type": "markdown",
   "id": "d634b820",
   "metadata": {},
   "source": [
    "If we wanted to use a posterior probability threshold other than $50$\\,\\% in order to make predictions, then we could easily do so. For instance, suppose that we wish to predict a market decrease only if we are very certain that the market will indeed decrease on that day---say, if the posterior probability\n",
    "is at most $10$\\,\\%."
   ]
  },
  {
   "cell_type": "code",
   "execution_count": 49,
   "id": "5e4c77ca",
   "metadata": {
    "name": "chunk19"
   },
   "outputs": [
    {
     "data": {
      "text/plain": [
       "0"
      ]
     },
     "execution_count": 49,
     "metadata": {},
     "output_type": "execute_result"
    }
   ],
   "source": [
    "sum(probs < 0.1)"
   ]
  },
  {
   "cell_type": "markdown",
   "id": "381c1169",
   "metadata": {},
   "source": [
    "No days in 2005 meet that threshold! In fact, the greatest posterior probability of decrease in all of 2005 was $52.02$\\,\\%.\n",
    "\n",
    "## Quadratic Discriminant Analysis\n",
    "\n",
    "We will now fit a QDA model to the `Smarket` data. QDA is  implemented in `Scikit-Learn`."
   ]
  },
  {
   "cell_type": "code",
   "execution_count": 50,
   "id": "d9e000da-c52a-4fb4-8890-8e7f6c9ec7f5",
   "metadata": {},
   "outputs": [],
   "source": [
    "from sklearn.discriminant_analysis import QuadraticDiscriminantAnalysis as QDA"
   ]
  },
  {
   "cell_type": "code",
   "execution_count": 51,
   "id": "2644f2cf-e4bd-4b2e-a0ad-09bd08f9e420",
   "metadata": {},
   "outputs": [],
   "source": [
    "qda = QDA().fit(X_train, y_train)"
   ]
  },
  {
   "cell_type": "code",
   "execution_count": 52,
   "id": "4ab014e4-25e1-4c56-bea3-e127fe6379f0",
   "metadata": {},
   "outputs": [
    {
     "name": "stdout",
     "output_type": "stream",
     "text": [
      "Prior probabilities of groups:\n",
      "Down   Up\n",
      "[0 1]\n",
      "[0.49198397 0.50801603]\n"
     ]
    }
   ],
   "source": [
    "print('Prior probabilities of groups:')\n",
    "print('Down   Up')\n",
    "print(qda.classes_)\n",
    "print(qda.priors_)"
   ]
  },
  {
   "cell_type": "code",
   "execution_count": 53,
   "id": "d5ab7cb6-86b0-4913-aa42-19e1f45222ba",
   "metadata": {},
   "outputs": [
    {
     "name": "stdout",
     "output_type": "stream",
     "text": [
      "Group means:\n"
     ]
    },
    {
     "data": {
      "text/html": [
       "<div>\n",
       "<style scoped>\n",
       "    .dataframe tbody tr th:only-of-type {\n",
       "        vertical-align: middle;\n",
       "    }\n",
       "\n",
       "    .dataframe tbody tr th {\n",
       "        vertical-align: top;\n",
       "    }\n",
       "\n",
       "    .dataframe thead th {\n",
       "        text-align: right;\n",
       "    }\n",
       "</style>\n",
       "<table border=\"1\" class=\"dataframe\">\n",
       "  <thead>\n",
       "    <tr style=\"text-align: right;\">\n",
       "      <th></th>\n",
       "      <th>Lag1</th>\n",
       "      <th>Lag2</th>\n",
       "    </tr>\n",
       "  </thead>\n",
       "  <tbody>\n",
       "    <tr>\n",
       "      <th>Down</th>\n",
       "      <td>0.042790</td>\n",
       "      <td>0.033894</td>\n",
       "    </tr>\n",
       "    <tr>\n",
       "      <th>Up</th>\n",
       "      <td>-0.039546</td>\n",
       "      <td>-0.031325</td>\n",
       "    </tr>\n",
       "  </tbody>\n",
       "</table>\n",
       "</div>"
      ],
      "text/plain": [
       "          Lag1      Lag2\n",
       "Down  0.042790  0.033894\n",
       "Up   -0.039546 -0.031325"
      ]
     },
     "execution_count": 53,
     "metadata": {},
     "output_type": "execute_result"
    }
   ],
   "source": [
    "print('Group means:')\n",
    "pd.DataFrame(qda.means_, columns=['Lag1', 'Lag2'], index=['Down', 'Up'])"
   ]
  },
  {
   "cell_type": "markdown",
   "id": "69d1414f",
   "metadata": {},
   "source": [
    "The `predict()` function works in exactly the same fashion as for LDA."
   ]
  },
  {
   "cell_type": "code",
   "execution_count": 54,
   "id": "7c6102f5-e779-4341-af5c-fac21842ab36",
   "metadata": {},
   "outputs": [
    {
     "data": {
      "text/html": [
       "<div>\n",
       "<style scoped>\n",
       "    .dataframe tbody tr th:only-of-type {\n",
       "        vertical-align: middle;\n",
       "    }\n",
       "\n",
       "    .dataframe tbody tr th {\n",
       "        vertical-align: top;\n",
       "    }\n",
       "\n",
       "    .dataframe thead th {\n",
       "        text-align: right;\n",
       "    }\n",
       "</style>\n",
       "<table border=\"1\" class=\"dataframe\">\n",
       "  <thead>\n",
       "    <tr style=\"text-align: right;\">\n",
       "      <th>Direction_code</th>\n",
       "      <th>0</th>\n",
       "      <th>1</th>\n",
       "      <th>All</th>\n",
       "    </tr>\n",
       "    <tr>\n",
       "      <th>row_0</th>\n",
       "      <th></th>\n",
       "      <th></th>\n",
       "      <th></th>\n",
       "    </tr>\n",
       "  </thead>\n",
       "  <tbody>\n",
       "    <tr>\n",
       "      <th>0</th>\n",
       "      <td>30</td>\n",
       "      <td>20</td>\n",
       "      <td>50</td>\n",
       "    </tr>\n",
       "    <tr>\n",
       "      <th>1</th>\n",
       "      <td>81</td>\n",
       "      <td>121</td>\n",
       "      <td>202</td>\n",
       "    </tr>\n",
       "    <tr>\n",
       "      <th>All</th>\n",
       "      <td>111</td>\n",
       "      <td>141</td>\n",
       "      <td>252</td>\n",
       "    </tr>\n",
       "  </tbody>\n",
       "</table>\n",
       "</div>"
      ],
      "text/plain": [
       "Direction_code    0    1  All\n",
       "row_0                        \n",
       "0                30   20   50\n",
       "1                81  121  202\n",
       "All             111  141  252"
      ]
     },
     "execution_count": 54,
     "metadata": {},
     "output_type": "execute_result"
    }
   ],
   "source": [
    "pred = qda.predict(X_test)\n",
    "pd.crosstab(pred, y_test, margins=True)"
   ]
  },
  {
   "cell_type": "code",
   "execution_count": 55,
   "id": "d5a5605d-548f-4cfa-80c7-828a82da865b",
   "metadata": {},
   "outputs": [
    {
     "data": {
      "text/plain": [
       "0.5992063492063492"
      ]
     },
     "execution_count": 55,
     "metadata": {},
     "output_type": "execute_result"
    }
   ],
   "source": [
    "np.mean(pred == y_test)"
   ]
  },
  {
   "cell_type": "markdown",
   "id": "2ee4b83c",
   "metadata": {},
   "source": [
    "Interestingly, the QDA predictions are accurate almost $60$\\,\\% of the time, even though the 2005 data was not used  to fit the model. This level of accuracy is quite impressive for stock market data, which is known to be quite hard to model accurately.\n",
    "This  suggests that the quadratic form assumed by QDA may capture the true relationship more accurately than the linear forms assumed by LDA and logistic regression.\n",
    " However, we recommend evaluating this method's performance on a larger test set  before betting  that this approach will consistently beat the market!\n",
    "\n",
    "## Naive Bayes\n",
    "\n",
    "Next, we fit a naive Bayes model to the `Smarket` data. Naive Bayes is implemented in `Scikit-Learn` using the `GaussianNB()` function.\n",
    "By default, this implementation of the naive Bayes classifier models each quantitative feature using a Gaussian distribution. However, other functions for Naive Bayes under different distributions are also available, see the Scikit-Learn documentation."
   ]
  },
  {
   "cell_type": "code",
   "execution_count": 56,
   "id": "ddbbbe5f-f86a-49cb-9597-9871675654c3",
   "metadata": {},
   "outputs": [],
   "source": [
    "from sklearn.naive_bayes import GaussianNB as GNB"
   ]
  },
  {
   "cell_type": "code",
   "execution_count": 57,
   "id": "b9826c7f-2bda-473c-b38c-2fc810c93f7b",
   "metadata": {},
   "outputs": [],
   "source": [
    "nb = GNB().fit(X_train, y_train)"
   ]
  },
  {
   "cell_type": "code",
   "execution_count": 58,
   "id": "16540a64-5ff1-4f9f-b0f9-8ead57dfa8ec",
   "metadata": {},
   "outputs": [
    {
     "name": "stdout",
     "output_type": "stream",
     "text": [
      "Prior probabilities of groups:\n",
      "Down   Up\n",
      "[0 1]\n",
      "[0.49198397 0.50801603]\n"
     ]
    }
   ],
   "source": [
    "print('Prior probabilities of groups:')\n",
    "print('Down   Up')\n",
    "print(nb.classes_)\n",
    "print(nb.class_prior_)"
   ]
  },
  {
   "cell_type": "code",
   "execution_count": 59,
   "id": "1c2bb887-76e1-4bf3-b46c-d72fd3f17a85",
   "metadata": {},
   "outputs": [
    {
     "name": "stdout",
     "output_type": "stream",
     "text": [
      "Conditional probabilities mean values:\n"
     ]
    },
    {
     "data": {
      "text/html": [
       "<div>\n",
       "<style scoped>\n",
       "    .dataframe tbody tr th:only-of-type {\n",
       "        vertical-align: middle;\n",
       "    }\n",
       "\n",
       "    .dataframe tbody tr th {\n",
       "        vertical-align: top;\n",
       "    }\n",
       "\n",
       "    .dataframe thead th {\n",
       "        text-align: right;\n",
       "    }\n",
       "</style>\n",
       "<table border=\"1\" class=\"dataframe\">\n",
       "  <thead>\n",
       "    <tr style=\"text-align: right;\">\n",
       "      <th></th>\n",
       "      <th>Lag1</th>\n",
       "      <th>Lag2</th>\n",
       "    </tr>\n",
       "  </thead>\n",
       "  <tbody>\n",
       "    <tr>\n",
       "      <th>Down</th>\n",
       "      <td>0.042790</td>\n",
       "      <td>0.033894</td>\n",
       "    </tr>\n",
       "    <tr>\n",
       "      <th>Up</th>\n",
       "      <td>-0.039546</td>\n",
       "      <td>-0.031325</td>\n",
       "    </tr>\n",
       "  </tbody>\n",
       "</table>\n",
       "</div>"
      ],
      "text/plain": [
       "          Lag1      Lag2\n",
       "Down  0.042790  0.033894\n",
       "Up   -0.039546 -0.031325"
      ]
     },
     "execution_count": 59,
     "metadata": {},
     "output_type": "execute_result"
    }
   ],
   "source": [
    "print('Conditional probabilities mean values:')\n",
    "pd.DataFrame(nb.theta_, columns=X_train.columns, index=['Down', 'Up'])"
   ]
  },
  {
   "cell_type": "code",
   "execution_count": 216,
   "id": "a34732f8-e2d7-4735-a255-89ddf6a601aa",
   "metadata": {},
   "outputs": [
    {
     "name": "stdout",
     "output_type": "stream",
     "text": [
      "Conditional probabilities std:\n"
     ]
    },
    {
     "data": {
      "text/html": [
       "<div>\n",
       "<style scoped>\n",
       "    .dataframe tbody tr th:only-of-type {\n",
       "        vertical-align: middle;\n",
       "    }\n",
       "\n",
       "    .dataframe tbody tr th {\n",
       "        vertical-align: top;\n",
       "    }\n",
       "\n",
       "    .dataframe thead th {\n",
       "        text-align: right;\n",
       "    }\n",
       "</style>\n",
       "<table border=\"1\" class=\"dataframe\">\n",
       "  <thead>\n",
       "    <tr style=\"text-align: right;\">\n",
       "      <th></th>\n",
       "      <th>Lag1</th>\n",
       "      <th>Lag2</th>\n",
       "    </tr>\n",
       "  </thead>\n",
       "  <tbody>\n",
       "    <tr>\n",
       "      <th>Down</th>\n",
       "      <td>1.226195</td>\n",
       "      <td>1.237929</td>\n",
       "    </tr>\n",
       "    <tr>\n",
       "      <th>Up</th>\n",
       "      <td>1.230453</td>\n",
       "      <td>1.219561</td>\n",
       "    </tr>\n",
       "  </tbody>\n",
       "</table>\n",
       "</div>"
      ],
      "text/plain": [
       "          Lag1      Lag2\n",
       "Down  1.226195  1.237929\n",
       "Up    1.230453  1.219561"
      ]
     },
     "execution_count": 216,
     "metadata": {},
     "output_type": "execute_result"
    }
   ],
   "source": [
    "print('Conditional probabilities std:')\n",
    "pd.DataFrame(np.sqrt(nb.var_), columns=X_train.columns, index=['Down', 'Up'])"
   ]
  },
  {
   "cell_type": "markdown",
   "id": "b319a3e0",
   "metadata": {},
   "source": [
    "The output  contains the estimated mean and standard deviation for each variable in each class. For example, the mean for `lagone` is $0.0428$ for \n",
    "\n",
    "  `Direction=Down`, and the standard deviation is $1.23$. We can easily verify this:"
   ]
  },
  {
   "cell_type": "code",
   "execution_count": 60,
   "id": "521385c2",
   "metadata": {
    "name": "chunk23"
   },
   "outputs": [
    {
     "data": {
      "text/plain": [
       "0.04279022403258655"
      ]
     },
     "execution_count": 60,
     "metadata": {},
     "output_type": "execute_result"
    }
   ],
   "source": [
    "np.mean(X_train.Lag1.values[y_train == 0])"
   ]
  },
  {
   "cell_type": "code",
   "execution_count": 61,
   "id": "512bb7b9-f080-450a-b3e5-ce0fc88bf525",
   "metadata": {},
   "outputs": [
    {
     "data": {
      "text/plain": [
       "1.226195046492573"
      ]
     },
     "execution_count": 61,
     "metadata": {},
     "output_type": "execute_result"
    }
   ],
   "source": [
    "np.std(X_train.Lag1.values[y_train == 0])"
   ]
  },
  {
   "cell_type": "markdown",
   "id": "0e84db77",
   "metadata": {},
   "source": [
    "The `predict()` function is straightforward."
   ]
  },
  {
   "cell_type": "code",
   "execution_count": 62,
   "id": "ea1df43f-102a-4bb5-8ac6-6290bbf0fc24",
   "metadata": {},
   "outputs": [
    {
     "data": {
      "text/html": [
       "<div>\n",
       "<style scoped>\n",
       "    .dataframe tbody tr th:only-of-type {\n",
       "        vertical-align: middle;\n",
       "    }\n",
       "\n",
       "    .dataframe tbody tr th {\n",
       "        vertical-align: top;\n",
       "    }\n",
       "\n",
       "    .dataframe thead th {\n",
       "        text-align: right;\n",
       "    }\n",
       "</style>\n",
       "<table border=\"1\" class=\"dataframe\">\n",
       "  <thead>\n",
       "    <tr style=\"text-align: right;\">\n",
       "      <th>Direction_code</th>\n",
       "      <th>0</th>\n",
       "      <th>1</th>\n",
       "      <th>All</th>\n",
       "    </tr>\n",
       "    <tr>\n",
       "      <th>row_0</th>\n",
       "      <th></th>\n",
       "      <th></th>\n",
       "      <th></th>\n",
       "    </tr>\n",
       "  </thead>\n",
       "  <tbody>\n",
       "    <tr>\n",
       "      <th>0</th>\n",
       "      <td>29</td>\n",
       "      <td>20</td>\n",
       "      <td>49</td>\n",
       "    </tr>\n",
       "    <tr>\n",
       "      <th>1</th>\n",
       "      <td>82</td>\n",
       "      <td>121</td>\n",
       "      <td>203</td>\n",
       "    </tr>\n",
       "    <tr>\n",
       "      <th>All</th>\n",
       "      <td>111</td>\n",
       "      <td>141</td>\n",
       "      <td>252</td>\n",
       "    </tr>\n",
       "  </tbody>\n",
       "</table>\n",
       "</div>"
      ],
      "text/plain": [
       "Direction_code    0    1  All\n",
       "row_0                        \n",
       "0                29   20   49\n",
       "1                82  121  203\n",
       "All             111  141  252"
      ]
     },
     "execution_count": 62,
     "metadata": {},
     "output_type": "execute_result"
    }
   ],
   "source": [
    "pred = nb.predict(X_test)\n",
    "pd.crosstab(pred, y_test, margins=True)"
   ]
  },
  {
   "cell_type": "code",
   "execution_count": 63,
   "id": "2604c015",
   "metadata": {
    "name": "chunk24"
   },
   "outputs": [
    {
     "data": {
      "text/plain": [
       "0.5952380952380952"
      ]
     },
     "execution_count": 63,
     "metadata": {},
     "output_type": "execute_result"
    }
   ],
   "source": [
    "np.mean(pred == y_test)"
   ]
  },
  {
   "cell_type": "markdown",
   "id": "97516daa",
   "metadata": {},
   "source": [
    "Naive Bayes performs very well on this data, with accurate predictions over $59\\%$ of the time. This is slightly worse than QDA, but much better than LDA.\n",
    "\n",
    "The `predict_proba()` function can also generate estimates of the probability that each observation belongs to a particular class. %"
   ]
  },
  {
   "cell_type": "code",
   "execution_count": 65,
   "id": "9a693ef0-b0d3-44d3-9e2f-c12bf3876488",
   "metadata": {},
   "outputs": [
    {
     "data": {
      "text/plain": [
       "array([[0.4873288 , 0.5126712 ],\n",
       "       [0.47623584, 0.52376416],\n",
       "       [0.46529531, 0.53470469],\n",
       "       [0.47484469, 0.52515531],\n",
       "       [0.49020587, 0.50979413]])"
      ]
     },
     "execution_count": 65,
     "metadata": {},
     "output_type": "execute_result"
    }
   ],
   "source": [
    "probs = nb.predict_proba(X_test)\n",
    "probs[:5]"
   ]
  },
  {
   "cell_type": "markdown",
   "id": "b03ffb10",
   "metadata": {},
   "source": [
    "## $K$-Nearest Neighbors\n",
    "\n",
    "We will now perform KNN using the `KNeighborsClassifier()` function, which is part of the `Scikit-Learn` library."
   ]
  },
  {
   "cell_type": "code",
   "execution_count": 66,
   "id": "84585ba9-9b68-4602-86ad-8a71fd1c4736",
   "metadata": {},
   "outputs": [],
   "source": [
    "from sklearn.preprocessing import StandardScaler\n",
    "from sklearn.neighbors import KNeighborsClassifier as KNN"
   ]
  },
  {
   "cell_type": "code",
   "execution_count": 67,
   "id": "5714e345-83a8-4303-8a35-118e27b24600",
   "metadata": {},
   "outputs": [],
   "source": [
    "knn = KNN(n_neighbors=1).fit(X_train, y_train)"
   ]
  },
  {
   "cell_type": "code",
   "execution_count": 68,
   "id": "226c00b8-4a4b-4da1-8c27-54282428f39d",
   "metadata": {},
   "outputs": [
    {
     "data": {
      "text/html": [
       "<div>\n",
       "<style scoped>\n",
       "    .dataframe tbody tr th:only-of-type {\n",
       "        vertical-align: middle;\n",
       "    }\n",
       "\n",
       "    .dataframe tbody tr th {\n",
       "        vertical-align: top;\n",
       "    }\n",
       "\n",
       "    .dataframe thead th {\n",
       "        text-align: right;\n",
       "    }\n",
       "</style>\n",
       "<table border=\"1\" class=\"dataframe\">\n",
       "  <thead>\n",
       "    <tr style=\"text-align: right;\">\n",
       "      <th>Direction_code</th>\n",
       "      <th>0</th>\n",
       "      <th>1</th>\n",
       "    </tr>\n",
       "    <tr>\n",
       "      <th>row_0</th>\n",
       "      <th></th>\n",
       "      <th></th>\n",
       "    </tr>\n",
       "  </thead>\n",
       "  <tbody>\n",
       "    <tr>\n",
       "      <th>0</th>\n",
       "      <td>43</td>\n",
       "      <td>58</td>\n",
       "    </tr>\n",
       "    <tr>\n",
       "      <th>1</th>\n",
       "      <td>68</td>\n",
       "      <td>83</td>\n",
       "    </tr>\n",
       "  </tbody>\n",
       "</table>\n",
       "</div>"
      ],
      "text/plain": [
       "Direction_code   0   1\n",
       "row_0                 \n",
       "0               43  58\n",
       "1               68  83"
      ]
     },
     "execution_count": 68,
     "metadata": {},
     "output_type": "execute_result"
    }
   ],
   "source": [
    "pred = knn.predict(X_test)\n",
    "pd.crosstab(pred, y_test)"
   ]
  },
  {
   "cell_type": "code",
   "execution_count": 69,
   "id": "de8f4708-3b18-4a77-82ab-0947e410be9c",
   "metadata": {},
   "outputs": [
    {
     "data": {
      "text/plain": [
       "0.5"
      ]
     },
     "execution_count": 69,
     "metadata": {},
     "output_type": "execute_result"
    }
   ],
   "source": [
    "(83 + 43) / 252"
   ]
  },
  {
   "cell_type": "markdown",
   "id": "4c3457a7",
   "metadata": {},
   "source": [
    "The results using $K=1$ are not very good,  since only $50$\\,\\% of the observations are correctly predicted. Of course, it may be that $K=1$ results in  an overly flexible fit to the data. Below, we repeat the analysis using $K=3$."
   ]
  },
  {
   "cell_type": "code",
   "execution_count": 70,
   "id": "31d14c4c-0e0d-4e6c-a79d-fd5c1c4cd989",
   "metadata": {},
   "outputs": [
    {
     "data": {
      "text/html": [
       "<div>\n",
       "<style scoped>\n",
       "    .dataframe tbody tr th:only-of-type {\n",
       "        vertical-align: middle;\n",
       "    }\n",
       "\n",
       "    .dataframe tbody tr th {\n",
       "        vertical-align: top;\n",
       "    }\n",
       "\n",
       "    .dataframe thead th {\n",
       "        text-align: right;\n",
       "    }\n",
       "</style>\n",
       "<table border=\"1\" class=\"dataframe\">\n",
       "  <thead>\n",
       "    <tr style=\"text-align: right;\">\n",
       "      <th>Direction_code</th>\n",
       "      <th>0</th>\n",
       "      <th>1</th>\n",
       "    </tr>\n",
       "    <tr>\n",
       "      <th>row_0</th>\n",
       "      <th></th>\n",
       "      <th></th>\n",
       "    </tr>\n",
       "  </thead>\n",
       "  <tbody>\n",
       "    <tr>\n",
       "      <th>0</th>\n",
       "      <td>48</td>\n",
       "      <td>55</td>\n",
       "    </tr>\n",
       "    <tr>\n",
       "      <th>1</th>\n",
       "      <td>63</td>\n",
       "      <td>86</td>\n",
       "    </tr>\n",
       "  </tbody>\n",
       "</table>\n",
       "</div>"
      ],
      "text/plain": [
       "Direction_code   0   1\n",
       "row_0                 \n",
       "0               48  55\n",
       "1               63  86"
      ]
     },
     "execution_count": 70,
     "metadata": {},
     "output_type": "execute_result"
    }
   ],
   "source": [
    "knn = KNN(n_neighbors=3).fit(X_train, y_train)\n",
    "pred = knn.predict(X_test)\n",
    "pd.crosstab(pred, y_test)"
   ]
  },
  {
   "cell_type": "code",
   "execution_count": 71,
   "id": "93d6a992-1768-4378-9c57-36fd4e8dd29a",
   "metadata": {},
   "outputs": [
    {
     "data": {
      "text/plain": [
       "0.5317460317460317"
      ]
     },
     "execution_count": 71,
     "metadata": {},
     "output_type": "execute_result"
    }
   ],
   "source": [
    "np.mean(pred == y_test)"
   ]
  },
  {
   "cell_type": "markdown",
   "id": "382f603c",
   "metadata": {},
   "source": [
    "The results have improved slightly. But increasing $K$ further turns out to provide no further improvements. It appears that for this data, QDA provides the best results of the methods that we have examined so far.\n",
    "\n"
   ]
  },
  {
   "cell_type": "markdown",
   "id": "5ae75ebd",
   "metadata": {},
   "source": [
    "KNN does not perform well on the `Smarket` data but it does often provide impressive results. As an example we will apply the KNN approach to the `Caravan` data set, which is part of the `ISLR2` library. This data set includes $85$ predictors that measure\n",
    " demographic characteristics for 5,822 individuals. The response variable is `Purchase`, which indicates whether or not a given individual purchases a caravan insurance policy. In this data set, only $6$\\,\\% of people purchased caravan  insurance.\n"
   ]
  },
  {
   "cell_type": "code",
   "execution_count": 72,
   "id": "abbcd5e0-2dfa-42e2-9fbd-7f3ecf1cde96",
   "metadata": {},
   "outputs": [
    {
     "data": {
      "text/html": [
       "<div>\n",
       "<style scoped>\n",
       "    .dataframe tbody tr th:only-of-type {\n",
       "        vertical-align: middle;\n",
       "    }\n",
       "\n",
       "    .dataframe tbody tr th {\n",
       "        vertical-align: top;\n",
       "    }\n",
       "\n",
       "    .dataframe thead th {\n",
       "        text-align: right;\n",
       "    }\n",
       "</style>\n",
       "<table border=\"1\" class=\"dataframe\">\n",
       "  <thead>\n",
       "    <tr style=\"text-align: right;\">\n",
       "      <th></th>\n",
       "      <th>MOSTYPE</th>\n",
       "      <th>MAANTHUI</th>\n",
       "      <th>MGEMOMV</th>\n",
       "      <th>MGEMLEEF</th>\n",
       "      <th>MOSHOOFD</th>\n",
       "      <th>MGODRK</th>\n",
       "      <th>MGODPR</th>\n",
       "      <th>MGODOV</th>\n",
       "      <th>MGODGE</th>\n",
       "      <th>MRELGE</th>\n",
       "      <th>...</th>\n",
       "      <th>APERSONG</th>\n",
       "      <th>AGEZONG</th>\n",
       "      <th>AWAOREG</th>\n",
       "      <th>ABRAND</th>\n",
       "      <th>AZEILPL</th>\n",
       "      <th>APLEZIER</th>\n",
       "      <th>AFIETS</th>\n",
       "      <th>AINBOED</th>\n",
       "      <th>ABYSTAND</th>\n",
       "      <th>Purchase</th>\n",
       "    </tr>\n",
       "  </thead>\n",
       "  <tbody>\n",
       "    <tr>\n",
       "      <th>0</th>\n",
       "      <td>33</td>\n",
       "      <td>1</td>\n",
       "      <td>3</td>\n",
       "      <td>2</td>\n",
       "      <td>8</td>\n",
       "      <td>0</td>\n",
       "      <td>5</td>\n",
       "      <td>1</td>\n",
       "      <td>3</td>\n",
       "      <td>7</td>\n",
       "      <td>...</td>\n",
       "      <td>0</td>\n",
       "      <td>0</td>\n",
       "      <td>0</td>\n",
       "      <td>1</td>\n",
       "      <td>0</td>\n",
       "      <td>0</td>\n",
       "      <td>0</td>\n",
       "      <td>0</td>\n",
       "      <td>0</td>\n",
       "      <td>No</td>\n",
       "    </tr>\n",
       "    <tr>\n",
       "      <th>1</th>\n",
       "      <td>37</td>\n",
       "      <td>1</td>\n",
       "      <td>2</td>\n",
       "      <td>2</td>\n",
       "      <td>8</td>\n",
       "      <td>1</td>\n",
       "      <td>4</td>\n",
       "      <td>1</td>\n",
       "      <td>4</td>\n",
       "      <td>6</td>\n",
       "      <td>...</td>\n",
       "      <td>0</td>\n",
       "      <td>0</td>\n",
       "      <td>0</td>\n",
       "      <td>1</td>\n",
       "      <td>0</td>\n",
       "      <td>0</td>\n",
       "      <td>0</td>\n",
       "      <td>0</td>\n",
       "      <td>0</td>\n",
       "      <td>No</td>\n",
       "    </tr>\n",
       "    <tr>\n",
       "      <th>2</th>\n",
       "      <td>37</td>\n",
       "      <td>1</td>\n",
       "      <td>2</td>\n",
       "      <td>2</td>\n",
       "      <td>8</td>\n",
       "      <td>0</td>\n",
       "      <td>4</td>\n",
       "      <td>2</td>\n",
       "      <td>4</td>\n",
       "      <td>3</td>\n",
       "      <td>...</td>\n",
       "      <td>0</td>\n",
       "      <td>0</td>\n",
       "      <td>0</td>\n",
       "      <td>1</td>\n",
       "      <td>0</td>\n",
       "      <td>0</td>\n",
       "      <td>0</td>\n",
       "      <td>0</td>\n",
       "      <td>0</td>\n",
       "      <td>No</td>\n",
       "    </tr>\n",
       "    <tr>\n",
       "      <th>3</th>\n",
       "      <td>9</td>\n",
       "      <td>1</td>\n",
       "      <td>3</td>\n",
       "      <td>3</td>\n",
       "      <td>3</td>\n",
       "      <td>2</td>\n",
       "      <td>3</td>\n",
       "      <td>2</td>\n",
       "      <td>4</td>\n",
       "      <td>5</td>\n",
       "      <td>...</td>\n",
       "      <td>0</td>\n",
       "      <td>0</td>\n",
       "      <td>0</td>\n",
       "      <td>1</td>\n",
       "      <td>0</td>\n",
       "      <td>0</td>\n",
       "      <td>0</td>\n",
       "      <td>0</td>\n",
       "      <td>0</td>\n",
       "      <td>No</td>\n",
       "    </tr>\n",
       "    <tr>\n",
       "      <th>4</th>\n",
       "      <td>40</td>\n",
       "      <td>1</td>\n",
       "      <td>4</td>\n",
       "      <td>2</td>\n",
       "      <td>10</td>\n",
       "      <td>1</td>\n",
       "      <td>4</td>\n",
       "      <td>1</td>\n",
       "      <td>4</td>\n",
       "      <td>7</td>\n",
       "      <td>...</td>\n",
       "      <td>0</td>\n",
       "      <td>0</td>\n",
       "      <td>0</td>\n",
       "      <td>1</td>\n",
       "      <td>0</td>\n",
       "      <td>0</td>\n",
       "      <td>0</td>\n",
       "      <td>0</td>\n",
       "      <td>0</td>\n",
       "      <td>No</td>\n",
       "    </tr>\n",
       "  </tbody>\n",
       "</table>\n",
       "<p>5 rows × 86 columns</p>\n",
       "</div>"
      ],
      "text/plain": [
       "   MOSTYPE  MAANTHUI  MGEMOMV  MGEMLEEF  MOSHOOFD  MGODRK  MGODPR  MGODOV  \\\n",
       "0       33         1        3         2         8       0       5       1   \n",
       "1       37         1        2         2         8       1       4       1   \n",
       "2       37         1        2         2         8       0       4       2   \n",
       "3        9         1        3         3         3       2       3       2   \n",
       "4       40         1        4         2        10       1       4       1   \n",
       "\n",
       "   MGODGE  MRELGE  ...  APERSONG  AGEZONG  AWAOREG  ABRAND  AZEILPL  APLEZIER  \\\n",
       "0       3       7  ...         0        0        0       1        0         0   \n",
       "1       4       6  ...         0        0        0       1        0         0   \n",
       "2       4       3  ...         0        0        0       1        0         0   \n",
       "3       4       5  ...         0        0        0       1        0         0   \n",
       "4       4       7  ...         0        0        0       1        0         0   \n",
       "\n",
       "   AFIETS  AINBOED  ABYSTAND  Purchase  \n",
       "0       0        0         0        No  \n",
       "1       0        0         0        No  \n",
       "2       0        0         0        No  \n",
       "3       0        0         0        No  \n",
       "4       0        0         0        No  \n",
       "\n",
       "[5 rows x 86 columns]"
      ]
     },
     "execution_count": 72,
     "metadata": {},
     "output_type": "execute_result"
    }
   ],
   "source": [
    "Caravan = pd.read_csv('data/Caravan.csv')\n",
    "Caravan.head()"
   ]
  },
  {
   "cell_type": "code",
   "execution_count": 73,
   "id": "55f1eaa7-1630-426a-93da-8a174e2e7945",
   "metadata": {},
   "outputs": [
    {
     "data": {
      "text/plain": [
       "(5822, 86)"
      ]
     },
     "execution_count": 73,
     "metadata": {},
     "output_type": "execute_result"
    }
   ],
   "source": [
    "Caravan.shape"
   ]
  },
  {
   "cell_type": "code",
   "execution_count": 74,
   "id": "33f55edf-56ac-4837-a400-8673a7a78f6c",
   "metadata": {},
   "outputs": [
    {
     "data": {
      "text/plain": [
       "count     5822\n",
       "unique       2\n",
       "top         No\n",
       "freq      5474\n",
       "Name: Purchase, dtype: object"
      ]
     },
     "execution_count": 74,
     "metadata": {},
     "output_type": "execute_result"
    }
   ],
   "source": [
    "Caravan.Purchase.describe()"
   ]
  },
  {
   "cell_type": "code",
   "execution_count": 75,
   "id": "68912ce9-460c-4b37-bbdd-8cbfccba565a",
   "metadata": {},
   "outputs": [
    {
     "data": {
      "text/plain": [
       "No     5474\n",
       "Yes     348\n",
       "Name: Purchase, dtype: int64"
      ]
     },
     "execution_count": 75,
     "metadata": {},
     "output_type": "execute_result"
    }
   ],
   "source": [
    "Caravan.Purchase.value_counts()"
   ]
  },
  {
   "cell_type": "code",
   "execution_count": 76,
   "id": "afcd32ca",
   "metadata": {
    "name": "chunk29"
   },
   "outputs": [
    {
     "data": {
      "text/plain": [
       "0.05977327378907592"
      ]
     },
     "execution_count": 76,
     "metadata": {},
     "output_type": "execute_result"
    }
   ],
   "source": [
    "348 / 5822"
   ]
  },
  {
   "cell_type": "markdown",
   "id": "a08d1df1",
   "metadata": {},
   "source": [
    "Because the KNN classifier predicts the class of a given test observation by identifying the observations that are nearest to it, the scale of the variables matters. Variables that are on a large scale will have a much larger effect\n",
    " on the *distance* between the observations, and hence\n",
    "on the KNN classifier, than variables that are on a small scale. For instance, imagine a data set that contains two variables, `salary` and `age` (measured in dollars and years, respectively). As far as KNN is concerned, a difference of \\\\$1,000 in salary is enormous compared to a difference of $50$ years in age. Consequently, `salary` will drive the KNN classification results, and `age` will have almost no effect. This is contrary to our intuition  that a salary difference of $\\$1{,}000$ is quite small compared to an age difference of $50$ years.\n",
    "Furthermore, the importance of scale to the KNN classifier leads to another issue: if we measured `salary` in Japanese yen, or if we measured `age` in minutes, then we'd get quite different classification results from what we get if these two variables are measured in dollars and years."
   ]
  },
  {
   "cell_type": "markdown",
   "id": "8fbf6317",
   "metadata": {},
   "source": [
    "A good way to handle this problem is to  the data so that all variables are given a mean of  zero and  a standard deviation of one. Then all variables will be on a comparable scale. The `StandardScaler()` does just this.\n",
    " In standardizing the data, we exclude column $86$, because that is the qualitative `Purchase` variable."
   ]
  },
  {
   "cell_type": "code",
   "execution_count": 77,
   "id": "c8ac838b-291a-47f8-90fc-dc76fa075a36",
   "metadata": {},
   "outputs": [
    {
     "data": {
      "text/plain": [
       "MOSTYPE     165.037847\n",
       "MAANTHUI      0.164708\n",
       "MGEMOMV       0.623839\n",
       "MGEMLEEF      0.663555\n",
       "MOSHOOFD      8.161077\n",
       "               ...    \n",
       "AZEILPL       0.000515\n",
       "APLEZIER      0.006664\n",
       "AFIETS        0.044515\n",
       "AINBOED       0.008184\n",
       "ABYSTAND      0.014399\n",
       "Length: 85, dtype: float64"
      ]
     },
     "execution_count": 77,
     "metadata": {},
     "output_type": "execute_result"
    }
   ],
   "source": [
    "X = Caravan[Caravan.columns.drop('Purchase')]\n",
    "scaler = StandardScaler().fit(X)\n",
    "X_scaled = scaler.transform(X)\n",
    "X.var(axis=0)"
   ]
  },
  {
   "cell_type": "code",
   "execution_count": 78,
   "id": "83d6527e-bbcb-4ea9-9806-a5bb589e76e9",
   "metadata": {},
   "outputs": [
    {
     "data": {
      "text/plain": [
       "array([1., 1., 1., 1., 1., 1., 1., 1., 1., 1., 1., 1., 1., 1., 1., 1., 1.,\n",
       "       1., 1., 1., 1., 1., 1., 1., 1., 1., 1., 1., 1., 1., 1., 1., 1., 1.,\n",
       "       1., 1., 1., 1., 1., 1., 1., 1., 1., 1., 1., 1., 1., 1., 1., 1., 1.,\n",
       "       1., 1., 1., 1., 1., 1., 1., 1., 1., 1., 1., 1., 1., 1., 1., 1., 1.,\n",
       "       1., 1., 1., 1., 1., 1., 1., 1., 1., 1., 1., 1., 1., 1., 1., 1., 1.])"
      ]
     },
     "execution_count": 78,
     "metadata": {},
     "output_type": "execute_result"
    }
   ],
   "source": [
    "X_scaled.var(axis=0)"
   ]
  },
  {
   "cell_type": "markdown",
   "id": "894fe0ed",
   "metadata": {},
   "source": [
    "Now every column of `X_scaled` has a standard deviation of one and a mean of zero.\n",
    "\n",
    "We now split the observations into a test set, containing the first 1,000 observations, and a training set, containing the remaining observations.\n",
    "We fit  a KNN model on the training data using $K=1$, and evaluate its performance on the test data.%"
   ]
  },
  {
   "cell_type": "code",
   "execution_count": 79,
   "id": "d8716ea7-c9c2-47fa-aedc-08131c7f68a0",
   "metadata": {},
   "outputs": [],
   "source": [
    "X_test = X_scaled[:1000]\n",
    "y_test = Caravan.Purchase[:1000]\n",
    "X_train = X_scaled[1000:]\n",
    "y_train = Caravan.Purchase[1000:]"
   ]
  },
  {
   "cell_type": "code",
   "execution_count": 80,
   "id": "3885df00-701b-4d07-a777-0f7eeb5bc9e1",
   "metadata": {},
   "outputs": [],
   "source": [
    "knn = KNN(n_neighbors=1).fit(X_train, y_train)"
   ]
  },
  {
   "cell_type": "code",
   "execution_count": 81,
   "id": "cf8998ad-9f32-4c3a-bc1d-95fe528343da",
   "metadata": {},
   "outputs": [
    {
     "data": {
      "text/plain": [
       "0.118"
      ]
     },
     "execution_count": 81,
     "metadata": {},
     "output_type": "execute_result"
    }
   ],
   "source": [
    "pred = knn.predict(X_test)\n",
    "np.mean(pred != y_test)"
   ]
  },
  {
   "cell_type": "code",
   "execution_count": 83,
   "id": "21e5c38a-a93f-4a94-99c9-0a86ce08f557",
   "metadata": {},
   "outputs": [
    {
     "data": {
      "text/plain": [
       "0.059"
      ]
     },
     "execution_count": 83,
     "metadata": {},
     "output_type": "execute_result"
    }
   ],
   "source": [
    "np.mean(y_test != 'No')"
   ]
  },
  {
   "cell_type": "markdown",
   "id": "a6d595be",
   "metadata": {},
   "source": [
    "The KNN error rate on the 1,000 test observations is just under $12$\\,\\%. At first glance, this may appear to be fairly good. However, since only $6$\\,\\% of customers purchased insurance, we could get the error rate down to $6$\\,\\% by always predicting `No` regardless of\n",
    "the values of the predictors!\n",
    "\n",
    "Suppose that there is some non-trivial cost to trying to sell insurance to a given individual. For instance, perhaps a salesperson must  visit each potential customer.\n",
    "If the company tries to sell insurance to a random selection of customers, then the success rate will be only $6$\\,\\%, which may be far too low given the costs involved.\n",
    "Instead, the company would like to try to sell insurance only to customers who are likely to buy it. So the  overall error rate is not of interest. Instead,  the fraction of individuals that are correctly predicted to buy insurance is of interest.\n",
    "\n",
    " It turns out that KNN with $K=1$ does far better than random guessing among the customers that are predicted to buy insurance. Among  $77$ such customers, $9$, or $11.7$\\,\\%, actually do purchase insurance.\n",
    " This is  double the rate that one would obtain from random guessing."
   ]
  },
  {
   "cell_type": "code",
   "execution_count": 84,
   "id": "4ff7271a-d36c-4c4f-a865-151a4bb01cc1",
   "metadata": {},
   "outputs": [
    {
     "data": {
      "text/html": [
       "<div>\n",
       "<style scoped>\n",
       "    .dataframe tbody tr th:only-of-type {\n",
       "        vertical-align: middle;\n",
       "    }\n",
       "\n",
       "    .dataframe tbody tr th {\n",
       "        vertical-align: top;\n",
       "    }\n",
       "\n",
       "    .dataframe thead th {\n",
       "        text-align: right;\n",
       "    }\n",
       "</style>\n",
       "<table border=\"1\" class=\"dataframe\">\n",
       "  <thead>\n",
       "    <tr style=\"text-align: right;\">\n",
       "      <th>Purchase</th>\n",
       "      <th>No</th>\n",
       "      <th>Yes</th>\n",
       "    </tr>\n",
       "    <tr>\n",
       "      <th>row_0</th>\n",
       "      <th></th>\n",
       "      <th></th>\n",
       "    </tr>\n",
       "  </thead>\n",
       "  <tbody>\n",
       "    <tr>\n",
       "      <th>No</th>\n",
       "      <td>873</td>\n",
       "      <td>50</td>\n",
       "    </tr>\n",
       "    <tr>\n",
       "      <th>Yes</th>\n",
       "      <td>68</td>\n",
       "      <td>9</td>\n",
       "    </tr>\n",
       "  </tbody>\n",
       "</table>\n",
       "</div>"
      ],
      "text/plain": [
       "Purchase   No  Yes\n",
       "row_0             \n",
       "No        873   50\n",
       "Yes        68    9"
      ]
     },
     "execution_count": 84,
     "metadata": {},
     "output_type": "execute_result"
    }
   ],
   "source": [
    "pd.crosstab(pred, y_test)"
   ]
  },
  {
   "cell_type": "code",
   "execution_count": 85,
   "id": "b8796874-507c-4f72-a600-f93555d786c8",
   "metadata": {},
   "outputs": [
    {
     "data": {
      "text/plain": [
       "0.11688311688311688"
      ]
     },
     "execution_count": 85,
     "metadata": {},
     "output_type": "execute_result"
    }
   ],
   "source": [
    "9 / (68 + 9)"
   ]
  },
  {
   "cell_type": "markdown",
   "id": "dba58e81",
   "metadata": {},
   "source": [
    "Using $K=3$, the success rate increases to $20$\\,\\%, and with $K=5$ the rate is $28.6$\\,\\%. This is  over four times the rate that results from random guessing. It appears that KNN is finding some real patterns in a difficult data set!"
   ]
  },
  {
   "cell_type": "code",
   "execution_count": 86,
   "id": "2f2549d4-ff3c-4273-a6e6-216f673449ca",
   "metadata": {},
   "outputs": [
    {
     "data": {
      "text/html": [
       "<div>\n",
       "<style scoped>\n",
       "    .dataframe tbody tr th:only-of-type {\n",
       "        vertical-align: middle;\n",
       "    }\n",
       "\n",
       "    .dataframe tbody tr th {\n",
       "        vertical-align: top;\n",
       "    }\n",
       "\n",
       "    .dataframe thead th {\n",
       "        text-align: right;\n",
       "    }\n",
       "</style>\n",
       "<table border=\"1\" class=\"dataframe\">\n",
       "  <thead>\n",
       "    <tr style=\"text-align: right;\">\n",
       "      <th>Purchase</th>\n",
       "      <th>No</th>\n",
       "      <th>Yes</th>\n",
       "    </tr>\n",
       "    <tr>\n",
       "      <th>row_0</th>\n",
       "      <th></th>\n",
       "      <th></th>\n",
       "    </tr>\n",
       "  </thead>\n",
       "  <tbody>\n",
       "    <tr>\n",
       "      <th>No</th>\n",
       "      <td>921</td>\n",
       "      <td>54</td>\n",
       "    </tr>\n",
       "    <tr>\n",
       "      <th>Yes</th>\n",
       "      <td>20</td>\n",
       "      <td>5</td>\n",
       "    </tr>\n",
       "  </tbody>\n",
       "</table>\n",
       "</div>"
      ],
      "text/plain": [
       "Purchase   No  Yes\n",
       "row_0             \n",
       "No        921   54\n",
       "Yes        20    5"
      ]
     },
     "execution_count": 86,
     "metadata": {},
     "output_type": "execute_result"
    }
   ],
   "source": [
    "knn = KNN(n_neighbors=3).fit(X_train, y_train)\n",
    "pred = knn.predict(X_test)\n",
    "pd.crosstab(pred, y_test)"
   ]
  },
  {
   "cell_type": "code",
   "execution_count": 87,
   "id": "7cae6d20-92ec-4a8d-9f13-bd3ce423194d",
   "metadata": {},
   "outputs": [
    {
     "data": {
      "text/plain": [
       "0.2"
      ]
     },
     "execution_count": 87,
     "metadata": {},
     "output_type": "execute_result"
    }
   ],
   "source": [
    "5 / 25"
   ]
  },
  {
   "cell_type": "code",
   "execution_count": 88,
   "id": "66d0f9ed-456c-42c0-8ec6-49b36e68cea5",
   "metadata": {},
   "outputs": [
    {
     "data": {
      "text/html": [
       "<div>\n",
       "<style scoped>\n",
       "    .dataframe tbody tr th:only-of-type {\n",
       "        vertical-align: middle;\n",
       "    }\n",
       "\n",
       "    .dataframe tbody tr th {\n",
       "        vertical-align: top;\n",
       "    }\n",
       "\n",
       "    .dataframe thead th {\n",
       "        text-align: right;\n",
       "    }\n",
       "</style>\n",
       "<table border=\"1\" class=\"dataframe\">\n",
       "  <thead>\n",
       "    <tr style=\"text-align: right;\">\n",
       "      <th>Purchase</th>\n",
       "      <th>No</th>\n",
       "      <th>Yes</th>\n",
       "    </tr>\n",
       "    <tr>\n",
       "      <th>row_0</th>\n",
       "      <th></th>\n",
       "      <th></th>\n",
       "    </tr>\n",
       "  </thead>\n",
       "  <tbody>\n",
       "    <tr>\n",
       "      <th>No</th>\n",
       "      <td>931</td>\n",
       "      <td>55</td>\n",
       "    </tr>\n",
       "    <tr>\n",
       "      <th>Yes</th>\n",
       "      <td>10</td>\n",
       "      <td>4</td>\n",
       "    </tr>\n",
       "  </tbody>\n",
       "</table>\n",
       "</div>"
      ],
      "text/plain": [
       "Purchase   No  Yes\n",
       "row_0             \n",
       "No        931   55\n",
       "Yes        10    4"
      ]
     },
     "execution_count": 88,
     "metadata": {},
     "output_type": "execute_result"
    }
   ],
   "source": [
    "knn = KNN(n_neighbors=5).fit(X_train, y_train)\n",
    "pred = knn.predict(X_test)\n",
    "pd.crosstab(pred, y_test)"
   ]
  },
  {
   "cell_type": "code",
   "execution_count": 89,
   "id": "01db5d7a-b841-4c3d-879e-64a2e3d5e349",
   "metadata": {},
   "outputs": [
    {
     "data": {
      "text/plain": [
       "0.2857142857142857"
      ]
     },
     "execution_count": 89,
     "metadata": {},
     "output_type": "execute_result"
    }
   ],
   "source": [
    "4 / 14"
   ]
  },
  {
   "cell_type": "markdown",
   "id": "38458bcd",
   "metadata": {},
   "source": [
    "However, while this strategy is cost-effective, it is worth noting that only 14 customers are predicted to purchase insurance using KNN with $K=5$. In practice, the insurance company may wish to expend resources on convincing more than just 14 potential customers to buy insurance.\n",
    "\n",
    "As a comparison, we can also fit a logistic regression model to the data. If we use $0.5$ as the predicted probability cut-off for the classifier, then we have a problem: only seven of the test observations are predicted to purchase insurance. Even worse, we are wrong about all of these!\n",
    " However, we are not required to use a cut-off of  $0.5$. If we instead predict a purchase any time the predicted probability of purchase exceeds  $0.25$, we get much better results: we predict that 33 people will purchase insurance, and\n",
    " we are correct for about $32$\\,\\% of these people. This is  over five times better than random guessing!"
   ]
  },
  {
   "cell_type": "code",
   "execution_count": 90,
   "id": "560c9272-7439-4a18-8d8b-199e92da9ea9",
   "metadata": {},
   "outputs": [],
   "source": [
    "from sklearn.linear_model import LogisticRegression"
   ]
  },
  {
   "cell_type": "code",
   "execution_count": 91,
   "id": "e4f17ca3-3b23-4c5d-9a65-313d37ba2dcb",
   "metadata": {},
   "outputs": [
    {
     "data": {
      "text/html": [
       "<div>\n",
       "<style scoped>\n",
       "    .dataframe tbody tr th:only-of-type {\n",
       "        vertical-align: middle;\n",
       "    }\n",
       "\n",
       "    .dataframe tbody tr th {\n",
       "        vertical-align: top;\n",
       "    }\n",
       "\n",
       "    .dataframe thead th {\n",
       "        text-align: right;\n",
       "    }\n",
       "</style>\n",
       "<table border=\"1\" class=\"dataframe\">\n",
       "  <thead>\n",
       "    <tr style=\"text-align: right;\">\n",
       "      <th>Purchase</th>\n",
       "      <th>No</th>\n",
       "      <th>Yes</th>\n",
       "    </tr>\n",
       "    <tr>\n",
       "      <th>row_0</th>\n",
       "      <th></th>\n",
       "      <th></th>\n",
       "    </tr>\n",
       "  </thead>\n",
       "  <tbody>\n",
       "    <tr>\n",
       "      <th>No</th>\n",
       "      <td>934</td>\n",
       "      <td>59</td>\n",
       "    </tr>\n",
       "    <tr>\n",
       "      <th>Ye</th>\n",
       "      <td>7</td>\n",
       "      <td>0</td>\n",
       "    </tr>\n",
       "  </tbody>\n",
       "</table>\n",
       "</div>"
      ],
      "text/plain": [
       "Purchase   No  Yes\n",
       "row_0             \n",
       "No        934   59\n",
       "Ye          7    0"
      ]
     },
     "execution_count": 91,
     "metadata": {},
     "output_type": "execute_result"
    }
   ],
   "source": [
    "log_model = LogisticRegression(penalty='none', max_iter=1000).fit(X_train, y_train)\n",
    "probs = log_model.predict_proba(X_test)[:,1]\n",
    "pred = np.array(['No']*1000)\n",
    "pred[probs > 0.5] = 'Yes'\n",
    "pd.crosstab(pred, y_test)"
   ]
  },
  {
   "cell_type": "code",
   "execution_count": 92,
   "id": "c65821fb-f43c-49f1-9a0b-305abb9e51d4",
   "metadata": {},
   "outputs": [
    {
     "data": {
      "text/html": [
       "<div>\n",
       "<style scoped>\n",
       "    .dataframe tbody tr th:only-of-type {\n",
       "        vertical-align: middle;\n",
       "    }\n",
       "\n",
       "    .dataframe tbody tr th {\n",
       "        vertical-align: top;\n",
       "    }\n",
       "\n",
       "    .dataframe thead th {\n",
       "        text-align: right;\n",
       "    }\n",
       "</style>\n",
       "<table border=\"1\" class=\"dataframe\">\n",
       "  <thead>\n",
       "    <tr style=\"text-align: right;\">\n",
       "      <th>Purchase</th>\n",
       "      <th>No</th>\n",
       "      <th>Yes</th>\n",
       "    </tr>\n",
       "    <tr>\n",
       "      <th>row_0</th>\n",
       "      <th></th>\n",
       "      <th></th>\n",
       "    </tr>\n",
       "  </thead>\n",
       "  <tbody>\n",
       "    <tr>\n",
       "      <th>No</th>\n",
       "      <td>918</td>\n",
       "      <td>48</td>\n",
       "    </tr>\n",
       "    <tr>\n",
       "      <th>Ye</th>\n",
       "      <td>23</td>\n",
       "      <td>11</td>\n",
       "    </tr>\n",
       "  </tbody>\n",
       "</table>\n",
       "</div>"
      ],
      "text/plain": [
       "Purchase   No  Yes\n",
       "row_0             \n",
       "No        918   48\n",
       "Ye         23   11"
      ]
     },
     "execution_count": 92,
     "metadata": {},
     "output_type": "execute_result"
    }
   ],
   "source": [
    "log_model = LogisticRegression(penalty='none', max_iter=1000).fit(X_train, y_train)\n",
    "probs = log_model.predict_proba(X_test)[:,1]\n",
    "pred = np.array(['No']*1000)\n",
    "pred[probs > 0.25] = 'Yes'\n",
    "pd.crosstab(pred, y_test)"
   ]
  },
  {
   "cell_type": "code",
   "execution_count": 93,
   "id": "6e5f7ad7-1021-4e98-bdd6-d5b4c46a3175",
   "metadata": {},
   "outputs": [
    {
     "data": {
      "text/plain": [
       "0.3235294117647059"
      ]
     },
     "execution_count": 93,
     "metadata": {},
     "output_type": "execute_result"
    }
   ],
   "source": [
    "11 / (23 + 11)"
   ]
  },
  {
   "cell_type": "markdown",
   "id": "33007a99",
   "metadata": {},
   "source": [
    "## Poisson Regression\n",
    "\n",
    "Finally, we fit a  Poisson regression model to the `Bikeshare` data set, which measures the number of bike rentals (`bikers`) per hour in Washington, DC. The data can be found in the `ISLR2` library.\n"
   ]
  },
  {
   "cell_type": "code",
   "execution_count": 122,
   "id": "5afa349b-42c7-4403-8c6f-80f2be4049c8",
   "metadata": {},
   "outputs": [
    {
     "data": {
      "text/html": [
       "<div>\n",
       "<style scoped>\n",
       "    .dataframe tbody tr th:only-of-type {\n",
       "        vertical-align: middle;\n",
       "    }\n",
       "\n",
       "    .dataframe tbody tr th {\n",
       "        vertical-align: top;\n",
       "    }\n",
       "\n",
       "    .dataframe thead th {\n",
       "        text-align: right;\n",
       "    }\n",
       "</style>\n",
       "<table border=\"1\" class=\"dataframe\">\n",
       "  <thead>\n",
       "    <tr style=\"text-align: right;\">\n",
       "      <th></th>\n",
       "      <th>season</th>\n",
       "      <th>mnth</th>\n",
       "      <th>day</th>\n",
       "      <th>hr</th>\n",
       "      <th>holiday</th>\n",
       "      <th>weekday</th>\n",
       "      <th>workingday</th>\n",
       "      <th>weathersit</th>\n",
       "      <th>temp</th>\n",
       "      <th>atemp</th>\n",
       "      <th>hum</th>\n",
       "      <th>windspeed</th>\n",
       "      <th>casual</th>\n",
       "      <th>registered</th>\n",
       "      <th>bikers</th>\n",
       "    </tr>\n",
       "  </thead>\n",
       "  <tbody>\n",
       "    <tr>\n",
       "      <th>1</th>\n",
       "      <td>1</td>\n",
       "      <td>Jan</td>\n",
       "      <td>1</td>\n",
       "      <td>0</td>\n",
       "      <td>0</td>\n",
       "      <td>6</td>\n",
       "      <td>0</td>\n",
       "      <td>clear</td>\n",
       "      <td>0.24</td>\n",
       "      <td>0.2879</td>\n",
       "      <td>0.81</td>\n",
       "      <td>0.0</td>\n",
       "      <td>3</td>\n",
       "      <td>13</td>\n",
       "      <td>16</td>\n",
       "    </tr>\n",
       "    <tr>\n",
       "      <th>2</th>\n",
       "      <td>1</td>\n",
       "      <td>Jan</td>\n",
       "      <td>1</td>\n",
       "      <td>1</td>\n",
       "      <td>0</td>\n",
       "      <td>6</td>\n",
       "      <td>0</td>\n",
       "      <td>clear</td>\n",
       "      <td>0.22</td>\n",
       "      <td>0.2727</td>\n",
       "      <td>0.80</td>\n",
       "      <td>0.0</td>\n",
       "      <td>8</td>\n",
       "      <td>32</td>\n",
       "      <td>40</td>\n",
       "    </tr>\n",
       "    <tr>\n",
       "      <th>3</th>\n",
       "      <td>1</td>\n",
       "      <td>Jan</td>\n",
       "      <td>1</td>\n",
       "      <td>2</td>\n",
       "      <td>0</td>\n",
       "      <td>6</td>\n",
       "      <td>0</td>\n",
       "      <td>clear</td>\n",
       "      <td>0.22</td>\n",
       "      <td>0.2727</td>\n",
       "      <td>0.80</td>\n",
       "      <td>0.0</td>\n",
       "      <td>5</td>\n",
       "      <td>27</td>\n",
       "      <td>32</td>\n",
       "    </tr>\n",
       "    <tr>\n",
       "      <th>4</th>\n",
       "      <td>1</td>\n",
       "      <td>Jan</td>\n",
       "      <td>1</td>\n",
       "      <td>3</td>\n",
       "      <td>0</td>\n",
       "      <td>6</td>\n",
       "      <td>0</td>\n",
       "      <td>clear</td>\n",
       "      <td>0.24</td>\n",
       "      <td>0.2879</td>\n",
       "      <td>0.75</td>\n",
       "      <td>0.0</td>\n",
       "      <td>3</td>\n",
       "      <td>10</td>\n",
       "      <td>13</td>\n",
       "    </tr>\n",
       "    <tr>\n",
       "      <th>5</th>\n",
       "      <td>1</td>\n",
       "      <td>Jan</td>\n",
       "      <td>1</td>\n",
       "      <td>4</td>\n",
       "      <td>0</td>\n",
       "      <td>6</td>\n",
       "      <td>0</td>\n",
       "      <td>clear</td>\n",
       "      <td>0.24</td>\n",
       "      <td>0.2879</td>\n",
       "      <td>0.75</td>\n",
       "      <td>0.0</td>\n",
       "      <td>0</td>\n",
       "      <td>1</td>\n",
       "      <td>1</td>\n",
       "    </tr>\n",
       "  </tbody>\n",
       "</table>\n",
       "</div>"
      ],
      "text/plain": [
       "   season mnth  day  hr  holiday  weekday  workingday weathersit  temp  \\\n",
       "1       1  Jan    1   0        0        6           0      clear  0.24   \n",
       "2       1  Jan    1   1        0        6           0      clear  0.22   \n",
       "3       1  Jan    1   2        0        6           0      clear  0.22   \n",
       "4       1  Jan    1   3        0        6           0      clear  0.24   \n",
       "5       1  Jan    1   4        0        6           0      clear  0.24   \n",
       "\n",
       "    atemp   hum  windspeed  casual  registered  bikers  \n",
       "1  0.2879  0.81        0.0       3          13      16  \n",
       "2  0.2727  0.80        0.0       8          32      40  \n",
       "3  0.2727  0.80        0.0       5          27      32  \n",
       "4  0.2879  0.75        0.0       3          10      13  \n",
       "5  0.2879  0.75        0.0       0           1       1  "
      ]
     },
     "execution_count": 122,
     "metadata": {},
     "output_type": "execute_result"
    }
   ],
   "source": [
    "Bikershare = pd.read_csv('data/Bikeshare.csv', index_col=0)\n",
    "Bikershare.head()"
   ]
  },
  {
   "cell_type": "code",
   "execution_count": 98,
   "id": "8c2b1aa3",
   "metadata": {
    "lines_to_next_cell": 2,
    "name": "chunk35"
   },
   "outputs": [
    {
     "name": "stdout",
     "output_type": "stream",
     "text": [
      "<class 'pandas.core.frame.DataFrame'>\n",
      "Int64Index: 8645 entries, 1 to 8645\n",
      "Data columns (total 15 columns):\n",
      " #   Column      Non-Null Count  Dtype  \n",
      "---  ------      --------------  -----  \n",
      " 0   season      8645 non-null   int64  \n",
      " 1   mnth        8645 non-null   object \n",
      " 2   day         8645 non-null   int64  \n",
      " 3   hr          8645 non-null   int64  \n",
      " 4   holiday     8645 non-null   int64  \n",
      " 5   weekday     8645 non-null   int64  \n",
      " 6   workingday  8645 non-null   int64  \n",
      " 7   weathersit  8645 non-null   object \n",
      " 8   temp        8645 non-null   float64\n",
      " 9   atemp       8645 non-null   float64\n",
      " 10  hum         8645 non-null   float64\n",
      " 11  windspeed   8645 non-null   float64\n",
      " 12  casual      8645 non-null   int64  \n",
      " 13  registered  8645 non-null   int64  \n",
      " 14  bikers      8645 non-null   int64  \n",
      "dtypes: float64(4), int64(9), object(2)\n",
      "memory usage: 1.1+ MB\n"
     ]
    }
   ],
   "source": [
    "Bikershare.info()"
   ]
  },
  {
   "cell_type": "markdown",
   "id": "50417ba7",
   "metadata": {},
   "source": [
    "We begin by fitting a least squares linear regression model to the data."
   ]
  },
  {
   "cell_type": "code",
   "execution_count": 172,
   "id": "2037518c-c4ba-4162-b416-16e63dc49aa4",
   "metadata": {},
   "outputs": [
    {
     "data": {
      "text/html": [
       "<div>\n",
       "<style scoped>\n",
       "    .dataframe tbody tr th:only-of-type {\n",
       "        vertical-align: middle;\n",
       "    }\n",
       "\n",
       "    .dataframe tbody tr th {\n",
       "        vertical-align: top;\n",
       "    }\n",
       "\n",
       "    .dataframe thead th {\n",
       "        text-align: right;\n",
       "    }\n",
       "</style>\n",
       "<table border=\"1\" class=\"dataframe\">\n",
       "  <thead>\n",
       "    <tr style=\"text-align: right;\">\n",
       "      <th></th>\n",
       "      <th>const</th>\n",
       "      <th>mnth</th>\n",
       "      <th>hr</th>\n",
       "      <th>workingday</th>\n",
       "      <th>temp</th>\n",
       "      <th>weathersit</th>\n",
       "    </tr>\n",
       "  </thead>\n",
       "  <tbody>\n",
       "    <tr>\n",
       "      <th>1</th>\n",
       "      <td>1.0</td>\n",
       "      <td>Jan</td>\n",
       "      <td>0</td>\n",
       "      <td>0</td>\n",
       "      <td>0.24</td>\n",
       "      <td>clear</td>\n",
       "    </tr>\n",
       "    <tr>\n",
       "      <th>2</th>\n",
       "      <td>1.0</td>\n",
       "      <td>Jan</td>\n",
       "      <td>1</td>\n",
       "      <td>0</td>\n",
       "      <td>0.22</td>\n",
       "      <td>clear</td>\n",
       "    </tr>\n",
       "    <tr>\n",
       "      <th>3</th>\n",
       "      <td>1.0</td>\n",
       "      <td>Jan</td>\n",
       "      <td>2</td>\n",
       "      <td>0</td>\n",
       "      <td>0.22</td>\n",
       "      <td>clear</td>\n",
       "    </tr>\n",
       "    <tr>\n",
       "      <th>4</th>\n",
       "      <td>1.0</td>\n",
       "      <td>Jan</td>\n",
       "      <td>3</td>\n",
       "      <td>0</td>\n",
       "      <td>0.24</td>\n",
       "      <td>clear</td>\n",
       "    </tr>\n",
       "    <tr>\n",
       "      <th>5</th>\n",
       "      <td>1.0</td>\n",
       "      <td>Jan</td>\n",
       "      <td>4</td>\n",
       "      <td>0</td>\n",
       "      <td>0.24</td>\n",
       "      <td>clear</td>\n",
       "    </tr>\n",
       "  </tbody>\n",
       "</table>\n",
       "</div>"
      ],
      "text/plain": [
       "   const mnth hr  workingday  temp weathersit\n",
       "1    1.0  Jan  0           0  0.24      clear\n",
       "2    1.0  Jan  1           0  0.22      clear\n",
       "3    1.0  Jan  2           0  0.22      clear\n",
       "4    1.0  Jan  3           0  0.24      clear\n",
       "5    1.0  Jan  4           0  0.24      clear"
      ]
     },
     "execution_count": 172,
     "metadata": {},
     "output_type": "execute_result"
    }
   ],
   "source": [
    "y = Bikershare.bikers\n",
    "X = Bikershare[['mnth', 'hr', 'workingday', 'temp', 'weathersit']].copy()\n",
    "X['hr'] = X.hr.astype('category')\n",
    "X['mnth'] = X.mnth.astype('category')\n",
    "X['mnth'] = X.mnth.cat.reorder_categories(['Jan', 'Feb', 'March', 'April', 'May', 'June', 'July', 'Aug', 'Sept', 'Oct', 'Nov', 'Dec'])\n",
    "X = sm.add_constant(X)\n",
    "X.head()"
   ]
  },
  {
   "cell_type": "code",
   "execution_count": 173,
   "id": "7dc2471f-5e65-4109-93ad-7b0becd65c78",
   "metadata": {},
   "outputs": [
    {
     "data": {
      "text/html": [
       "<div>\n",
       "<style scoped>\n",
       "    .dataframe tbody tr th:only-of-type {\n",
       "        vertical-align: middle;\n",
       "    }\n",
       "\n",
       "    .dataframe tbody tr th {\n",
       "        vertical-align: top;\n",
       "    }\n",
       "\n",
       "    .dataframe thead th {\n",
       "        text-align: right;\n",
       "    }\n",
       "</style>\n",
       "<table border=\"1\" class=\"dataframe\">\n",
       "  <thead>\n",
       "    <tr style=\"text-align: right;\">\n",
       "      <th></th>\n",
       "      <th>const</th>\n",
       "      <th>workingday</th>\n",
       "      <th>temp</th>\n",
       "      <th>mnth_Feb</th>\n",
       "      <th>mnth_March</th>\n",
       "      <th>mnth_April</th>\n",
       "      <th>mnth_May</th>\n",
       "      <th>mnth_June</th>\n",
       "      <th>mnth_July</th>\n",
       "      <th>mnth_Aug</th>\n",
       "      <th>...</th>\n",
       "      <th>hr_17</th>\n",
       "      <th>hr_18</th>\n",
       "      <th>hr_19</th>\n",
       "      <th>hr_20</th>\n",
       "      <th>hr_21</th>\n",
       "      <th>hr_22</th>\n",
       "      <th>hr_23</th>\n",
       "      <th>weathersit_cloudy/misty</th>\n",
       "      <th>weathersit_heavy rain/snow</th>\n",
       "      <th>weathersit_light rain/snow</th>\n",
       "    </tr>\n",
       "  </thead>\n",
       "  <tbody>\n",
       "    <tr>\n",
       "      <th>1</th>\n",
       "      <td>1.0</td>\n",
       "      <td>0</td>\n",
       "      <td>0.24</td>\n",
       "      <td>0</td>\n",
       "      <td>0</td>\n",
       "      <td>0</td>\n",
       "      <td>0</td>\n",
       "      <td>0</td>\n",
       "      <td>0</td>\n",
       "      <td>0</td>\n",
       "      <td>...</td>\n",
       "      <td>0</td>\n",
       "      <td>0</td>\n",
       "      <td>0</td>\n",
       "      <td>0</td>\n",
       "      <td>0</td>\n",
       "      <td>0</td>\n",
       "      <td>0</td>\n",
       "      <td>0</td>\n",
       "      <td>0</td>\n",
       "      <td>0</td>\n",
       "    </tr>\n",
       "    <tr>\n",
       "      <th>2</th>\n",
       "      <td>1.0</td>\n",
       "      <td>0</td>\n",
       "      <td>0.22</td>\n",
       "      <td>0</td>\n",
       "      <td>0</td>\n",
       "      <td>0</td>\n",
       "      <td>0</td>\n",
       "      <td>0</td>\n",
       "      <td>0</td>\n",
       "      <td>0</td>\n",
       "      <td>...</td>\n",
       "      <td>0</td>\n",
       "      <td>0</td>\n",
       "      <td>0</td>\n",
       "      <td>0</td>\n",
       "      <td>0</td>\n",
       "      <td>0</td>\n",
       "      <td>0</td>\n",
       "      <td>0</td>\n",
       "      <td>0</td>\n",
       "      <td>0</td>\n",
       "    </tr>\n",
       "    <tr>\n",
       "      <th>3</th>\n",
       "      <td>1.0</td>\n",
       "      <td>0</td>\n",
       "      <td>0.22</td>\n",
       "      <td>0</td>\n",
       "      <td>0</td>\n",
       "      <td>0</td>\n",
       "      <td>0</td>\n",
       "      <td>0</td>\n",
       "      <td>0</td>\n",
       "      <td>0</td>\n",
       "      <td>...</td>\n",
       "      <td>0</td>\n",
       "      <td>0</td>\n",
       "      <td>0</td>\n",
       "      <td>0</td>\n",
       "      <td>0</td>\n",
       "      <td>0</td>\n",
       "      <td>0</td>\n",
       "      <td>0</td>\n",
       "      <td>0</td>\n",
       "      <td>0</td>\n",
       "    </tr>\n",
       "    <tr>\n",
       "      <th>4</th>\n",
       "      <td>1.0</td>\n",
       "      <td>0</td>\n",
       "      <td>0.24</td>\n",
       "      <td>0</td>\n",
       "      <td>0</td>\n",
       "      <td>0</td>\n",
       "      <td>0</td>\n",
       "      <td>0</td>\n",
       "      <td>0</td>\n",
       "      <td>0</td>\n",
       "      <td>...</td>\n",
       "      <td>0</td>\n",
       "      <td>0</td>\n",
       "      <td>0</td>\n",
       "      <td>0</td>\n",
       "      <td>0</td>\n",
       "      <td>0</td>\n",
       "      <td>0</td>\n",
       "      <td>0</td>\n",
       "      <td>0</td>\n",
       "      <td>0</td>\n",
       "    </tr>\n",
       "    <tr>\n",
       "      <th>5</th>\n",
       "      <td>1.0</td>\n",
       "      <td>0</td>\n",
       "      <td>0.24</td>\n",
       "      <td>0</td>\n",
       "      <td>0</td>\n",
       "      <td>0</td>\n",
       "      <td>0</td>\n",
       "      <td>0</td>\n",
       "      <td>0</td>\n",
       "      <td>0</td>\n",
       "      <td>...</td>\n",
       "      <td>0</td>\n",
       "      <td>0</td>\n",
       "      <td>0</td>\n",
       "      <td>0</td>\n",
       "      <td>0</td>\n",
       "      <td>0</td>\n",
       "      <td>0</td>\n",
       "      <td>0</td>\n",
       "      <td>0</td>\n",
       "      <td>0</td>\n",
       "    </tr>\n",
       "  </tbody>\n",
       "</table>\n",
       "<p>5 rows × 40 columns</p>\n",
       "</div>"
      ],
      "text/plain": [
       "   const  workingday  temp  mnth_Feb  mnth_March  mnth_April  mnth_May  \\\n",
       "1    1.0           0  0.24         0           0           0         0   \n",
       "2    1.0           0  0.22         0           0           0         0   \n",
       "3    1.0           0  0.22         0           0           0         0   \n",
       "4    1.0           0  0.24         0           0           0         0   \n",
       "5    1.0           0  0.24         0           0           0         0   \n",
       "\n",
       "   mnth_June  mnth_July  mnth_Aug  ...  hr_17  hr_18  hr_19  hr_20  hr_21  \\\n",
       "1          0          0         0  ...      0      0      0      0      0   \n",
       "2          0          0         0  ...      0      0      0      0      0   \n",
       "3          0          0         0  ...      0      0      0      0      0   \n",
       "4          0          0         0  ...      0      0      0      0      0   \n",
       "5          0          0         0  ...      0      0      0      0      0   \n",
       "\n",
       "   hr_22  hr_23  weathersit_cloudy/misty  weathersit_heavy rain/snow  \\\n",
       "1      0      0                        0                           0   \n",
       "2      0      0                        0                           0   \n",
       "3      0      0                        0                           0   \n",
       "4      0      0                        0                           0   \n",
       "5      0      0                        0                           0   \n",
       "\n",
       "   weathersit_light rain/snow  \n",
       "1                           0  \n",
       "2                           0  \n",
       "3                           0  \n",
       "4                           0  \n",
       "5                           0  \n",
       "\n",
       "[5 rows x 40 columns]"
      ]
     },
     "execution_count": 173,
     "metadata": {},
     "output_type": "execute_result"
    }
   ],
   "source": [
    "X = pd.get_dummies(X, drop_first=True)\n",
    "X.head()"
   ]
  },
  {
   "cell_type": "code",
   "execution_count": 174,
   "id": "b5c49cfd-a919-4c35-9114-d8611e7d7c04",
   "metadata": {},
   "outputs": [
    {
     "data": {
      "text/html": [
       "<table class=\"simpletable\">\n",
       "<caption>OLS Regression Results</caption>\n",
       "<tr>\n",
       "  <th>Dep. Variable:</th>         <td>bikers</td>      <th>  R-squared:         </th> <td>   0.675</td> \n",
       "</tr>\n",
       "<tr>\n",
       "  <th>Model:</th>                   <td>OLS</td>       <th>  Adj. R-squared:    </th> <td>   0.673</td> \n",
       "</tr>\n",
       "<tr>\n",
       "  <th>Method:</th>             <td>Least Squares</td>  <th>  F-statistic:       </th> <td>   457.3</td> \n",
       "</tr>\n",
       "<tr>\n",
       "  <th>Date:</th>             <td>Tue, 20 Sep 2022</td> <th>  Prob (F-statistic):</th>  <td>  0.00</td>  \n",
       "</tr>\n",
       "<tr>\n",
       "  <th>Time:</th>                 <td>11:05:54</td>     <th>  Log-Likelihood:    </th> <td> -49743.</td> \n",
       "</tr>\n",
       "<tr>\n",
       "  <th>No. Observations:</th>      <td>  8645</td>      <th>  AIC:               </th> <td>9.957e+04</td>\n",
       "</tr>\n",
       "<tr>\n",
       "  <th>Df Residuals:</th>          <td>  8605</td>      <th>  BIC:               </th> <td>9.985e+04</td>\n",
       "</tr>\n",
       "<tr>\n",
       "  <th>Df Model:</th>              <td>    39</td>      <th>                     </th>     <td> </td>    \n",
       "</tr>\n",
       "<tr>\n",
       "  <th>Covariance Type:</th>      <td>nonrobust</td>    <th>                     </th>     <td> </td>    \n",
       "</tr>\n",
       "</table>\n",
       "<table class=\"simpletable\">\n",
       "<tr>\n",
       "               <td></td>                 <th>coef</th>     <th>std err</th>      <th>t</th>      <th>P>|t|</th>  <th>[0.025</th>    <th>0.975]</th>  \n",
       "</tr>\n",
       "<tr>\n",
       "  <th>const</th>                      <td>  -68.6317</td> <td>    5.307</td> <td>  -12.932</td> <td> 0.000</td> <td>  -79.035</td> <td>  -58.229</td>\n",
       "</tr>\n",
       "<tr>\n",
       "  <th>workingday</th>                 <td>    1.2696</td> <td>    1.784</td> <td>    0.711</td> <td> 0.477</td> <td>   -2.228</td> <td>    4.768</td>\n",
       "</tr>\n",
       "<tr>\n",
       "  <th>temp</th>                       <td>  157.2094</td> <td>   10.261</td> <td>   15.321</td> <td> 0.000</td> <td>  137.095</td> <td>  177.324</td>\n",
       "</tr>\n",
       "<tr>\n",
       "  <th>mnth_Feb</th>                   <td>    6.8452</td> <td>    4.287</td> <td>    1.597</td> <td> 0.110</td> <td>   -1.559</td> <td>   15.250</td>\n",
       "</tr>\n",
       "<tr>\n",
       "  <th>mnth_March</th>                 <td>   16.5514</td> <td>    4.301</td> <td>    3.848</td> <td> 0.000</td> <td>    8.120</td> <td>   24.983</td>\n",
       "</tr>\n",
       "<tr>\n",
       "  <th>mnth_April</th>                 <td>   41.4249</td> <td>    4.972</td> <td>    8.331</td> <td> 0.000</td> <td>   31.678</td> <td>   51.172</td>\n",
       "</tr>\n",
       "<tr>\n",
       "  <th>mnth_May</th>                   <td>   72.5571</td> <td>    5.641</td> <td>   12.862</td> <td> 0.000</td> <td>   61.499</td> <td>   83.615</td>\n",
       "</tr>\n",
       "<tr>\n",
       "  <th>mnth_June</th>                  <td>   67.8187</td> <td>    6.544</td> <td>   10.364</td> <td> 0.000</td> <td>   54.992</td> <td>   80.646</td>\n",
       "</tr>\n",
       "<tr>\n",
       "  <th>mnth_July</th>                  <td>   45.3245</td> <td>    7.081</td> <td>    6.401</td> <td> 0.000</td> <td>   31.444</td> <td>   59.205</td>\n",
       "</tr>\n",
       "<tr>\n",
       "  <th>mnth_Aug</th>                   <td>   53.2430</td> <td>    6.640</td> <td>    8.019</td> <td> 0.000</td> <td>   40.227</td> <td>   66.259</td>\n",
       "</tr>\n",
       "<tr>\n",
       "  <th>mnth_Sept</th>                  <td>   66.6783</td> <td>    5.925</td> <td>   11.254</td> <td> 0.000</td> <td>   55.064</td> <td>   78.293</td>\n",
       "</tr>\n",
       "<tr>\n",
       "  <th>mnth_Oct</th>                   <td>   75.8343</td> <td>    4.950</td> <td>   15.319</td> <td> 0.000</td> <td>   66.130</td> <td>   85.538</td>\n",
       "</tr>\n",
       "<tr>\n",
       "  <th>mnth_Nov</th>                   <td>   60.3100</td> <td>    4.610</td> <td>   13.083</td> <td> 0.000</td> <td>   51.273</td> <td>   69.347</td>\n",
       "</tr>\n",
       "<tr>\n",
       "  <th>mnth_Dec</th>                   <td>   46.4577</td> <td>    4.271</td> <td>   10.878</td> <td> 0.000</td> <td>   38.086</td> <td>   54.829</td>\n",
       "</tr>\n",
       "<tr>\n",
       "  <th>hr_1</th>                       <td>  -14.5793</td> <td>    5.699</td> <td>   -2.558</td> <td> 0.011</td> <td>  -25.750</td> <td>   -3.408</td>\n",
       "</tr>\n",
       "<tr>\n",
       "  <th>hr_2</th>                       <td>  -21.5791</td> <td>    5.733</td> <td>   -3.764</td> <td> 0.000</td> <td>  -32.817</td> <td>  -10.341</td>\n",
       "</tr>\n",
       "<tr>\n",
       "  <th>hr_3</th>                       <td>  -31.1408</td> <td>    5.778</td> <td>   -5.389</td> <td> 0.000</td> <td>  -42.468</td> <td>  -19.814</td>\n",
       "</tr>\n",
       "<tr>\n",
       "  <th>hr_4</th>                       <td>  -36.9075</td> <td>    5.802</td> <td>   -6.361</td> <td> 0.000</td> <td>  -48.281</td> <td>  -25.534</td>\n",
       "</tr>\n",
       "<tr>\n",
       "  <th>hr_5</th>                       <td>  -24.1355</td> <td>    5.737</td> <td>   -4.207</td> <td> 0.000</td> <td>  -35.381</td> <td>  -12.890</td>\n",
       "</tr>\n",
       "<tr>\n",
       "  <th>hr_6</th>                       <td>   20.5997</td> <td>    5.704</td> <td>    3.612</td> <td> 0.000</td> <td>    9.419</td> <td>   31.781</td>\n",
       "</tr>\n",
       "<tr>\n",
       "  <th>hr_7</th>                       <td>  120.0931</td> <td>    5.693</td> <td>   21.095</td> <td> 0.000</td> <td>  108.934</td> <td>  131.253</td>\n",
       "</tr>\n",
       "<tr>\n",
       "  <th>hr_8</th>                       <td>  223.6619</td> <td>    5.690</td> <td>   39.310</td> <td> 0.000</td> <td>  212.509</td> <td>  234.815</td>\n",
       "</tr>\n",
       "<tr>\n",
       "  <th>hr_9</th>                       <td>  120.5819</td> <td>    5.693</td> <td>   21.182</td> <td> 0.000</td> <td>  109.423</td> <td>  131.741</td>\n",
       "</tr>\n",
       "<tr>\n",
       "  <th>hr_10</th>                      <td>   83.8013</td> <td>    5.705</td> <td>   14.689</td> <td> 0.000</td> <td>   72.618</td> <td>   94.985</td>\n",
       "</tr>\n",
       "<tr>\n",
       "  <th>hr_11</th>                      <td>  105.4234</td> <td>    5.722</td> <td>   18.424</td> <td> 0.000</td> <td>   94.207</td> <td>  116.640</td>\n",
       "</tr>\n",
       "<tr>\n",
       "  <th>hr_12</th>                      <td>  137.2837</td> <td>    5.740</td> <td>   23.916</td> <td> 0.000</td> <td>  126.032</td> <td>  148.536</td>\n",
       "</tr>\n",
       "<tr>\n",
       "  <th>hr_13</th>                      <td>  136.0359</td> <td>    5.760</td> <td>   23.617</td> <td> 0.000</td> <td>  124.745</td> <td>  147.327</td>\n",
       "</tr>\n",
       "<tr>\n",
       "  <th>hr_14</th>                      <td>  126.6361</td> <td>    5.776</td> <td>   21.923</td> <td> 0.000</td> <td>  115.313</td> <td>  137.959</td>\n",
       "</tr>\n",
       "<tr>\n",
       "  <th>hr_15</th>                      <td>  132.0865</td> <td>    5.780</td> <td>   22.852</td> <td> 0.000</td> <td>  120.756</td> <td>  143.417</td>\n",
       "</tr>\n",
       "<tr>\n",
       "  <th>hr_16</th>                      <td>  178.5206</td> <td>    5.772</td> <td>   30.927</td> <td> 0.000</td> <td>  167.206</td> <td>  189.836</td>\n",
       "</tr>\n",
       "<tr>\n",
       "  <th>hr_17</th>                      <td>  296.2670</td> <td>    5.749</td> <td>   51.537</td> <td> 0.000</td> <td>  284.998</td> <td>  307.536</td>\n",
       "</tr>\n",
       "<tr>\n",
       "  <th>hr_18</th>                      <td>  269.4409</td> <td>    5.736</td> <td>   46.976</td> <td> 0.000</td> <td>  258.198</td> <td>  280.684</td>\n",
       "</tr>\n",
       "<tr>\n",
       "  <th>hr_19</th>                      <td>  186.2558</td> <td>    5.714</td> <td>   32.596</td> <td> 0.000</td> <td>  175.055</td> <td>  197.457</td>\n",
       "</tr>\n",
       "<tr>\n",
       "  <th>hr_20</th>                      <td>  125.5492</td> <td>    5.704</td> <td>   22.012</td> <td> 0.000</td> <td>  114.369</td> <td>  136.730</td>\n",
       "</tr>\n",
       "<tr>\n",
       "  <th>hr_21</th>                      <td>   87.5537</td> <td>    5.693</td> <td>   15.378</td> <td> 0.000</td> <td>   76.393</td> <td>   98.714</td>\n",
       "</tr>\n",
       "<tr>\n",
       "  <th>hr_22</th>                      <td>   59.1226</td> <td>    5.689</td> <td>   10.392</td> <td> 0.000</td> <td>   47.970</td> <td>   70.275</td>\n",
       "</tr>\n",
       "<tr>\n",
       "  <th>hr_23</th>                      <td>   26.8376</td> <td>    5.688</td> <td>    4.719</td> <td> 0.000</td> <td>   15.688</td> <td>   37.987</td>\n",
       "</tr>\n",
       "<tr>\n",
       "  <th>weathersit_cloudy/misty</th>    <td>  -12.8903</td> <td>    1.964</td> <td>   -6.562</td> <td> 0.000</td> <td>  -16.741</td> <td>   -9.040</td>\n",
       "</tr>\n",
       "<tr>\n",
       "  <th>weathersit_heavy rain/snow</th> <td> -109.7446</td> <td>   76.667</td> <td>   -1.431</td> <td> 0.152</td> <td> -260.031</td> <td>   40.542</td>\n",
       "</tr>\n",
       "<tr>\n",
       "  <th>weathersit_light rain/snow</th> <td>  -66.4944</td> <td>    2.965</td> <td>  -22.425</td> <td> 0.000</td> <td>  -72.307</td> <td>  -60.682</td>\n",
       "</tr>\n",
       "</table>\n",
       "<table class=\"simpletable\">\n",
       "<tr>\n",
       "  <th>Omnibus:</th>       <td>288.526</td> <th>  Durbin-Watson:     </th> <td>   0.519</td> \n",
       "</tr>\n",
       "<tr>\n",
       "  <th>Prob(Omnibus):</th> <td> 0.000</td>  <th>  Jarque-Bera (JB):  </th> <td> 518.512</td> \n",
       "</tr>\n",
       "<tr>\n",
       "  <th>Skew:</th>          <td> 0.273</td>  <th>  Prob(JB):          </th> <td>2.55e-113</td>\n",
       "</tr>\n",
       "<tr>\n",
       "  <th>Kurtosis:</th>      <td> 4.068</td>  <th>  Cond. No.          </th> <td>    131.</td> \n",
       "</tr>\n",
       "</table><br/><br/>Notes:<br/>[1] Standard Errors assume that the covariance matrix of the errors is correctly specified."
      ],
      "text/plain": [
       "<class 'statsmodels.iolib.summary.Summary'>\n",
       "\"\"\"\n",
       "                            OLS Regression Results                            \n",
       "==============================================================================\n",
       "Dep. Variable:                 bikers   R-squared:                       0.675\n",
       "Model:                            OLS   Adj. R-squared:                  0.673\n",
       "Method:                 Least Squares   F-statistic:                     457.3\n",
       "Date:                Tue, 20 Sep 2022   Prob (F-statistic):               0.00\n",
       "Time:                        11:05:54   Log-Likelihood:                -49743.\n",
       "No. Observations:                8645   AIC:                         9.957e+04\n",
       "Df Residuals:                    8605   BIC:                         9.985e+04\n",
       "Df Model:                          39                                         \n",
       "Covariance Type:            nonrobust                                         \n",
       "==============================================================================================\n",
       "                                 coef    std err          t      P>|t|      [0.025      0.975]\n",
       "----------------------------------------------------------------------------------------------\n",
       "const                        -68.6317      5.307    -12.932      0.000     -79.035     -58.229\n",
       "workingday                     1.2696      1.784      0.711      0.477      -2.228       4.768\n",
       "temp                         157.2094     10.261     15.321      0.000     137.095     177.324\n",
       "mnth_Feb                       6.8452      4.287      1.597      0.110      -1.559      15.250\n",
       "mnth_March                    16.5514      4.301      3.848      0.000       8.120      24.983\n",
       "mnth_April                    41.4249      4.972      8.331      0.000      31.678      51.172\n",
       "mnth_May                      72.5571      5.641     12.862      0.000      61.499      83.615\n",
       "mnth_June                     67.8187      6.544     10.364      0.000      54.992      80.646\n",
       "mnth_July                     45.3245      7.081      6.401      0.000      31.444      59.205\n",
       "mnth_Aug                      53.2430      6.640      8.019      0.000      40.227      66.259\n",
       "mnth_Sept                     66.6783      5.925     11.254      0.000      55.064      78.293\n",
       "mnth_Oct                      75.8343      4.950     15.319      0.000      66.130      85.538\n",
       "mnth_Nov                      60.3100      4.610     13.083      0.000      51.273      69.347\n",
       "mnth_Dec                      46.4577      4.271     10.878      0.000      38.086      54.829\n",
       "hr_1                         -14.5793      5.699     -2.558      0.011     -25.750      -3.408\n",
       "hr_2                         -21.5791      5.733     -3.764      0.000     -32.817     -10.341\n",
       "hr_3                         -31.1408      5.778     -5.389      0.000     -42.468     -19.814\n",
       "hr_4                         -36.9075      5.802     -6.361      0.000     -48.281     -25.534\n",
       "hr_5                         -24.1355      5.737     -4.207      0.000     -35.381     -12.890\n",
       "hr_6                          20.5997      5.704      3.612      0.000       9.419      31.781\n",
       "hr_7                         120.0931      5.693     21.095      0.000     108.934     131.253\n",
       "hr_8                         223.6619      5.690     39.310      0.000     212.509     234.815\n",
       "hr_9                         120.5819      5.693     21.182      0.000     109.423     131.741\n",
       "hr_10                         83.8013      5.705     14.689      0.000      72.618      94.985\n",
       "hr_11                        105.4234      5.722     18.424      0.000      94.207     116.640\n",
       "hr_12                        137.2837      5.740     23.916      0.000     126.032     148.536\n",
       "hr_13                        136.0359      5.760     23.617      0.000     124.745     147.327\n",
       "hr_14                        126.6361      5.776     21.923      0.000     115.313     137.959\n",
       "hr_15                        132.0865      5.780     22.852      0.000     120.756     143.417\n",
       "hr_16                        178.5206      5.772     30.927      0.000     167.206     189.836\n",
       "hr_17                        296.2670      5.749     51.537      0.000     284.998     307.536\n",
       "hr_18                        269.4409      5.736     46.976      0.000     258.198     280.684\n",
       "hr_19                        186.2558      5.714     32.596      0.000     175.055     197.457\n",
       "hr_20                        125.5492      5.704     22.012      0.000     114.369     136.730\n",
       "hr_21                         87.5537      5.693     15.378      0.000      76.393      98.714\n",
       "hr_22                         59.1226      5.689     10.392      0.000      47.970      70.275\n",
       "hr_23                         26.8376      5.688      4.719      0.000      15.688      37.987\n",
       "weathersit_cloudy/misty      -12.8903      1.964     -6.562      0.000     -16.741      -9.040\n",
       "weathersit_heavy rain/snow  -109.7446     76.667     -1.431      0.152    -260.031      40.542\n",
       "weathersit_light rain/snow   -66.4944      2.965    -22.425      0.000     -72.307     -60.682\n",
       "==============================================================================\n",
       "Omnibus:                      288.526   Durbin-Watson:                   0.519\n",
       "Prob(Omnibus):                  0.000   Jarque-Bera (JB):              518.512\n",
       "Skew:                           0.273   Prob(JB):                    2.55e-113\n",
       "Kurtosis:                       4.068   Cond. No.                         131.\n",
       "==============================================================================\n",
       "\n",
       "Notes:\n",
       "[1] Standard Errors assume that the covariance matrix of the errors is correctly specified.\n",
       "\"\"\""
      ]
     },
     "execution_count": 174,
     "metadata": {},
     "output_type": "execute_result"
    }
   ],
   "source": [
    "lm = sm.OLS(y, X).fit()\n",
    "lm.summary()"
   ]
  },
  {
   "cell_type": "markdown",
   "id": "36dd3ac9",
   "metadata": {},
   "source": [
    "In `lm`, the first level of `hr` (0) and `mnth` (Jan) are treated as the baseline values, and so no coefficient estimates are provided for them: implicitly, their coefficient estimates are zero, and all other levels are measured relative to these baselines. For example, the Feb coefficient of $6.845$ signifies that, holding all other variables constant, there are on average about 7 more riders in February than in January. Similarly there are about 16.5 more riders in March than in January.\n",
    "\n",
    "The results seen in Section 4.6.1 used a slightly different coding of the variables `hr` and `mnth`, as follows:"
   ]
  },
  {
   "cell_type": "code",
   "execution_count": 176,
   "id": "979b5bea-c0e0-441f-82bc-ea56cba9298d",
   "metadata": {},
   "outputs": [],
   "source": [
    "def set_sum_coding(df, prefix):\n",
    "    df = df.copy()\n",
    "    cols = [c for c in df.columns if c.startswith(prefix)]\n",
    "    mask = df[cols].sum(axis=1).astype(bool)\n",
    "    df.loc[~mask, cols] = -1\n",
    "    return df"
   ]
  },
  {
   "cell_type": "code",
   "execution_count": 185,
   "id": "535349bb-87c7-410c-bc8e-b8b2c2371dbe",
   "metadata": {},
   "outputs": [
    {
     "data": {
      "text/plain": [
       "array([ 0,  1,  2,  3,  4,  5,  6,  7,  8,  9, 10, 11, 12, 13, 14, 15, 16,\n",
       "       17, 18, 19, 20, 21, 22, 23])"
      ]
     },
     "execution_count": 185,
     "metadata": {},
     "output_type": "execute_result"
    }
   ],
   "source": [
    "Bikershare.hr.unique()"
   ]
  },
  {
   "cell_type": "code",
   "execution_count": 192,
   "id": "c2423914-94e1-41aa-81ab-32b30e2e5321",
   "metadata": {},
   "outputs": [
    {
     "data": {
      "text/html": [
       "<div>\n",
       "<style scoped>\n",
       "    .dataframe tbody tr th:only-of-type {\n",
       "        vertical-align: middle;\n",
       "    }\n",
       "\n",
       "    .dataframe tbody tr th {\n",
       "        vertical-align: top;\n",
       "    }\n",
       "\n",
       "    .dataframe thead th {\n",
       "        text-align: right;\n",
       "    }\n",
       "</style>\n",
       "<table border=\"1\" class=\"dataframe\">\n",
       "  <thead>\n",
       "    <tr style=\"text-align: right;\">\n",
       "      <th></th>\n",
       "      <th>const</th>\n",
       "      <th>workingday</th>\n",
       "      <th>temp</th>\n",
       "      <th>mnth_Jan</th>\n",
       "      <th>mnth_Feb</th>\n",
       "      <th>mnth_March</th>\n",
       "      <th>mnth_April</th>\n",
       "      <th>mnth_May</th>\n",
       "      <th>mnth_June</th>\n",
       "      <th>mnth_July</th>\n",
       "      <th>...</th>\n",
       "      <th>hr_16</th>\n",
       "      <th>hr_17</th>\n",
       "      <th>hr_18</th>\n",
       "      <th>hr_19</th>\n",
       "      <th>hr_20</th>\n",
       "      <th>hr_21</th>\n",
       "      <th>hr_22</th>\n",
       "      <th>weathersit_cloudy/misty</th>\n",
       "      <th>weathersit_heavy rain/snow</th>\n",
       "      <th>weathersit_light rain/snow</th>\n",
       "    </tr>\n",
       "  </thead>\n",
       "  <tbody>\n",
       "    <tr>\n",
       "      <th>1</th>\n",
       "      <td>1.0</td>\n",
       "      <td>0</td>\n",
       "      <td>0.24</td>\n",
       "      <td>1</td>\n",
       "      <td>0</td>\n",
       "      <td>0</td>\n",
       "      <td>0</td>\n",
       "      <td>0</td>\n",
       "      <td>0</td>\n",
       "      <td>0</td>\n",
       "      <td>...</td>\n",
       "      <td>0</td>\n",
       "      <td>0</td>\n",
       "      <td>0</td>\n",
       "      <td>0</td>\n",
       "      <td>0</td>\n",
       "      <td>0</td>\n",
       "      <td>0</td>\n",
       "      <td>0</td>\n",
       "      <td>0</td>\n",
       "      <td>0</td>\n",
       "    </tr>\n",
       "    <tr>\n",
       "      <th>2</th>\n",
       "      <td>1.0</td>\n",
       "      <td>0</td>\n",
       "      <td>0.22</td>\n",
       "      <td>1</td>\n",
       "      <td>0</td>\n",
       "      <td>0</td>\n",
       "      <td>0</td>\n",
       "      <td>0</td>\n",
       "      <td>0</td>\n",
       "      <td>0</td>\n",
       "      <td>...</td>\n",
       "      <td>0</td>\n",
       "      <td>0</td>\n",
       "      <td>0</td>\n",
       "      <td>0</td>\n",
       "      <td>0</td>\n",
       "      <td>0</td>\n",
       "      <td>0</td>\n",
       "      <td>0</td>\n",
       "      <td>0</td>\n",
       "      <td>0</td>\n",
       "    </tr>\n",
       "    <tr>\n",
       "      <th>3</th>\n",
       "      <td>1.0</td>\n",
       "      <td>0</td>\n",
       "      <td>0.22</td>\n",
       "      <td>1</td>\n",
       "      <td>0</td>\n",
       "      <td>0</td>\n",
       "      <td>0</td>\n",
       "      <td>0</td>\n",
       "      <td>0</td>\n",
       "      <td>0</td>\n",
       "      <td>...</td>\n",
       "      <td>0</td>\n",
       "      <td>0</td>\n",
       "      <td>0</td>\n",
       "      <td>0</td>\n",
       "      <td>0</td>\n",
       "      <td>0</td>\n",
       "      <td>0</td>\n",
       "      <td>0</td>\n",
       "      <td>0</td>\n",
       "      <td>0</td>\n",
       "    </tr>\n",
       "    <tr>\n",
       "      <th>4</th>\n",
       "      <td>1.0</td>\n",
       "      <td>0</td>\n",
       "      <td>0.24</td>\n",
       "      <td>1</td>\n",
       "      <td>0</td>\n",
       "      <td>0</td>\n",
       "      <td>0</td>\n",
       "      <td>0</td>\n",
       "      <td>0</td>\n",
       "      <td>0</td>\n",
       "      <td>...</td>\n",
       "      <td>0</td>\n",
       "      <td>0</td>\n",
       "      <td>0</td>\n",
       "      <td>0</td>\n",
       "      <td>0</td>\n",
       "      <td>0</td>\n",
       "      <td>0</td>\n",
       "      <td>0</td>\n",
       "      <td>0</td>\n",
       "      <td>0</td>\n",
       "    </tr>\n",
       "    <tr>\n",
       "      <th>5</th>\n",
       "      <td>1.0</td>\n",
       "      <td>0</td>\n",
       "      <td>0.24</td>\n",
       "      <td>1</td>\n",
       "      <td>0</td>\n",
       "      <td>0</td>\n",
       "      <td>0</td>\n",
       "      <td>0</td>\n",
       "      <td>0</td>\n",
       "      <td>0</td>\n",
       "      <td>...</td>\n",
       "      <td>0</td>\n",
       "      <td>0</td>\n",
       "      <td>0</td>\n",
       "      <td>0</td>\n",
       "      <td>0</td>\n",
       "      <td>0</td>\n",
       "      <td>0</td>\n",
       "      <td>0</td>\n",
       "      <td>0</td>\n",
       "      <td>0</td>\n",
       "    </tr>\n",
       "  </tbody>\n",
       "</table>\n",
       "<p>5 rows × 40 columns</p>\n",
       "</div>"
      ],
      "text/plain": [
       "   const  workingday  temp  mnth_Jan  mnth_Feb  mnth_March  mnth_April  \\\n",
       "1    1.0           0  0.24         1         0           0           0   \n",
       "2    1.0           0  0.22         1         0           0           0   \n",
       "3    1.0           0  0.22         1         0           0           0   \n",
       "4    1.0           0  0.24         1         0           0           0   \n",
       "5    1.0           0  0.24         1         0           0           0   \n",
       "\n",
       "   mnth_May  mnth_June  mnth_July  ...  hr_16  hr_17  hr_18  hr_19  hr_20  \\\n",
       "1         0          0          0  ...      0      0      0      0      0   \n",
       "2         0          0          0  ...      0      0      0      0      0   \n",
       "3         0          0          0  ...      0      0      0      0      0   \n",
       "4         0          0          0  ...      0      0      0      0      0   \n",
       "5         0          0          0  ...      0      0      0      0      0   \n",
       "\n",
       "   hr_21  hr_22  weathersit_cloudy/misty  weathersit_heavy rain/snow  \\\n",
       "1      0      0                        0                           0   \n",
       "2      0      0                        0                           0   \n",
       "3      0      0                        0                           0   \n",
       "4      0      0                        0                           0   \n",
       "5      0      0                        0                           0   \n",
       "\n",
       "   weathersit_light rain/snow  \n",
       "1                           0  \n",
       "2                           0  \n",
       "3                           0  \n",
       "4                           0  \n",
       "5                           0  \n",
       "\n",
       "[5 rows x 40 columns]"
      ]
     },
     "execution_count": 192,
     "metadata": {},
     "output_type": "execute_result"
    }
   ],
   "source": [
    "y = Bikershare.bikers\n",
    "X = Bikershare[['mnth', 'hr', 'workingday', 'temp', 'weathersit']].copy()\n",
    "X['hr'] = X.hr.astype('category')\n",
    "X['mnth'] = X.mnth.astype('category')\n",
    "X['mnth'] = X.mnth.cat.reorder_categories(['Jan', 'Feb', 'March', 'April', 'May', 'June', 'July', 'Aug', 'Sept', 'Oct', 'Nov', 'Dec'])\n",
    "X = sm.add_constant(X)\n",
    "\n",
    "X = pd.get_dummies(X, drop_first=False, dtype=int) # Signed int type needed for sum encoding below\n",
    "X.drop(columns=['mnth_Dec', 'hr_23', 'weathersit_clear'], inplace=True)\n",
    "\n",
    "#X = set_sum_coding(X, 'weathersit')\n",
    "X = set_sum_coding(X, 'mnth')\n",
    "X = set_sum_coding(X, 'hr')\n",
    "X.head()"
   ]
  },
  {
   "cell_type": "code",
   "execution_count": 193,
   "id": "79836f61-f842-4c4a-9d91-9e772eaf1a9d",
   "metadata": {},
   "outputs": [
    {
     "data": {
      "text/html": [
       "<table class=\"simpletable\">\n",
       "<caption>OLS Regression Results</caption>\n",
       "<tr>\n",
       "  <th>Dep. Variable:</th>         <td>bikers</td>      <th>  R-squared:         </th> <td>   0.675</td> \n",
       "</tr>\n",
       "<tr>\n",
       "  <th>Model:</th>                   <td>OLS</td>       <th>  Adj. R-squared:    </th> <td>   0.673</td> \n",
       "</tr>\n",
       "<tr>\n",
       "  <th>Method:</th>             <td>Least Squares</td>  <th>  F-statistic:       </th> <td>   457.3</td> \n",
       "</tr>\n",
       "<tr>\n",
       "  <th>Date:</th>             <td>Tue, 20 Sep 2022</td> <th>  Prob (F-statistic):</th>  <td>  0.00</td>  \n",
       "</tr>\n",
       "<tr>\n",
       "  <th>Time:</th>                 <td>11:14:00</td>     <th>  Log-Likelihood:    </th> <td> -49743.</td> \n",
       "</tr>\n",
       "<tr>\n",
       "  <th>No. Observations:</th>      <td>  8645</td>      <th>  AIC:               </th> <td>9.957e+04</td>\n",
       "</tr>\n",
       "<tr>\n",
       "  <th>Df Residuals:</th>          <td>  8605</td>      <th>  BIC:               </th> <td>9.985e+04</td>\n",
       "</tr>\n",
       "<tr>\n",
       "  <th>Df Model:</th>              <td>    39</td>      <th>                     </th>     <td> </td>    \n",
       "</tr>\n",
       "<tr>\n",
       "  <th>Covariance Type:</th>      <td>nonrobust</td>    <th>                     </th>     <td> </td>    \n",
       "</tr>\n",
       "</table>\n",
       "<table class=\"simpletable\">\n",
       "<tr>\n",
       "               <td></td>                 <th>coef</th>     <th>std err</th>      <th>t</th>      <th>P>|t|</th>  <th>[0.025</th>    <th>0.975]</th>  \n",
       "</tr>\n",
       "<tr>\n",
       "  <th>const</th>                      <td>   73.5974</td> <td>    5.132</td> <td>   14.340</td> <td> 0.000</td> <td>   63.537</td> <td>   83.658</td>\n",
       "</tr>\n",
       "<tr>\n",
       "  <th>workingday</th>                 <td>    1.2696</td> <td>    1.784</td> <td>    0.711</td> <td> 0.477</td> <td>   -2.228</td> <td>    4.768</td>\n",
       "</tr>\n",
       "<tr>\n",
       "  <th>temp</th>                       <td>  157.2094</td> <td>   10.261</td> <td>   15.321</td> <td> 0.000</td> <td>  137.095</td> <td>  177.324</td>\n",
       "</tr>\n",
       "<tr>\n",
       "  <th>mnth_Jan</th>                   <td>  -46.0871</td> <td>    4.085</td> <td>  -11.281</td> <td> 0.000</td> <td>  -54.096</td> <td>  -38.079</td>\n",
       "</tr>\n",
       "<tr>\n",
       "  <th>mnth_Feb</th>                   <td>  -39.2419</td> <td>    3.539</td> <td>  -11.088</td> <td> 0.000</td> <td>  -46.179</td> <td>  -32.304</td>\n",
       "</tr>\n",
       "<tr>\n",
       "  <th>mnth_March</th>                 <td>  -29.5357</td> <td>    3.155</td> <td>   -9.361</td> <td> 0.000</td> <td>  -35.721</td> <td>  -23.351</td>\n",
       "</tr>\n",
       "<tr>\n",
       "  <th>mnth_April</th>                 <td>   -4.6622</td> <td>    2.741</td> <td>   -1.701</td> <td> 0.089</td> <td>  -10.034</td> <td>    0.710</td>\n",
       "</tr>\n",
       "<tr>\n",
       "  <th>mnth_May</th>                   <td>   26.4700</td> <td>    2.851</td> <td>    9.285</td> <td> 0.000</td> <td>   20.882</td> <td>   32.058</td>\n",
       "</tr>\n",
       "<tr>\n",
       "  <th>mnth_June</th>                  <td>   21.7317</td> <td>    3.465</td> <td>    6.272</td> <td> 0.000</td> <td>   14.939</td> <td>   28.524</td>\n",
       "</tr>\n",
       "<tr>\n",
       "  <th>mnth_July</th>                  <td>   -0.7626</td> <td>    3.908</td> <td>   -0.195</td> <td> 0.845</td> <td>   -8.424</td> <td>    6.899</td>\n",
       "</tr>\n",
       "<tr>\n",
       "  <th>mnth_Aug</th>                   <td>    7.1560</td> <td>    3.535</td> <td>    2.024</td> <td> 0.043</td> <td>    0.227</td> <td>   14.085</td>\n",
       "</tr>\n",
       "<tr>\n",
       "  <th>mnth_Sept</th>                  <td>   20.5912</td> <td>    3.046</td> <td>    6.761</td> <td> 0.000</td> <td>   14.621</td> <td>   26.561</td>\n",
       "</tr>\n",
       "<tr>\n",
       "  <th>mnth_Oct</th>                   <td>   29.7472</td> <td>    2.700</td> <td>   11.019</td> <td> 0.000</td> <td>   24.455</td> <td>   35.039</td>\n",
       "</tr>\n",
       "<tr>\n",
       "  <th>mnth_Nov</th>                   <td>   14.2229</td> <td>    2.860</td> <td>    4.972</td> <td> 0.000</td> <td>    8.616</td> <td>   19.830</td>\n",
       "</tr>\n",
       "<tr>\n",
       "  <th>hr_0</th>                       <td>  -96.1420</td> <td>    3.955</td> <td>  -24.307</td> <td> 0.000</td> <td> -103.895</td> <td>  -88.389</td>\n",
       "</tr>\n",
       "<tr>\n",
       "  <th>hr_1</th>                       <td> -110.7213</td> <td>    3.966</td> <td>  -27.916</td> <td> 0.000</td> <td> -118.496</td> <td> -102.947</td>\n",
       "</tr>\n",
       "<tr>\n",
       "  <th>hr_2</th>                       <td> -117.7212</td> <td>    4.016</td> <td>  -29.310</td> <td> 0.000</td> <td> -125.594</td> <td> -109.848</td>\n",
       "</tr>\n",
       "<tr>\n",
       "  <th>hr_3</th>                       <td> -127.2828</td> <td>    4.081</td> <td>  -31.191</td> <td> 0.000</td> <td> -135.282</td> <td> -119.283</td>\n",
       "</tr>\n",
       "<tr>\n",
       "  <th>hr_4</th>                       <td> -133.0495</td> <td>    4.117</td> <td>  -32.319</td> <td> 0.000</td> <td> -141.119</td> <td> -124.980</td>\n",
       "</tr>\n",
       "<tr>\n",
       "  <th>hr_5</th>                       <td> -120.2775</td> <td>    4.037</td> <td>  -29.794</td> <td> 0.000</td> <td> -128.191</td> <td> -112.364</td>\n",
       "</tr>\n",
       "<tr>\n",
       "  <th>hr_6</th>                       <td>  -75.5424</td> <td>    3.992</td> <td>  -18.925</td> <td> 0.000</td> <td>  -83.367</td> <td>  -67.718</td>\n",
       "</tr>\n",
       "<tr>\n",
       "  <th>hr_7</th>                       <td>   23.9511</td> <td>    3.969</td> <td>    6.035</td> <td> 0.000</td> <td>   16.172</td> <td>   31.730</td>\n",
       "</tr>\n",
       "<tr>\n",
       "  <th>hr_8</th>                       <td>  127.5199</td> <td>    3.950</td> <td>   32.284</td> <td> 0.000</td> <td>  119.777</td> <td>  135.263</td>\n",
       "</tr>\n",
       "<tr>\n",
       "  <th>hr_9</th>                       <td>   24.4399</td> <td>    3.936</td> <td>    6.209</td> <td> 0.000</td> <td>   16.724</td> <td>   32.155</td>\n",
       "</tr>\n",
       "<tr>\n",
       "  <th>hr_10</th>                      <td>  -12.3407</td> <td>    3.936</td> <td>   -3.135</td> <td> 0.002</td> <td>  -20.056</td> <td>   -4.625</td>\n",
       "</tr>\n",
       "<tr>\n",
       "  <th>hr_11</th>                      <td>    9.2814</td> <td>    3.945</td> <td>    2.353</td> <td> 0.019</td> <td>    1.549</td> <td>   17.014</td>\n",
       "</tr>\n",
       "<tr>\n",
       "  <th>hr_12</th>                      <td>   41.1417</td> <td>    3.957</td> <td>   10.397</td> <td> 0.000</td> <td>   33.385</td> <td>   48.899</td>\n",
       "</tr>\n",
       "<tr>\n",
       "  <th>hr_13</th>                      <td>   39.8939</td> <td>    3.975</td> <td>   10.036</td> <td> 0.000</td> <td>   32.102</td> <td>   47.686</td>\n",
       "</tr>\n",
       "<tr>\n",
       "  <th>hr_14</th>                      <td>   30.4940</td> <td>    3.991</td> <td>    7.641</td> <td> 0.000</td> <td>   22.671</td> <td>   38.317</td>\n",
       "</tr>\n",
       "<tr>\n",
       "  <th>hr_15</th>                      <td>   35.9445</td> <td>    3.995</td> <td>    8.998</td> <td> 0.000</td> <td>   28.114</td> <td>   43.775</td>\n",
       "</tr>\n",
       "<tr>\n",
       "  <th>hr_16</th>                      <td>   82.3786</td> <td>    3.988</td> <td>   20.655</td> <td> 0.000</td> <td>   74.561</td> <td>   90.197</td>\n",
       "</tr>\n",
       "<tr>\n",
       "  <th>hr_17</th>                      <td>  200.1249</td> <td>    3.964</td> <td>   50.488</td> <td> 0.000</td> <td>  192.355</td> <td>  207.895</td>\n",
       "</tr>\n",
       "<tr>\n",
       "  <th>hr_18</th>                      <td>  173.2989</td> <td>    3.956</td> <td>   43.806</td> <td> 0.000</td> <td>  165.544</td> <td>  181.054</td>\n",
       "</tr>\n",
       "<tr>\n",
       "  <th>hr_19</th>                      <td>   90.1138</td> <td>    3.940</td> <td>   22.872</td> <td> 0.000</td> <td>   82.390</td> <td>   97.837</td>\n",
       "</tr>\n",
       "<tr>\n",
       "  <th>hr_20</th>                      <td>   29.4071</td> <td>    3.936</td> <td>    7.471</td> <td> 0.000</td> <td>   21.691</td> <td>   37.123</td>\n",
       "</tr>\n",
       "<tr>\n",
       "  <th>hr_21</th>                      <td>   -8.5883</td> <td>    3.933</td> <td>   -2.184</td> <td> 0.029</td> <td>  -16.298</td> <td>   -0.878</td>\n",
       "</tr>\n",
       "<tr>\n",
       "  <th>hr_22</th>                      <td>  -37.0194</td> <td>    3.934</td> <td>   -9.409</td> <td> 0.000</td> <td>  -44.732</td> <td>  -29.307</td>\n",
       "</tr>\n",
       "<tr>\n",
       "  <th>weathersit_cloudy/misty</th>    <td>  -12.8903</td> <td>    1.964</td> <td>   -6.562</td> <td> 0.000</td> <td>  -16.741</td> <td>   -9.040</td>\n",
       "</tr>\n",
       "<tr>\n",
       "  <th>weathersit_heavy rain/snow</th> <td> -109.7446</td> <td>   76.667</td> <td>   -1.431</td> <td> 0.152</td> <td> -260.031</td> <td>   40.542</td>\n",
       "</tr>\n",
       "<tr>\n",
       "  <th>weathersit_light rain/snow</th> <td>  -66.4944</td> <td>    2.965</td> <td>  -22.425</td> <td> 0.000</td> <td>  -72.307</td> <td>  -60.682</td>\n",
       "</tr>\n",
       "</table>\n",
       "<table class=\"simpletable\">\n",
       "<tr>\n",
       "  <th>Omnibus:</th>       <td>288.526</td> <th>  Durbin-Watson:     </th> <td>   0.519</td> \n",
       "</tr>\n",
       "<tr>\n",
       "  <th>Prob(Omnibus):</th> <td> 0.000</td>  <th>  Jarque-Bera (JB):  </th> <td> 518.512</td> \n",
       "</tr>\n",
       "<tr>\n",
       "  <th>Skew:</th>          <td> 0.273</td>  <th>  Prob(JB):          </th> <td>2.55e-113</td>\n",
       "</tr>\n",
       "<tr>\n",
       "  <th>Kurtosis:</th>      <td> 4.068</td>  <th>  Cond. No.          </th> <td>    127.</td> \n",
       "</tr>\n",
       "</table><br/><br/>Notes:<br/>[1] Standard Errors assume that the covariance matrix of the errors is correctly specified."
      ],
      "text/plain": [
       "<class 'statsmodels.iolib.summary.Summary'>\n",
       "\"\"\"\n",
       "                            OLS Regression Results                            \n",
       "==============================================================================\n",
       "Dep. Variable:                 bikers   R-squared:                       0.675\n",
       "Model:                            OLS   Adj. R-squared:                  0.673\n",
       "Method:                 Least Squares   F-statistic:                     457.3\n",
       "Date:                Tue, 20 Sep 2022   Prob (F-statistic):               0.00\n",
       "Time:                        11:14:00   Log-Likelihood:                -49743.\n",
       "No. Observations:                8645   AIC:                         9.957e+04\n",
       "Df Residuals:                    8605   BIC:                         9.985e+04\n",
       "Df Model:                          39                                         \n",
       "Covariance Type:            nonrobust                                         \n",
       "==============================================================================================\n",
       "                                 coef    std err          t      P>|t|      [0.025      0.975]\n",
       "----------------------------------------------------------------------------------------------\n",
       "const                         73.5974      5.132     14.340      0.000      63.537      83.658\n",
       "workingday                     1.2696      1.784      0.711      0.477      -2.228       4.768\n",
       "temp                         157.2094     10.261     15.321      0.000     137.095     177.324\n",
       "mnth_Jan                     -46.0871      4.085    -11.281      0.000     -54.096     -38.079\n",
       "mnth_Feb                     -39.2419      3.539    -11.088      0.000     -46.179     -32.304\n",
       "mnth_March                   -29.5357      3.155     -9.361      0.000     -35.721     -23.351\n",
       "mnth_April                    -4.6622      2.741     -1.701      0.089     -10.034       0.710\n",
       "mnth_May                      26.4700      2.851      9.285      0.000      20.882      32.058\n",
       "mnth_June                     21.7317      3.465      6.272      0.000      14.939      28.524\n",
       "mnth_July                     -0.7626      3.908     -0.195      0.845      -8.424       6.899\n",
       "mnth_Aug                       7.1560      3.535      2.024      0.043       0.227      14.085\n",
       "mnth_Sept                     20.5912      3.046      6.761      0.000      14.621      26.561\n",
       "mnth_Oct                      29.7472      2.700     11.019      0.000      24.455      35.039\n",
       "mnth_Nov                      14.2229      2.860      4.972      0.000       8.616      19.830\n",
       "hr_0                         -96.1420      3.955    -24.307      0.000    -103.895     -88.389\n",
       "hr_1                        -110.7213      3.966    -27.916      0.000    -118.496    -102.947\n",
       "hr_2                        -117.7212      4.016    -29.310      0.000    -125.594    -109.848\n",
       "hr_3                        -127.2828      4.081    -31.191      0.000    -135.282    -119.283\n",
       "hr_4                        -133.0495      4.117    -32.319      0.000    -141.119    -124.980\n",
       "hr_5                        -120.2775      4.037    -29.794      0.000    -128.191    -112.364\n",
       "hr_6                         -75.5424      3.992    -18.925      0.000     -83.367     -67.718\n",
       "hr_7                          23.9511      3.969      6.035      0.000      16.172      31.730\n",
       "hr_8                         127.5199      3.950     32.284      0.000     119.777     135.263\n",
       "hr_9                          24.4399      3.936      6.209      0.000      16.724      32.155\n",
       "hr_10                        -12.3407      3.936     -3.135      0.002     -20.056      -4.625\n",
       "hr_11                          9.2814      3.945      2.353      0.019       1.549      17.014\n",
       "hr_12                         41.1417      3.957     10.397      0.000      33.385      48.899\n",
       "hr_13                         39.8939      3.975     10.036      0.000      32.102      47.686\n",
       "hr_14                         30.4940      3.991      7.641      0.000      22.671      38.317\n",
       "hr_15                         35.9445      3.995      8.998      0.000      28.114      43.775\n",
       "hr_16                         82.3786      3.988     20.655      0.000      74.561      90.197\n",
       "hr_17                        200.1249      3.964     50.488      0.000     192.355     207.895\n",
       "hr_18                        173.2989      3.956     43.806      0.000     165.544     181.054\n",
       "hr_19                         90.1138      3.940     22.872      0.000      82.390      97.837\n",
       "hr_20                         29.4071      3.936      7.471      0.000      21.691      37.123\n",
       "hr_21                         -8.5883      3.933     -2.184      0.029     -16.298      -0.878\n",
       "hr_22                        -37.0194      3.934     -9.409      0.000     -44.732     -29.307\n",
       "weathersit_cloudy/misty      -12.8903      1.964     -6.562      0.000     -16.741      -9.040\n",
       "weathersit_heavy rain/snow  -109.7446     76.667     -1.431      0.152    -260.031      40.542\n",
       "weathersit_light rain/snow   -66.4944      2.965    -22.425      0.000     -72.307     -60.682\n",
       "==============================================================================\n",
       "Omnibus:                      288.526   Durbin-Watson:                   0.519\n",
       "Prob(Omnibus):                  0.000   Jarque-Bera (JB):              518.512\n",
       "Skew:                           0.273   Prob(JB):                    2.55e-113\n",
       "Kurtosis:                       4.068   Cond. No.                         127.\n",
       "==============================================================================\n",
       "\n",
       "Notes:\n",
       "[1] Standard Errors assume that the covariance matrix of the errors is correctly specified.\n",
       "\"\"\""
      ]
     },
     "execution_count": 193,
     "metadata": {},
     "output_type": "execute_result"
    }
   ],
   "source": [
    "lm2 = sm.OLS(y, X).fit()\n",
    "lm2.summary()"
   ]
  },
  {
   "cell_type": "markdown",
   "id": "60579e3b",
   "metadata": {},
   "source": [
    "What is the difference between the two codings?  In `lm2`,  a coefficient estimate is reported for all but the last level of `hr` and `mnth`. Importantly, in `lm2`, the coefficient estimate for the last level of `mnth` is not zero: instead, it equals the *negative of the sum of the coefficient estimates for all of the other levels*. Similarly, in `lm2`, the coefficient estimate for the last level of `hr` is the negative of the sum of the coefficient estimates for all of the other levels. This means that the coefficients of `hr` and `mnth` in `lm2` will always sum to zero, and can be interpreted as the difference from the mean level. For example, the coefficient for January of $-46.087$ indicates that, holding all other variables constant, there are typically 46 fewer riders in January relative to the yearly average.\n",
    "\n",
    "It is important to realize that the choice of coding really does not matter, provided that we interpret the model output correctly in light of the coding used. For example, we see   that the predictions from the linear model are the same regardless of coding:"
   ]
  },
  {
   "cell_type": "code",
   "execution_count": 197,
   "id": "e173665f-e89c-4bc1-843d-25e5603477b2",
   "metadata": {},
   "outputs": [
    {
     "data": {
      "text/plain": [
       "3.700583438492766e-21"
      ]
     },
     "execution_count": 197,
     "metadata": {},
     "output_type": "execute_result"
    }
   ],
   "source": [
    "np.sum((lm.predict() - lm2.predict())**2)"
   ]
  },
  {
   "cell_type": "markdown",
   "id": "79b586a2",
   "metadata": {},
   "source": [
    "The sum of squared differences is zero. We can also see this using the `allclose()` function:"
   ]
  },
  {
   "cell_type": "code",
   "execution_count": 201,
   "id": "7004fb55",
   "metadata": {
    "lines_to_next_cell": 2,
    "name": "chunk39"
   },
   "outputs": [
    {
     "data": {
      "text/plain": [
       "True"
      ]
     },
     "execution_count": 201,
     "metadata": {},
     "output_type": "execute_result"
    }
   ],
   "source": [
    "np.allclose(lm.predict(), lm2.predict())"
   ]
  },
  {
   "cell_type": "markdown",
   "id": "cbaeb480",
   "metadata": {},
   "source": [
    "To reproduce the left-hand side of Figure 4.13, we must first obtain the coefficient estimates associated with `mnth`. The coefficients for January through November can be obtained directly from the `lm2` object. The coefficient for December must be explicitly computed as the negative sum of all the other months."
   ]
  },
  {
   "cell_type": "code",
   "execution_count": 212,
   "id": "b66f7e87-1c77-4769-89f7-c8c2c4afc15e",
   "metadata": {},
   "outputs": [
    {
     "data": {
      "text/plain": [
       "[-46.08709039388042,\n",
       " -39.241887612541404,\n",
       " -29.535652459721202,\n",
       " -4.662183493129998,\n",
       " 26.469993141622535,\n",
       " 21.731658419339656,\n",
       " -0.7626303956266955,\n",
       " 7.155950440435166,\n",
       " 20.591186132190252,\n",
       " 29.74716195095169,\n",
       " 14.222912526896675,\n",
       " 0.3705817434637737]"
      ]
     },
     "execution_count": 212,
     "metadata": {},
     "output_type": "execute_result"
    }
   ],
   "source": [
    "coef_months = lm2.params[lm2.params.index.str.startswith('mnth')].to_list()\n",
    "coef_months.append(-sum(coef_months))\n",
    "coef_months"
   ]
  },
  {
   "cell_type": "code",
   "execution_count": 217,
   "id": "527c6ea2-9f2d-4de2-857c-5a21ca9c455d",
   "metadata": {},
   "outputs": [
    {
     "data": {
      "image/png": "[encoded data removed]",
      "text/plain": [
       "<Figure size 432x288 with 1 Axes>"
      ]
     },
     "metadata": {
      "needs_background": "light"
     },
     "output_type": "display_data"
    }
   ],
   "source": [
    "plt.plot(coef_months, 'o-')\n",
    "plt.ylabel('Coefficient')\n",
    "plt.xlabel('Month')\n",
    "plt.xticks(range(12), [\"J\", \"F\", \"M\", \"A\",\n",
    "    \"M\", \"J\", \"J\", \"A\", \"S\", \"O\", \"N\", \"D\"]);"
   ]
  },
  {
   "cell_type": "markdown",
   "id": "82a5eb9e",
   "metadata": {},
   "source": [
    "To make the plot, we manually label the $x$-axis with the names of the months."
   ]
  },
  {
   "cell_type": "markdown",
   "id": "c3c26987",
   "metadata": {},
   "source": [
    "Reproducing the right-hand side of Figure 4.13 follows a similar process."
   ]
  },
  {
   "cell_type": "code",
   "execution_count": 221,
   "id": "a38f89bb-ded6-4c28-b434-f104072da075",
   "metadata": {},
   "outputs": [
    {
     "data": {
      "image/png": "[encoded data removed]",
      "text/plain": [
       "<Figure size 432x288 with 1 Axes>"
      ]
     },
     "metadata": {
      "needs_background": "light"
     },
     "output_type": "display_data"
    }
   ],
   "source": [
    "coef_hr = lm2.params[lm2.params.index.str.startswith('hr')].to_list()\n",
    "coef_hr.append(-sum(coef_hr))\n",
    "\n",
    "plt.plot(coef_hr, 'o-')\n",
    "plt.ylabel('Coefficient')\n",
    "plt.xlabel('Hour');"
   ]
  },
  {
   "cell_type": "markdown",
   "id": "81e9b9b1",
   "metadata": {},
   "source": [
    "Now, we consider instead fitting a Poisson regression model to the `Bikeshare` data. Very little changes, except that we now use the function `glm()` with the argument `family = poisson` to specify that we wish to  fit a Poisson regression model:"
   ]
  },
  {
   "cell_type": "code",
   "execution_count": 243,
   "id": "ec9cd386-36ab-47e6-8a21-8bb90e7e91d0",
   "metadata": {},
   "outputs": [
    {
     "data": {
      "text/html": [
       "<div>\n",
       "<style scoped>\n",
       "    .dataframe tbody tr th:only-of-type {\n",
       "        vertical-align: middle;\n",
       "    }\n",
       "\n",
       "    .dataframe tbody tr th {\n",
       "        vertical-align: top;\n",
       "    }\n",
       "\n",
       "    .dataframe thead th {\n",
       "        text-align: right;\n",
       "    }\n",
       "</style>\n",
       "<table border=\"1\" class=\"dataframe\">\n",
       "  <thead>\n",
       "    <tr style=\"text-align: right;\">\n",
       "      <th></th>\n",
       "      <th>const</th>\n",
       "      <th>workingday</th>\n",
       "      <th>temp</th>\n",
       "      <th>mnth_Jan</th>\n",
       "      <th>mnth_Feb</th>\n",
       "      <th>mnth_March</th>\n",
       "      <th>mnth_April</th>\n",
       "      <th>mnth_May</th>\n",
       "      <th>mnth_June</th>\n",
       "      <th>mnth_July</th>\n",
       "      <th>...</th>\n",
       "      <th>hr_16</th>\n",
       "      <th>hr_17</th>\n",
       "      <th>hr_18</th>\n",
       "      <th>hr_19</th>\n",
       "      <th>hr_20</th>\n",
       "      <th>hr_21</th>\n",
       "      <th>hr_22</th>\n",
       "      <th>weathersit_cloudy/misty</th>\n",
       "      <th>weathersit_heavy rain/snow</th>\n",
       "      <th>weathersit_light rain/snow</th>\n",
       "    </tr>\n",
       "  </thead>\n",
       "  <tbody>\n",
       "    <tr>\n",
       "      <th>1</th>\n",
       "      <td>1.0</td>\n",
       "      <td>0</td>\n",
       "      <td>0.24</td>\n",
       "      <td>1</td>\n",
       "      <td>0</td>\n",
       "      <td>0</td>\n",
       "      <td>0</td>\n",
       "      <td>0</td>\n",
       "      <td>0</td>\n",
       "      <td>0</td>\n",
       "      <td>...</td>\n",
       "      <td>0</td>\n",
       "      <td>0</td>\n",
       "      <td>0</td>\n",
       "      <td>0</td>\n",
       "      <td>0</td>\n",
       "      <td>0</td>\n",
       "      <td>0</td>\n",
       "      <td>0</td>\n",
       "      <td>0</td>\n",
       "      <td>0</td>\n",
       "    </tr>\n",
       "    <tr>\n",
       "      <th>2</th>\n",
       "      <td>1.0</td>\n",
       "      <td>0</td>\n",
       "      <td>0.22</td>\n",
       "      <td>1</td>\n",
       "      <td>0</td>\n",
       "      <td>0</td>\n",
       "      <td>0</td>\n",
       "      <td>0</td>\n",
       "      <td>0</td>\n",
       "      <td>0</td>\n",
       "      <td>...</td>\n",
       "      <td>0</td>\n",
       "      <td>0</td>\n",
       "      <td>0</td>\n",
       "      <td>0</td>\n",
       "      <td>0</td>\n",
       "      <td>0</td>\n",
       "      <td>0</td>\n",
       "      <td>0</td>\n",
       "      <td>0</td>\n",
       "      <td>0</td>\n",
       "    </tr>\n",
       "    <tr>\n",
       "      <th>3</th>\n",
       "      <td>1.0</td>\n",
       "      <td>0</td>\n",
       "      <td>0.22</td>\n",
       "      <td>1</td>\n",
       "      <td>0</td>\n",
       "      <td>0</td>\n",
       "      <td>0</td>\n",
       "      <td>0</td>\n",
       "      <td>0</td>\n",
       "      <td>0</td>\n",
       "      <td>...</td>\n",
       "      <td>0</td>\n",
       "      <td>0</td>\n",
       "      <td>0</td>\n",
       "      <td>0</td>\n",
       "      <td>0</td>\n",
       "      <td>0</td>\n",
       "      <td>0</td>\n",
       "      <td>0</td>\n",
       "      <td>0</td>\n",
       "      <td>0</td>\n",
       "    </tr>\n",
       "    <tr>\n",
       "      <th>4</th>\n",
       "      <td>1.0</td>\n",
       "      <td>0</td>\n",
       "      <td>0.24</td>\n",
       "      <td>1</td>\n",
       "      <td>0</td>\n",
       "      <td>0</td>\n",
       "      <td>0</td>\n",
       "      <td>0</td>\n",
       "      <td>0</td>\n",
       "      <td>0</td>\n",
       "      <td>...</td>\n",
       "      <td>0</td>\n",
       "      <td>0</td>\n",
       "      <td>0</td>\n",
       "      <td>0</td>\n",
       "      <td>0</td>\n",
       "      <td>0</td>\n",
       "      <td>0</td>\n",
       "      <td>0</td>\n",
       "      <td>0</td>\n",
       "      <td>0</td>\n",
       "    </tr>\n",
       "    <tr>\n",
       "      <th>5</th>\n",
       "      <td>1.0</td>\n",
       "      <td>0</td>\n",
       "      <td>0.24</td>\n",
       "      <td>1</td>\n",
       "      <td>0</td>\n",
       "      <td>0</td>\n",
       "      <td>0</td>\n",
       "      <td>0</td>\n",
       "      <td>0</td>\n",
       "      <td>0</td>\n",
       "      <td>...</td>\n",
       "      <td>0</td>\n",
       "      <td>0</td>\n",
       "      <td>0</td>\n",
       "      <td>0</td>\n",
       "      <td>0</td>\n",
       "      <td>0</td>\n",
       "      <td>0</td>\n",
       "      <td>0</td>\n",
       "      <td>0</td>\n",
       "      <td>0</td>\n",
       "    </tr>\n",
       "  </tbody>\n",
       "</table>\n",
       "<p>5 rows × 40 columns</p>\n",
       "</div>"
      ],
      "text/plain": [
       "   const  workingday  temp  mnth_Jan  mnth_Feb  mnth_March  mnth_April  \\\n",
       "1    1.0           0  0.24         1         0           0           0   \n",
       "2    1.0           0  0.22         1         0           0           0   \n",
       "3    1.0           0  0.22         1         0           0           0   \n",
       "4    1.0           0  0.24         1         0           0           0   \n",
       "5    1.0           0  0.24         1         0           0           0   \n",
       "\n",
       "   mnth_May  mnth_June  mnth_July  ...  hr_16  hr_17  hr_18  hr_19  hr_20  \\\n",
       "1         0          0          0  ...      0      0      0      0      0   \n",
       "2         0          0          0  ...      0      0      0      0      0   \n",
       "3         0          0          0  ...      0      0      0      0      0   \n",
       "4         0          0          0  ...      0      0      0      0      0   \n",
       "5         0          0          0  ...      0      0      0      0      0   \n",
       "\n",
       "   hr_21  hr_22  weathersit_cloudy/misty  weathersit_heavy rain/snow  \\\n",
       "1      0      0                        0                           0   \n",
       "2      0      0                        0                           0   \n",
       "3      0      0                        0                           0   \n",
       "4      0      0                        0                           0   \n",
       "5      0      0                        0                           0   \n",
       "\n",
       "   weathersit_light rain/snow  \n",
       "1                           0  \n",
       "2                           0  \n",
       "3                           0  \n",
       "4                           0  \n",
       "5                           0  \n",
       "\n",
       "[5 rows x 40 columns]"
      ]
     },
     "execution_count": 243,
     "metadata": {},
     "output_type": "execute_result"
    }
   ],
   "source": [
    "y = Bikershare.bikers\n",
    "X = Bikershare[['mnth', 'hr', 'workingday', 'temp', 'weathersit']].copy()\n",
    "X['hr'] = X.hr.astype('category')\n",
    "X['mnth'] = X.mnth.astype('category')\n",
    "X['mnth'] = X.mnth.cat.reorder_categories(['Jan', 'Feb', 'March', 'April', 'May', 'June', 'July', 'Aug', 'Sept', 'Oct', 'Nov', 'Dec'])\n",
    "X = sm.add_constant(X)\n",
    "\n",
    "X = pd.get_dummies(X, drop_first=False, dtype=int)\n",
    "X.drop(columns=['mnth_Dec', 'hr_23', 'weathersit_clear'], inplace=True)\n",
    "\n",
    "X = set_sum_coding(X, 'mnth')\n",
    "X = set_sum_coding(X, 'hr')\n",
    "X.head()"
   ]
  },
  {
   "cell_type": "code",
   "execution_count": 244,
   "id": "5796be63-4ed4-413c-94ca-48fdcb338efe",
   "metadata": {},
   "outputs": [
    {
     "data": {
      "text/html": [
       "<table class=\"simpletable\">\n",
       "<caption>Generalized Linear Model Regression Results</caption>\n",
       "<tr>\n",
       "  <th>Dep. Variable:</th>        <td>bikers</td>      <th>  No. Observations:  </th>   <td>  8645</td>   \n",
       "</tr>\n",
       "<tr>\n",
       "  <th>Model:</th>                  <td>GLM</td>       <th>  Df Residuals:      </th>   <td>  8605</td>   \n",
       "</tr>\n",
       "<tr>\n",
       "  <th>Model Family:</th>         <td>Poisson</td>     <th>  Df Model:          </th>   <td>    39</td>   \n",
       "</tr>\n",
       "<tr>\n",
       "  <th>Link Function:</th>          <td>Log</td>       <th>  Scale:             </th>  <td>  1.0000</td>  \n",
       "</tr>\n",
       "<tr>\n",
       "  <th>Method:</th>                <td>IRLS</td>       <th>  Log-Likelihood:    </th> <td>-1.4054e+05</td>\n",
       "</tr>\n",
       "<tr>\n",
       "  <th>Date:</th>            <td>Tue, 20 Sep 2022</td> <th>  Deviance:          </th> <td>2.2804e+05</td> \n",
       "</tr>\n",
       "<tr>\n",
       "  <th>Time:</th>                <td>11:42:50</td>     <th>  Pearson chi2:      </th>  <td>2.20e+05</td>  \n",
       "</tr>\n",
       "<tr>\n",
       "  <th>No. Iterations:</th>          <td>7</td>        <th>  Pseudo R-squ. (CS):</th>   <td> 1.000</td>   \n",
       "</tr>\n",
       "<tr>\n",
       "  <th>Covariance Type:</th>     <td>nonrobust</td>    <th>                     </th>      <td> </td>     \n",
       "</tr>\n",
       "</table>\n",
       "<table class=\"simpletable\">\n",
       "<tr>\n",
       "               <td></td>                 <th>coef</th>     <th>std err</th>      <th>z</th>      <th>P>|z|</th>  <th>[0.025</th>    <th>0.975]</th>  \n",
       "</tr>\n",
       "<tr>\n",
       "  <th>const</th>                      <td>    4.1182</td> <td>    0.006</td> <td>  683.963</td> <td> 0.000</td> <td>    4.106</td> <td>    4.130</td>\n",
       "</tr>\n",
       "<tr>\n",
       "  <th>workingday</th>                 <td>    0.0147</td> <td>    0.002</td> <td>    7.502</td> <td> 0.000</td> <td>    0.011</td> <td>    0.018</td>\n",
       "</tr>\n",
       "<tr>\n",
       "  <th>temp</th>                       <td>    0.7853</td> <td>    0.011</td> <td>   68.434</td> <td> 0.000</td> <td>    0.763</td> <td>    0.808</td>\n",
       "</tr>\n",
       "<tr>\n",
       "  <th>mnth_Jan</th>                   <td>   -0.6702</td> <td>    0.006</td> <td> -113.445</td> <td> 0.000</td> <td>   -0.682</td> <td>   -0.659</td>\n",
       "</tr>\n",
       "<tr>\n",
       "  <th>mnth_Feb</th>                   <td>   -0.4441</td> <td>    0.005</td> <td>  -91.379</td> <td> 0.000</td> <td>   -0.454</td> <td>   -0.435</td>\n",
       "</tr>\n",
       "<tr>\n",
       "  <th>mnth_March</th>                 <td>   -0.2937</td> <td>    0.004</td> <td>  -70.886</td> <td> 0.000</td> <td>   -0.302</td> <td>   -0.286</td>\n",
       "</tr>\n",
       "<tr>\n",
       "  <th>mnth_April</th>                 <td>    0.0215</td> <td>    0.003</td> <td>    6.888</td> <td> 0.000</td> <td>    0.015</td> <td>    0.028</td>\n",
       "</tr>\n",
       "<tr>\n",
       "  <th>mnth_May</th>                   <td>    0.2405</td> <td>    0.003</td> <td>   82.462</td> <td> 0.000</td> <td>    0.235</td> <td>    0.246</td>\n",
       "</tr>\n",
       "<tr>\n",
       "  <th>mnth_June</th>                  <td>    0.2232</td> <td>    0.004</td> <td>   62.818</td> <td> 0.000</td> <td>    0.216</td> <td>    0.230</td>\n",
       "</tr>\n",
       "<tr>\n",
       "  <th>mnth_July</th>                  <td>    0.1036</td> <td>    0.004</td> <td>   25.121</td> <td> 0.000</td> <td>    0.096</td> <td>    0.112</td>\n",
       "</tr>\n",
       "<tr>\n",
       "  <th>mnth_Aug</th>                   <td>    0.1512</td> <td>    0.004</td> <td>   41.281</td> <td> 0.000</td> <td>    0.144</td> <td>    0.158</td>\n",
       "</tr>\n",
       "<tr>\n",
       "  <th>mnth_Sept</th>                  <td>    0.2335</td> <td>    0.003</td> <td>   75.281</td> <td> 0.000</td> <td>    0.227</td> <td>    0.240</td>\n",
       "</tr>\n",
       "<tr>\n",
       "  <th>mnth_Oct</th>                   <td>    0.2676</td> <td>    0.003</td> <td>   96.091</td> <td> 0.000</td> <td>    0.262</td> <td>    0.273</td>\n",
       "</tr>\n",
       "<tr>\n",
       "  <th>mnth_Nov</th>                   <td>    0.1503</td> <td>    0.003</td> <td>   47.248</td> <td> 0.000</td> <td>    0.144</td> <td>    0.156</td>\n",
       "</tr>\n",
       "<tr>\n",
       "  <th>hr_0</th>                       <td>   -0.7544</td> <td>    0.008</td> <td>  -95.744</td> <td> 0.000</td> <td>   -0.770</td> <td>   -0.739</td>\n",
       "</tr>\n",
       "<tr>\n",
       "  <th>hr_1</th>                       <td>   -1.2260</td> <td>    0.010</td> <td> -123.173</td> <td> 0.000</td> <td>   -1.245</td> <td>   -1.206</td>\n",
       "</tr>\n",
       "<tr>\n",
       "  <th>hr_2</th>                       <td>   -1.5631</td> <td>    0.012</td> <td> -131.702</td> <td> 0.000</td> <td>   -1.586</td> <td>   -1.540</td>\n",
       "</tr>\n",
       "<tr>\n",
       "  <th>hr_3</th>                       <td>   -2.1983</td> <td>    0.016</td> <td> -133.846</td> <td> 0.000</td> <td>   -2.230</td> <td>   -2.166</td>\n",
       "</tr>\n",
       "<tr>\n",
       "  <th>hr_4</th>                       <td>   -2.8305</td> <td>    0.023</td> <td> -125.586</td> <td> 0.000</td> <td>   -2.875</td> <td>   -2.786</td>\n",
       "</tr>\n",
       "<tr>\n",
       "  <th>hr_5</th>                       <td>   -1.8147</td> <td>    0.013</td> <td> -134.775</td> <td> 0.000</td> <td>   -1.841</td> <td>   -1.788</td>\n",
       "</tr>\n",
       "<tr>\n",
       "  <th>hr_6</th>                       <td>   -0.4299</td> <td>    0.007</td> <td>  -62.341</td> <td> 0.000</td> <td>   -0.443</td> <td>   -0.416</td>\n",
       "</tr>\n",
       "<tr>\n",
       "  <th>hr_7</th>                       <td>    0.5752</td> <td>    0.004</td> <td>  130.544</td> <td> 0.000</td> <td>    0.567</td> <td>    0.584</td>\n",
       "</tr>\n",
       "<tr>\n",
       "  <th>hr_8</th>                       <td>    1.0769</td> <td>    0.004</td> <td>  302.220</td> <td> 0.000</td> <td>    1.070</td> <td>    1.084</td>\n",
       "</tr>\n",
       "<tr>\n",
       "  <th>hr_9</th>                       <td>    0.5818</td> <td>    0.004</td> <td>  135.727</td> <td> 0.000</td> <td>    0.573</td> <td>    0.590</td>\n",
       "</tr>\n",
       "<tr>\n",
       "  <th>hr_10</th>                      <td>    0.3369</td> <td>    0.005</td> <td>   71.372</td> <td> 0.000</td> <td>    0.328</td> <td>    0.346</td>\n",
       "</tr>\n",
       "<tr>\n",
       "  <th>hr_11</th>                      <td>    0.4941</td> <td>    0.004</td> <td>  112.494</td> <td> 0.000</td> <td>    0.486</td> <td>    0.503</td>\n",
       "</tr>\n",
       "<tr>\n",
       "  <th>hr_12</th>                      <td>    0.6796</td> <td>    0.004</td> <td>  167.040</td> <td> 0.000</td> <td>    0.672</td> <td>    0.688</td>\n",
       "</tr>\n",
       "<tr>\n",
       "  <th>hr_13</th>                      <td>    0.6736</td> <td>    0.004</td> <td>  164.722</td> <td> 0.000</td> <td>    0.666</td> <td>    0.682</td>\n",
       "</tr>\n",
       "<tr>\n",
       "  <th>hr_14</th>                      <td>    0.6249</td> <td>    0.004</td> <td>  149.570</td> <td> 0.000</td> <td>    0.617</td> <td>    0.633</td>\n",
       "</tr>\n",
       "<tr>\n",
       "  <th>hr_15</th>                      <td>    0.6538</td> <td>    0.004</td> <td>  158.205</td> <td> 0.000</td> <td>    0.646</td> <td>    0.662</td>\n",
       "</tr>\n",
       "<tr>\n",
       "  <th>hr_16</th>                      <td>    0.8743</td> <td>    0.004</td> <td>  231.040</td> <td> 0.000</td> <td>    0.867</td> <td>    0.882</td>\n",
       "</tr>\n",
       "<tr>\n",
       "  <th>hr_17</th>                      <td>    1.2946</td> <td>    0.003</td> <td>  397.848</td> <td> 0.000</td> <td>    1.288</td> <td>    1.301</td>\n",
       "</tr>\n",
       "<tr>\n",
       "  <th>hr_18</th>                      <td>    1.2123</td> <td>    0.003</td> <td>  365.084</td> <td> 0.000</td> <td>    1.206</td> <td>    1.219</td>\n",
       "</tr>\n",
       "<tr>\n",
       "  <th>hr_19</th>                      <td>    0.9140</td> <td>    0.004</td> <td>  247.065</td> <td> 0.000</td> <td>    0.907</td> <td>    0.921</td>\n",
       "</tr>\n",
       "<tr>\n",
       "  <th>hr_20</th>                      <td>    0.6162</td> <td>    0.004</td> <td>  147.045</td> <td> 0.000</td> <td>    0.608</td> <td>    0.624</td>\n",
       "</tr>\n",
       "<tr>\n",
       "  <th>hr_21</th>                      <td>    0.3642</td> <td>    0.005</td> <td>   78.173</td> <td> 0.000</td> <td>    0.355</td> <td>    0.373</td>\n",
       "</tr>\n",
       "<tr>\n",
       "  <th>hr_22</th>                      <td>    0.1175</td> <td>    0.005</td> <td>   22.488</td> <td> 0.000</td> <td>    0.107</td> <td>    0.128</td>\n",
       "</tr>\n",
       "<tr>\n",
       "  <th>weathersit_cloudy/misty</th>    <td>   -0.0752</td> <td>    0.002</td> <td>  -34.528</td> <td> 0.000</td> <td>   -0.080</td> <td>   -0.071</td>\n",
       "</tr>\n",
       "<tr>\n",
       "  <th>weathersit_heavy rain/snow</th> <td>   -0.9263</td> <td>    0.167</td> <td>   -5.554</td> <td> 0.000</td> <td>   -1.253</td> <td>   -0.599</td>\n",
       "</tr>\n",
       "<tr>\n",
       "  <th>weathersit_light rain/snow</th> <td>   -0.5758</td> <td>    0.004</td> <td> -141.905</td> <td> 0.000</td> <td>   -0.584</td> <td>   -0.568</td>\n",
       "</tr>\n",
       "</table>"
      ],
      "text/plain": [
       "<class 'statsmodels.iolib.summary.Summary'>\n",
       "\"\"\"\n",
       "                 Generalized Linear Model Regression Results                  \n",
       "==============================================================================\n",
       "Dep. Variable:                 bikers   No. Observations:                 8645\n",
       "Model:                            GLM   Df Residuals:                     8605\n",
       "Model Family:                 Poisson   Df Model:                           39\n",
       "Link Function:                    Log   Scale:                          1.0000\n",
       "Method:                          IRLS   Log-Likelihood:            -1.4054e+05\n",
       "Date:                Tue, 20 Sep 2022   Deviance:                   2.2804e+05\n",
       "Time:                        11:42:50   Pearson chi2:                 2.20e+05\n",
       "No. Iterations:                     7   Pseudo R-squ. (CS):              1.000\n",
       "Covariance Type:            nonrobust                                         \n",
       "==============================================================================================\n",
       "                                 coef    std err          z      P>|z|      [0.025      0.975]\n",
       "----------------------------------------------------------------------------------------------\n",
       "const                          4.1182      0.006    683.963      0.000       4.106       4.130\n",
       "workingday                     0.0147      0.002      7.502      0.000       0.011       0.018\n",
       "temp                           0.7853      0.011     68.434      0.000       0.763       0.808\n",
       "mnth_Jan                      -0.6702      0.006   -113.445      0.000      -0.682      -0.659\n",
       "mnth_Feb                      -0.4441      0.005    -91.379      0.000      -0.454      -0.435\n",
       "mnth_March                    -0.2937      0.004    -70.886      0.000      -0.302      -0.286\n",
       "mnth_April                     0.0215      0.003      6.888      0.000       0.015       0.028\n",
       "mnth_May                       0.2405      0.003     82.462      0.000       0.235       0.246\n",
       "mnth_June                      0.2232      0.004     62.818      0.000       0.216       0.230\n",
       "mnth_July                      0.1036      0.004     25.121      0.000       0.096       0.112\n",
       "mnth_Aug                       0.1512      0.004     41.281      0.000       0.144       0.158\n",
       "mnth_Sept                      0.2335      0.003     75.281      0.000       0.227       0.240\n",
       "mnth_Oct                       0.2676      0.003     96.091      0.000       0.262       0.273\n",
       "mnth_Nov                       0.1503      0.003     47.248      0.000       0.144       0.156\n",
       "hr_0                          -0.7544      0.008    -95.744      0.000      -0.770      -0.739\n",
       "hr_1                          -1.2260      0.010   -123.173      0.000      -1.245      -1.206\n",
       "hr_2                          -1.5631      0.012   -131.702      0.000      -1.586      -1.540\n",
       "hr_3                          -2.1983      0.016   -133.846      0.000      -2.230      -2.166\n",
       "hr_4                          -2.8305      0.023   -125.586      0.000      -2.875      -2.786\n",
       "hr_5                          -1.8147      0.013   -134.775      0.000      -1.841      -1.788\n",
       "hr_6                          -0.4299      0.007    -62.341      0.000      -0.443      -0.416\n",
       "hr_7                           0.5752      0.004    130.544      0.000       0.567       0.584\n",
       "hr_8                           1.0769      0.004    302.220      0.000       1.070       1.084\n",
       "hr_9                           0.5818      0.004    135.727      0.000       0.573       0.590\n",
       "hr_10                          0.3369      0.005     71.372      0.000       0.328       0.346\n",
       "hr_11                          0.4941      0.004    112.494      0.000       0.486       0.503\n",
       "hr_12                          0.6796      0.004    167.040      0.000       0.672       0.688\n",
       "hr_13                          0.6736      0.004    164.722      0.000       0.666       0.682\n",
       "hr_14                          0.6249      0.004    149.570      0.000       0.617       0.633\n",
       "hr_15                          0.6538      0.004    158.205      0.000       0.646       0.662\n",
       "hr_16                          0.8743      0.004    231.040      0.000       0.867       0.882\n",
       "hr_17                          1.2946      0.003    397.848      0.000       1.288       1.301\n",
       "hr_18                          1.2123      0.003    365.084      0.000       1.206       1.219\n",
       "hr_19                          0.9140      0.004    247.065      0.000       0.907       0.921\n",
       "hr_20                          0.6162      0.004    147.045      0.000       0.608       0.624\n",
       "hr_21                          0.3642      0.005     78.173      0.000       0.355       0.373\n",
       "hr_22                          0.1175      0.005     22.488      0.000       0.107       0.128\n",
       "weathersit_cloudy/misty       -0.0752      0.002    -34.528      0.000      -0.080      -0.071\n",
       "weathersit_heavy rain/snow    -0.9263      0.167     -5.554      0.000      -1.253      -0.599\n",
       "weathersit_light rain/snow    -0.5758      0.004   -141.905      0.000      -0.584      -0.568\n",
       "==============================================================================================\n",
       "\"\"\""
      ]
     },
     "execution_count": 244,
     "metadata": {},
     "output_type": "execute_result"
    }
   ],
   "source": [
    "pois = sm.GLM(y, X, family=sm.families.Poisson()).fit()\n",
    "pois.summary()"
   ]
  },
  {
   "cell_type": "markdown",
   "id": "f9025643",
   "metadata": {},
   "source": [
    "We can plot the coefficients associated with `mnth` and `hr`, in order to reproduce Figure 4.15:"
   ]
  },
  {
   "cell_type": "code",
   "execution_count": 245,
   "id": "6e04881b-8b16-440e-bfef-48da5bd44abb",
   "metadata": {},
   "outputs": [
    {
     "data": {
      "image/png": "[encoded data removed]",
      "text/plain": [
       "<Figure size 432x288 with 1 Axes>"
      ]
     },
     "metadata": {
      "needs_background": "light"
     },
     "output_type": "display_data"
    }
   ],
   "source": [
    "coef_months = pois.params[pois.params.index.str.startswith('mnth')].to_list()\n",
    "coef_months.append(-sum(coef_months))\n",
    "plt.plot(coef_months, 'o-')\n",
    "plt.ylabel('Coefficient')\n",
    "plt.xlabel('Month')\n",
    "plt.xticks(range(12), [\"J\", \"F\", \"M\", \"A\",\n",
    "    \"M\", \"J\", \"J\", \"A\", \"S\", \"O\", \"N\", \"D\"]);"
   ]
  },
  {
   "cell_type": "code",
   "execution_count": 246,
   "id": "72f08dcf-596c-4abe-9c08-4d44824d8465",
   "metadata": {},
   "outputs": [
    {
     "data": {
      "image/png": "[encoded data removed]",
      "text/plain": [
       "<Figure size 432x288 with 1 Axes>"
      ]
     },
     "metadata": {
      "needs_background": "light"
     },
     "output_type": "display_data"
    }
   ],
   "source": [
    "coef_hr = pois.params[pois.params.index.str.startswith('hr')].to_list()\n",
    "coef_hr.append(-sum(coef_hr))\n",
    "\n",
    "plt.plot(coef_hr, 'o-')\n",
    "plt.ylabel('Coefficient')\n",
    "plt.xlabel('Hour');"
   ]
  },
  {
   "cell_type": "markdown",
   "id": "009cc635",
   "metadata": {},
   "source": [
    "We can once again use the `predict()` function to obtain the fitted values (predictions) from this Poisson regression model. However, we must use the argument `type = \"response\"` to specify that we want `R` to output $\\exp(\\hat\\beta_0 + \\hat\\beta_1 X_1 + \\ldots +\\hat\\beta_p X_p)$ rather than $\\hat\\beta_0 + \\hat\\beta_1 X_1 + \\ldots + \\hat\\beta_p X_p$, which it will output by default."
   ]
  },
  {
   "cell_type": "code",
   "execution_count": 255,
   "id": "17a3b0c6-2db1-4140-959d-21ff2faca878",
   "metadata": {},
   "outputs": [
    {
     "data": {
      "image/png": "[encoded data removed]",
      "text/plain": [
       "<Figure size 432x288 with 1 Axes>"
      ]
     },
     "metadata": {
      "needs_background": "light"
     },
     "output_type": "display_data"
    }
   ],
   "source": [
    "plt.plot(lm2.predict(), pois.predict(), 'ko', alpha=0.05)\n",
    "plt.axline((0,0), slope=1, color='r', lw=2)\n",
    "plt.xlabel('Linear model.')\n",
    "plt.ylabel('Poisson model');"
   ]
  },
  {
   "cell_type": "markdown",
   "id": "4c98af69",
   "metadata": {},
   "source": [
    "The predictions from the Poisson regression model are correlated with those from the linear model; however, the former are non-negative. As a result the Poisson regression predictions tend to be larger than those from the linear model for either very low or very high levels of ridership.\n",
    "\n",
    "In this section, we used the `glm()` function with the argument `family = poisson` in order to perform Poisson regression. Other choices for the `family` argument can be used to fit other types of GLMs. For instance, `family = Gamma` fits a gamma regression model.\n",
    "\n"
   ]
  }
 ],
 "metadata": {
  "celltoolbar": "Edit Metadata",
  "jupytext": {
   "formats": "ipynb,Rmd"
  },
  "kernelspec": {
   "display_name": "Python 3 (ipykernel)",
   "language": "python",
   "name": "python3"
  },
  "language_info": {
   "codemirror_mode": {
    "name": "ipython",
    "version": 3
   },
   "file_extension": ".py",
   "mimetype": "text/x-python",
   "name": "python",
   "nbconvert_exporter": "python",
   "pygments_lexer": "ipython3",
   "version": "3.9.13"
  },
  "substitutions": {
   "ISLPmod": "`ISLP`",
   "Rlang": "`R`",
   "mpl": "`matplotlib`",
   "numpy": "`numpy`",
   "pandas": "`pandas`",
   "pylang": "`python`",
   "smlib": "`statsmodels`"
  }
 },
 "nbformat": 4,
 "nbformat_minor": 5
}
