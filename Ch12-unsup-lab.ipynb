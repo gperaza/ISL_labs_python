{
 "cells": [
  {
   "cell_type": "markdown",
   "id": "67f91564",
   "metadata": {},
   "source": [
    "# Lab: Unsupervised Learning\n",
    "## Principal Components Analysis\n",
    "\n",
    "In this lab, we perform PCA on the `USArrests` data set.\n",
    "The rows of the data set contain the 50 states, in alphabetical order."
   ]
  },
  {
   "cell_type": "code",
   "execution_count": 124,
   "id": "6cd2f51d-be44-4796-b740-251afd3bc42f",
   "metadata": {},
   "outputs": [],
   "source": [
    "import pandas as pd\n",
    "import numpy as np\n",
    "import matplotlib as mpl\n",
    "import matplotlib.pyplot as plt\n",
    "from sklearn.preprocessing import scale\n",
    "from sklearn.decomposition import PCA"
   ]
  },
  {
   "cell_type": "code",
   "execution_count": 5,
   "id": "7fe8ab78-23e3-4c3f-9112-6a96b79329f7",
   "metadata": {},
   "outputs": [
    {
     "data": {
      "text/html": [
       "<div>\n",
       "<style scoped>\n",
       "    .dataframe tbody tr th:only-of-type {\n",
       "        vertical-align: middle;\n",
       "    }\n",
       "\n",
       "    .dataframe tbody tr th {\n",
       "        vertical-align: top;\n",
       "    }\n",
       "\n",
       "    .dataframe thead th {\n",
       "        text-align: right;\n",
       "    }\n",
       "</style>\n",
       "<table border=\"1\" class=\"dataframe\">\n",
       "  <thead>\n",
       "    <tr style=\"text-align: right;\">\n",
       "      <th></th>\n",
       "      <th>Murder</th>\n",
       "      <th>Assault</th>\n",
       "      <th>UrbanPop</th>\n",
       "      <th>Rape</th>\n",
       "    </tr>\n",
       "  </thead>\n",
       "  <tbody>\n",
       "    <tr>\n",
       "      <th>Alabama</th>\n",
       "      <td>13.2</td>\n",
       "      <td>236</td>\n",
       "      <td>58</td>\n",
       "      <td>21.2</td>\n",
       "    </tr>\n",
       "    <tr>\n",
       "      <th>Alaska</th>\n",
       "      <td>10.0</td>\n",
       "      <td>263</td>\n",
       "      <td>48</td>\n",
       "      <td>44.5</td>\n",
       "    </tr>\n",
       "    <tr>\n",
       "      <th>Arizona</th>\n",
       "      <td>8.1</td>\n",
       "      <td>294</td>\n",
       "      <td>80</td>\n",
       "      <td>31.0</td>\n",
       "    </tr>\n",
       "    <tr>\n",
       "      <th>Arkansas</th>\n",
       "      <td>8.8</td>\n",
       "      <td>190</td>\n",
       "      <td>50</td>\n",
       "      <td>19.5</td>\n",
       "    </tr>\n",
       "    <tr>\n",
       "      <th>California</th>\n",
       "      <td>9.0</td>\n",
       "      <td>276</td>\n",
       "      <td>91</td>\n",
       "      <td>40.6</td>\n",
       "    </tr>\n",
       "  </tbody>\n",
       "</table>\n",
       "</div>"
      ],
      "text/plain": [
       "            Murder  Assault  UrbanPop  Rape\n",
       "Alabama       13.2      236        58  21.2\n",
       "Alaska        10.0      263        48  44.5\n",
       "Arizona        8.1      294        80  31.0\n",
       "Arkansas       8.8      190        50  19.5\n",
       "California     9.0      276        91  40.6"
      ]
     },
     "execution_count": 5,
     "metadata": {},
     "output_type": "execute_result"
    }
   ],
   "source": [
    "USArrests = pd.read_csv('data/USArrests.csv', index_col=0)\n",
    "USArrests.head()"
   ]
  },
  {
   "cell_type": "markdown",
   "id": "09ead673",
   "metadata": {},
   "source": [
    "The columns of the data set contain the four variables."
   ]
  },
  {
   "cell_type": "markdown",
   "id": "09ae38b1",
   "metadata": {},
   "source": [
    "We first briefly examine the data. We notice that the variables have vastly different means."
   ]
  },
  {
   "cell_type": "code",
   "execution_count": 6,
   "id": "2e176104-4214-4746-9fa8-cc0dba394659",
   "metadata": {},
   "outputs": [
    {
     "data": {
      "text/plain": [
       "Murder        7.788\n",
       "Assault     170.760\n",
       "UrbanPop     65.540\n",
       "Rape         21.232\n",
       "dtype: float64"
      ]
     },
     "execution_count": 6,
     "metadata": {},
     "output_type": "execute_result"
    }
   ],
   "source": [
    "USArrests.mean()"
   ]
  },
  {
   "cell_type": "markdown",
   "id": "d0cd124e",
   "metadata": {},
   "source": [
    "We see that there are on average three times as many rapes as murders, and more than eight times as many assaults as rapes.\n",
    "We can also examine the variances of the four variables."
   ]
  },
  {
   "cell_type": "code",
   "execution_count": 7,
   "id": "c840ae59-2cb4-4791-8a76-ce9269863c71",
   "metadata": {},
   "outputs": [
    {
     "data": {
      "text/plain": [
       "Murder        18.970465\n",
       "Assault     6945.165714\n",
       "UrbanPop     209.518776\n",
       "Rape          87.729159\n",
       "dtype: float64"
      ]
     },
     "execution_count": 7,
     "metadata": {},
     "output_type": "execute_result"
    }
   ],
   "source": [
    "USArrests.var()"
   ]
  },
  {
   "cell_type": "markdown",
   "id": "2b23b2b1-b5d8-4d6d-97f3-cc4d4c9bc44a",
   "metadata": {},
   "source": [
    "Not surprisingly, the variables also have vastly different variances:\n",
    " the `UrbanPop` variable measures the percentage of the population in each state living in an urban area, which is not a comparable number to the number of rapes\n",
    "in each state per 100,000 individuals.\n",
    "If we failed to scale the variables before performing PCA, then most of the principal components that we observed would be driven by the `Assault` variable, since it has by far the largest mean and variance.\n",
    "Thus, it is important to standardize the variables to have mean zero and standard deviation one before performing PCA."
   ]
  },
  {
   "cell_type": "code",
   "execution_count": 13,
   "id": "58fa0454-ea76-4a41-a7ee-f5e726606533",
   "metadata": {},
   "outputs": [
    {
     "data": {
      "text/html": [
       "<div>\n",
       "<style scoped>\n",
       "    .dataframe tbody tr th:only-of-type {\n",
       "        vertical-align: middle;\n",
       "    }\n",
       "\n",
       "    .dataframe tbody tr th {\n",
       "        vertical-align: top;\n",
       "    }\n",
       "\n",
       "    .dataframe thead th {\n",
       "        text-align: right;\n",
       "    }\n",
       "</style>\n",
       "<table border=\"1\" class=\"dataframe\">\n",
       "  <thead>\n",
       "    <tr style=\"text-align: right;\">\n",
       "      <th></th>\n",
       "      <th>Murder</th>\n",
       "      <th>Assault</th>\n",
       "      <th>UrbanPop</th>\n",
       "      <th>Rape</th>\n",
       "    </tr>\n",
       "  </thead>\n",
       "  <tbody>\n",
       "    <tr>\n",
       "      <th>Alabama</th>\n",
       "      <td>1.255179</td>\n",
       "      <td>0.790787</td>\n",
       "      <td>-0.526195</td>\n",
       "      <td>-0.003451</td>\n",
       "    </tr>\n",
       "    <tr>\n",
       "      <th>Alaska</th>\n",
       "      <td>0.513019</td>\n",
       "      <td>1.118060</td>\n",
       "      <td>-1.224067</td>\n",
       "      <td>2.509424</td>\n",
       "    </tr>\n",
       "    <tr>\n",
       "      <th>Arizona</th>\n",
       "      <td>0.072361</td>\n",
       "      <td>1.493817</td>\n",
       "      <td>1.009122</td>\n",
       "      <td>1.053466</td>\n",
       "    </tr>\n",
       "    <tr>\n",
       "      <th>Arkansas</th>\n",
       "      <td>0.234708</td>\n",
       "      <td>0.233212</td>\n",
       "      <td>-1.084492</td>\n",
       "      <td>-0.186794</td>\n",
       "    </tr>\n",
       "    <tr>\n",
       "      <th>California</th>\n",
       "      <td>0.281093</td>\n",
       "      <td>1.275635</td>\n",
       "      <td>1.776781</td>\n",
       "      <td>2.088814</td>\n",
       "    </tr>\n",
       "  </tbody>\n",
       "</table>\n",
       "</div>"
      ],
      "text/plain": [
       "              Murder   Assault  UrbanPop      Rape\n",
       "Alabama     1.255179  0.790787 -0.526195 -0.003451\n",
       "Alaska      0.513019  1.118060 -1.224067  2.509424\n",
       "Arizona     0.072361  1.493817  1.009122  1.053466\n",
       "Arkansas    0.234708  0.233212 -1.084492 -0.186794\n",
       "California  0.281093  1.275635  1.776781  2.088814"
      ]
     },
     "execution_count": 13,
     "metadata": {},
     "output_type": "execute_result"
    }
   ],
   "source": [
    "USArrests_scaled = pd.DataFrame(scale(USArrests),\n",
    "                                columns=USArrests.columns,\n",
    "                                index=USArrests.index)\n",
    "USArrests_scaled.head()"
   ]
  },
  {
   "cell_type": "markdown",
   "id": "cdacf9bc-e3b9-425a-bf2a-1048b11c7846",
   "metadata": {},
   "source": [
    "We now perform principal components analysis using the `PCA()` function from `Scikit-Learn`."
   ]
  },
  {
   "cell_type": "code",
   "execution_count": 20,
   "id": "28924e18-296c-494c-8b01-52922567392b",
   "metadata": {},
   "outputs": [],
   "source": [
    "pca = PCA().fit(USArrests_scaled)\n",
    "X_pca = pca.fit_transform(USArrests_scaled)\n",
    "USArrests_pca = pd.DataFrame(X_pca,\n",
    "                             columns=['PC1', 'PC2', 'PC3', 'PC4'],\n",
    "                             index=USArrests.index)"
   ]
  },
  {
   "cell_type": "markdown",
   "id": "e1b1497c",
   "metadata": {},
   "source": [
    "The output from\n",
    "`PCA()` contains a number of useful quantities."
   ]
  },
  {
   "cell_type": "markdown",
   "id": "f8cd2f2e",
   "metadata": {},
   "source": [
    "The `rotation` matrix is composed from the principal component loadings;\n",
    "each column of the rotation matrix contains the corresponding\n",
    "principal component loading vector. ( *It's called the rotation matrix, because when we matrix-multiply the $\\bf X$   matrix by `rotation`, it gives us the coordinates of the   data in the rotated coordinate system. These coordinates are the  principal component scores.* )"
   ]
  },
  {
   "cell_type": "code",
   "execution_count": 23,
   "id": "ab94cca8",
   "metadata": {
    "name": "chunk8"
   },
   "outputs": [
    {
     "data": {
      "text/html": [
       "<div>\n",
       "<style scoped>\n",
       "    .dataframe tbody tr th:only-of-type {\n",
       "        vertical-align: middle;\n",
       "    }\n",
       "\n",
       "    .dataframe tbody tr th {\n",
       "        vertical-align: top;\n",
       "    }\n",
       "\n",
       "    .dataframe thead th {\n",
       "        text-align: right;\n",
       "    }\n",
       "</style>\n",
       "<table border=\"1\" class=\"dataframe\">\n",
       "  <thead>\n",
       "    <tr style=\"text-align: right;\">\n",
       "      <th></th>\n",
       "      <th>V1</th>\n",
       "      <th>V2</th>\n",
       "      <th>V3</th>\n",
       "      <th>V4</th>\n",
       "    </tr>\n",
       "  </thead>\n",
       "  <tbody>\n",
       "    <tr>\n",
       "      <th>Murder</th>\n",
       "      <td>0.535899</td>\n",
       "      <td>0.418181</td>\n",
       "      <td>-0.341233</td>\n",
       "      <td>0.649228</td>\n",
       "    </tr>\n",
       "    <tr>\n",
       "      <th>Assault</th>\n",
       "      <td>0.583184</td>\n",
       "      <td>0.187986</td>\n",
       "      <td>-0.268148</td>\n",
       "      <td>-0.743407</td>\n",
       "    </tr>\n",
       "    <tr>\n",
       "      <th>UrbanPop</th>\n",
       "      <td>0.278191</td>\n",
       "      <td>-0.872806</td>\n",
       "      <td>-0.378016</td>\n",
       "      <td>0.133878</td>\n",
       "    </tr>\n",
       "    <tr>\n",
       "      <th>Rape</th>\n",
       "      <td>0.543432</td>\n",
       "      <td>-0.167319</td>\n",
       "      <td>0.817778</td>\n",
       "      <td>0.089024</td>\n",
       "    </tr>\n",
       "  </tbody>\n",
       "</table>\n",
       "</div>"
      ],
      "text/plain": [
       "                V1        V2        V3        V4\n",
       "Murder    0.535899  0.418181 -0.341233  0.649228\n",
       "Assault   0.583184  0.187986 -0.268148 -0.743407\n",
       "UrbanPop  0.278191 -0.872806 -0.378016  0.133878\n",
       "Rape      0.543432 -0.167319  0.817778  0.089024"
      ]
     },
     "execution_count": 23,
     "metadata": {},
     "output_type": "execute_result"
    }
   ],
   "source": [
    "rotation = pd.DataFrame(pca.components_.T,\n",
    "                        index=USArrests.columns,\n",
    "                        columns=['V1', 'V2', 'V3', 'V4'])\n",
    "rotation"
   ]
  },
  {
   "cell_type": "markdown",
   "id": "3a0c00b3",
   "metadata": {},
   "source": [
    "We see that there are four distinct principal components. This is to\n",
    "be expected because there are in general $\\min(n-1,p)$ informative\n",
    "principal components in a data set with $n$ observations and $p$\n",
    "variables.\n",
    "\n",
    "Using the `PCA()` function, we do not need to explicitly multiply the data by the principal component loading vectors  in order to obtain the principal component score vectors. We can use the transform method to obtain the $50 \\times 4$ matrix `x` that has as its columns the principal component score vectors. That is, the $k$th column is the $k$th principal component score vector."
   ]
  },
  {
   "cell_type": "code",
   "execution_count": 25,
   "id": "f0e32509-1ac1-495e-8044-149fb9f8e427",
   "metadata": {},
   "outputs": [
    {
     "data": {
      "text/html": [
       "<div>\n",
       "<style scoped>\n",
       "    .dataframe tbody tr th:only-of-type {\n",
       "        vertical-align: middle;\n",
       "    }\n",
       "\n",
       "    .dataframe tbody tr th {\n",
       "        vertical-align: top;\n",
       "    }\n",
       "\n",
       "    .dataframe thead th {\n",
       "        text-align: right;\n",
       "    }\n",
       "</style>\n",
       "<table border=\"1\" class=\"dataframe\">\n",
       "  <thead>\n",
       "    <tr style=\"text-align: right;\">\n",
       "      <th></th>\n",
       "      <th>PC1</th>\n",
       "      <th>PC2</th>\n",
       "      <th>PC3</th>\n",
       "      <th>PC4</th>\n",
       "    </tr>\n",
       "  </thead>\n",
       "  <tbody>\n",
       "    <tr>\n",
       "      <th>Alabama</th>\n",
       "      <td>0.985566</td>\n",
       "      <td>1.133392</td>\n",
       "      <td>-0.444269</td>\n",
       "      <td>0.156267</td>\n",
       "    </tr>\n",
       "    <tr>\n",
       "      <th>Alaska</th>\n",
       "      <td>1.950138</td>\n",
       "      <td>1.073213</td>\n",
       "      <td>2.040003</td>\n",
       "      <td>-0.438583</td>\n",
       "    </tr>\n",
       "    <tr>\n",
       "      <th>Arizona</th>\n",
       "      <td>1.763164</td>\n",
       "      <td>-0.745957</td>\n",
       "      <td>0.054781</td>\n",
       "      <td>-0.834653</td>\n",
       "    </tr>\n",
       "    <tr>\n",
       "      <th>Arkansas</th>\n",
       "      <td>-0.141420</td>\n",
       "      <td>1.119797</td>\n",
       "      <td>0.114574</td>\n",
       "      <td>-0.182811</td>\n",
       "    </tr>\n",
       "    <tr>\n",
       "      <th>California</th>\n",
       "      <td>2.523980</td>\n",
       "      <td>-1.542934</td>\n",
       "      <td>0.598557</td>\n",
       "      <td>-0.341996</td>\n",
       "    </tr>\n",
       "    <tr>\n",
       "      <th>Colorado</th>\n",
       "      <td>1.514563</td>\n",
       "      <td>-0.987555</td>\n",
       "      <td>1.095007</td>\n",
       "      <td>0.001465</td>\n",
       "    </tr>\n",
       "    <tr>\n",
       "      <th>Connecticut</th>\n",
       "      <td>-1.358647</td>\n",
       "      <td>-1.088928</td>\n",
       "      <td>-0.643258</td>\n",
       "      <td>-0.118469</td>\n",
       "    </tr>\n",
       "    <tr>\n",
       "      <th>Delaware</th>\n",
       "      <td>0.047709</td>\n",
       "      <td>-0.325359</td>\n",
       "      <td>-0.718633</td>\n",
       "      <td>-0.881978</td>\n",
       "    </tr>\n",
       "    <tr>\n",
       "      <th>Florida</th>\n",
       "      <td>3.013042</td>\n",
       "      <td>0.039229</td>\n",
       "      <td>-0.576829</td>\n",
       "      <td>-0.096285</td>\n",
       "    </tr>\n",
       "    <tr>\n",
       "      <th>Georgia</th>\n",
       "      <td>1.639283</td>\n",
       "      <td>1.278942</td>\n",
       "      <td>-0.342460</td>\n",
       "      <td>1.076797</td>\n",
       "    </tr>\n",
       "    <tr>\n",
       "      <th>Hawaii</th>\n",
       "      <td>-0.912657</td>\n",
       "      <td>-1.570460</td>\n",
       "      <td>0.050782</td>\n",
       "      <td>0.902807</td>\n",
       "    </tr>\n",
       "    <tr>\n",
       "      <th>Idaho</th>\n",
       "      <td>-1.639800</td>\n",
       "      <td>0.210973</td>\n",
       "      <td>0.259801</td>\n",
       "      <td>-0.499104</td>\n",
       "    </tr>\n",
       "    <tr>\n",
       "      <th>Illinois</th>\n",
       "      <td>1.378911</td>\n",
       "      <td>-0.681841</td>\n",
       "      <td>-0.677496</td>\n",
       "      <td>-0.122021</td>\n",
       "    </tr>\n",
       "    <tr>\n",
       "      <th>Indiana</th>\n",
       "      <td>-0.505461</td>\n",
       "      <td>-0.151563</td>\n",
       "      <td>0.228055</td>\n",
       "      <td>0.424666</td>\n",
       "    </tr>\n",
       "    <tr>\n",
       "      <th>Iowa</th>\n",
       "      <td>-2.253646</td>\n",
       "      <td>-0.104054</td>\n",
       "      <td>0.164564</td>\n",
       "      <td>0.017556</td>\n",
       "    </tr>\n",
       "    <tr>\n",
       "      <th>Kansas</th>\n",
       "      <td>-0.796881</td>\n",
       "      <td>-0.270165</td>\n",
       "      <td>0.025553</td>\n",
       "      <td>0.206496</td>\n",
       "    </tr>\n",
       "    <tr>\n",
       "      <th>Kentucky</th>\n",
       "      <td>-0.750859</td>\n",
       "      <td>0.958440</td>\n",
       "      <td>-0.028369</td>\n",
       "      <td>0.670557</td>\n",
       "    </tr>\n",
       "    <tr>\n",
       "      <th>Louisiana</th>\n",
       "      <td>1.564818</td>\n",
       "      <td>0.871055</td>\n",
       "      <td>-0.783480</td>\n",
       "      <td>0.454728</td>\n",
       "    </tr>\n",
       "    <tr>\n",
       "      <th>Maine</th>\n",
       "      <td>-2.396829</td>\n",
       "      <td>0.376392</td>\n",
       "      <td>-0.065682</td>\n",
       "      <td>-0.330460</td>\n",
       "    </tr>\n",
       "    <tr>\n",
       "      <th>Maryland</th>\n",
       "      <td>1.763369</td>\n",
       "      <td>0.427655</td>\n",
       "      <td>-0.157250</td>\n",
       "      <td>-0.559070</td>\n",
       "    </tr>\n",
       "    <tr>\n",
       "      <th>Massachusetts</th>\n",
       "      <td>-0.486166</td>\n",
       "      <td>-1.474496</td>\n",
       "      <td>-0.609497</td>\n",
       "      <td>-0.179599</td>\n",
       "    </tr>\n",
       "    <tr>\n",
       "      <th>Michigan</th>\n",
       "      <td>2.108441</td>\n",
       "      <td>-0.155397</td>\n",
       "      <td>0.384869</td>\n",
       "      <td>0.102372</td>\n",
       "    </tr>\n",
       "    <tr>\n",
       "      <th>Minnesota</th>\n",
       "      <td>-1.692682</td>\n",
       "      <td>-0.632261</td>\n",
       "      <td>0.153070</td>\n",
       "      <td>0.067317</td>\n",
       "    </tr>\n",
       "    <tr>\n",
       "      <th>Mississippi</th>\n",
       "      <td>0.996494</td>\n",
       "      <td>2.393796</td>\n",
       "      <td>-0.740808</td>\n",
       "      <td>0.215508</td>\n",
       "    </tr>\n",
       "    <tr>\n",
       "      <th>Missouri</th>\n",
       "      <td>0.696787</td>\n",
       "      <td>-0.263355</td>\n",
       "      <td>0.377444</td>\n",
       "      <td>0.225824</td>\n",
       "    </tr>\n",
       "    <tr>\n",
       "      <th>Montana</th>\n",
       "      <td>-1.185452</td>\n",
       "      <td>0.536874</td>\n",
       "      <td>0.246889</td>\n",
       "      <td>0.123742</td>\n",
       "    </tr>\n",
       "    <tr>\n",
       "      <th>Nebraska</th>\n",
       "      <td>-1.265637</td>\n",
       "      <td>-0.193954</td>\n",
       "      <td>0.175574</td>\n",
       "      <td>0.015893</td>\n",
       "    </tr>\n",
       "    <tr>\n",
       "      <th>Nevada</th>\n",
       "      <td>2.874395</td>\n",
       "      <td>-0.775600</td>\n",
       "      <td>1.163380</td>\n",
       "      <td>0.314515</td>\n",
       "    </tr>\n",
       "    <tr>\n",
       "      <th>New Hampshire</th>\n",
       "      <td>-2.383915</td>\n",
       "      <td>-0.018082</td>\n",
       "      <td>0.036855</td>\n",
       "      <td>-0.033137</td>\n",
       "    </tr>\n",
       "    <tr>\n",
       "      <th>New Jersey</th>\n",
       "      <td>0.181566</td>\n",
       "      <td>-1.449506</td>\n",
       "      <td>-0.764454</td>\n",
       "      <td>0.243383</td>\n",
       "    </tr>\n",
       "    <tr>\n",
       "      <th>New Mexico</th>\n",
       "      <td>1.980024</td>\n",
       "      <td>0.142849</td>\n",
       "      <td>0.183692</td>\n",
       "      <td>-0.339534</td>\n",
       "    </tr>\n",
       "    <tr>\n",
       "      <th>New York</th>\n",
       "      <td>1.682577</td>\n",
       "      <td>-0.823184</td>\n",
       "      <td>-0.643075</td>\n",
       "      <td>-0.013484</td>\n",
       "    </tr>\n",
       "    <tr>\n",
       "      <th>North Carolina</th>\n",
       "      <td>1.123379</td>\n",
       "      <td>2.228003</td>\n",
       "      <td>-0.863572</td>\n",
       "      <td>-0.954382</td>\n",
       "    </tr>\n",
       "    <tr>\n",
       "      <th>North Dakota</th>\n",
       "      <td>-2.992226</td>\n",
       "      <td>0.599119</td>\n",
       "      <td>0.301277</td>\n",
       "      <td>-0.253987</td>\n",
       "    </tr>\n",
       "    <tr>\n",
       "      <th>Ohio</th>\n",
       "      <td>-0.225965</td>\n",
       "      <td>-0.742238</td>\n",
       "      <td>-0.031139</td>\n",
       "      <td>0.473916</td>\n",
       "    </tr>\n",
       "    <tr>\n",
       "      <th>Oklahoma</th>\n",
       "      <td>-0.311783</td>\n",
       "      <td>-0.287854</td>\n",
       "      <td>-0.015310</td>\n",
       "      <td>0.010332</td>\n",
       "    </tr>\n",
       "    <tr>\n",
       "      <th>Oregon</th>\n",
       "      <td>0.059122</td>\n",
       "      <td>-0.541411</td>\n",
       "      <td>0.939833</td>\n",
       "      <td>-0.237781</td>\n",
       "    </tr>\n",
       "    <tr>\n",
       "      <th>Pennsylvania</th>\n",
       "      <td>-0.888416</td>\n",
       "      <td>-0.571100</td>\n",
       "      <td>-0.400629</td>\n",
       "      <td>0.359061</td>\n",
       "    </tr>\n",
       "    <tr>\n",
       "      <th>Rhode Island</th>\n",
       "      <td>-0.863772</td>\n",
       "      <td>-1.491978</td>\n",
       "      <td>-1.369946</td>\n",
       "      <td>-0.613569</td>\n",
       "    </tr>\n",
       "    <tr>\n",
       "      <th>South Carolina</th>\n",
       "      <td>1.320724</td>\n",
       "      <td>1.933405</td>\n",
       "      <td>-0.300538</td>\n",
       "      <td>-0.131467</td>\n",
       "    </tr>\n",
       "    <tr>\n",
       "      <th>South Dakota</th>\n",
       "      <td>-1.987775</td>\n",
       "      <td>0.823343</td>\n",
       "      <td>0.389293</td>\n",
       "      <td>-0.109572</td>\n",
       "    </tr>\n",
       "    <tr>\n",
       "      <th>Tennessee</th>\n",
       "      <td>0.999742</td>\n",
       "      <td>0.860251</td>\n",
       "      <td>0.188083</td>\n",
       "      <td>0.652864</td>\n",
       "    </tr>\n",
       "    <tr>\n",
       "      <th>Texas</th>\n",
       "      <td>1.355138</td>\n",
       "      <td>-0.412481</td>\n",
       "      <td>-0.492069</td>\n",
       "      <td>0.643195</td>\n",
       "    </tr>\n",
       "    <tr>\n",
       "      <th>Utah</th>\n",
       "      <td>-0.550565</td>\n",
       "      <td>-1.471505</td>\n",
       "      <td>0.293728</td>\n",
       "      <td>-0.082314</td>\n",
       "    </tr>\n",
       "    <tr>\n",
       "      <th>Vermont</th>\n",
       "      <td>-2.801412</td>\n",
       "      <td>1.402288</td>\n",
       "      <td>0.841263</td>\n",
       "      <td>-0.144890</td>\n",
       "    </tr>\n",
       "    <tr>\n",
       "      <th>Virginia</th>\n",
       "      <td>-0.096335</td>\n",
       "      <td>0.199735</td>\n",
       "      <td>0.011713</td>\n",
       "      <td>0.211371</td>\n",
       "    </tr>\n",
       "    <tr>\n",
       "      <th>Washington</th>\n",
       "      <td>-0.216903</td>\n",
       "      <td>-0.970124</td>\n",
       "      <td>0.624871</td>\n",
       "      <td>-0.220848</td>\n",
       "    </tr>\n",
       "    <tr>\n",
       "      <th>West Virginia</th>\n",
       "      <td>-2.108585</td>\n",
       "      <td>1.424847</td>\n",
       "      <td>0.104775</td>\n",
       "      <td>0.131909</td>\n",
       "    </tr>\n",
       "    <tr>\n",
       "      <th>Wisconsin</th>\n",
       "      <td>-2.079714</td>\n",
       "      <td>-0.611269</td>\n",
       "      <td>-0.138865</td>\n",
       "      <td>0.184104</td>\n",
       "    </tr>\n",
       "    <tr>\n",
       "      <th>Wyoming</th>\n",
       "      <td>-0.629427</td>\n",
       "      <td>0.321013</td>\n",
       "      <td>-0.240659</td>\n",
       "      <td>-0.166652</td>\n",
       "    </tr>\n",
       "  </tbody>\n",
       "</table>\n",
       "</div>"
      ],
      "text/plain": [
       "                     PC1       PC2       PC3       PC4\n",
       "Alabama         0.985566  1.133392 -0.444269  0.156267\n",
       "Alaska          1.950138  1.073213  2.040003 -0.438583\n",
       "Arizona         1.763164 -0.745957  0.054781 -0.834653\n",
       "Arkansas       -0.141420  1.119797  0.114574 -0.182811\n",
       "California      2.523980 -1.542934  0.598557 -0.341996\n",
       "Colorado        1.514563 -0.987555  1.095007  0.001465\n",
       "Connecticut    -1.358647 -1.088928 -0.643258 -0.118469\n",
       "Delaware        0.047709 -0.325359 -0.718633 -0.881978\n",
       "Florida         3.013042  0.039229 -0.576829 -0.096285\n",
       "Georgia         1.639283  1.278942 -0.342460  1.076797\n",
       "Hawaii         -0.912657 -1.570460  0.050782  0.902807\n",
       "Idaho          -1.639800  0.210973  0.259801 -0.499104\n",
       "Illinois        1.378911 -0.681841 -0.677496 -0.122021\n",
       "Indiana        -0.505461 -0.151563  0.228055  0.424666\n",
       "Iowa           -2.253646 -0.104054  0.164564  0.017556\n",
       "Kansas         -0.796881 -0.270165  0.025553  0.206496\n",
       "Kentucky       -0.750859  0.958440 -0.028369  0.670557\n",
       "Louisiana       1.564818  0.871055 -0.783480  0.454728\n",
       "Maine          -2.396829  0.376392 -0.065682 -0.330460\n",
       "Maryland        1.763369  0.427655 -0.157250 -0.559070\n",
       "Massachusetts  -0.486166 -1.474496 -0.609497 -0.179599\n",
       "Michigan        2.108441 -0.155397  0.384869  0.102372\n",
       "Minnesota      -1.692682 -0.632261  0.153070  0.067317\n",
       "Mississippi     0.996494  2.393796 -0.740808  0.215508\n",
       "Missouri        0.696787 -0.263355  0.377444  0.225824\n",
       "Montana        -1.185452  0.536874  0.246889  0.123742\n",
       "Nebraska       -1.265637 -0.193954  0.175574  0.015893\n",
       "Nevada          2.874395 -0.775600  1.163380  0.314515\n",
       "New Hampshire  -2.383915 -0.018082  0.036855 -0.033137\n",
       "New Jersey      0.181566 -1.449506 -0.764454  0.243383\n",
       "New Mexico      1.980024  0.142849  0.183692 -0.339534\n",
       "New York        1.682577 -0.823184 -0.643075 -0.013484\n",
       "North Carolina  1.123379  2.228003 -0.863572 -0.954382\n",
       "North Dakota   -2.992226  0.599119  0.301277 -0.253987\n",
       "Ohio           -0.225965 -0.742238 -0.031139  0.473916\n",
       "Oklahoma       -0.311783 -0.287854 -0.015310  0.010332\n",
       "Oregon          0.059122 -0.541411  0.939833 -0.237781\n",
       "Pennsylvania   -0.888416 -0.571100 -0.400629  0.359061\n",
       "Rhode Island   -0.863772 -1.491978 -1.369946 -0.613569\n",
       "South Carolina  1.320724  1.933405 -0.300538 -0.131467\n",
       "South Dakota   -1.987775  0.823343  0.389293 -0.109572\n",
       "Tennessee       0.999742  0.860251  0.188083  0.652864\n",
       "Texas           1.355138 -0.412481 -0.492069  0.643195\n",
       "Utah           -0.550565 -1.471505  0.293728 -0.082314\n",
       "Vermont        -2.801412  1.402288  0.841263 -0.144890\n",
       "Virginia       -0.096335  0.199735  0.011713  0.211371\n",
       "Washington     -0.216903 -0.970124  0.624871 -0.220848\n",
       "West Virginia  -2.108585  1.424847  0.104775  0.131909\n",
       "Wisconsin      -2.079714 -0.611269 -0.138865  0.184104\n",
       "Wyoming        -0.629427  0.321013 -0.240659 -0.166652"
      ]
     },
     "execution_count": 25,
     "metadata": {},
     "output_type": "execute_result"
    }
   ],
   "source": [
    "X_pca = pca.fit_transform(USArrests_scaled)\n",
    "USArrests_pca = pd.DataFrame(X_pca,\n",
    "                             columns=['PC1', 'PC2', 'PC3', 'PC4'],\n",
    "                             index=USArrests.index)\n",
    "USArrests_pca"
   ]
  },
  {
   "cell_type": "markdown",
   "id": "dfeb812d",
   "metadata": {},
   "source": [
    "We can plot the first two principal components as follows:"
   ]
  },
  {
   "cell_type": "code",
   "execution_count": 36,
   "id": "162e0807",
   "metadata": {
    "name": "chunk10"
   },
   "outputs": [
    {
     "data": {
      "image/png": "[encoded data removed]",
      "text/plain": [
       "<Figure size 720x720 with 3 Axes>"
      ]
     },
     "metadata": {},
     "output_type": "display_data"
    }
   ],
   "source": [
    "fig , ax = plt.subplots(figsize=(10, 10))\n",
    "\n",
    "ax.set_xlim(-3.5,3.5)\n",
    "ax.set_ylim(-3.5,3.5)\n",
    "\n",
    "# Plot Principal Components 1 and 2\n",
    "for i, row in USArrests_pca.iterrows():\n",
    "    ax.annotate(i, (row.PC1, -row.PC2), ha='center')\n",
    "\n",
    "# Plot reference lines\n",
    "ax.axhline(0, linestyle='dotted', color='grey')\n",
    "ax.axvline(0, linestyle='dotted', color='grey')\n",
    "\n",
    "ax.set_xlabel('First Principal Component')\n",
    "ax.set_ylabel('Second Principal Component')\n",
    "    \n",
    "# Plot Principal Component loading vectors, using a second y-axis.\n",
    "ax2 = ax.twinx().twiny() \n",
    "\n",
    "ax2.set_ylim(-1, 1)\n",
    "ax2.set_xlim(-1, 1)\n",
    "ax2.tick_params(axis='y', colors='orange')\n",
    "ax2.set_xlabel('Principal Component loading vectors', color='orange')\n",
    "\n",
    "# Plot labels for vectors. Variable 'a' is a small offset parameter to separate arrow tip and text.\n",
    "a = 1.07  \n",
    "for i, row in rotation.iterrows():\n",
    "    ax2.annotate(i, (row.V1*a, -row.V2*a), color='orange')\n",
    "    # Plot vectors\n",
    "    ax2.arrow(0, 0, row.V1, -row.V2);"
   ]
  },
  {
   "cell_type": "markdown",
   "id": "99ba225a",
   "metadata": {},
   "source": [
    "Notice that we multiplied the second principal component by -1. This is in order to reproduce Figure 12.1. Recall that the principal components are only unique up to a sign change."
   ]
  },
  {
   "cell_type": "markdown",
   "id": "713fc509",
   "metadata": {},
   "source": [
    "The standard deviation of each principal component can be calculated from the explained variance attribute, as follows:"
   ]
  },
  {
   "cell_type": "code",
   "execution_count": 37,
   "id": "ca555fac",
   "metadata": {
    "name": "chunk12"
   },
   "outputs": [
    {
     "data": {
      "text/plain": [
       "array([1.5908673 , 1.00496987, 0.6031915 , 0.4206774 ])"
      ]
     },
     "execution_count": 37,
     "metadata": {},
     "output_type": "execute_result"
    }
   ],
   "source": [
    "np.sqrt(pca.explained_variance_)"
   ]
  },
  {
   "cell_type": "markdown",
   "id": "415beff8",
   "metadata": {},
   "source": [
    "The variance explained by each principal is the original attribute:"
   ]
  },
  {
   "cell_type": "code",
   "execution_count": 38,
   "id": "b60f1d00",
   "metadata": {
    "name": "chunk13"
   },
   "outputs": [
    {
     "data": {
      "text/plain": [
       "array([2.53085875, 1.00996444, 0.36383998, 0.17696948])"
      ]
     },
     "execution_count": 38,
     "metadata": {},
     "output_type": "execute_result"
    }
   ],
   "source": [
    "pca.explained_variance_"
   ]
  },
  {
   "cell_type": "markdown",
   "id": "85eb1490",
   "metadata": {},
   "source": [
    "To compute the proportion of variance explained by each principal component, we simply divide the variance explained by each principal component by the total variance explained by all four principal components. This is already available as another attribute:"
   ]
  },
  {
   "cell_type": "code",
   "execution_count": 39,
   "id": "21ade5c0",
   "metadata": {
    "name": "chunk14"
   },
   "outputs": [
    {
     "data": {
      "text/plain": [
       "array([0.62006039, 0.24744129, 0.0891408 , 0.04335752])"
      ]
     },
     "execution_count": 39,
     "metadata": {},
     "output_type": "execute_result"
    }
   ],
   "source": [
    "pca.explained_variance_ratio_"
   ]
  },
  {
   "cell_type": "markdown",
   "id": "212a7d24",
   "metadata": {},
   "source": [
    "We see that the first principal component explains $62.0\\,\\%$ of the variance in the data, the next principal component explains $24.7\\,\\%$ of the variance, and so forth.\n",
    " We can plot the PVE explained by each component, as well as the cumulative PVE, as follows:"
   ]
  },
  {
   "cell_type": "code",
   "execution_count": 43,
   "id": "48e861b0-ccd9-4687-b60d-bb4da809c613",
   "metadata": {},
   "outputs": [
    {
     "data": {
      "image/png": "[encoded data removed]",
      "text/plain": [
       "<Figure size 504x360 with 1 Axes>"
      ]
     },
     "metadata": {
      "needs_background": "light"
     },
     "output_type": "display_data"
    }
   ],
   "source": [
    "plt.figure(figsize=(7, 5))\n",
    "\n",
    "plt.plot([1, 2, 3, 4], pca.explained_variance_ratio_, '-o', label='Individual component')\n",
    "plt.plot([1, 2, 3, 4], np.cumsum(pca.explained_variance_ratio_), '-s', label='Cumulative')\n",
    "\n",
    "plt.ylabel('Proportion of Variance Explained')\n",
    "plt.xlabel('Principal Component')\n",
    "plt.xticks([1, 2, 3, 4])\n",
    "plt.legend();"
   ]
  },
  {
   "cell_type": "markdown",
   "id": "726ce33d",
   "metadata": {},
   "source": [
    " The result is shown in Figure 12.3.\n",
    "Note that the function `cumsum()` computes the cumulative sum of the elements of  a numeric vector."
   ]
  },
  {
   "cell_type": "markdown",
   "id": "292345ef",
   "metadata": {},
   "source": [
    "## Matrix Completion \n",
    "We now re-create the analysis carried out on the _USArrests_ data in\n",
    "Section 12.3. We turn the data frame into a\n",
    "matrix, after centering and scaling each column to have mean zero and\n",
    "variance one."
   ]
  },
  {
   "cell_type": "code",
   "execution_count": 224,
   "id": "ea64bd06-0925-453d-a5fb-1300c3053d79",
   "metadata": {},
   "outputs": [
    {
     "name": "stdout",
     "output_type": "stream",
     "text": [
      "[2.53085875 1.00996444 0.36383998 0.17696948]\n",
      "[0.62006039 0.24744129 0.0891408  0.04335752]\n",
      "[0.62006039 0.86750168 0.95664248 1.        ]\n"
     ]
    }
   ],
   "source": [
    "X = pd.DataFrame(scale(USArrests),\n",
    "                 columns=USArrests.columns,\n",
    "                 index=USArrests.index)\n",
    "pca = PCA().fit(X)\n",
    "X_pca = pca.transform(X)\n",
    "print(pca.explained_variance_[:5])\n",
    "print(pca.explained_variance_ratio_[:5])\n",
    "print(np.cumsum(pca.explained_variance_ratio_)[:5])"
   ]
  },
  {
   "cell_type": "markdown",
   "id": "9e006556",
   "metadata": {},
   "source": [
    "We see that the first principal component explains $62\\%$ of the\n",
    "variance. \n",
    "\n",
    "We saw in Section 12.2.2 that solving the optimization\n",
    "problem (12.6)  on a centered data matrix $\\bf X$ is\n",
    "equivalent to computing the first $M$ principal\n",
    "components of the data. The \n",
    "(SVD)  is a general algorithm for solving (12.6)."
   ]
  },
  {
   "cell_type": "code",
   "execution_count": 202,
   "id": "e881f772-ab0b-40e1-aabc-b00837e57fc0",
   "metadata": {},
   "outputs": [],
   "source": [
    "from numpy.linalg import svd"
   ]
  },
  {
   "cell_type": "code",
   "execution_count": 212,
   "id": "e869f289-b1b9-452c-aa26-61fcb7b0a988",
   "metadata": {},
   "outputs": [
    {
     "data": {
      "text/plain": [
       "array([[-0.53589947,  0.41818087, -0.34123273,  0.6492278 ],\n",
       "       [-0.58318363,  0.1879856 , -0.26814843, -0.74340748],\n",
       "       [-0.27819087, -0.87280619, -0.37801579,  0.13387773],\n",
       "       [-0.54343209, -0.16731864,  0.81777791,  0.08902432]])"
      ]
     },
     "execution_count": 212,
     "metadata": {},
     "output_type": "execute_result"
    }
   ],
   "source": [
    "u, s, vh = svd(X, full_matrices=False)\n",
    "v = vh.T\n",
    "v"
   ]
  },
  {
   "cell_type": "markdown",
   "id": "cfb1a8f3",
   "metadata": {},
   "source": [
    "The `svd()` function returns three components, `u`, `s`, and `vh`. The matrix `v` (the transpose of `vh`) is equivalent to the\n",
    "loading matrix from principal components (up to an unimportant sign flip)."
   ]
  },
  {
   "cell_type": "code",
   "execution_count": 213,
   "id": "87e300dd-a599-4755-bcc3-730868cc12e9",
   "metadata": {},
   "outputs": [
    {
     "data": {
      "text/plain": [
       "array([[ 0.53589947,  0.41818087, -0.34123273,  0.6492278 ],\n",
       "       [ 0.58318363,  0.1879856 , -0.26814843, -0.74340748],\n",
       "       [ 0.27819087, -0.87280619, -0.37801579,  0.13387773],\n",
       "       [ 0.54343209, -0.16731864,  0.81777791,  0.08902432]])"
      ]
     },
     "execution_count": 213,
     "metadata": {},
     "output_type": "execute_result"
    }
   ],
   "source": [
    "rotation = pca.components_.T\n",
    "rotation"
   ]
  },
  {
   "cell_type": "markdown",
   "id": "a3a1d0ab",
   "metadata": {},
   "source": [
    "The matrix `u` is equivalent to the matrix of *standardized*\n",
    "scores, and the standard deviations are in the vector `s`. We can recover the score vectors using the output of `svd()`.\n",
    "They are identical to the score vectors output by `prcomp()`."
   ]
  },
  {
   "cell_type": "code",
   "execution_count": 217,
   "id": "7b6bcdd8-72c6-41d2-8db4-4c681b50e450",
   "metadata": {},
   "outputs": [
    {
     "data": {
      "text/plain": [
       "array([[-0.98556588,  1.13339238, -0.44426879,  0.15626714],\n",
       "       [-1.95013775,  1.07321326,  2.04000333, -0.43858344],\n",
       "       [-1.76316354, -0.74595678,  0.05478082, -0.83465292],\n",
       "       [ 0.14142029,  1.11979678,  0.11457369, -0.1828109 ],\n",
       "       [-2.52398013, -1.54293399,  0.5985568 , -0.34199648]])"
      ]
     },
     "execution_count": 217,
     "metadata": {},
     "output_type": "execute_result"
    }
   ],
   "source": [
    "(s * u)[:5, :4]"
   ]
  },
  {
   "cell_type": "code",
   "execution_count": 218,
   "id": "a37a5339",
   "metadata": {
    "name": "chunk20"
   },
   "outputs": [
    {
     "data": {
      "text/plain": [
       "array([[ 0.98556588,  1.13339238, -0.44426879,  0.15626714],\n",
       "       [ 1.95013775,  1.07321326,  2.04000333, -0.43858344],\n",
       "       [ 1.76316354, -0.74595678,  0.05478082, -0.83465292],\n",
       "       [-0.14142029,  1.11979678,  0.11457369, -0.1828109 ],\n",
       "       [ 2.52398013, -1.54293399,  0.5985568 , -0.34199648]])"
      ]
     },
     "execution_count": 218,
     "metadata": {},
     "output_type": "execute_result"
    }
   ],
   "source": [
    "X_pca[:5, :4]"
   ]
  },
  {
   "cell_type": "markdown",
   "id": "c4df2c8a",
   "metadata": {},
   "source": [
    "While it would be possible to carry out this lab using the `PCA()` function,\n",
    "here we use the `svd()` function in order to illustrate its use."
   ]
  },
  {
   "cell_type": "markdown",
   "id": "2ea3308d",
   "metadata": {},
   "source": [
    "We now omit 20 entries in the $50\\times 2$ data matrix at random. We do so\n",
    "by first selecting 20 rows (states) at random, and then selecting one\n",
    "of the four entries in each row at random. This ensures that every row has\n",
    "at least three observed values.\n"
   ]
  },
  {
   "cell_type": "code",
   "execution_count": 235,
   "id": "43f993f5-ec8b-48a8-be8a-8953ea5c13a6",
   "metadata": {},
   "outputs": [],
   "source": [
    "nomit = 20\n",
    "ina = prng.choice(range(50), nomit, replace=False)\n",
    "inb = prng.choice(range(4), nomit, replace=True)\n",
    "Xna = X.values.copy()\n",
    "Xna[ina, inb] = np.nan"
   ]
  },
  {
   "cell_type": "markdown",
   "id": "da1518b1",
   "metadata": {},
   "source": [
    "Here, `ina`\n",
    "contains 20 integers from 1 to 50; this represents the states that are selected to contain missing values. And `inb` contains\n",
    "20 integers from 1 to 4, representing the features that contain the missing values for each of the selected states.\n",
    "To perform the final indexing, use the created arrays to index over rows and columns of the numpy array. We have indexed a matrix with arrays of indices!\n",
    "\n",
    "We now write some code to implement\n",
    "Algorithm 12.1.\n",
    "We first write a  function that takes in a matrix, and returns an approximation to the matrix using the `svd()` function.\n",
    "  This will be needed in Step 2 of Algorithm 12.1.  As mentioned earlier, we could do this using the `prcomp()` function, but instead we use the `svd()` function for illustration."
   ]
  },
  {
   "cell_type": "code",
   "execution_count": 246,
   "id": "c12409a4-8529-49fd-806b-e125c34d1674",
   "metadata": {},
   "outputs": [],
   "source": [
    "def fit_svd(X, M=1):\n",
    "    u, s, vh = svd(X, full_matrices=False)\n",
    "    return (s * u)[:, :M] @ vh[:M, :]"
   ]
  },
  {
   "cell_type": "markdown",
   "id": "9e50e645",
   "metadata": {},
   "source": [
    "To conduct Step 1 of the algorithm, we initialize `Xhat` --- this is $\\tilde{\\bf X}$ in Algorithm 12.1 --- by replacing\n",
    "the missing values with the column means of the non-missing entries."
   ]
  },
  {
   "cell_type": "code",
   "execution_count": 283,
   "id": "c5574283-6a16-495b-839b-ccedae23a088",
   "metadata": {},
   "outputs": [],
   "source": [
    "Xhat = Xna.copy()\n",
    "xbar = np.nanmean(Xna, axis=0)\n",
    "Xhat[ina, inb] = xbar[inb]"
   ]
  },
  {
   "cell_type": "markdown",
   "id": "ee9573f9",
   "metadata": {},
   "source": [
    "Before we begin Step 2, we set ourselves up to measure the progress of our\n",
    "iterations:"
   ]
  },
  {
   "cell_type": "code",
   "execution_count": 284,
   "id": "c7c2293e",
   "metadata": {
    "name": "chunk25"
   },
   "outputs": [],
   "source": [
    "thresh = 1e-7\n",
    "rel_err = 1\n",
    "niter = 0\n",
    "\n",
    "ismiss = np.isnan(Xna)\n",
    "\n",
    "# Reconstructing value for mean imputation\n",
    "mssold = np.mean((Xna - xbar)[~ismiss]**2)\n",
    "\n",
    "# Reference error\n",
    "mss0 = np.mean(Xna[~ismiss]**2)"
   ]
  },
  {
   "cell_type": "markdown",
   "id": "8c0c6b84",
   "metadata": {},
   "source": [
    "Here  `ismiss` is a new logical matrix with the same dimensions as `Xna`; a given element equals `TRUE` if the corresponding matrix element is missing. This is useful\n",
    "because it allows us to access both the missing and non-missing entries. We store the mean of the squared non-missing elements in `mss0`.\n",
    "We store the mean squared error  of the non-missing elements  of the old version of `Xhat` in `mssold`. We plan to store the mean squared error of the non-missing elements of the current version of `Xhat` in `mss`, and will then  iterate Step 2 of Algorithm 12.1 until the *relative error*, defined as \n",
    "\n",
    "`(mssold - mss) / mss0`, falls below `thresh = 1e-7`. ( *Algorithm 12.1  tells us to iterate Step 2 until (12.14) is no longer decreasing. Determining whether (12.14)  is decreasing requires us only to keep track of `mssold - mss`. However, in practice, we keep track of `(mssold - mss) / mss0` instead: this makes it so that the number of iterations required for Algorithm 12.1 to converge does not depend on whether we multiplied the raw data $\\bf X$ by a constant factor.* )"
   ]
  },
  {
   "cell_type": "markdown",
   "id": "91516a1e",
   "metadata": {},
   "source": [
    "In Step 2(a) of Algorithm 12.1, we  approximate `Xhat` using `fit.svd()`; we call this `Xapp`.   In Step 2(b), we  use `Xapp`  to update the estimates for elements in `Xhat` that are missing in `Xna`. Finally, in Step 2(c), we compute the relative error. These three steps are contained in this `while()` loop:"
   ]
  },
  {
   "cell_type": "code",
   "execution_count": 285,
   "id": "7d5ef450-326c-4b79-a411-89a9dcfa0a56",
   "metadata": {},
   "outputs": [
    {
     "name": "stdout",
     "output_type": "stream",
     "text": [
      "Iter: 1, MSS: 0.4038800230148913, Rel. Err:, 0.5869944850552827\n",
      "Iter: 2, MSS: 0.38771661430977356, Rel. Err:, 0.01629350842264218\n",
      "Iter: 3, MSS: 0.3863802796988071, Rel. Err:, 0.0013470908046986326\n",
      "Iter: 4, MSS: 0.38624774665764583, Rel. Err:, 0.00013359980322443258\n",
      "Iter: 5, MSS: 0.3862319527067909, Rel. Err:, 1.5921076796147887e-05\n",
      "Iter: 6, MSS: 0.38622975255387104, Rel. Err:, 2.217862010712257e-06\n",
      "Iter: 7, MSS: 0.38622940667889577, Rel. Err:, 3.4865893238131024e-07\n",
      "Iter: 8, MSS: 0.3862293468898983, Rel. Err:, 6.027024074658551e-08\n"
     ]
    }
   ],
   "source": [
    "while rel_err > thresh:\n",
    "    niter += 1\n",
    "    # Step 2(a)\n",
    "    Xapp = fit_svd(Xhat, M=1)\n",
    "    # Step 2(b)\n",
    "    Xhat[ismiss] = Xapp[ismiss]\n",
    "    # Step 2(c)\n",
    "    mss = np.mean((Xna - Xapp)[~ismiss]**2)\n",
    "    rel_err = (mssold - mss) / mss0\n",
    "    mssold = mss\n",
    "    print(f\"Iter: {niter}, MSS: {mss}, Rel. Err:, {rel_err}\")"
   ]
  },
  {
   "cell_type": "markdown",
   "id": "bffcba24",
   "metadata": {},
   "source": [
    "We see that after eight iterations, the relative error has fallen below `thresh = 1e-7`, and so the algorithm terminates. When this happens, the mean squared error of the non-missing elements equals $0.386$.\n",
    "\n",
    "Finally, we compute the correlation between the 20 imputed values\n",
    "and the actual values:"
   ]
  },
  {
   "cell_type": "code",
   "execution_count": 293,
   "id": "53035f28",
   "metadata": {
    "lines_to_next_cell": 0,
    "name": "chunk27"
   },
   "outputs": [
    {
     "data": {
      "text/plain": [
       "0.7394012740751817"
      ]
     },
     "execution_count": 293,
     "metadata": {},
     "output_type": "execute_result"
    }
   ],
   "source": [
    "np.corrcoef(Xapp[ismiss], X.values[ismiss])[0, 1]"
   ]
  },
  {
   "cell_type": "markdown",
   "id": "e948a613",
   "metadata": {},
   "source": [
    "## Clustering\n",
    "\n",
    "### $K$-Means Clustering"
   ]
  },
  {
   "cell_type": "code",
   "execution_count": 44,
   "id": "29847c6d-afb6-40ed-90d0-f7c4290d1766",
   "metadata": {},
   "outputs": [],
   "source": [
    "from sklearn.cluster import KMeans"
   ]
  },
  {
   "cell_type": "markdown",
   "id": "5acc30d5-c1ca-4c93-8754-012fcb4b6b50",
   "metadata": {},
   "source": [
    "The sklearn function `KMeans()` performs K-means clustering in Python. We begin with a simple simulated example in which there truly are two clusters in the data: the first 25 observations have a mean shift relative to the next 25 observations."
   ]
  },
  {
   "cell_type": "code",
   "execution_count": 50,
   "id": "2ff59fe1-4e86-4396-b601-e66d06266d8a",
   "metadata": {},
   "outputs": [
    {
     "data": {
      "image/png": "[encoded data removed]",
      "text/plain": [
       "<Figure size 432x288 with 1 Axes>"
      ]
     },
     "metadata": {
      "needs_background": "light"
     },
     "output_type": "display_data"
    }
   ],
   "source": [
    "# Create the random number generator instance\n",
    "prng = np.random.default_rng(seed=2)\n",
    "X = prng.standard_normal((50, 2))\n",
    "X[:25, 0] += 3\n",
    "X[:25, 1] -= 4\n",
    "\n",
    "plt.scatter(X[:, 0], X[:, 1])\n",
    "plt.xlabel('$X_0$')\n",
    "plt.ylabel('$X_1$');"
   ]
  },
  {
   "cell_type": "markdown",
   "id": "ba9b8069",
   "metadata": {},
   "source": [
    "\n"
   ]
  },
  {
   "cell_type": "markdown",
   "id": "f8c1bd30",
   "metadata": {},
   "source": [
    "We now perform $K$-means clustering with $K=2$."
   ]
  },
  {
   "cell_type": "code",
   "execution_count": 60,
   "id": "2fbc6e61-6e29-4c16-9657-7bb9bd48b4f3",
   "metadata": {},
   "outputs": [],
   "source": [
    "km = KMeans(n_clusters=2, n_init=20, random_state=1).fit(X)"
   ]
  },
  {
   "cell_type": "markdown",
   "id": "89463e0f",
   "metadata": {},
   "source": [
    "The cluster assignments of the 50 observations are contained in the `labels_` attribute."
   ]
  },
  {
   "cell_type": "code",
   "execution_count": 61,
   "id": "017e4667",
   "metadata": {
    "name": "chunk30"
   },
   "outputs": [
    {
     "data": {
      "text/plain": [
       "array([0, 0, 0, 0, 0, 0, 0, 0, 0, 0, 0, 0, 0, 0, 0, 0, 0, 0, 0, 0, 0, 0,\n",
       "       0, 0, 0, 1, 1, 1, 1, 1, 1, 1, 1, 1, 1, 1, 1, 1, 1, 1, 1, 1, 1, 1,\n",
       "       1, 1, 1, 1, 1, 1], dtype=int32)"
      ]
     },
     "execution_count": 61,
     "metadata": {},
     "output_type": "execute_result"
    }
   ],
   "source": [
    "km.labels_"
   ]
  },
  {
   "cell_type": "markdown",
   "id": "644fbf89",
   "metadata": {},
   "source": [
    "The $K$-means clustering perfectly separated the observations into two clusters even though we did not supply any group information to `KMeans()`. We can plot the data, with each observation\n",
    "colored according to its cluster assignment."
   ]
  },
  {
   "cell_type": "code",
   "execution_count": 62,
   "id": "e90c8a1a-8587-4748-8a16-4a6421c6b7e8",
   "metadata": {},
   "outputs": [
    {
     "data": {
      "image/png": "[encoded data removed]",
      "text/plain": [
       "<Figure size 432x288 with 1 Axes>"
      ]
     },
     "metadata": {
      "needs_background": "light"
     },
     "output_type": "display_data"
    }
   ],
   "source": [
    "plt.scatter(X[:, 0], X[:, 1], s=50, c=km.labels_, cmap=plt.cm.bwr) \n",
    "plt.scatter(km.cluster_centers_[:, 0], \n",
    "            km.cluster_centers_[:, 1], \n",
    "            marker = '*', \n",
    "            s=150,\n",
    "            color='cyan', \n",
    "            label='Centers')\n",
    "plt.legend()\n",
    "plt.xlabel('$X_0$')\n",
    "plt.ylabel('$X_1$');"
   ]
  },
  {
   "cell_type": "markdown",
   "id": "a0d40fa5",
   "metadata": {},
   "source": [
    "Here the observations can be easily plotted because they are two-dimensional. If there were more than two\n",
    "variables then we could instead perform PCA and plot the first two principal components score vectors.\n",
    "\n",
    "In this example, we knew that there really were two clusters because we generated the data. However, for real data, in general we do not\n",
    "know the true number of clusters. We could instead have performed $K$-means clustering on this example with $K=3$."
   ]
  },
  {
   "cell_type": "code",
   "execution_count": 63,
   "id": "b4bcbb58",
   "metadata": {
    "name": "chunk32"
   },
   "outputs": [
    {
     "data": {
      "image/png": "[encoded data removed]",
      "text/plain": [
       "<Figure size 432x288 with 1 Axes>"
      ]
     },
     "metadata": {
      "needs_background": "light"
     },
     "output_type": "display_data"
    }
   ],
   "source": [
    "km_3 = KMeans(n_clusters=3, n_init=20, random_state=1).fit(X)\n",
    "\n",
    "plt.scatter(X[:, 0], X[:, 1], s=50, c=km_3.labels_, cmap=plt.cm.prism) \n",
    "plt.scatter(km_3.cluster_centers_[:, 0], km_3.cluster_centers_[:, 1],\n",
    "            marker='*', s=150,\n",
    "            color='blue', label='Centers')\n",
    "plt.legend()\n",
    "plt.xlabel('$X_0$')\n",
    "plt.ylabel('$X_1$');"
   ]
  },
  {
   "cell_type": "markdown",
   "id": "513126a7",
   "metadata": {},
   "source": [
    "When $K=3$, $K$-means clustering  splits up the two clusters.\n",
    "\n",
    "To run the `KMeans()` function with multiple initial cluster assignments, we use the\n",
    "`n_init` argument. If a value of `n_init` greater than one is used, then $K$-means clustering will be performed using\n",
    "multiple random assignments in Step 1 of Algorithm 12.2, and the `KMeans()` function will report only the best results. Here we compare using `n_init=1` to `n_init=20`."
   ]
  },
  {
   "cell_type": "code",
   "execution_count": 64,
   "id": "9e1907e8-efbb-43cd-bbb0-30ac2f0871b8",
   "metadata": {},
   "outputs": [
    {
     "name": "stdout",
     "output_type": "stream",
     "text": [
      "72.32821020261285\n",
      "69.41902429507743\n"
     ]
    }
   ],
   "source": [
    "km = KMeans(n_clusters=3, n_init=1, random_state=2).fit(X)\n",
    "print(km.inertia_)\n",
    "\n",
    "km = KMeans(n_clusters=3, n_init=20, random_state=2).fit(X)\n",
    "print(km.inertia_)"
   ]
  },
  {
   "cell_type": "markdown",
   "id": "69f0d83c-4d8a-4dc9-95c9-faa78d6db1f8",
   "metadata": {},
   "source": [
    "Note that `inertia_` is the total within-cluster sum of squares, which  we seek to minimize by performing $K$-means clustering (Equation 12.17).\n",
    "\n",
    "We *strongly* recommend always running $K$-means clustering with\n",
    "a large value of `n_init`, such as 20 or 50, since otherwise an\n",
    "undesirable local optimum may be obtained.\n",
    "\n",
    "When performing $K$-means clustering, in addition to using multiple initial cluster assignments, it is\n",
    "also  important to set a random seed using the `random_state` argument. This way, the\n",
    "initial cluster assignments in Step 1 can\n",
    "be replicated, and the $K$-means output will be fully reproducible."
   ]
  },
  {
   "cell_type": "markdown",
   "id": "2da8b160-ab0c-4182-8ff8-7e9c5e288958",
   "metadata": {},
   "source": [
    "### Hierarchical Clustering\n",
    "\n",
    "The `linkage()` function from Scipy implements  hierarchical clustering in `Python`. In the following example we use the data from the previous lab to\n",
    "plot the hierarchical clustering dendrogram using complete, single, and average linkage clustering, with  Euclidean distance as the dissimilarity measure.\n",
    "We begin by clustering observations using complete linkage. The `pdist()` function is used to compute the $50 \\times 50$ inter-observation Euclidean distance matrix, though the original data matrix can also be used."
   ]
  },
  {
   "cell_type": "code",
   "execution_count": 84,
   "id": "35881d53-3f2a-4daa-8390-7161a3ef90a1",
   "metadata": {},
   "outputs": [],
   "source": [
    "from scipy.cluster.hierarchy import linkage, dendrogram, cut_tree\n",
    "from scipy.spatial.distance import pdist, squareform"
   ]
  },
  {
   "cell_type": "code",
   "execution_count": 69,
   "id": "c4ef04e9-7331-4206-b035-8080f9037588",
   "metadata": {},
   "outputs": [
    {
     "data": {
      "text/plain": [
       "array([[0.        , 2.01097667, 2.31793219, ..., 5.70291037, 5.26524587,\n",
       "        5.35303456],\n",
       "       [2.01097667, 0.        , 4.21344527, ..., 7.07084877, 6.48548305,\n",
       "        6.49976327],\n",
       "       [2.31793219, 4.21344527, 0.        , ..., 5.80075004, 5.65986224,\n",
       "        5.84328079],\n",
       "       ...,\n",
       "       [5.70291037, 7.07084877, 5.80075004, ..., 0.        , 0.77979065,\n",
       "        0.98082715],\n",
       "       [5.26524587, 6.48548305, 5.65986224, ..., 0.77979065, 0.        ,\n",
       "        0.27043506],\n",
       "       [5.35303456, 6.49976327, 5.84328079, ..., 0.98082715, 0.27043506,\n",
       "        0.        ]])"
      ]
     },
     "execution_count": 69,
     "metadata": {},
     "output_type": "execute_result"
    }
   ],
   "source": [
    "D = pdist(X)\n",
    "# D is a condensed distance matrix, the square form is shown next\n",
    "squareform(D)"
   ]
  },
  {
   "cell_type": "code",
   "execution_count": 79,
   "id": "94ecfbd8-0a4f-40e1-bcbd-f17e6b22e8c4",
   "metadata": {},
   "outputs": [],
   "source": [
    "hc_complete = linkage(X, \"complete\", optimal_ordering=True)"
   ]
  },
  {
   "cell_type": "markdown",
   "id": "ca3cf79b",
   "metadata": {},
   "source": [
    "We could just as easily perform hierarchical clustering with average or single linkage instead:"
   ]
  },
  {
   "cell_type": "code",
   "execution_count": 71,
   "id": "5c94bdb1",
   "metadata": {
    "name": "chunk35"
   },
   "outputs": [],
   "source": [
    "hc_average = linkage(X, \"average\", optimal_ordering=True)\n",
    "hc_single = linkage(X, \"single\", optimal_ordering=True)"
   ]
  },
  {
   "cell_type": "markdown",
   "id": "85863d99",
   "metadata": {},
   "source": [
    "We can now plot the dendrograms obtained using the usual `dendrogram()` function. The numbers at the bottom of the plot identify each observation."
   ]
  },
  {
   "cell_type": "code",
   "execution_count": 83,
   "id": "da1c6efa-934e-4501-ac79-feba2a5cf0bc",
   "metadata": {},
   "outputs": [
    {
     "data": {
      "image/png": "[encoded data removed]",
      "text/plain": [
       "<Figure size 1080x1296 with 3 Axes>"
      ]
     },
     "metadata": {
      "needs_background": "light"
     },
     "output_type": "display_data"
    }
   ],
   "source": [
    "fig, ax = plt.subplots(3, 1, figsize=(15, 18))\n",
    "\n",
    "ax[0].set_title('Complete Linkage')\n",
    "dendrogram(hc_complete, ax=ax[0])\n",
    "\n",
    "ax[1].set_title('Average Linkage')\n",
    "dendrogram(hc_average, ax=ax[1])\n",
    "\n",
    "ax[2].set_title('Single Linkage')\n",
    "dendrogram(hc_single, ax=ax[2]);"
   ]
  },
  {
   "cell_type": "markdown",
   "id": "c0c14da6",
   "metadata": {},
   "source": [
    "To determine the cluster labels for each observation associated with a given cut of the dendrogram, we can use the `cut_tree()` function:"
   ]
  },
  {
   "cell_type": "code",
   "execution_count": 92,
   "id": "38f60b9f-08f8-4d1f-a413-70905311463c",
   "metadata": {},
   "outputs": [
    {
     "name": "stdout",
     "output_type": "stream",
     "text": [
      "[0 0 0 1 0 0 0 0 0 0 0 0 1 0 0 0 0 0 1 0 1 0 1 1 1 1 1 1 1 1 1 1 1 1 1 1 1\n",
      " 1 1 1 1 1 1 1 1 1 1 1 1 1]\n",
      "[0 0 0 0 0 0 0 0 0 0 0 0 0 0 0 0 0 0 0 0 0 0 0 0 0 1 1 1 1 1 1 1 1 1 1 1 1\n",
      " 1 1 1 1 1 1 1 1 1 1 1 1 1]\n",
      "[0 0 0 0 0 0 0 0 0 0 0 0 0 0 0 0 0 0 0 0 0 0 0 0 0 0 0 0 0 0 0 0 0 1 0 0 0\n",
      " 0 0 0 0 0 0 0 0 0 0 0 0 0]\n"
     ]
    }
   ],
   "source": [
    "# We flatten the arreys for better visualization\n",
    "# Cut_tree can output labales for different number of clusters as different columns\n",
    "# Other option with more strategies to determine the number of clusters is the fcluster function\n",
    "print(cut_tree(hc_complete, 2).ravel())\n",
    "print(cut_tree(hc_average, 2).ravel())\n",
    "print(cut_tree(hc_single, 2).ravel())"
   ]
  },
  {
   "cell_type": "markdown",
   "id": "30c02099",
   "metadata": {},
   "source": [
    "The second argument to `cutree()` is the number of clusters we wish to obtain.\n",
    "For this data, complete and average linkage generally separate the observations into their correct groups. However, single linkage identifies one point as belonging to its own cluster. A more sensible answer is obtained when four clusters are selected, although there are still two singletons."
   ]
  },
  {
   "cell_type": "code",
   "execution_count": 93,
   "id": "a9ea1788",
   "metadata": {
    "lines_to_next_cell": 2,
    "name": "chunk38"
   },
   "outputs": [
    {
     "name": "stdout",
     "output_type": "stream",
     "text": [
      "[0 0 0 0 0 0 0 0 0 0 0 0 0 1 0 0 0 0 0 0 0 0 0 0 0 2 2 2 2 2 2 2 2 3 2 2 2\n",
      " 2 2 2 2 2 2 2 2 2 2 2 2 2]\n"
     ]
    }
   ],
   "source": [
    "print(cut_tree(hc_single, 4).ravel())"
   ]
  },
  {
   "cell_type": "markdown",
   "id": "3823ee34",
   "metadata": {},
   "source": [
    "To scale the variables before performing hierarchical clustering of the observations, we use the `scale()` function:"
   ]
  },
  {
   "cell_type": "code",
   "execution_count": 96,
   "id": "81c163e6-b5e0-48c3-b68a-50e8292bc6a5",
   "metadata": {},
   "outputs": [
    {
     "data": {
      "image/png": "[encoded data removed]",
      "text/plain": [
       "<Figure size 432x288 with 1 Axes>"
      ]
     },
     "metadata": {
      "needs_background": "light"
     },
     "output_type": "display_data"
    }
   ],
   "source": [
    "X_sc = scale(X)\n",
    "hc_complete_sc = linkage(X_sc, \"complete\", optimal_ordering=True)\n",
    "\n",
    "dendrogram(hc_complete_sc)\n",
    "plt.title(\"Hierarchical Clustering with Scaled Features\");"
   ]
  },
  {
   "cell_type": "markdown",
   "id": "2f93ef80",
   "metadata": {},
   "source": [
    "Correlation-based distance can be computed using the `metric` argument of the `pdist` function. However, this only makes sense for data with at least three features since the absolute correlation between any two observations\n",
    "with measurements on two features is always 1. Hence, we will cluster a three-dimensional data set. This data set does not contain any true clusters."
   ]
  },
  {
   "cell_type": "code",
   "execution_count": 97,
   "id": "c8342dea-1b9a-4def-990f-49f4da4eb1f1",
   "metadata": {},
   "outputs": [
    {
     "data": {
      "image/png": "[encoded data removed]",
      "text/plain": [
       "<Figure size 432x288 with 1 Axes>"
      ]
     },
     "metadata": {
      "needs_background": "light"
     },
     "output_type": "display_data"
    }
   ],
   "source": [
    "X = prng.standard_normal((30, 3))\n",
    "\n",
    "D = pdist(X, metric='correlation')\n",
    "\n",
    "# Notice now we are passing the distance matrix, not the data matrix\n",
    "hc = linkage(D, \"complete\", optimal_ordering=True)\n",
    "dendrogram(hc)\n",
    "plt.title(\"Complete Linkage with Correlation-Based Distance\");"
   ]
  },
  {
   "cell_type": "markdown",
   "id": "88b90c6d",
   "metadata": {},
   "source": [
    "## NCI60 Data Example"
   ]
  },
  {
   "cell_type": "markdown",
   "id": "e263b013",
   "metadata": {},
   "source": [
    "Unsupervised techniques are often used in the analysis of genomic data. In particular, PCA and hierarchical clustering are popular tools.\n",
    " We  illustrate these techniques on the `NCI` cancer cell line microarray data, which consists of $6{,}830$ gene expression measurements on $64$ cancer cell lines."
   ]
  },
  {
   "cell_type": "code",
   "execution_count": 108,
   "id": "1fab55b4-d45f-4cf5-acab-56d641fc168e",
   "metadata": {},
   "outputs": [
    {
     "data": {
      "text/html": [
       "<div>\n",
       "<style scoped>\n",
       "    .dataframe tbody tr th:only-of-type {\n",
       "        vertical-align: middle;\n",
       "    }\n",
       "\n",
       "    .dataframe tbody tr th {\n",
       "        vertical-align: top;\n",
       "    }\n",
       "\n",
       "    .dataframe thead th {\n",
       "        text-align: right;\n",
       "    }\n",
       "</style>\n",
       "<table border=\"1\" class=\"dataframe\">\n",
       "  <thead>\n",
       "    <tr style=\"text-align: right;\">\n",
       "      <th></th>\n",
       "      <th>1</th>\n",
       "      <th>2</th>\n",
       "      <th>3</th>\n",
       "      <th>4</th>\n",
       "      <th>5</th>\n",
       "      <th>6</th>\n",
       "      <th>7</th>\n",
       "      <th>8</th>\n",
       "      <th>9</th>\n",
       "      <th>10</th>\n",
       "      <th>...</th>\n",
       "      <th>6821</th>\n",
       "      <th>6822</th>\n",
       "      <th>6823</th>\n",
       "      <th>6824</th>\n",
       "      <th>6825</th>\n",
       "      <th>6826</th>\n",
       "      <th>6827</th>\n",
       "      <th>6828</th>\n",
       "      <th>6829</th>\n",
       "      <th>6830</th>\n",
       "    </tr>\n",
       "  </thead>\n",
       "  <tbody>\n",
       "    <tr>\n",
       "      <th>V1</th>\n",
       "      <td>0.300000</td>\n",
       "      <td>1.180000</td>\n",
       "      <td>0.550000</td>\n",
       "      <td>1.140000</td>\n",
       "      <td>-0.265000</td>\n",
       "      <td>-7.000000e-02</td>\n",
       "      <td>0.350000</td>\n",
       "      <td>-0.315000</td>\n",
       "      <td>-0.450000</td>\n",
       "      <td>-0.654980</td>\n",
       "      <td>...</td>\n",
       "      <td>-0.990020</td>\n",
       "      <td>0.000000</td>\n",
       "      <td>0.030000</td>\n",
       "      <td>-0.175000</td>\n",
       "      <td>0.629981</td>\n",
       "      <td>-0.030000</td>\n",
       "      <td>0.000000</td>\n",
       "      <td>0.280000</td>\n",
       "      <td>-0.340000</td>\n",
       "      <td>-1.930000</td>\n",
       "    </tr>\n",
       "    <tr>\n",
       "      <th>V2</th>\n",
       "      <td>0.679961</td>\n",
       "      <td>1.289961</td>\n",
       "      <td>0.169961</td>\n",
       "      <td>0.379961</td>\n",
       "      <td>0.464961</td>\n",
       "      <td>5.799610e-01</td>\n",
       "      <td>0.699961</td>\n",
       "      <td>0.724961</td>\n",
       "      <td>-0.040039</td>\n",
       "      <td>-0.285019</td>\n",
       "      <td>...</td>\n",
       "      <td>-0.270058</td>\n",
       "      <td>-0.300039</td>\n",
       "      <td>-0.250039</td>\n",
       "      <td>-0.535039</td>\n",
       "      <td>0.109941</td>\n",
       "      <td>-0.860039</td>\n",
       "      <td>-1.250049</td>\n",
       "      <td>-0.770039</td>\n",
       "      <td>-0.390039</td>\n",
       "      <td>-2.000039</td>\n",
       "    </tr>\n",
       "    <tr>\n",
       "      <th>V3</th>\n",
       "      <td>0.940000</td>\n",
       "      <td>-0.040000</td>\n",
       "      <td>-0.170000</td>\n",
       "      <td>-0.040000</td>\n",
       "      <td>-0.605000</td>\n",
       "      <td>0.000000e+00</td>\n",
       "      <td>0.090000</td>\n",
       "      <td>0.645000</td>\n",
       "      <td>0.430000</td>\n",
       "      <td>0.475019</td>\n",
       "      <td>...</td>\n",
       "      <td>0.319981</td>\n",
       "      <td>0.120000</td>\n",
       "      <td>-0.740000</td>\n",
       "      <td>-0.595000</td>\n",
       "      <td>-0.270020</td>\n",
       "      <td>-0.150000</td>\n",
       "      <td>0.000000</td>\n",
       "      <td>-0.120000</td>\n",
       "      <td>-0.410000</td>\n",
       "      <td>0.000000</td>\n",
       "    </tr>\n",
       "    <tr>\n",
       "      <th>V4</th>\n",
       "      <td>0.280000</td>\n",
       "      <td>-0.310000</td>\n",
       "      <td>0.680000</td>\n",
       "      <td>-0.810000</td>\n",
       "      <td>0.625000</td>\n",
       "      <td>-1.387779e-17</td>\n",
       "      <td>0.170000</td>\n",
       "      <td>0.245000</td>\n",
       "      <td>0.020000</td>\n",
       "      <td>0.095019</td>\n",
       "      <td>...</td>\n",
       "      <td>-1.240020</td>\n",
       "      <td>-0.110000</td>\n",
       "      <td>-0.160000</td>\n",
       "      <td>0.095000</td>\n",
       "      <td>-0.350019</td>\n",
       "      <td>-0.300000</td>\n",
       "      <td>-1.150010</td>\n",
       "      <td>1.090000</td>\n",
       "      <td>-0.260000</td>\n",
       "      <td>-1.100000</td>\n",
       "    </tr>\n",
       "    <tr>\n",
       "      <th>V5</th>\n",
       "      <td>0.485000</td>\n",
       "      <td>-0.465000</td>\n",
       "      <td>0.395000</td>\n",
       "      <td>0.905000</td>\n",
       "      <td>0.200000</td>\n",
       "      <td>-5.000000e-03</td>\n",
       "      <td>0.085000</td>\n",
       "      <td>0.110000</td>\n",
       "      <td>0.235000</td>\n",
       "      <td>1.490019</td>\n",
       "      <td>...</td>\n",
       "      <td>0.554980</td>\n",
       "      <td>-0.775000</td>\n",
       "      <td>-0.515000</td>\n",
       "      <td>-0.320000</td>\n",
       "      <td>0.634980</td>\n",
       "      <td>0.605000</td>\n",
       "      <td>0.000000</td>\n",
       "      <td>0.745000</td>\n",
       "      <td>0.425000</td>\n",
       "      <td>0.145000</td>\n",
       "    </tr>\n",
       "  </tbody>\n",
       "</table>\n",
       "<p>5 rows × 6830 columns</p>\n",
       "</div>"
      ],
      "text/plain": [
       "           1         2         3         4         5             6         7  \\\n",
       "V1  0.300000  1.180000  0.550000  1.140000 -0.265000 -7.000000e-02  0.350000   \n",
       "V2  0.679961  1.289961  0.169961  0.379961  0.464961  5.799610e-01  0.699961   \n",
       "V3  0.940000 -0.040000 -0.170000 -0.040000 -0.605000  0.000000e+00  0.090000   \n",
       "V4  0.280000 -0.310000  0.680000 -0.810000  0.625000 -1.387779e-17  0.170000   \n",
       "V5  0.485000 -0.465000  0.395000  0.905000  0.200000 -5.000000e-03  0.085000   \n",
       "\n",
       "           8         9        10  ...      6821      6822      6823      6824  \\\n",
       "V1 -0.315000 -0.450000 -0.654980  ... -0.990020  0.000000  0.030000 -0.175000   \n",
       "V2  0.724961 -0.040039 -0.285019  ... -0.270058 -0.300039 -0.250039 -0.535039   \n",
       "V3  0.645000  0.430000  0.475019  ...  0.319981  0.120000 -0.740000 -0.595000   \n",
       "V4  0.245000  0.020000  0.095019  ... -1.240020 -0.110000 -0.160000  0.095000   \n",
       "V5  0.110000  0.235000  1.490019  ...  0.554980 -0.775000 -0.515000 -0.320000   \n",
       "\n",
       "        6825      6826      6827      6828      6829      6830  \n",
       "V1  0.629981 -0.030000  0.000000  0.280000 -0.340000 -1.930000  \n",
       "V2  0.109941 -0.860039 -1.250049 -0.770039 -0.390039 -2.000039  \n",
       "V3 -0.270020 -0.150000  0.000000 -0.120000 -0.410000  0.000000  \n",
       "V4 -0.350019 -0.300000 -1.150010  1.090000 -0.260000 -1.100000  \n",
       "V5  0.634980  0.605000  0.000000  0.745000  0.425000  0.145000  \n",
       "\n",
       "[5 rows x 6830 columns]"
      ]
     },
     "execution_count": 108,
     "metadata": {},
     "output_type": "execute_result"
    }
   ],
   "source": [
    "nci_data = pd.read_csv('data/NCI60_X.txt', index_col=0)\n",
    "nci_data.head()"
   ]
  },
  {
   "cell_type": "code",
   "execution_count": 107,
   "id": "3ec8a941-a32c-4062-b180-0e5edb384dc7",
   "metadata": {},
   "outputs": [
    {
     "data": {
      "text/html": [
       "<div>\n",
       "<style scoped>\n",
       "    .dataframe tbody tr th:only-of-type {\n",
       "        vertical-align: middle;\n",
       "    }\n",
       "\n",
       "    .dataframe tbody tr th {\n",
       "        vertical-align: top;\n",
       "    }\n",
       "\n",
       "    .dataframe thead th {\n",
       "        text-align: right;\n",
       "    }\n",
       "</style>\n",
       "<table border=\"1\" class=\"dataframe\">\n",
       "  <thead>\n",
       "    <tr style=\"text-align: right;\">\n",
       "      <th></th>\n",
       "      <th>type</th>\n",
       "    </tr>\n",
       "  </thead>\n",
       "  <tbody>\n",
       "    <tr>\n",
       "      <th>1</th>\n",
       "      <td>CNS</td>\n",
       "    </tr>\n",
       "    <tr>\n",
       "      <th>2</th>\n",
       "      <td>CNS</td>\n",
       "    </tr>\n",
       "    <tr>\n",
       "      <th>3</th>\n",
       "      <td>CNS</td>\n",
       "    </tr>\n",
       "    <tr>\n",
       "      <th>4</th>\n",
       "      <td>RENAL</td>\n",
       "    </tr>\n",
       "    <tr>\n",
       "      <th>5</th>\n",
       "      <td>BREAST</td>\n",
       "    </tr>\n",
       "  </tbody>\n",
       "</table>\n",
       "</div>"
      ],
      "text/plain": [
       "     type\n",
       "1     CNS\n",
       "2     CNS\n",
       "3     CNS\n",
       "4   RENAL\n",
       "5  BREAST"
      ]
     },
     "execution_count": 107,
     "metadata": {},
     "output_type": "execute_result"
    }
   ],
   "source": [
    "nci_labs = pd.read_csv('data/NCI60_y.txt', index_col=0).rename(columns={'x': 'type'})\n",
    "nci_labs.head()"
   ]
  },
  {
   "cell_type": "markdown",
   "id": "4e5a9590",
   "metadata": {},
   "source": [
    "Each cell line is labeled with a cancer type, given in `nci_labs`. We do not make use of the cancer types in performing PCA and clustering, as these are unsupervised techniques. But\n",
    "after performing PCA and clustering, we will\n",
    "check to see the extent to which these cancer types agree with the results of these unsupervised techniques.\n",
    "\n",
    "The data has $64$ rows and $6{,}830$ columns."
   ]
  },
  {
   "cell_type": "code",
   "execution_count": 109,
   "id": "7c3fcc73",
   "metadata": {
    "lines_to_next_cell": 2,
    "name": "chunk42"
   },
   "outputs": [
    {
     "data": {
      "text/plain": [
       "(64, 6830)"
      ]
     },
     "execution_count": 109,
     "metadata": {},
     "output_type": "execute_result"
    }
   ],
   "source": [
    "nci_data.shape"
   ]
  },
  {
   "cell_type": "markdown",
   "id": "80f06a85",
   "metadata": {},
   "source": [
    "We begin by examining the cancer types for the cell lines."
   ]
  },
  {
   "cell_type": "code",
   "execution_count": 111,
   "id": "519c2a04",
   "metadata": {
    "lines_to_next_cell": 2,
    "name": "chunk43"
   },
   "outputs": [
    {
     "data": {
      "text/plain": [
       "type       \n",
       "BREAST         7\n",
       "CNS            5\n",
       "COLON          7\n",
       "K562A-repro    1\n",
       "K562B-repro    1\n",
       "LEUKEMIA       6\n",
       "MCF7A-repro    1\n",
       "MCF7D-repro    1\n",
       "MELANOMA       8\n",
       "NSCLC          9\n",
       "OVARIAN        6\n",
       "PROSTATE       2\n",
       "RENAL          9\n",
       "UNKNOWN        1\n",
       "dtype: int64"
      ]
     },
     "execution_count": 111,
     "metadata": {},
     "output_type": "execute_result"
    }
   ],
   "source": [
    "nci_labs.value_counts().sort_index()"
   ]
  },
  {
   "cell_type": "markdown",
   "id": "709b4f52",
   "metadata": {},
   "source": [
    "### PCA on the NCI60 Data\n",
    "\n",
    "We first perform PCA on the data after scaling the variables (genes) to have standard deviation one, although one could reasonably argue that it is better not to scale the genes."
   ]
  },
  {
   "cell_type": "code",
   "execution_count": 116,
   "id": "e4857eee-fcc8-4c74-b048-3b32ef459117",
   "metadata": {},
   "outputs": [],
   "source": [
    "X = scale(nci_data)\n",
    "pca = PCA().fit(X)\n",
    "X_pca = pca.transform(X)"
   ]
  },
  {
   "cell_type": "markdown",
   "id": "61ec5600",
   "metadata": {},
   "source": [
    "We now  plot the first few principal component score vectors, in order to visualize the data. The observations (cell lines) corresponding to a given cancer type will be plotted in the same color, so that we can see to what extent the observations within a cancer type are similar to each other."
   ]
  },
  {
   "cell_type": "code",
   "execution_count": 125,
   "id": "a1f40ee7-d63f-4106-9f27-d4e9a1a66fb4",
   "metadata": {},
   "outputs": [
    {
     "data": {
      "image/png": "[encoded data removed]",
      "text/plain": [
       "<Figure size 1080x432 with 2 Axes>"
      ]
     },
     "metadata": {
      "needs_background": "light"
     },
     "output_type": "display_data"
    }
   ],
   "source": [
    "fig, (ax1, ax2) = plt.subplots(1, 2, figsize=(15,6))\n",
    "\n",
    "# Get types as integers\n",
    "color_idx = pd.factorize(nci_labs.type)[0]\n",
    "cmap = plt.cm.hsv\n",
    "\n",
    "# Left plot\n",
    "ax1.scatter(X_pca[:, 0], -X_pca[:, 1], c=color_idx, cmap=cmap, alpha=0.5, s=50)\n",
    "ax1.set_ylabel('Principal Component 2')\n",
    "\n",
    "# Right plot\n",
    "ax2.scatter(X_pca[:, 0], X_pca[:, 2], c=color_idx, cmap=cmap, alpha=0.5, s=50)\n",
    "ax2.set_ylabel('Principal Component 3')\n",
    "\n",
    "# Custom legend for the classes (y) since we do not create scatter plots per class (which could have their own labels).\n",
    "handles = []\n",
    "labels = pd.factorize(nci_labs.type.unique())\n",
    "norm = mpl.colors.Normalize(vmin=0.0, vmax=14.0)\n",
    "\n",
    "for i, v in zip(labels[0], labels[1]):\n",
    "    handles.append(mpl.patches.Patch(color=cmap(norm(i)), label=v, alpha=0.5))\n",
    "\n",
    "ax2.legend(handles=handles, bbox_to_anchor=(1.05, 1), loc=2, borderaxespad=0.)\n",
    "\n",
    "# xlabel for both plots\n",
    "for ax in fig.axes:\n",
    "    ax.set_xlabel('Principal Component 1')"
   ]
  },
  {
   "cell_type": "markdown",
   "id": "60c6f1fa",
   "metadata": {},
   "source": [
    "On the whole, cell lines corresponding to a single cancer type do tend to have similar values on the first few\n",
    "principal component score vectors. This indicates that cell lines from the same cancer type tend to have pretty similar gene expression levels.\n",
    "\n",
    "On the whole, observations belonging to a single cancer type tend to lie near each other\n",
    "in this low-dimensional space. It would not have been possible to visualize the data without using a dimension reduction method such as PCA, since based on the full data set there are\n",
    "$6{,}830 \\choose 2$ possible scatterplots, none of which would have\n",
    "been particularly informative.}\n",
    "\n",
    "We can obtain a summary of the proportion of variance explained (PVE) of the first few principal components:"
   ]
  },
  {
   "cell_type": "code",
   "execution_count": 127,
   "id": "41bafbcf",
   "metadata": {
    "name": "chunk47"
   },
   "outputs": [
    {
     "name": "stdout",
     "output_type": "stream",
     "text": [
      "[788.13026426 468.77321436 399.08655196 294.71285936 259.1477961 ]\n",
      "[0.11358942 0.06756203 0.05751842 0.04247554 0.03734972]\n",
      "[0.11358942 0.18115144 0.23866987 0.28114541 0.31849513]\n"
     ]
    }
   ],
   "source": [
    "print(pca.explained_variance_[:5])\n",
    "print(pca.explained_variance_ratio_[:5])\n",
    "print(np.cumsum(pca.explained_variance_ratio_)[:5])"
   ]
  },
  {
   "cell_type": "markdown",
   "id": "f5dffa4a",
   "metadata": {},
   "source": [
    "We can also plot the variance explained by the first few principal components."
   ]
  },
  {
   "cell_type": "code",
   "execution_count": 135,
   "id": "0fc82567-7381-41f6-8a94-ee9d6bd6e5da",
   "metadata": {},
   "outputs": [
    {
     "data": {
      "image/png": "[encoded data removed]",
      "text/plain": [
       "<Figure size 432x288 with 1 Axes>"
      ]
     },
     "metadata": {
      "needs_background": "light"
     },
     "output_type": "display_data"
    }
   ],
   "source": [
    "plt.bar(range(1, 10), pca.explained_variance_[:9])\n",
    "plt.xticks(range(1, 10));"
   ]
  },
  {
   "cell_type": "markdown",
   "id": "8878408d",
   "metadata": {},
   "source": [
    "However, it is more informative to plot the PVE of each principal component (i.e. a scree plot) and the cumulative PVE of each principal component. This can be done with just a little work."
   ]
  },
  {
   "cell_type": "code",
   "execution_count": 136,
   "id": "d12593e5",
   "metadata": {
    "name": "chunk48"
   },
   "outputs": [
    {
     "data": {
      "image/png": "[encoded data removed]",
      "text/plain": [
       "<Figure size 1080x360 with 2 Axes>"
      ]
     },
     "metadata": {
      "needs_background": "light"
     },
     "output_type": "display_data"
    }
   ],
   "source": [
    "fig , (ax1, ax2) = plt.subplots(1, 2, figsize=(15,5))\n",
    "\n",
    "# Left plot\n",
    "ax1.plot(pca.explained_variance_ratio_, '-o')\n",
    "ax1.set_ylabel('Proportion of Variance Explained')\n",
    "\n",
    "# Right plot\n",
    "ax2.plot(np.cumsum(pca.explained_variance_ratio_), '-ro')\n",
    "ax2.set_ylabel('Cumulative Proportion of Variance Explained')\n",
    "\n",
    "for ax in fig.axes:\n",
    "    ax.set_xlabel('Principal Component')"
   ]
  },
  {
   "cell_type": "markdown",
   "id": "09c0af89",
   "metadata": {},
   "source": [
    "\n",
    "We see that together,\n",
    "the first seven principal components explain around $40\\,\\%$ of the variance in the data. This is not a huge\n",
    "amount of the variance. However, looking at the scree plot, we see that while each of the first seven principal components explain a substantial amount of  variance, there\n",
    "is a marked decrease in the variance explained by further principal components. That is, there is an *elbow*   in the plot after approximately the seventh principal component.\n",
    "This suggests that there may be little benefit to examining more than seven or so principal components (though even examining seven principal components may be difficult).\n"
   ]
  },
  {
   "cell_type": "markdown",
   "id": "8a0d53e8",
   "metadata": {},
   "source": [
    "### Clustering the Observations of the NCI60 Data\n",
    "\n",
    "We now proceed to hierarchically cluster the cell lines in the `NCI` data, with the goal of finding out whether or not the observations cluster into distinct types of cancer. To begin, we standardize the variables to have mean\n",
    " zero and standard deviation one. As mentioned earlier, this step is optional and should be performed only if we want each gene to be on the same *scale*."
   ]
  },
  {
   "cell_type": "code",
   "execution_count": 137,
   "id": "95db8094-636a-4844-b2a7-9247e29cad1e",
   "metadata": {},
   "outputs": [],
   "source": [
    "X = scale(nci_data)"
   ]
  },
  {
   "cell_type": "markdown",
   "id": "3711073c",
   "metadata": {},
   "source": [
    "We now perform hierarchical clustering of the observations using complete, single, and average linkage. Euclidean distance is used as the dissimilarity measure."
   ]
  },
  {
   "cell_type": "code",
   "execution_count": 146,
   "id": "28e6bb91-4db7-432e-87fa-b7dc4af49754",
   "metadata": {},
   "outputs": [
    {
     "data": {
      "image/png": "[encoded data removed]",
      "text/plain": [
       "<Figure size 1080x1584 with 3 Axes>"
      ]
     },
     "metadata": {
      "needs_background": "light"
     },
     "output_type": "display_data"
    }
   ],
   "source": [
    "fig, ax = plt.subplots(3, 1, figsize=(15,22))\n",
    "fig.subplots_adjust(hspace=0.5)\n",
    "labels = nci_labs.values.ravel()\n",
    "\n",
    "linkages = ['complete', 'single', 'average']\n",
    "for link, axis in zip(linkages, fig.axes):\n",
    "    hc = linkage(X, method=link, metric='euclidean', optimal_ordering=True) \n",
    "    axis.set_title(\"Linkage=%s\" % link, size=15)\n",
    "    axis.set_xlabel('Sample Type', size=15)\n",
    "    axis.set_ylabel('Distance', size=15)\n",
    "    dendrogram(hc, ax=axis, labels=labels, leaf_rotation=90, leaf_font_size=10)"
   ]
  },
  {
   "cell_type": "markdown",
   "id": "3a190944",
   "metadata": {},
   "source": [
    "Complete and average linkage tend to yield\n",
    "evenly sized clusters whereas single linkage tends to yield extended clusters to which single leaves are fused one by one.\n",
    "\n",
    "We see that the choice of linkage certainly  does affect the results obtained. Typically, single linkage will tend to yield *trailing* clusters: very large clusters onto which\n",
    "individual observations attach  one-by-one. On the other hand, complete and average linkage tend to yield more balanced, attractive clusters. For this reason, complete\n",
    "and average linkage are generally preferred to single linkage.\n",
    "Clearly cell lines within a single cancer type do tend to cluster together, although the clustering is not perfect. We will use complete linkage hierarchical clustering for the analysis that follows."
   ]
  },
  {
   "cell_type": "markdown",
   "id": "587418c3",
   "metadata": {},
   "source": [
    "We can cut the dendrogram at the height that will yield a particular number of clusters, say four:"
   ]
  },
  {
   "cell_type": "code",
   "execution_count": 161,
   "id": "c94495e1-858d-4e4a-90a9-f570999f75e5",
   "metadata": {},
   "outputs": [
    {
     "data": {
      "text/html": [
       "<div>\n",
       "<style scoped>\n",
       "    .dataframe tbody tr th:only-of-type {\n",
       "        vertical-align: middle;\n",
       "    }\n",
       "\n",
       "    .dataframe tbody tr th {\n",
       "        vertical-align: top;\n",
       "    }\n",
       "\n",
       "    .dataframe thead th {\n",
       "        text-align: right;\n",
       "    }\n",
       "</style>\n",
       "<table border=\"1\" class=\"dataframe\">\n",
       "  <thead>\n",
       "    <tr style=\"text-align: right;\">\n",
       "      <th>Cluster</th>\n",
       "      <th>0</th>\n",
       "      <th>1</th>\n",
       "      <th>2</th>\n",
       "      <th>3</th>\n",
       "    </tr>\n",
       "    <tr>\n",
       "      <th>Cancer Type</th>\n",
       "      <th></th>\n",
       "      <th></th>\n",
       "      <th></th>\n",
       "      <th></th>\n",
       "    </tr>\n",
       "  </thead>\n",
       "  <tbody>\n",
       "    <tr>\n",
       "      <th>BREAST</th>\n",
       "      <td>2</td>\n",
       "      <td>3</td>\n",
       "      <td>0</td>\n",
       "      <td>2</td>\n",
       "    </tr>\n",
       "    <tr>\n",
       "      <th>CNS</th>\n",
       "      <td>3</td>\n",
       "      <td>2</td>\n",
       "      <td>0</td>\n",
       "      <td>0</td>\n",
       "    </tr>\n",
       "    <tr>\n",
       "      <th>COLON</th>\n",
       "      <td>2</td>\n",
       "      <td>0</td>\n",
       "      <td>0</td>\n",
       "      <td>5</td>\n",
       "    </tr>\n",
       "    <tr>\n",
       "      <th>K562A-repro</th>\n",
       "      <td>0</td>\n",
       "      <td>0</td>\n",
       "      <td>1</td>\n",
       "      <td>0</td>\n",
       "    </tr>\n",
       "    <tr>\n",
       "      <th>K562B-repro</th>\n",
       "      <td>0</td>\n",
       "      <td>0</td>\n",
       "      <td>1</td>\n",
       "      <td>0</td>\n",
       "    </tr>\n",
       "    <tr>\n",
       "      <th>LEUKEMIA</th>\n",
       "      <td>0</td>\n",
       "      <td>0</td>\n",
       "      <td>6</td>\n",
       "      <td>0</td>\n",
       "    </tr>\n",
       "    <tr>\n",
       "      <th>MCF7A-repro</th>\n",
       "      <td>0</td>\n",
       "      <td>0</td>\n",
       "      <td>0</td>\n",
       "      <td>1</td>\n",
       "    </tr>\n",
       "    <tr>\n",
       "      <th>MCF7D-repro</th>\n",
       "      <td>0</td>\n",
       "      <td>0</td>\n",
       "      <td>0</td>\n",
       "      <td>1</td>\n",
       "    </tr>\n",
       "    <tr>\n",
       "      <th>MELANOMA</th>\n",
       "      <td>8</td>\n",
       "      <td>0</td>\n",
       "      <td>0</td>\n",
       "      <td>0</td>\n",
       "    </tr>\n",
       "    <tr>\n",
       "      <th>NSCLC</th>\n",
       "      <td>8</td>\n",
       "      <td>1</td>\n",
       "      <td>0</td>\n",
       "      <td>0</td>\n",
       "    </tr>\n",
       "    <tr>\n",
       "      <th>OVARIAN</th>\n",
       "      <td>6</td>\n",
       "      <td>0</td>\n",
       "      <td>0</td>\n",
       "      <td>0</td>\n",
       "    </tr>\n",
       "    <tr>\n",
       "      <th>PROSTATE</th>\n",
       "      <td>2</td>\n",
       "      <td>0</td>\n",
       "      <td>0</td>\n",
       "      <td>0</td>\n",
       "    </tr>\n",
       "    <tr>\n",
       "      <th>RENAL</th>\n",
       "      <td>8</td>\n",
       "      <td>1</td>\n",
       "      <td>0</td>\n",
       "      <td>0</td>\n",
       "    </tr>\n",
       "    <tr>\n",
       "      <th>UNKNOWN</th>\n",
       "      <td>1</td>\n",
       "      <td>0</td>\n",
       "      <td>0</td>\n",
       "      <td>0</td>\n",
       "    </tr>\n",
       "  </tbody>\n",
       "</table>\n",
       "</div>"
      ],
      "text/plain": [
       "Cluster      0  1  2  3\n",
       "Cancer Type            \n",
       "BREAST       2  3  0  2\n",
       "CNS          3  2  0  0\n",
       "COLON        2  0  0  5\n",
       "K562A-repro  0  0  1  0\n",
       "K562B-repro  0  0  1  0\n",
       "LEUKEMIA     0  0  6  0\n",
       "MCF7A-repro  0  0  0  1\n",
       "MCF7D-repro  0  0  0  1\n",
       "MELANOMA     8  0  0  0\n",
       "NSCLC        8  1  0  0\n",
       "OVARIAN      6  0  0  0\n",
       "PROSTATE     2  0  0  0\n",
       "RENAL        8  1  0  0\n",
       "UNKNOWN      1  0  0  0"
      ]
     },
     "execution_count": 161,
     "metadata": {},
     "output_type": "execute_result"
    }
   ],
   "source": [
    "nci_hc_complete = linkage(X, method=\"complete\", metric='euclidean', optimal_ordering=True)\n",
    "nci_hc_complete_4_clusters = cut_tree(nci_hc_complete, n_clusters=4)\n",
    "\n",
    "pd.crosstab(index = labels, \n",
    "            columns = nci_hc_complete_4_clusters.ravel(), \n",
    "            rownames = ['Cancer Type'], \n",
    "            colnames = ['Cluster'])"
   ]
  },
  {
   "cell_type": "markdown",
   "id": "131f88d8",
   "metadata": {},
   "source": [
    "There are some clear patterns. All the leukemia cell lines fall in cluster $3$, while the breast cancer cell lines are spread out over three different clusters.  We can plot the cut on the dendrogram that produces these four clusters by adding an axhline(), which draws a horizontal line on top of our plot:"
   ]
  },
  {
   "cell_type": "code",
   "execution_count": 165,
   "id": "fd5e9e6a-6b81-4e1a-9fa9-258f08e81ec3",
   "metadata": {},
   "outputs": [
    {
     "data": {
      "image/png": "[encoded data removed]",
      "text/plain": [
       "<Figure size 1080x576 with 1 Axes>"
      ]
     },
     "metadata": {
      "needs_background": "light"
     },
     "output_type": "display_data"
    }
   ],
   "source": [
    "fig, ax = plt.subplots(1, 1, figsize = (15,8))\n",
    "dendrogram(nci_hc_complete, \n",
    "           labels=labels, \n",
    "           leaf_font_size=14, \n",
    "           show_leaf_counts=True)  \n",
    "\n",
    "plt.axhline(y=139, c='k', ls='dashed');"
   ]
  },
  {
   "cell_type": "markdown",
   "id": "915d9aeb",
   "metadata": {},
   "source": [
    "Height of $139$ on the height that results in four distinct clusters. It is easy to verify that the resulting clusters are the same as the ones we obtained using `cut_tree`."
   ]
  },
  {
   "cell_type": "markdown",
   "id": "30a5f54b",
   "metadata": {},
   "source": [
    "We claimed earlier in Section 12.4.2 that $K$-means clustering and hierarchical clustering with the dendrogram cut to obtain the same number of clusters can yield very different results.\n",
    "How do these `NCI` hierarchical clustering results compare to what we  get if we perform $K$-means clustering with $K=4$?"
   ]
  },
  {
   "cell_type": "code",
   "execution_count": 166,
   "id": "ee899bf5-3d8f-4d1b-b02c-151b49ba4892",
   "metadata": {},
   "outputs": [
    {
     "data": {
      "text/plain": [
       "array([2, 2, 2, 2, 2, 2, 2, 2, 2, 2, 2, 2, 2, 2, 2, 2, 2, 2, 2, 2, 2, 2,\n",
       "       2, 2, 1, 1, 1, 2, 1, 1, 2, 2, 1, 3, 3, 3, 3, 3, 3, 3, 3, 1, 1, 1,\n",
       "       1, 1, 1, 1, 1, 1, 1, 1, 1, 1, 2, 0, 0, 0, 0, 0, 0, 0, 0, 0],\n",
       "      dtype=int32)"
      ]
     },
     "execution_count": 166,
     "metadata": {},
     "output_type": "execute_result"
    }
   ],
   "source": [
    "kmean_4 = KMeans(n_clusters=4, random_state = 123, n_init=150)    \n",
    "kmean_4.fit(X)\n",
    "kmean_4.labels_"
   ]
  },
  {
   "cell_type": "code",
   "execution_count": 167,
   "id": "72d87932-5538-4639-bebe-d55f2ae47d27",
   "metadata": {},
   "outputs": [
    {
     "data": {
      "text/html": [
       "<div>\n",
       "<style scoped>\n",
       "    .dataframe tbody tr th:only-of-type {\n",
       "        vertical-align: middle;\n",
       "    }\n",
       "\n",
       "    .dataframe tbody tr th {\n",
       "        vertical-align: top;\n",
       "    }\n",
       "\n",
       "    .dataframe thead th {\n",
       "        text-align: right;\n",
       "    }\n",
       "</style>\n",
       "<table border=\"1\" class=\"dataframe\">\n",
       "  <thead>\n",
       "    <tr style=\"text-align: right;\">\n",
       "      <th>Hierarchical</th>\n",
       "      <th>0</th>\n",
       "      <th>1</th>\n",
       "      <th>2</th>\n",
       "      <th>3</th>\n",
       "    </tr>\n",
       "    <tr>\n",
       "      <th>K-Means</th>\n",
       "      <th></th>\n",
       "      <th></th>\n",
       "      <th></th>\n",
       "      <th></th>\n",
       "    </tr>\n",
       "  </thead>\n",
       "  <tbody>\n",
       "    <tr>\n",
       "      <th>0</th>\n",
       "      <td>9</td>\n",
       "      <td>0</td>\n",
       "      <td>0</td>\n",
       "      <td>0</td>\n",
       "    </tr>\n",
       "    <tr>\n",
       "      <th>1</th>\n",
       "      <td>10</td>\n",
       "      <td>0</td>\n",
       "      <td>0</td>\n",
       "      <td>9</td>\n",
       "    </tr>\n",
       "    <tr>\n",
       "      <th>2</th>\n",
       "      <td>21</td>\n",
       "      <td>7</td>\n",
       "      <td>0</td>\n",
       "      <td>0</td>\n",
       "    </tr>\n",
       "    <tr>\n",
       "      <th>3</th>\n",
       "      <td>0</td>\n",
       "      <td>0</td>\n",
       "      <td>8</td>\n",
       "      <td>0</td>\n",
       "    </tr>\n",
       "  </tbody>\n",
       "</table>\n",
       "</div>"
      ],
      "text/plain": [
       "Hierarchical   0  1  2  3\n",
       "K-Means                  \n",
       "0              9  0  0  0\n",
       "1             10  0  0  9\n",
       "2             21  7  0  0\n",
       "3              0  0  8  0"
      ]
     },
     "execution_count": 167,
     "metadata": {},
     "output_type": "execute_result"
    }
   ],
   "source": [
    "pd.crosstab(index=kmean_4.labels_, \n",
    "            columns=nci_hc_complete_4_clusters.ravel(), \n",
    "            rownames = ['K-Means'], \n",
    "            colnames = ['Hierarchical'])"
   ]
  },
  {
   "cell_type": "markdown",
   "id": "c37aeae0",
   "metadata": {},
   "source": [
    "We see that the four clusters obtained using hierarchical clustering and $K$-means clustering  are somewhat different. Cluster~$3$ in $K$-means clustering is identical to cluster $2$\n",
    "in hierarchical clustering. However, the other clusters differ: for instance, cluster $2$ in $K$-means clustering contains a portion of the observations assigned to\n",
    "cluster 0 by hierarchical clustering, as well as all of the observations assigned to cluster $1$ by hierarchical clustering.\n",
    "\n",
    "Rather than performing hierarchical clustering on the entire data matrix, we can simply perform hierarchical clustering on the first few principal component score vectors,\n",
    "as follows:"
   ]
  },
  {
   "cell_type": "code",
   "execution_count": 176,
   "id": "b930f2fe-eec1-424b-a9a1-9aeb40bb0600",
   "metadata": {},
   "outputs": [
    {
     "data": {
      "text/plain": [
       "array([[0],\n",
       "       [0],\n",
       "       [1],\n",
       "       [2],\n",
       "       [3]])"
      ]
     },
     "execution_count": 176,
     "metadata": {},
     "output_type": "execute_result"
    }
   ],
   "source": [
    "nci_hc_pca_4_clusters"
   ]
  },
  {
   "cell_type": "code",
   "execution_count": 179,
   "id": "f2515cd2-bad5-4c0b-84a1-a48060529004",
   "metadata": {},
   "outputs": [
    {
     "data": {
      "text/html": [
       "<div>\n",
       "<style scoped>\n",
       "    .dataframe tbody tr th:only-of-type {\n",
       "        vertical-align: middle;\n",
       "    }\n",
       "\n",
       "    .dataframe tbody tr th {\n",
       "        vertical-align: top;\n",
       "    }\n",
       "\n",
       "    .dataframe thead th {\n",
       "        text-align: right;\n",
       "    }\n",
       "</style>\n",
       "<table border=\"1\" class=\"dataframe\">\n",
       "  <thead>\n",
       "    <tr style=\"text-align: right;\">\n",
       "      <th>Cluster</th>\n",
       "      <th>0</th>\n",
       "      <th>1</th>\n",
       "      <th>2</th>\n",
       "      <th>3</th>\n",
       "    </tr>\n",
       "    <tr>\n",
       "      <th>Cancer Type</th>\n",
       "      <th></th>\n",
       "      <th></th>\n",
       "      <th></th>\n",
       "      <th></th>\n",
       "    </tr>\n",
       "  </thead>\n",
       "  <tbody>\n",
       "    <tr>\n",
       "      <th>BREAST</th>\n",
       "      <td>3</td>\n",
       "      <td>2</td>\n",
       "      <td>0</td>\n",
       "      <td>2</td>\n",
       "    </tr>\n",
       "    <tr>\n",
       "      <th>CNS</th>\n",
       "      <td>5</td>\n",
       "      <td>0</td>\n",
       "      <td>0</td>\n",
       "      <td>0</td>\n",
       "    </tr>\n",
       "    <tr>\n",
       "      <th>COLON</th>\n",
       "      <td>0</td>\n",
       "      <td>7</td>\n",
       "      <td>0</td>\n",
       "      <td>0</td>\n",
       "    </tr>\n",
       "    <tr>\n",
       "      <th>K562A-repro</th>\n",
       "      <td>0</td>\n",
       "      <td>0</td>\n",
       "      <td>1</td>\n",
       "      <td>0</td>\n",
       "    </tr>\n",
       "    <tr>\n",
       "      <th>K562B-repro</th>\n",
       "      <td>0</td>\n",
       "      <td>0</td>\n",
       "      <td>1</td>\n",
       "      <td>0</td>\n",
       "    </tr>\n",
       "    <tr>\n",
       "      <th>LEUKEMIA</th>\n",
       "      <td>0</td>\n",
       "      <td>2</td>\n",
       "      <td>4</td>\n",
       "      <td>0</td>\n",
       "    </tr>\n",
       "    <tr>\n",
       "      <th>MCF7A-repro</th>\n",
       "      <td>0</td>\n",
       "      <td>0</td>\n",
       "      <td>0</td>\n",
       "      <td>1</td>\n",
       "    </tr>\n",
       "    <tr>\n",
       "      <th>MCF7D-repro</th>\n",
       "      <td>0</td>\n",
       "      <td>0</td>\n",
       "      <td>0</td>\n",
       "      <td>1</td>\n",
       "    </tr>\n",
       "    <tr>\n",
       "      <th>MELANOMA</th>\n",
       "      <td>0</td>\n",
       "      <td>8</td>\n",
       "      <td>0</td>\n",
       "      <td>0</td>\n",
       "    </tr>\n",
       "    <tr>\n",
       "      <th>NSCLC</th>\n",
       "      <td>1</td>\n",
       "      <td>8</td>\n",
       "      <td>0</td>\n",
       "      <td>0</td>\n",
       "    </tr>\n",
       "    <tr>\n",
       "      <th>OVARIAN</th>\n",
       "      <td>0</td>\n",
       "      <td>6</td>\n",
       "      <td>0</td>\n",
       "      <td>0</td>\n",
       "    </tr>\n",
       "    <tr>\n",
       "      <th>PROSTATE</th>\n",
       "      <td>0</td>\n",
       "      <td>2</td>\n",
       "      <td>0</td>\n",
       "      <td>0</td>\n",
       "    </tr>\n",
       "    <tr>\n",
       "      <th>RENAL</th>\n",
       "      <td>3</td>\n",
       "      <td>6</td>\n",
       "      <td>0</td>\n",
       "      <td>0</td>\n",
       "    </tr>\n",
       "    <tr>\n",
       "      <th>UNKNOWN</th>\n",
       "      <td>0</td>\n",
       "      <td>1</td>\n",
       "      <td>0</td>\n",
       "      <td>0</td>\n",
       "    </tr>\n",
       "  </tbody>\n",
       "</table>\n",
       "</div>"
      ],
      "text/plain": [
       "Cluster      0  1  2  3\n",
       "Cancer Type            \n",
       "BREAST       3  2  0  2\n",
       "CNS          5  0  0  0\n",
       "COLON        0  7  0  0\n",
       "K562A-repro  0  0  1  0\n",
       "K562B-repro  0  0  1  0\n",
       "LEUKEMIA     0  2  4  0\n",
       "MCF7A-repro  0  0  0  1\n",
       "MCF7D-repro  0  0  0  1\n",
       "MELANOMA     0  8  0  0\n",
       "NSCLC        1  8  0  0\n",
       "OVARIAN      0  6  0  0\n",
       "PROSTATE     0  2  0  0\n",
       "RENAL        3  6  0  0\n",
       "UNKNOWN      0  1  0  0"
      ]
     },
     "execution_count": 179,
     "metadata": {},
     "output_type": "execute_result"
    }
   ],
   "source": [
    "nci_hc_pca = linkage(X_pca[:, :6], method=\"complete\", metric='euclidean', optimal_ordering=True)\n",
    "nci_hc_pca_4_clusters = cut_tree(nci_hc_pca, n_clusters=4)\n",
    "\n",
    "pd.crosstab(index=labels, \n",
    "            columns=nci_hc_pca_4_clusters.ravel(), \n",
    "            rownames = ['Cancer Type'], \n",
    "            colnames = ['Cluster'])"
   ]
  },
  {
   "cell_type": "code",
   "execution_count": 182,
   "id": "6d3a1343-1983-4e12-b6ba-acdf3b93fd07",
   "metadata": {},
   "outputs": [
    {
     "data": {
      "image/png": "[encoded data removed]",
      "text/plain": [
       "<Figure size 1080x576 with 1 Axes>"
      ]
     },
     "metadata": {
      "needs_background": "light"
     },
     "output_type": "display_data"
    }
   ],
   "source": [
    "fig, ax = plt.subplots(1, 1, figsize = (15,8))\n",
    "dendrogram(nci_hc_pca, \n",
    "           labels=labels, \n",
    "           leaf_font_size=14, \n",
    "           show_leaf_counts=True);"
   ]
  },
  {
   "cell_type": "markdown",
   "id": "490069ef",
   "metadata": {},
   "source": [
    " Not surprisingly, these results are different from the ones that we\n",
    " obtained when we performed hierarchical clustering on the full data\n",
    " set. Sometimes performing clustering on the first few principal\n",
    " component score vectors can give better results than performing\n",
    " clustering on the full data.  In this situation, we might view the principal\n",
    "component step as one of denoising the data.\n",
    "We could also perform $K$-means\n",
    " clustering on the first few principal component score vectors rather\n",
    " than the full data set.\n",
    "\n",
    "\n",
    "\n",
    "\n",
    "\n"
   ]
  }
 ],
 "metadata": {
  "celltoolbar": "Edit Metadata",
  "jupytext": {
   "formats": "ipynb,Rmd"
  },
  "kernelspec": {
   "display_name": "Python 3 (ipykernel)",
   "language": "python",
   "name": "python3"
  },
  "language_info": {
   "codemirror_mode": {
    "name": "ipython",
    "version": 3
   },
   "file_extension": ".py",
   "mimetype": "text/x-python",
   "name": "python",
   "nbconvert_exporter": "python",
   "pygments_lexer": "ipython3",
   "version": "3.9.13"
  },
  "substitutions": {
   "ISLPmod": "`ISLP`",
   "Rlang": "`R`",
   "mpl": "`matplotlib`",
   "numpy": "`numpy`",
   "pandas": "`pandas`",
   "pylang": "`python`",
   "smlib": "`statsmodels`"
  }
 },
 "nbformat": 4,
 "nbformat_minor": 5
}
